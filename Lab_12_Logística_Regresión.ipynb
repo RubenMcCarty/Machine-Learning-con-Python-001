{
  "nbformat": 4,
  "nbformat_minor": 0,
  "metadata": {
    "colab": {
      "name": "Lab_12_Logística_Regresión.ipynb",
      "provenance": [],
      "authorship_tag": "ABX9TyNJ0lN01O0FnSjIpIHQ+3I9",
      "include_colab_link": true
    },
    "kernelspec": {
      "name": "python3",
      "display_name": "Python 3"
    }
  },
  "cells": [
    {
      "cell_type": "markdown",
      "metadata": {
        "id": "view-in-github",
        "colab_type": "text"
      },
      "source": [
        "<a href=\"https://colab.research.google.com/github/RubenQuispe/Machine-Learning-con-Python-001/blob/master/Lab_12_Log%C3%ADstica_Regresi%C3%B3n.ipynb\" target=\"_parent\"><img src=\"https://colab.research.google.com/assets/colab-badge.svg\" alt=\"Open In Colab\"/></a>"
      ]
    },
    {
      "cell_type": "markdown",
      "metadata": {
        "id": "hMaEfqwaJklN"
      },
      "source": [
        "#$$ Logística Regresión con Python $$\n",
        "# MSc.Rubén Quispe\n",
        "# Objetivos\n",
        "Después de completar esta práctica de laboratorio, podrá:\n",
        "\n",
        "Utilice scikit Logistic Regression para clasificar\n",
        "Entender la matriz de confusión.\n",
        "En este notebook, aprenderá Regresión logística y, luego, creará un modelo para una empresa de telecomunicaciones, para predecir cuándo sus clientes se irán a un competidor, para que puedan tomar alguna acción para retener a los clientes.\n",
        "# Tabla de contenidos\n",
        "1. Sobre el dataset\n",
        "2. Selección y Pre-procesamiento de Data\n",
        "3. Modelado (Regresión Logística con scikit learn)\n",
        "4. Evaluación\n",
        "5. Práctica\n",
        "\n",
        "# ¿Cuál es la diferencia entre Regresió Lineal y Logística\n",
        "Si bien la regresión lineal es adecuada para estimar valores continuos (por ejemplo, estimar el precio de la vivienda), no es la mejor herramienta para predecir la clase de un punto de datos observado. Para estimar la clase de un punto de datos, necesitamos algún tipo de orientación sobre cuál sería la clase más probable para ese punto de datos. Para ello utilizamos Regresión logística.\n",
        "\n",
        "# Recuerde la regresión lineal:\n",
        "\n",
        "Como sabe, la regresión lineal encuentra una función que relaciona una variable dependiente continua, y, con algunos predictores (variables independientes 𝑥1, 𝑥2, etc.). Por ejemplo, la regresión lineal simple asume una función de la forma:\n",
        "$$ y= \\theta_0+ \\theta_1 x_1 + \\theta_2 x_2 + \\cdots $$\n",
        "y encuentra los valores de los parámetros $ \\theta_0, \\theta_1, \\theta_2$\n",
        " , etc., donde el término $\\theta_0$ es la \"intersección\". Generalmente se puede mostrar como: \n",
        "$$ h_\\theta(x) = \\theta^TX $$\n",
        "La regresión logística es una variación de la regresión lineal, útil cuando la variable dependiente observada, y, es categórica. Produce una fórmula que predice la probabilidad de la etiqueta de clase en función de las variables independientes.\n",
        "\n",
        "La regresión logística se ajusta a una curva especial en forma de s tomando la regresión lineal y transformando la estimación numérica en una probabilidad con la siguiente función, que se llama función sigmoidea 𝜎:\n",
        "\n",
        "$$ h_\\theta(x) = \\sigma({\\theta^TX}) = \\frac{e^{(\\theta_0 + \\theta_1 x_1 +\\theta_2 x_2 + ...)}}{1+e^{(\\theta_0 + \\theta_1 x_1 +\\theta_2 x_2 + \\cdots)}} $$ or:\n",
        "$$\n",
        "ProbabilityOfaClass_1 =  P(Y=1|X) = \\sigma({\\theta^TX}) = \\frac{e^{\\theta^TX}}{1+e^{\\theta^TX}} \n",
        "$$\n",
        "En esta ecuación, ${\\theta^TX}$ es el resultado de la regresión (la suma de las variables ponderadas por los coeficientes), exp es la función exponencial y $\\sigma(\\theta^TX)$ es la [función sigmoidea o logística](https://en.wikipedia.org/wiki/Logistic_function?cm_mmc=Email_Newsletter-_-Developer_Ed%2BTech-_-WW_WW-_-SkillsNetwork-Courses-IBMDeveloperSkillsNetwork-ML0101EN-SkillsNetwork-20718538&cm_mmca1=000026UJ&cm_mmca2=10006555&cm_mmca3=M12345678&cvosrc=email.Newsletter.M12345678&cvo_campaign=000026UJ&cm_mmc=Email_Newsletter-_-Developer_Ed%2BTech-_-WW_WW-_-SkillsNetwork-Courses-IBMDeveloperSkillsNetwork-ML0101EN-SkillsNetwork-20718538&cm_mmca1=000026UJ&cm_mmca2=10006555&cm_mmca3=M12345678&cvosrc=email.Newsletter.M12345678&cvo_campaign=000026UJ&cm_mmc=Email_Newsletter-_-Developer_Ed%2BTech-_-WW_WW-_-SkillsNetwork-Courses-IBMDeveloperSkillsNetwork-ML0101EN-SkillsNetwork-20718538&cm_mmca1=000026UJ&cm_mmca2=10006555&cm_mmca3=M12345678&cvosrc=email.Newsletter.M12345678&cvo_campaign=000026UJ&cm_mmc=Email_Newsletter-_-Developer_Ed%2BTech-_-WW_WW-_-SkillsNetwork-Courses-IBMDeveloperSkillsNetwork-ML0101EN-SkillsNetwork-20718538&cm_mmca1=000026UJ&cm_mmca2=10006555&cm_mmca3=M12345678&cvosrc=email.Newsletter.M12345678&cvo_campaign=000026UJ), también llamada curva logística. Es una forma de \"S\" común (curva sigmoidea).\n",
        "\n",
        "Entonces, brevemente, la regresión logística pasa la entrada a través del logístico / sigmoide, pero luego trata el resultado como una probabilidad:\n",
        "Entonces, brevemente, la regresión logística pasa la entrada a través del logístico / sigmoide, pero luego trata el resultado como una probabilidad:\n",
        "\n",
        "![](https://public.boxcloud.com/d/1/b1!1Ubvh33mbloPsU8cMZ9CAMd36coW_r1NH4RSIqy1PxTyzswDLgkxpY13A41JiMzhm4xZ9CZsnzozOIeIufQBDylL4Mt8xyJF7Cwb5HsFYF7CYbzCffyzLIYkt0LH82d792NgZpo3mHnV4bsVOef4z8OasulsFLJU70pvsppYeYs-Sbq8YmJejbT5i3DeFOu9PQEnYNQ93Ga_eArJwt0k2562P3JJLjQF5kItREp76piD2iOSKbejn4c_7t4rYXEEuVAt_pac8aQ1JNO93mczljonjJK98lW0hBWixfOl5yOhQYmFKUJu0_2VNQ3h_uSYbeuQRpn2L2oWJfjRGMcUX_4TaAxOXLN7YEMkBouJqdvacWe3KgkIPlPzeozJTAWiFo4WcO1C-_afUlozxUz8PWPuOe_9IRRyboTpxawgA49-p-vYv08wxA6bP3Zuhb22HoJLigpJQGdtqGy1hEYij9IDFdEpe_2IQrvaq7AVafLpZqWcikAFHx58jvG17PIjCVLxr-_V_D1x2s-qmU2Bo3SsdFQGeSFTh8HJj4HImWCXxr_x5Uf729zPxn-LWqWL4MZCV_yzipZorljiz-tfIeH-vdIWhdvQ_d7I4Zv6LYAJ4PT8IaNP3Yz2HLhxISQlLdqV-SknwyXk18RMWDqv2hDII8gZiRSC8Hn52YzFlR2PZvLyltiEr0HgFxt9V9T101y66RRsLOAMpybjZ6I9_6SFlYD0DAxsrDJoJYEF1jqsGF9w-92sRx78yIGxXUSCMN9gmQN2BAPnuoJjIrd3iEdwsFvZzKXyo8h9krnX1TkKH5mvk9VeolFXTPID8eaMyLod3FAB2O1xT77cGGJU6Mfq-A07HuueqFkIYqAMoIDgTFIPzYiYyAVnpV9WBrWHULYg8P5txEyF2AmEHrOt1vh9Lud4AeEFzxYTXGFuD9vQhJ_97L7QYLEEAgS_pvAUUbOi3aMLiVlnFDh3LY6Q5ZNER2CpcEpYYXP0t6eQC2GziqlNzrsT2Uh9C6hacv2PWqLtzot4X-O4ZOF8KeugNZzdNg66Seqz1FfwZ_hUOYwyKdTO2mqL-ulIbbhcPhKkzN5FK8Kk1ELKuo_q83WDfHkXC7qHpUFryL6a8LWkjnf2tJ8lpOTh0TSyvlxWg2lKfCuTwtt69X464AmmDxiSvzVRbn43zYOZqlxK7SrsGXBT5uNZU9rltacLGuZUuBwjY8x_e9OgsN847JL1zojnEiA32zoz35zrdGeIlaAjWHWV_1wXzHKhwezn1dpyb1gueKDPi9C8UiLlFFFG_RK0GQHgH_RlLmwYsl1Nkm4thuj2JXcr46I_AXDk08t8SMuqsbBSwseSjAz_YvPjHH6mhG3tv9_Fsku99RdSeAyrjLmVG456QgDSjMQavT_fY-fOo98QbmPqGYX7IaklMSAK_MCuZufFVFHM-qalK7ZxaQ2-_l9bqywKgpREdteMQGR09g../download)\n",
        "El objetivo del algoritmo de Regresión Logística, es encontrar los mejores parámetros θ, para ℎ𝜃 (𝑥) = 𝜎 (𝜃𝑇𝑋), de tal manera que el modelo prediga mejor la clase de cada caso.\n",
        "\n",
        "# Rotación de clientes con regresión logística\n",
        "A una empresa de telecomunicaciones le preocupa la cantidad de clientes que abandonan su negocio de telefonía fija por competidores de cable. Necesitan entender quién se va. Imagine que es analista en esta empresa y tiene que averiguar quién se va y por qué.\n",
        "\n",
        "# 1. Primero importemos las bibliotecas necesarias:\n"
      ]
    },
    {
      "cell_type": "code",
      "metadata": {
        "id": "PoGAVJLVJrdr"
      },
      "source": [
        "import pandas as pd\n",
        "import pylab as pl\n",
        "import numpy as np\n",
        "import scipy.optimize as opt\n",
        "from sklearn import preprocessing\n",
        "%matplotlib inline \n",
        "import matplotlib.pyplot as plt"
      ],
      "execution_count": 1,
      "outputs": []
    },
    {
      "cell_type": "markdown",
      "metadata": {
        "id": "T-dtEC1aVsvW"
      },
      "source": [
        "# Sobre el conjunto de datos\n",
        "Usaremos un conjunto de datos de telecomunicaciones para predecir la pérdida de clientes. Este es un conjunto de datos de clientes históricos donde cada fila representa un cliente. Los datos son relativamente fáciles de entender y es posible que descubra información que puede utilizar de inmediato. Por lo general, es menos costoso mantener clientes que adquirir nuevos, por lo que el enfoque de este análisis es predecir los clientes que permanecerán en la empresa.\n",
        "Este conjunto de datos proporciona información para ayudarlo a predecir qué comportamiento lo ayudará a retener clientes. Puede analizar todos los datos relevantes de los clientes y desarrollar programas de retención de clientes enfocados.\n",
        "\n",
        "El conjunto de datos incluye información sobre:\n",
        "\n",
        "* Clientes que se fueron en el último mes: la columna se llama Renuncia\n",
        "* Servicios a los que cada cliente se ha suscrito: teléfono, varias líneas, Internet, seguridad en línea, respaldo en línea, protección de dispositivos, soporte técnico y transmisión de TV y películas.\n",
        "* Información de la cuenta del cliente: cuánto tiempo ha sido cliente, contrato, método de pago, facturación electrónica, cargos mensuales y cargos totales\n",
        "* Información demográfica sobre los clientes: sexo, rango de edad y si tienen socios y dependientes\n",
        "# 2. Cargue los datos de Telco Churn\n",
        "Telco Churn es un archivo de datos hipotéticos sobre los esfuerzos de una empresa de telecomunicaciones para reducir la rotación de su base de clientes. Cada caso corresponde a un cliente separado y registra diversa información demográfica y de uso del servicio. Antes de poder trabajar con los datos, debe usar la URL para obtener ChurnData.csv.\n",
        "\n"
      ]
    },
    {
      "cell_type": "code",
      "metadata": {
        "id": "IYqsXlxRVjaz",
        "outputId": "14ec67de-1cfe-43ab-c5a4-96065adea999",
        "colab": {
          "base_uri": "https://localhost:8080/",
          "height": 224
        }
      },
      "source": [
        "churn_df = pd.read_csv(\"ChurnData.csv\")\n",
        "churn_df.head()"
      ],
      "execution_count": 2,
      "outputs": [
        {
          "output_type": "execute_result",
          "data": {
            "text/html": [
              "<div>\n",
              "<style scoped>\n",
              "    .dataframe tbody tr th:only-of-type {\n",
              "        vertical-align: middle;\n",
              "    }\n",
              "\n",
              "    .dataframe tbody tr th {\n",
              "        vertical-align: top;\n",
              "    }\n",
              "\n",
              "    .dataframe thead th {\n",
              "        text-align: right;\n",
              "    }\n",
              "</style>\n",
              "<table border=\"1\" class=\"dataframe\">\n",
              "  <thead>\n",
              "    <tr style=\"text-align: right;\">\n",
              "      <th></th>\n",
              "      <th>tenure</th>\n",
              "      <th>age</th>\n",
              "      <th>address</th>\n",
              "      <th>income</th>\n",
              "      <th>ed</th>\n",
              "      <th>employ</th>\n",
              "      <th>equip</th>\n",
              "      <th>callcard</th>\n",
              "      <th>wireless</th>\n",
              "      <th>longmon</th>\n",
              "      <th>tollmon</th>\n",
              "      <th>equipmon</th>\n",
              "      <th>cardmon</th>\n",
              "      <th>wiremon</th>\n",
              "      <th>longten</th>\n",
              "      <th>tollten</th>\n",
              "      <th>cardten</th>\n",
              "      <th>voice</th>\n",
              "      <th>pager</th>\n",
              "      <th>internet</th>\n",
              "      <th>callwait</th>\n",
              "      <th>confer</th>\n",
              "      <th>ebill</th>\n",
              "      <th>loglong</th>\n",
              "      <th>logtoll</th>\n",
              "      <th>lninc</th>\n",
              "      <th>custcat</th>\n",
              "      <th>churn</th>\n",
              "    </tr>\n",
              "  </thead>\n",
              "  <tbody>\n",
              "    <tr>\n",
              "      <th>0</th>\n",
              "      <td>11.0</td>\n",
              "      <td>33.0</td>\n",
              "      <td>7.0</td>\n",
              "      <td>136.0</td>\n",
              "      <td>5.0</td>\n",
              "      <td>5.0</td>\n",
              "      <td>0.0</td>\n",
              "      <td>1.0</td>\n",
              "      <td>1.0</td>\n",
              "      <td>4.40</td>\n",
              "      <td>20.75</td>\n",
              "      <td>0.0</td>\n",
              "      <td>15.25</td>\n",
              "      <td>35.7</td>\n",
              "      <td>42.00</td>\n",
              "      <td>211.45</td>\n",
              "      <td>125.0</td>\n",
              "      <td>1.0</td>\n",
              "      <td>1.0</td>\n",
              "      <td>0.0</td>\n",
              "      <td>1.0</td>\n",
              "      <td>1.0</td>\n",
              "      <td>0.0</td>\n",
              "      <td>1.482</td>\n",
              "      <td>3.033</td>\n",
              "      <td>4.913</td>\n",
              "      <td>4.0</td>\n",
              "      <td>1.0</td>\n",
              "    </tr>\n",
              "    <tr>\n",
              "      <th>1</th>\n",
              "      <td>33.0</td>\n",
              "      <td>33.0</td>\n",
              "      <td>12.0</td>\n",
              "      <td>33.0</td>\n",
              "      <td>2.0</td>\n",
              "      <td>0.0</td>\n",
              "      <td>0.0</td>\n",
              "      <td>0.0</td>\n",
              "      <td>0.0</td>\n",
              "      <td>9.45</td>\n",
              "      <td>0.00</td>\n",
              "      <td>0.0</td>\n",
              "      <td>0.00</td>\n",
              "      <td>0.0</td>\n",
              "      <td>288.80</td>\n",
              "      <td>0.00</td>\n",
              "      <td>0.0</td>\n",
              "      <td>0.0</td>\n",
              "      <td>0.0</td>\n",
              "      <td>0.0</td>\n",
              "      <td>0.0</td>\n",
              "      <td>0.0</td>\n",
              "      <td>0.0</td>\n",
              "      <td>2.246</td>\n",
              "      <td>3.240</td>\n",
              "      <td>3.497</td>\n",
              "      <td>1.0</td>\n",
              "      <td>1.0</td>\n",
              "    </tr>\n",
              "    <tr>\n",
              "      <th>2</th>\n",
              "      <td>23.0</td>\n",
              "      <td>30.0</td>\n",
              "      <td>9.0</td>\n",
              "      <td>30.0</td>\n",
              "      <td>1.0</td>\n",
              "      <td>2.0</td>\n",
              "      <td>0.0</td>\n",
              "      <td>0.0</td>\n",
              "      <td>0.0</td>\n",
              "      <td>6.30</td>\n",
              "      <td>0.00</td>\n",
              "      <td>0.0</td>\n",
              "      <td>0.00</td>\n",
              "      <td>0.0</td>\n",
              "      <td>157.05</td>\n",
              "      <td>0.00</td>\n",
              "      <td>0.0</td>\n",
              "      <td>0.0</td>\n",
              "      <td>0.0</td>\n",
              "      <td>0.0</td>\n",
              "      <td>0.0</td>\n",
              "      <td>1.0</td>\n",
              "      <td>0.0</td>\n",
              "      <td>1.841</td>\n",
              "      <td>3.240</td>\n",
              "      <td>3.401</td>\n",
              "      <td>3.0</td>\n",
              "      <td>0.0</td>\n",
              "    </tr>\n",
              "    <tr>\n",
              "      <th>3</th>\n",
              "      <td>38.0</td>\n",
              "      <td>35.0</td>\n",
              "      <td>5.0</td>\n",
              "      <td>76.0</td>\n",
              "      <td>2.0</td>\n",
              "      <td>10.0</td>\n",
              "      <td>1.0</td>\n",
              "      <td>1.0</td>\n",
              "      <td>1.0</td>\n",
              "      <td>6.05</td>\n",
              "      <td>45.00</td>\n",
              "      <td>50.1</td>\n",
              "      <td>23.25</td>\n",
              "      <td>64.9</td>\n",
              "      <td>239.55</td>\n",
              "      <td>1873.05</td>\n",
              "      <td>880.0</td>\n",
              "      <td>1.0</td>\n",
              "      <td>1.0</td>\n",
              "      <td>1.0</td>\n",
              "      <td>1.0</td>\n",
              "      <td>1.0</td>\n",
              "      <td>1.0</td>\n",
              "      <td>1.800</td>\n",
              "      <td>3.807</td>\n",
              "      <td>4.331</td>\n",
              "      <td>4.0</td>\n",
              "      <td>0.0</td>\n",
              "    </tr>\n",
              "    <tr>\n",
              "      <th>4</th>\n",
              "      <td>7.0</td>\n",
              "      <td>35.0</td>\n",
              "      <td>14.0</td>\n",
              "      <td>80.0</td>\n",
              "      <td>2.0</td>\n",
              "      <td>15.0</td>\n",
              "      <td>0.0</td>\n",
              "      <td>1.0</td>\n",
              "      <td>0.0</td>\n",
              "      <td>7.10</td>\n",
              "      <td>22.00</td>\n",
              "      <td>0.0</td>\n",
              "      <td>23.75</td>\n",
              "      <td>0.0</td>\n",
              "      <td>47.45</td>\n",
              "      <td>166.10</td>\n",
              "      <td>145.0</td>\n",
              "      <td>1.0</td>\n",
              "      <td>0.0</td>\n",
              "      <td>0.0</td>\n",
              "      <td>1.0</td>\n",
              "      <td>1.0</td>\n",
              "      <td>0.0</td>\n",
              "      <td>1.960</td>\n",
              "      <td>3.091</td>\n",
              "      <td>4.382</td>\n",
              "      <td>3.0</td>\n",
              "      <td>0.0</td>\n",
              "    </tr>\n",
              "  </tbody>\n",
              "</table>\n",
              "</div>"
            ],
            "text/plain": [
              "   tenure   age  address  income   ed  ...  loglong  logtoll  lninc  custcat  churn\n",
              "0    11.0  33.0      7.0   136.0  5.0  ...    1.482    3.033  4.913      4.0    1.0\n",
              "1    33.0  33.0     12.0    33.0  2.0  ...    2.246    3.240  3.497      1.0    1.0\n",
              "2    23.0  30.0      9.0    30.0  1.0  ...    1.841    3.240  3.401      3.0    0.0\n",
              "3    38.0  35.0      5.0    76.0  2.0  ...    1.800    3.807  4.331      4.0    0.0\n",
              "4     7.0  35.0     14.0    80.0  2.0  ...    1.960    3.091  4.382      3.0    0.0\n",
              "\n",
              "[5 rows x 28 columns]"
            ]
          },
          "metadata": {
            "tags": []
          },
          "execution_count": 2
        }
      ]
    },
    {
      "cell_type": "code",
      "metadata": {
        "id": "eu_7rCOKXZ9y",
        "outputId": "c2d396a7-6d0b-4ef2-9a08-4656849c3fd3",
        "colab": {
          "base_uri": "https://localhost:8080/"
        }
      },
      "source": [
        "churn_df.shape"
      ],
      "execution_count": 3,
      "outputs": [
        {
          "output_type": "execute_result",
          "data": {
            "text/plain": [
              "(200, 28)"
            ]
          },
          "metadata": {
            "tags": []
          },
          "execution_count": 3
        }
      ]
    },
    {
      "cell_type": "markdown",
      "metadata": {
        "id": "V6fFc-0RXw-7"
      },
      "source": [
        "# 3. Data Preprocesamiento y selección \n",
        "Seleccionemos algunas características para el modelado. También cambiamos el tipo de datos de destino para que sea entero, ya que es un requisito del algoritmo skitlearn:"
      ]
    },
    {
      "cell_type": "code",
      "metadata": {
        "id": "moglj6csYM4x",
        "outputId": "d10845e1-6cf0-4488-e4ac-4d6dd670af25",
        "colab": {
          "base_uri": "https://localhost:8080/",
          "height": 306
        }
      },
      "source": [
        "churn_df = churn_df[['tenure', 'age', 'address', 'income', 'ed', 'employ', 'equip',   'callcard', 'wireless','churn']]\n",
        "churn_df['churn'] = churn_df['churn'].astype('int')\n",
        "churn_df.head()"
      ],
      "execution_count": 7,
      "outputs": [
        {
          "output_type": "stream",
          "text": [
            "/usr/local/lib/python3.6/dist-packages/ipykernel_launcher.py:2: SettingWithCopyWarning: \n",
            "A value is trying to be set on a copy of a slice from a DataFrame.\n",
            "Try using .loc[row_indexer,col_indexer] = value instead\n",
            "\n",
            "See the caveats in the documentation: https://pandas.pydata.org/pandas-docs/stable/user_guide/indexing.html#returning-a-view-versus-a-copy\n",
            "  \n"
          ],
          "name": "stderr"
        },
        {
          "output_type": "execute_result",
          "data": {
            "text/html": [
              "<div>\n",
              "<style scoped>\n",
              "    .dataframe tbody tr th:only-of-type {\n",
              "        vertical-align: middle;\n",
              "    }\n",
              "\n",
              "    .dataframe tbody tr th {\n",
              "        vertical-align: top;\n",
              "    }\n",
              "\n",
              "    .dataframe thead th {\n",
              "        text-align: right;\n",
              "    }\n",
              "</style>\n",
              "<table border=\"1\" class=\"dataframe\">\n",
              "  <thead>\n",
              "    <tr style=\"text-align: right;\">\n",
              "      <th></th>\n",
              "      <th>tenure</th>\n",
              "      <th>age</th>\n",
              "      <th>address</th>\n",
              "      <th>income</th>\n",
              "      <th>ed</th>\n",
              "      <th>employ</th>\n",
              "      <th>equip</th>\n",
              "      <th>callcard</th>\n",
              "      <th>wireless</th>\n",
              "      <th>churn</th>\n",
              "    </tr>\n",
              "  </thead>\n",
              "  <tbody>\n",
              "    <tr>\n",
              "      <th>0</th>\n",
              "      <td>11.0</td>\n",
              "      <td>33.0</td>\n",
              "      <td>7.0</td>\n",
              "      <td>136.0</td>\n",
              "      <td>5.0</td>\n",
              "      <td>5.0</td>\n",
              "      <td>0.0</td>\n",
              "      <td>1.0</td>\n",
              "      <td>1.0</td>\n",
              "      <td>1</td>\n",
              "    </tr>\n",
              "    <tr>\n",
              "      <th>1</th>\n",
              "      <td>33.0</td>\n",
              "      <td>33.0</td>\n",
              "      <td>12.0</td>\n",
              "      <td>33.0</td>\n",
              "      <td>2.0</td>\n",
              "      <td>0.0</td>\n",
              "      <td>0.0</td>\n",
              "      <td>0.0</td>\n",
              "      <td>0.0</td>\n",
              "      <td>1</td>\n",
              "    </tr>\n",
              "    <tr>\n",
              "      <th>2</th>\n",
              "      <td>23.0</td>\n",
              "      <td>30.0</td>\n",
              "      <td>9.0</td>\n",
              "      <td>30.0</td>\n",
              "      <td>1.0</td>\n",
              "      <td>2.0</td>\n",
              "      <td>0.0</td>\n",
              "      <td>0.0</td>\n",
              "      <td>0.0</td>\n",
              "      <td>0</td>\n",
              "    </tr>\n",
              "    <tr>\n",
              "      <th>3</th>\n",
              "      <td>38.0</td>\n",
              "      <td>35.0</td>\n",
              "      <td>5.0</td>\n",
              "      <td>76.0</td>\n",
              "      <td>2.0</td>\n",
              "      <td>10.0</td>\n",
              "      <td>1.0</td>\n",
              "      <td>1.0</td>\n",
              "      <td>1.0</td>\n",
              "      <td>0</td>\n",
              "    </tr>\n",
              "    <tr>\n",
              "      <th>4</th>\n",
              "      <td>7.0</td>\n",
              "      <td>35.0</td>\n",
              "      <td>14.0</td>\n",
              "      <td>80.0</td>\n",
              "      <td>2.0</td>\n",
              "      <td>15.0</td>\n",
              "      <td>0.0</td>\n",
              "      <td>1.0</td>\n",
              "      <td>0.0</td>\n",
              "      <td>0</td>\n",
              "    </tr>\n",
              "  </tbody>\n",
              "</table>\n",
              "</div>"
            ],
            "text/plain": [
              "   tenure   age  address  income   ed  employ  equip  callcard  wireless  churn\n",
              "0    11.0  33.0      7.0   136.0  5.0     5.0    0.0       1.0       1.0      1\n",
              "1    33.0  33.0     12.0    33.0  2.0     0.0    0.0       0.0       0.0      1\n",
              "2    23.0  30.0      9.0    30.0  1.0     2.0    0.0       0.0       0.0      0\n",
              "3    38.0  35.0      5.0    76.0  2.0    10.0    1.0       1.0       1.0      0\n",
              "4     7.0  35.0     14.0    80.0  2.0    15.0    0.0       1.0       0.0      0"
            ]
          },
          "metadata": {
            "tags": []
          },
          "execution_count": 7
        }
      ]
    },
    {
      "cell_type": "markdown",
      "metadata": {
        "id": "_5swG4k_YlRt"
      },
      "source": [
        "# Práctica\n",
        "¿Cuántas filas y columnas hay en este conjunto de datos en total? ¿Cómo se llaman las columnas?"
      ]
    },
    {
      "cell_type": "code",
      "metadata": {
        "id": "bXSh7L_kYxqB",
        "outputId": "337cf4a0-1215-41e1-9449-aaca59d39b1b",
        "colab": {
          "base_uri": "https://localhost:8080/"
        }
      },
      "source": [
        "# write your code here\n",
        "churn_df.shape"
      ],
      "execution_count": 8,
      "outputs": [
        {
          "output_type": "execute_result",
          "data": {
            "text/plain": [
              "(200, 10)"
            ]
          },
          "metadata": {
            "tags": []
          },
          "execution_count": 8
        }
      ]
    },
    {
      "cell_type": "markdown",
      "metadata": {
        "id": "SvJUG2U4YlPl"
      },
      "source": [
        "Definamos X e y para nuestro conjunto de datos:"
      ]
    },
    {
      "cell_type": "code",
      "metadata": {
        "id": "rbPWbY-6Xcy5",
        "outputId": "7737ceb5-0442-44dd-d44f-e2f3213cf8b7",
        "colab": {
          "base_uri": "https://localhost:8080/"
        }
      },
      "source": [
        "X = np.asarray(churn_df[['tenure', 'age', 'address', 'income', 'ed', 'employ', 'equip']])\n",
        "X[0:5]"
      ],
      "execution_count": 9,
      "outputs": [
        {
          "output_type": "execute_result",
          "data": {
            "text/plain": [
              "array([[ 11.,  33.,   7., 136.,   5.,   5.,   0.],\n",
              "       [ 33.,  33.,  12.,  33.,   2.,   0.,   0.],\n",
              "       [ 23.,  30.,   9.,  30.,   1.,   2.,   0.],\n",
              "       [ 38.,  35.,   5.,  76.,   2.,  10.,   1.],\n",
              "       [  7.,  35.,  14.,  80.,   2.,  15.,   0.]])"
            ]
          },
          "metadata": {
            "tags": []
          },
          "execution_count": 9
        }
      ]
    },
    {
      "cell_type": "code",
      "metadata": {
        "id": "ADaDCHHEXi3a",
        "outputId": "b592e18d-a4ea-439e-8514-138c7e6b105e",
        "colab": {
          "base_uri": "https://localhost:8080/"
        }
      },
      "source": [
        "y = np.asarray(churn_df['churn'])\n",
        "y [0:5]"
      ],
      "execution_count": 10,
      "outputs": [
        {
          "output_type": "execute_result",
          "data": {
            "text/plain": [
              "array([1, 1, 0, 0, 0])"
            ]
          },
          "metadata": {
            "tags": []
          },
          "execution_count": 10
        }
      ]
    },
    {
      "cell_type": "markdown",
      "metadata": {
        "id": "LjIK1v8rZjq1"
      },
      "source": [
        "Además, normalizamos el conjunto de datos:"
      ]
    },
    {
      "cell_type": "code",
      "metadata": {
        "id": "W0ebpSShZkPM",
        "outputId": "0beea708-cab8-4822-9227-224c9a1b39ad",
        "colab": {
          "base_uri": "https://localhost:8080/"
        }
      },
      "source": [
        "from sklearn import preprocessing\n",
        "X = preprocessing.StandardScaler().fit(X).transform(X)\n",
        "X[0:5]"
      ],
      "execution_count": 11,
      "outputs": [
        {
          "output_type": "execute_result",
          "data": {
            "text/plain": [
              "array([[-1.13518441, -0.62595491, -0.4588971 ,  0.4751423 ,  1.6961288 ,\n",
              "        -0.58477841, -0.85972695],\n",
              "       [-0.11604313, -0.62595491,  0.03454064, -0.32886061, -0.6433592 ,\n",
              "        -1.14437497, -0.85972695],\n",
              "       [-0.57928917, -0.85594447, -0.261522  , -0.35227817, -1.42318853,\n",
              "        -0.92053635, -0.85972695],\n",
              "       [ 0.11557989, -0.47262854, -0.65627219,  0.00679109, -0.6433592 ,\n",
              "        -0.02518185,  1.16316   ],\n",
              "       [-1.32048283, -0.47262854,  0.23191574,  0.03801451, -0.6433592 ,\n",
              "         0.53441472, -0.85972695]])"
            ]
          },
          "metadata": {
            "tags": []
          },
          "execution_count": 11
        }
      ]
    },
    {
      "cell_type": "markdown",
      "metadata": {
        "id": "b6E06JgxZsoT"
      },
      "source": [
        "# 4. Train /Test dataset\n",
        "Bien, dividimos nuestro conjunto de datos en tren y conjunto de prueba:"
      ]
    },
    {
      "cell_type": "code",
      "metadata": {
        "id": "GCaMu5yUZ73v",
        "outputId": "16b0d8a8-143c-4ab4-fb28-2272a780d023",
        "colab": {
          "base_uri": "https://localhost:8080/"
        }
      },
      "source": [
        "from sklearn.model_selection import train_test_split\n",
        "X_train, X_test, y_train, y_test = train_test_split( X, y, test_size=0.2, random_state=4)\n",
        "print ('Train set:', X_train.shape,  y_train.shape)\n",
        "print ('Test set:', X_test.shape,  y_test.shape)"
      ],
      "execution_count": 12,
      "outputs": [
        {
          "output_type": "stream",
          "text": [
            "Train set: (160, 7) (160,)\n",
            "Test set: (40, 7) (40,)\n"
          ],
          "name": "stdout"
        }
      ]
    },
    {
      "cell_type": "markdown",
      "metadata": {
        "id": "HeQl5KivZ-Qv"
      },
      "source": [
        "# 5. Modelado Regresión Logística con scikit-learn\n",
        "\n",
        "Construyamos nuestro modelo usando LogisticRegression del paquete Scikit-learn. Esta función implementa la regresión logística y puede usar diferentes optimizadores numéricos para encontrar parámetros, incluidos los solucionadores \"newton-cg\", \"lbfgs\", \"liblinear\", \"sag\" y \"saga\". Puede encontrar amplia información sobre los pros y los contras de estos optimizadores si lo busca en Internet.\n",
        "\n",
        "La versión de Regresión logística en Scikit-learn, admite regularización. La regularización es una técnica utilizada para resolver el problema de sobreajuste en modelos de aprendizaje automático. El parámetro C indica el inverso de la fuerza de regularización, que debe ser un valor flotante positivo. Los valores más pequeños especifican una regularización más fuerte. Ahora ajustemos nuestro modelo con juego de trenes:"
      ]
    },
    {
      "cell_type": "code",
      "metadata": {
        "id": "EzMKmPXyaOu7",
        "outputId": "e62fb37b-0491-4af5-cca9-5af54bdd8f53",
        "colab": {
          "base_uri": "https://localhost:8080/"
        }
      },
      "source": [
        "from sklearn.linear_model import LogisticRegression\n",
        "from sklearn.metrics import confusion_matrix\n",
        "LR = LogisticRegression(C=0.01, solver='liblinear').fit(X_train,y_train)\n",
        "LR"
      ],
      "execution_count": 13,
      "outputs": [
        {
          "output_type": "execute_result",
          "data": {
            "text/plain": [
              "LogisticRegression(C=0.01, class_weight=None, dual=False, fit_intercept=True,\n",
              "                   intercept_scaling=1, l1_ratio=None, max_iter=100,\n",
              "                   multi_class='auto', n_jobs=None, penalty='l2',\n",
              "                   random_state=None, solver='liblinear', tol=0.0001, verbose=0,\n",
              "                   warm_start=False)"
            ]
          },
          "metadata": {
            "tags": []
          },
          "execution_count": 13
        }
      ]
    },
    {
      "cell_type": "markdown",
      "metadata": {
        "id": "_us9NXPUaUDn"
      },
      "source": [
        "Ahora podemos predecir usando nuestro conjunto de prueba:"
      ]
    },
    {
      "cell_type": "code",
      "metadata": {
        "id": "5p9duWWQabwb",
        "outputId": "cf14a85c-ed65-42e5-e41c-bfb3586b26bb",
        "colab": {
          "base_uri": "https://localhost:8080/"
        }
      },
      "source": [
        "yhat = LR.predict(X_test)\n",
        "yhat"
      ],
      "execution_count": 14,
      "outputs": [
        {
          "output_type": "execute_result",
          "data": {
            "text/plain": [
              "array([0, 0, 0, 0, 0, 0, 0, 0, 1, 0, 0, 0, 1, 1, 0, 0, 0, 1, 1, 0, 0, 0,\n",
              "       0, 0, 0, 0, 0, 0, 0, 0, 0, 0, 1, 0, 0, 0, 1, 0, 0, 0])"
            ]
          },
          "metadata": {
            "tags": []
          },
          "execution_count": 14
        }
      ]
    },
    {
      "cell_type": "markdown",
      "metadata": {
        "id": "sfKIGuWDaiwI"
      },
      "source": [
        "predict_proba devuelve estimaciones para todas las clases, ordenadas por la etiqueta de clases. Entonces, la primera columna es la probabilidad de la clase 1, P (Y = 1 | X), y la segunda columna es la probabilidad de la clase 0, P (Y = 0 | X):"
      ]
    },
    {
      "cell_type": "code",
      "metadata": {
        "id": "BGuaOB3Vahi2",
        "outputId": "134c9294-db58-4dea-b982-f088a91cc4a5",
        "colab": {
          "base_uri": "https://localhost:8080/"
        }
      },
      "source": [
        "yhat_prob = LR.predict_proba(X_test)\n",
        "yhat_prob"
      ],
      "execution_count": 15,
      "outputs": [
        {
          "output_type": "execute_result",
          "data": {
            "text/plain": [
              "array([[0.54132919, 0.45867081],\n",
              "       [0.60593357, 0.39406643],\n",
              "       [0.56277713, 0.43722287],\n",
              "       [0.63432489, 0.36567511],\n",
              "       [0.56431839, 0.43568161],\n",
              "       [0.55386646, 0.44613354],\n",
              "       [0.52237207, 0.47762793],\n",
              "       [0.60514349, 0.39485651],\n",
              "       [0.41069572, 0.58930428],\n",
              "       [0.6333873 , 0.3666127 ],\n",
              "       [0.58068791, 0.41931209],\n",
              "       [0.62768628, 0.37231372],\n",
              "       [0.47559883, 0.52440117],\n",
              "       [0.4267593 , 0.5732407 ],\n",
              "       [0.66172417, 0.33827583],\n",
              "       [0.55092315, 0.44907685],\n",
              "       [0.51749946, 0.48250054],\n",
              "       [0.485743  , 0.514257  ],\n",
              "       [0.49011451, 0.50988549],\n",
              "       [0.52423349, 0.47576651],\n",
              "       [0.61619519, 0.38380481],\n",
              "       [0.52696302, 0.47303698],\n",
              "       [0.63957168, 0.36042832],\n",
              "       [0.52205164, 0.47794836],\n",
              "       [0.50572852, 0.49427148],\n",
              "       [0.70706202, 0.29293798],\n",
              "       [0.55266286, 0.44733714],\n",
              "       [0.52271594, 0.47728406],\n",
              "       [0.51638863, 0.48361137],\n",
              "       [0.71331391, 0.28668609],\n",
              "       [0.67862111, 0.32137889],\n",
              "       [0.50896403, 0.49103597],\n",
              "       [0.42348082, 0.57651918],\n",
              "       [0.71495838, 0.28504162],\n",
              "       [0.59711064, 0.40288936],\n",
              "       [0.63808839, 0.36191161],\n",
              "       [0.39957895, 0.60042105],\n",
              "       [0.52127638, 0.47872362],\n",
              "       [0.65975464, 0.34024536],\n",
              "       [0.5114172 , 0.4885828 ]])"
            ]
          },
          "metadata": {
            "tags": []
          },
          "execution_count": 15
        }
      ]
    },
    {
      "cell_type": "markdown",
      "metadata": {
        "id": "SZx9lJQdarQe"
      },
      "source": [
        "# 6. Evaluación \n",
        "\n",
        "índice de jaccard\n",
        "Probemos el índice jaccard para evaluar la precisión. podemos definir jaccard como el tamaño de la intersección dividido por el tamaño de la unión de dos conjuntos de etiquetas. Si todo el conjunto de etiquetas predichas para una muestra coincide estrictamente con el conjunto verdadero de etiquetas, entonces la precisión del subconjunto es 1.0; de lo contrario, es 0.0."
      ]
    },
    {
      "cell_type": "code",
      "metadata": {
        "id": "8ABqNfaeacX8",
        "outputId": "019872f7-205c-4caf-c762-79f7930da993",
        "colab": {
          "base_uri": "https://localhost:8080/"
        }
      },
      "source": [
        "from sklearn.metrics import jaccard_similarity_score\n",
        "jaccard_similarity_score(y_test, yhat)"
      ],
      "execution_count": 16,
      "outputs": [
        {
          "output_type": "stream",
          "text": [
            "/usr/local/lib/python3.6/dist-packages/sklearn/metrics/_classification.py:664: FutureWarning: jaccard_similarity_score has been deprecated and replaced with jaccard_score. It will be removed in version 0.23. This implementation has surprising behavior for binary and multiclass classification tasks.\n",
            "  FutureWarning)\n"
          ],
          "name": "stderr"
        },
        {
          "output_type": "execute_result",
          "data": {
            "text/plain": [
              "0.75"
            ]
          },
          "metadata": {
            "tags": []
          },
          "execution_count": 16
        }
      ]
    },
    {
      "cell_type": "markdown",
      "metadata": {
        "id": "_8qtSCAZbOV-"
      },
      "source": [
        "# 7. matriz de confusión \n",
        "Otra forma de ver la precisión del clasificador es mirar la matriz de confusión."
      ]
    },
    {
      "cell_type": "code",
      "metadata": {
        "id": "1M5_Rt1cbj22",
        "outputId": "4bd75034-8d66-47cd-cd54-a755426aadcc",
        "colab": {
          "base_uri": "https://localhost:8080/"
        }
      },
      "source": [
        "from sklearn.metrics import classification_report, confusion_matrix\n",
        "import itertools\n",
        "def plot_confusion_matrix(cm, classes,\n",
        "                          normalize=False,\n",
        "                          title='Confusion matrix',\n",
        "                          cmap=plt.cm.Blues):\n",
        "    \"\"\"\n",
        "    This function prints and plots the confusion matrix.\n",
        "    Normalization can be applied by setting `normalize=True`.\n",
        "    \"\"\"\n",
        "    if normalize:\n",
        "        cm = cm.astype('float') / cm.sum(axis=1)[:, np.newaxis]\n",
        "        print(\"Normalized confusion matrix\")\n",
        "    else:\n",
        "        print('Confusion matrix, without normalization')\n",
        "\n",
        "    print(cm)\n",
        "\n",
        "    plt.imshow(cm, interpolation='nearest', cmap=cmap)\n",
        "    plt.title(title)\n",
        "    plt.colorbar()\n",
        "    tick_marks = np.arange(len(classes))\n",
        "    plt.xticks(tick_marks, classes, rotation=45)\n",
        "    plt.yticks(tick_marks, classes)\n",
        "\n",
        "    fmt = '.2f' if normalize else 'd'\n",
        "    thresh = cm.max() / 2.\n",
        "    for i, j in itertools.product(range(cm.shape[0]), range(cm.shape[1])):\n",
        "        plt.text(j, i, format(cm[i, j], fmt),\n",
        "                 horizontalalignment=\"center\",\n",
        "                 color=\"white\" if cm[i, j] > thresh else \"black\")\n",
        "\n",
        "    plt.tight_layout()\n",
        "    plt.ylabel('True label')\n",
        "    plt.xlabel('Predicted label')\n",
        "print(confusion_matrix(y_test, yhat, labels=[1,0]))"
      ],
      "execution_count": 17,
      "outputs": [
        {
          "output_type": "stream",
          "text": [
            "[[ 6  9]\n",
            " [ 1 24]]\n"
          ],
          "name": "stdout"
        }
      ]
    },
    {
      "cell_type": "code",
      "metadata": {
        "id": "yPEp0sUgbqim",
        "outputId": "0a9d8f3c-7d36-4b21-f0ff-6737e6f58742",
        "colab": {
          "base_uri": "https://localhost:8080/",
          "height": 362
        }
      },
      "source": [
        "# Compute confusion matrix\n",
        "cnf_matrix = confusion_matrix(y_test, yhat, labels=[1,0])\n",
        "np.set_printoptions(precision=2)\n",
        "\n",
        "\n",
        "# Plot non-normalized confusion matrix\n",
        "plt.figure()\n",
        "plot_confusion_matrix(cnf_matrix, classes=['churn=1','churn=0'],normalize= False,  title='Confusion matrix')"
      ],
      "execution_count": 18,
      "outputs": [
        {
          "output_type": "stream",
          "text": [
            "Confusion matrix, without normalization\n",
            "[[ 6  9]\n",
            " [ 1 24]]\n"
          ],
          "name": "stdout"
        },
        {
          "output_type": "display_data",
          "data": {
            "image/png": "[encoded data removed]",
            "text/plain": [
              "<Figure size 432x288 with 2 Axes>"
            ]
          },
          "metadata": {
            "tags": [],
            "needs_background": "light"
          }
        }
      ]
    },
    {
      "cell_type": "markdown",
      "metadata": {
        "id": "vBO8Grz6cR_Y"
      },
      "source": [
        "Mira la primera fila. La primera fila es para los clientes cuyo valor de abandono real en el conjunto de prueba es 1. Como puede calcular, de 40 clientes, el valor de abandono de 15 de ellos es 1. Y de estos 15, el clasificador predijo correctamente 6 de ellos como 1 y 9 de ellos como 0.\n",
        "\n",
        "Significa que, para 6 clientes, el valor de abandono real fue 1 en el conjunto de prueba, y el clasificador también predijo correctamente esos como 1. Sin embargo, mientras que la etiqueta real de 9 clientes fue 1, el clasificador predijo esos como 0, lo que no es muy bueno . Podemos considerarlo como un error del modelo de la primera fila.\n",
        "\n",
        "¿Qué pasa con los clientes con valor de deserción 0? Veamos la segunda fila. Parece que hubo 25 clientes cuyo valor de abandono fue 0.\n",
        "\n",
        "El clasificador predijo correctamente 24 de ellos como 0 y uno de ellos incorrectamente como 1. Por lo tanto, ha hecho un buen trabajo al predecir los clientes con un valor de rotación 0. Lo bueno de la matriz de confusión es que muestra la capacidad del modelo para predecir correctamente o separar las clases. En un caso específico de clasificador binario, como este ejemplo, podemos interpretar estos números como el recuento de verdaderos positivos, falsos positivos, verdaderos negativos y falsos negativos."
      ]
    },
    {
      "cell_type": "code",
      "metadata": {
        "id": "Otj2-nOybqgp",
        "outputId": "5ad71485-8da4-49b7-926e-fc0aac9c64fa",
        "colab": {
          "base_uri": "https://localhost:8080/"
        }
      },
      "source": [
        "print (classification_report(y_test, yhat))"
      ],
      "execution_count": 19,
      "outputs": [
        {
          "output_type": "stream",
          "text": [
            "              precision    recall  f1-score   support\n",
            "\n",
            "           0       0.73      0.96      0.83        25\n",
            "           1       0.86      0.40      0.55        15\n",
            "\n",
            "    accuracy                           0.75        40\n",
            "   macro avg       0.79      0.68      0.69        40\n",
            "weighted avg       0.78      0.75      0.72        40\n",
            "\n"
          ],
          "name": "stdout"
        }
      ]
    },
    {
      "cell_type": "markdown",
      "metadata": {
        "id": "yp8rJpxGccdi"
      },
      "source": [
        "Basándonos en el recuento de cada sección, podemos calcular la precisión y la recuperación de cada etiqueta:\n",
        "\n",
        "* La precisión es una medida de la precisión siempre que se haya predicho una etiqueta de clase. Está definido por: precisión = TP / (TP + FP)\n",
        "\n",
        "* El recall es una verdadera tasa positiva. Se define como: Recuperación = TP / (TP + FN)\n",
        "\n",
        "Entonces, podemos calcular la precisión y la recuperación de cada clase.\n",
        "\n",
        "Puntaje F1: ahora estamos en condiciones de calcular los puntajes F1 para cada etiqueta en función de la precisión y el recuerdo de esa etiqueta.\n",
        "\n",
        "La puntuación F1 es el promedio armónico de la precisión y la recuperación, donde una puntuación F1 alcanza su mejor valor en 1 (precisión y recuperación perfecta) y el peor en 0. Es una buena forma de demostrar que un clasificador tiene un buen valor para ambos recuerdo y precisión.\n",
        "\n",
        "Y finalmente, podemos decir que la precisión promedio para este clasificador es el promedio de la puntuación F1 para ambas etiquetas, que es 0,72 en nuestro caso.\n",
        "\n",
        "# Log loss\n",
        "Ahora, intentemos la pérdida de registros para su evaluación. En la regresión logística, el resultado puede ser que la probabilidad de que el cliente abandone sea sí (o igual a 1). Esta probabilidad es un valor entre 0 y 1. La pérdida logarítmica (pérdida logarítmica) mide el rendimiento de un clasificador donde la salida prevista es un valor de probabilidad entre 0 y 1."
      ]
    },
    {
      "cell_type": "code",
      "metadata": {
        "id": "nBDW0Cjzcxzr",
        "outputId": "050d0381-daf0-4547-9a02-0be9f91b8ce3",
        "colab": {
          "base_uri": "https://localhost:8080/"
        }
      },
      "source": [
        "from sklearn.metrics import log_loss\n",
        "log_loss(y_test, yhat_prob)"
      ],
      "execution_count": 20,
      "outputs": [
        {
          "output_type": "execute_result",
          "data": {
            "text/plain": [
              "0.6017092478101185"
            ]
          },
          "metadata": {
            "tags": []
          },
          "execution_count": 20
        }
      ]
    },
    {
      "cell_type": "markdown",
      "metadata": {
        "id": "9aNeG0iuc49O"
      },
      "source": [
        "# Práctica\n",
        "Intente volver a crear el modelo de regresión logística para el mismo conjunto de datos, pero esta vez, ¿usará diferentes valores de __solver__ y __regularization__? ¿Cuál es el nuevo valor de __logLoss__?"
      ]
    },
    {
      "cell_type": "code",
      "metadata": {
        "id": "KCUmdQVmdRt3"
      },
      "source": [
        "# Escribi tu codigo\n"
      ],
      "execution_count": null,
      "outputs": []
    },
    {
      "cell_type": "markdown",
      "metadata": {
        "id": "e8F5lBHqdWiC"
      },
      "source": [
        "# Gracias por su atención"
      ]
    },
    {
      "cell_type": "code",
      "metadata": {
        "id": "WpGh51FUdY9-"
      },
      "source": [
        ""
      ],
      "execution_count": null,
      "outputs": []
    }
  ]
}