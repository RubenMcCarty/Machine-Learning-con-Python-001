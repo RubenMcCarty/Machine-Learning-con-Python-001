{
  "nbformat": 4,
  "nbformat_minor": 0,
  "metadata": {
    "kernelspec": {
      "display_name": "Python 3",
      "language": "python",
      "name": "python3"
    },
    "language_info": {
      "codemirror_mode": {
        "name": "ipython",
        "version": 3
      },
      "file_extension": ".py",
      "mimetype": "text/x-python",
      "name": "python",
      "nbconvert_exporter": "python",
      "pygments_lexer": "ipython3",
      "version": "3.7.1"
    },
    "colab": {
      "name": "Sistema_Llenado_Cocoas_Trabajo_Final.ipynb",
      "provenance": [],
      "include_colab_link": true
    }
  },
  "cells": [
    {
      "cell_type": "markdown",
      "metadata": {
        "id": "view-in-github",
        "colab_type": "text"
      },
      "source": [
        "<a href=\"https://colab.research.google.com/github/RubenMcCarty/Machine-Learning-con-Python-001/blob/master/Sistema_Llenado_Cocoas_Trabajo_Final.ipynb\" target=\"_parent\"><img src=\"https://colab.research.google.com/assets/colab-badge.svg\" alt=\"Open In Colab\"/></a>"
      ]
    },
    {
      "cell_type": "markdown",
      "metadata": {
        "id": "isf7qrmZ95uZ"
      },
      "source": [
        "# Breve Explicacion\n",
        "Los datos que se utilizaran,fueron extraidos de un sistema de llenado de cocoa,se quiere entender y/o aproximar el comportamiento del sistema de llenado que consta de un servormotor enlazado mecanicamente a un suministrador de granos, una balanza de presicion y otros accesorios,por cada vuelta del servomotor se llena un paquete de cocoa,el sistema a sufrido algunas modificaciones y por ende a perdido la exactitud al momento de llenar los paquetes con los nuevos pesos.\n",
        "El objetivo es encontrar un patron de pesos y mas adelante aplicar un sistema de control de pesos"
      ]
    },
    {
      "cell_type": "markdown",
      "metadata": {
        "id": "Gm3fUvhL95uc"
      },
      "source": [
        "# 1. Importando las librerias necesarias "
      ]
    },
    {
      "cell_type": "code",
      "metadata": {
        "id": "44iUkcvf95ue"
      },
      "source": [
        "import numpy as np\n",
        "import pandas as pd\n",
        "import matplotlib.pyplot as plt"
      ],
      "execution_count": null,
      "outputs": []
    },
    {
      "cell_type": "markdown",
      "metadata": {
        "id": "ST0kOSYd95ug"
      },
      "source": [
        "# 2. Leer la data "
      ]
    },
    {
      "cell_type": "code",
      "metadata": {
        "colab": {
          "base_uri": "https://localhost:8080/",
          "height": 204
        },
        "id": "b47y7D_b95uh",
        "outputId": "8d097175-aa7d-4078-9714-fd5d80958606"
      },
      "source": [
        "df_Linea1_prom=pd.read_csv('Linea1_Promedio.csv',delimiter=';')\n",
        "df_Linea1_prom.head()"
      ],
      "execution_count": null,
      "outputs": [
        {
          "output_type": "execute_result",
          "data": {
            "text/html": [
              "<div>\n",
              "<style scoped>\n",
              "    .dataframe tbody tr th:only-of-type {\n",
              "        vertical-align: middle;\n",
              "    }\n",
              "\n",
              "    .dataframe tbody tr th {\n",
              "        vertical-align: top;\n",
              "    }\n",
              "\n",
              "    .dataframe thead th {\n",
              "        text-align: right;\n",
              "    }\n",
              "</style>\n",
              "<table border=\"1\" class=\"dataframe\">\n",
              "  <thead>\n",
              "    <tr style=\"text-align: right;\">\n",
              "      <th></th>\n",
              "      <th>DATO1</th>\n",
              "      <th>DATO2</th>\n",
              "      <th>DATO3</th>\n",
              "      <th>DATO4</th>\n",
              "      <th>DATO5</th>\n",
              "      <th>DATO6</th>\n",
              "    </tr>\n",
              "  </thead>\n",
              "  <tbody>\n",
              "    <tr>\n",
              "      <th>0</th>\n",
              "      <td>11/24/2020</td>\n",
              "      <td>11:31:16</td>\n",
              "      <td>361</td>\n",
              "      <td>[MAINAR3]PROM_PESO_PV_1                       ...</td>\n",
              "      <td>125.40</td>\n",
              "      <td>1</td>\n",
              "    </tr>\n",
              "    <tr>\n",
              "      <th>1</th>\n",
              "      <td>11/24/2020</td>\n",
              "      <td>11:31:29</td>\n",
              "      <td>414</td>\n",
              "      <td>[MAINAR3]PROM_PESO_PV_1                       ...</td>\n",
              "      <td>125.25</td>\n",
              "      <td>2</td>\n",
              "    </tr>\n",
              "    <tr>\n",
              "      <th>2</th>\n",
              "      <td>11/24/2020</td>\n",
              "      <td>11:32:31</td>\n",
              "      <td>253</td>\n",
              "      <td>[MAINAR3]PROM_PESO_PV_1                       ...</td>\n",
              "      <td>125.14</td>\n",
              "      <td>3</td>\n",
              "    </tr>\n",
              "    <tr>\n",
              "      <th>3</th>\n",
              "      <td>11/24/2020</td>\n",
              "      <td>11:33:35</td>\n",
              "      <td>135</td>\n",
              "      <td>[MAINAR3]PROM_PESO_PV_1                       ...</td>\n",
              "      <td>126.38</td>\n",
              "      <td>4</td>\n",
              "    </tr>\n",
              "    <tr>\n",
              "      <th>4</th>\n",
              "      <td>11/24/2020</td>\n",
              "      <td>11:34:35</td>\n",
              "      <td>960</td>\n",
              "      <td>[MAINAR3]PROM_PESO_PV_1                       ...</td>\n",
              "      <td>126.90</td>\n",
              "      <td>5</td>\n",
              "    </tr>\n",
              "  </tbody>\n",
              "</table>\n",
              "</div>"
            ],
            "text/plain": [
              "        DATO1     DATO2  ...   DATO5 DATO6\n",
              "0  11/24/2020  11:31:16  ...  125.40     1\n",
              "1  11/24/2020  11:31:29  ...  125.25     2\n",
              "2  11/24/2020  11:32:31  ...  125.14     3\n",
              "3  11/24/2020  11:33:35  ...  126.38     4\n",
              "4  11/24/2020  11:34:35  ...  126.90     5\n",
              "\n",
              "[5 rows x 6 columns]"
            ]
          },
          "metadata": {
            "tags": []
          },
          "execution_count": 3
        }
      ]
    },
    {
      "cell_type": "markdown",
      "metadata": {
        "id": "P4irR0JG95uj"
      },
      "source": [
        "# 3. Graficar los pesos de cocoa con respecto al tiempo de muestreo"
      ]
    },
    {
      "cell_type": "code",
      "metadata": {
        "colab": {
          "base_uri": "https://localhost:8080/",
          "height": 298
        },
        "id": "pSNVNK5m95uk",
        "outputId": "eaa108b7-142c-4beb-852f-ded0a9ab93ed"
      },
      "source": [
        "plt.scatter(df_Linea1_prom.DATO6, df_Linea1_prom.DATO5, color ='blue')\n",
        "plt.xlabel(\"Numero de Muestras\")\n",
        "plt.ylabel(\"Peso Cocoa (gr)\")\n",
        "plt.show"
      ],
      "execution_count": null,
      "outputs": [
        {
          "output_type": "execute_result",
          "data": {
            "text/plain": [
              "<function matplotlib.pyplot.show>"
            ]
          },
          "metadata": {
            "tags": []
          },
          "execution_count": 4
        },
        {
          "output_type": "display_data",
          "data": {
            "image/png": "[encoded data removed]",
            "text/plain": [
              "<Figure size 432x288 with 1 Axes>"
            ]
          },
          "metadata": {
            "tags": [],
            "needs_background": "light"
          }
        }
      ]
    },
    {
      "cell_type": "markdown",
      "metadata": {
        "id": "mBOH6GO_95ul"
      },
      "source": [
        "# 4. Creando un conjunto de train y test"
      ]
    },
    {
      "cell_type": "code",
      "metadata": {
        "id": "mF78Bbn495um"
      },
      "source": [
        "msk = np.random.rand(len(df_Linea1_prom))<0.8\n",
        "train = df_Linea1_prom[msk]\n",
        "test = df_Linea1_prom[~msk]"
      ],
      "execution_count": null,
      "outputs": []
    },
    {
      "cell_type": "markdown",
      "metadata": {
        "id": "BGbd_ZX795uo"
      },
      "source": [
        "# 5. Regresión Polinomial"
      ]
    },
    {
      "cell_type": "code",
      "metadata": {
        "colab": {
          "base_uri": "https://localhost:8080/"
        },
        "id": "7ca2Zwv995us",
        "outputId": "0e87d4bc-e24c-4473-959d-e647447277b7"
      },
      "source": [
        "from sklearn.preprocessing import PolynomialFeatures\n",
        "from sklearn import linear_model\n",
        "train_x =np.asanyarray(train[['DATO6']])\n",
        "train_y = np.asanyarray(train[['DATO5']])\n",
        "\n",
        "test_x = np.asanyarray(test[['DATO6']])\n",
        "test_y = np.asanyarray(test[['DATO5']])\n",
        "Grado=5\n",
        "poly = PolynomialFeatures(degree=Grado)\n",
        "train_x_poly = poly.fit_transform(train_x)\n",
        "train_x_poly "
      ],
      "execution_count": null,
      "outputs": [
        {
          "output_type": "execute_result",
          "data": {
            "text/plain": [
              "array([[1.00000000e+00, 1.00000000e+00, 1.00000000e+00, 1.00000000e+00,\n",
              "        1.00000000e+00, 1.00000000e+00],\n",
              "       [1.00000000e+00, 2.00000000e+00, 4.00000000e+00, 8.00000000e+00,\n",
              "        1.60000000e+01, 3.20000000e+01],\n",
              "       [1.00000000e+00, 3.00000000e+00, 9.00000000e+00, 2.70000000e+01,\n",
              "        8.10000000e+01, 2.43000000e+02],\n",
              "       ...,\n",
              "       [1.00000000e+00, 2.38000000e+02, 5.66440000e+04, 1.34812720e+07,\n",
              "        3.20854274e+09, 7.63633171e+11],\n",
              "       [1.00000000e+00, 2.39000000e+02, 5.71210000e+04, 1.36519190e+07,\n",
              "        3.26280864e+09, 7.79811265e+11],\n",
              "       [1.00000000e+00, 2.42000000e+02, 5.85640000e+04, 1.41724880e+07,\n",
              "        3.42974210e+09, 8.29997587e+11]])"
            ]
          },
          "metadata": {
            "tags": []
          },
          "execution_count": 6
        }
      ]
    },
    {
      "cell_type": "code",
      "metadata": {
        "colab": {
          "base_uri": "https://localhost:8080/"
        },
        "id": "1HZuhJ9h95uu",
        "outputId": "26f503a8-01d5-4ad3-8dc2-79e9ca48a786"
      },
      "source": [
        "clf = linear_model.LinearRegression()\n",
        "train_y_ = clf.fit(train_x_poly, train_y)\n",
        "# The coefficients\n",
        "print ('Coefficients: ', clf.coef_)\n",
        "print ('Intercept: ',clf.intercept_)"
      ],
      "execution_count": null,
      "outputs": [
        {
          "output_type": "stream",
          "text": [
            "Coefficients:  [[ 0.00000000e+00  1.21511411e-01 -2.59761302e-03  2.62704822e-05\n",
            "  -1.19038034e-07  1.97297984e-10]]\n",
            "Intercept:  [125.86331192]\n"
          ],
          "name": "stdout"
        }
      ]
    },
    {
      "cell_type": "code",
      "metadata": {
        "colab": {
          "base_uri": "https://localhost:8080/",
          "height": 298
        },
        "id": "iaXm8Kqf95uv",
        "outputId": "3f5d42d0-ac67-4bc2-9556-7a7096c5edf7"
      },
      "source": [
        "plt.scatter(df_Linea1_prom.DATO6, df_Linea1_prom.DATO5,  color='blue')\n",
        "XX = np.arange(0.0, 250.0, 2.5)\n",
        "\n",
        "#yy = clf.intercept_[0]+ clf.coef_[0][1]*XX+ clf.coef_[0][2]*np.power(XX, 2)\n",
        "\n",
        "for i in np.arange(0,(clf.coef_).shape[1]):\n",
        "    \n",
        "    if(i==0):\n",
        "        yy=clf.intercept_[0]\n",
        "    else:\n",
        "        yy=yy+clf.coef_[0][i]*np.power(XX, i)\n",
        "\n",
        "\n",
        "plt.plot(XX, yy, '-r' )\n",
        "plt.xlabel(\"Numero de Muestras\")\n",
        "plt.ylabel(\"Peso Cocoa (gr)\")"
      ],
      "execution_count": null,
      "outputs": [
        {
          "output_type": "execute_result",
          "data": {
            "text/plain": [
              "Text(0, 0.5, 'Peso Cocoa (gr)')"
            ]
          },
          "metadata": {
            "tags": []
          },
          "execution_count": 8
        },
        {
          "output_type": "display_data",
          "data": {
            "image/png": "[encoded data removed]",
            "text/plain": [
              "<Figure size 432x288 with 1 Axes>"
            ]
          },
          "metadata": {
            "tags": [],
            "needs_background": "light"
          }
        }
      ]
    },
    {
      "cell_type": "markdown",
      "metadata": {
        "id": "hiQLgMFW95ux"
      },
      "source": [
        "# 6.Evaluación"
      ]
    },
    {
      "cell_type": "code",
      "metadata": {
        "colab": {
          "base_uri": "https://localhost:8080/"
        },
        "id": "sKqyAckm95uy",
        "outputId": "6c5c4daf-d24e-4761-f31b-4cc992a92c0b"
      },
      "source": [
        "from sklearn.metrics import r2_score\n",
        "\n",
        "test_x_poly = poly.fit_transform(test_x)\n",
        "test_y_ = clf.predict(test_x_poly)\n",
        "\n",
        "print(\"Mean absolute error: %.2f\" % np.mean(np.absolute(test_y_ - test_y)))\n",
        "print(\"Residual sum of squares (MSE): %.2f\" % np.mean((test_y_ - test_y) ** 2))\n",
        "print(\"R2-score: %.2f\" % r2_score(test_y_ , test_y) )"
      ],
      "execution_count": null,
      "outputs": [
        {
          "output_type": "stream",
          "text": [
            "Mean absolute error: 1.05\n",
            "Residual sum of squares (MSE): 1.77\n",
            "R2-score: -1.11\n"
          ],
          "name": "stdout"
        }
      ]
    },
    {
      "cell_type": "markdown",
      "metadata": {
        "id": "Db9xXVpq95u0"
      },
      "source": [
        "# 7.Conclusion"
      ]
    },
    {
      "cell_type": "markdown",
      "metadata": {
        "id": "6lATzvcT95u0"
      },
      "source": [
        "Despues de realizar varios intentos para tener una mayor aproximacion de la curva a los datos reales\n",
        "para un n=5 (grado 5),se obtiene una buena aproximacion.\n",
        "se puede observar que La data muestral fue muy poca para tener una mayor aproximacion al comportamiento del\n",
        "sistema de llenado de cocoas.\n",
        "se pretende realizar un mayor numero de muestras dependiendo de la disponiblidad del cliente."
      ]
    },
    {
      "cell_type": "code",
      "metadata": {
        "id": "0Z9ScYiq95u1"
      },
      "source": [
        ""
      ],
      "execution_count": null,
      "outputs": []
    }
  ]
}