{
  "nbformat": 4,
  "nbformat_minor": 0,
  "metadata": {
    "colab": {
      "name": "IMDB_Keras.ipynb",
      "provenance": [],
      "collapsed_sections": [],
      "include_colab_link": true
    },
    "kernelspec": {
      "name": "python3",
      "display_name": "Python 3"
    }
  },
  "cells": [
    {
      "cell_type": "markdown",
      "metadata": {
        "id": "view-in-github",
        "colab_type": "text"
      },
      "source": [
        "<a href=\"https://colab.research.google.com/github/RubenMcCarty/Machine-Learning-con-Python-001/blob/master/IMDB_Keras.ipynb\" target=\"_parent\"><img src=\"https://colab.research.google.com/assets/colab-badge.svg\" alt=\"Open In Colab\"/></a>"
      ]
    },
    {
      "cell_type": "markdown",
      "metadata": {
        "id": "SZ1YMPZvFRpb"
      },
      "source": [
        "# **IMDB dataset** \n",
        "# Algoritmo para predecir las criticas positivas y negativas de películas de IMDB\n",
        "##  Creado por [M.Sc. Ruben Quispe](https://machinelearningmastery.com/tutorial-to-implement-k-nearest-neighbors-in-python-from-scratch/)\n",
        "### Curso [Machine Learning](https://eie.pe/curso-machine-learning/)"
      ]
    },
    {
      "cell_type": "markdown",
      "metadata": {
        "id": "SyxCte0Lz-qg"
      },
      "source": [
        "La base de datos IMDB (Internet Movie Database), se compone de 50,000 críticas de películas, donde 25,000 críticas conforman el conjunto de entrenamiento y 25,000 constituyen el conjunto de prueba. En cada conjunto, el 50% de las críticas son positivas y el restante 50% son negativas. Sitio web de IMDB: https://www.imdb.com/<br>\n",
        "La base de datos IMDB viene precargada en Keras:"
      ]
    },
    {
      "cell_type": "code",
      "metadata": {
        "id": "S5k_oKrxz4tm",
        "colab": {
          "base_uri": "https://localhost:8080/"
        },
        "outputId": "d98a7ee7-7995-46e4-a172-fb275595ba80"
      },
      "source": [
        "from tensorflow.keras.datasets import imdb\n",
        "\n",
        "(train_data, train_labels), (test_data, test_labels) = imdb.load_data(num_words=10000)"
      ],
      "execution_count": 1,
      "outputs": [
        {
          "output_type": "stream",
          "text": [
            "Downloading data from https://storage.googleapis.com/tensorflow/tf-keras-datasets/imdb.npz\n",
            "17465344/17464789 [==============================] - 0s 0us/step\n"
          ],
          "name": "stdout"
        }
      ]
    },
    {
      "cell_type": "markdown",
      "metadata": {
        "id": "Tw1ZfnBc0wsg"
      },
      "source": [
        "El argumento num_word=10000, indica que sólo se tomarán en cuenta las 10,000 palabras más usuales dentro de la base de datos, esto con la intención de tener instancias de un tamaño más manejable."
      ]
    },
    {
      "cell_type": "markdown",
      "metadata": {
        "id": "0eDKjxwA1S3v"
      },
      "source": [
        "train_data y test_data son listas de críticas, donde cada crítica se compone de valores enteros, los cuales son el índice de alguna palabra en particular. Por su parte, train_labels y test_labels, son listas de 0's y 1's, donde 0 representa que la crítica es negativa y 1 que es positiva."
      ]
    },
    {
      "cell_type": "code",
      "metadata": {
        "id": "UxKz5kF514ng",
        "colab": {
          "base_uri": "https://localhost:8080/"
        },
        "outputId": "0f5f2a57-5091-4c3b-c3e2-263ed5042dc5"
      },
      "source": [
        "train_data[20000]"
      ],
      "execution_count": 2,
      "outputs": [
        {
          "output_type": "execute_result",
          "data": {
            "text/plain": [
              "[1,\n",
              " 6,\n",
              " 185,\n",
              " 255,\n",
              " 2478,\n",
              " 39,\n",
              " 4,\n",
              " 2,\n",
              " 15,\n",
              " 59,\n",
              " 9,\n",
              " 6,\n",
              " 1985,\n",
              " 448,\n",
              " 725,\n",
              " 6,\n",
              " 223,\n",
              " 1795,\n",
              " 7,\n",
              " 35,\n",
              " 2,\n",
              " 3612,\n",
              " 7,\n",
              " 5,\n",
              " 556,\n",
              " 18,\n",
              " 9781,\n",
              " 112,\n",
              " 31,\n",
              " 688,\n",
              " 8,\n",
              " 41,\n",
              " 501,\n",
              " 2199,\n",
              " 34,\n",
              " 349,\n",
              " 59,\n",
              " 4136,\n",
              " 4,\n",
              " 4281,\n",
              " 2,\n",
              " 5,\n",
              " 880,\n",
              " 4,\n",
              " 349,\n",
              " 59,\n",
              " 892,\n",
              " 1454,\n",
              " 11,\n",
              " 119,\n",
              " 19,\n",
              " 6,\n",
              " 243,\n",
              " 132,\n",
              " 41,\n",
              " 113,\n",
              " 739,\n",
              " 8,\n",
              " 193,\n",
              " 6,\n",
              " 471,\n",
              " 18,\n",
              " 4,\n",
              " 128,\n",
              " 54,\n",
              " 59,\n",
              " 9,\n",
              " 3540,\n",
              " 5,\n",
              " 41,\n",
              " 1461,\n",
              " 9,\n",
              " 556,\n",
              " 34,\n",
              " 6,\n",
              " 1143,\n",
              " 7,\n",
              " 3959,\n",
              " 9266,\n",
              " 174,\n",
              " 34,\n",
              " 134,\n",
              " 2484,\n",
              " 687,\n",
              " 4,\n",
              " 255,\n",
              " 1747,\n",
              " 8,\n",
              " 41,\n",
              " 1115,\n",
              " 771,\n",
              " 5,\n",
              " 4846,\n",
              " 1060,\n",
              " 23,\n",
              " 4,\n",
              " 3959,\n",
              " 1793,\n",
              " 8,\n",
              " 4,\n",
              " 288,\n",
              " 2,\n",
              " 3935,\n",
              " 10,\n",
              " 10,\n",
              " 2,\n",
              " 2,\n",
              " 2,\n",
              " 1080,\n",
              " 2,\n",
              " 2,\n",
              " 778,\n",
              " 19,\n",
              " 368,\n",
              " 6073,\n",
              " 2,\n",
              " 2,\n",
              " 837,\n",
              " 34,\n",
              " 2,\n",
              " 1976,\n",
              " 2,\n",
              " 2,\n",
              " 37,\n",
              " 17,\n",
              " 2,\n",
              " 2,\n",
              " 2,\n",
              " 2251,\n",
              " 59,\n",
              " 9,\n",
              " 6,\n",
              " 1985,\n",
              " 4,\n",
              " 2,\n",
              " 173,\n",
              " 9,\n",
              " 54,\n",
              " 4,\n",
              " 370,\n",
              " 4110,\n",
              " 978,\n",
              " 968,\n",
              " 200,\n",
              " 41,\n",
              " 2977,\n",
              " 4,\n",
              " 636,\n",
              " 2763,\n",
              " 2672,\n",
              " 41,\n",
              " 8557,\n",
              " 2,\n",
              " 16,\n",
              " 242,\n",
              " 6,\n",
              " 2,\n",
              " 1664,\n",
              " 1563,\n",
              " 2,\n",
              " 9,\n",
              " 472,\n",
              " 24,\n",
              " 6,\n",
              " 1985,\n",
              " 59,\n",
              " 9,\n",
              " 1533,\n",
              " 6,\n",
              " 55,\n",
              " 565,\n",
              " 7472,\n",
              " 10,\n",
              " 10,\n",
              " 17,\n",
              " 6,\n",
              " 22,\n",
              " 1985,\n",
              " 255,\n",
              " 11,\n",
              " 631,\n",
              " 62,\n",
              " 28,\n",
              " 77,\n",
              " 128,\n",
              " 48,\n",
              " 2,\n",
              " 109,\n",
              " 66,\n",
              " 16,\n",
              " 6,\n",
              " 668,\n",
              " 1985,\n",
              " 19,\n",
              " 41,\n",
              " 861,\n",
              " 2,\n",
              " 6,\n",
              " 87,\n",
              " 227,\n",
              " 7,\n",
              " 3588,\n",
              " 21,\n",
              " 17,\n",
              " 230,\n",
              " 17,\n",
              " 3469,\n",
              " 2391,\n",
              " 5,\n",
              " 541,\n",
              " 1554,\n",
              " 140,\n",
              " 14,\n",
              " 31,\n",
              " 9,\n",
              " 254,\n",
              " 8,\n",
              " 1559,\n",
              " 2,\n",
              " 2,\n",
              " 9,\n",
              " 345,\n",
              " 2516,\n",
              " 42,\n",
              " 2,\n",
              " 5758,\n",
              " 469,\n",
              " 4,\n",
              " 22,\n",
              " 63,\n",
              " 944,\n",
              " 6,\n",
              " 1257,\n",
              " 1166,\n",
              " 7,\n",
              " 2172,\n",
              " 599,\n",
              " 6203,\n",
              " 2,\n",
              " 2,\n",
              " 17,\n",
              " 2,\n",
              " 5,\n",
              " 8548,\n",
              " 2234,\n",
              " 5252,\n",
              " 17,\n",
              " 2,\n",
              " 26,\n",
              " 52,\n",
              " 696,\n",
              " 1850]"
            ]
          },
          "metadata": {
            "tags": []
          },
          "execution_count": 2
        }
      ]
    },
    {
      "cell_type": "code",
      "metadata": {
        "id": "fsC8CcZt1-Ye",
        "colab": {
          "base_uri": "https://localhost:8080/"
        },
        "outputId": "73408748-d8d6-4237-dcd5-0cba8d93840c"
      },
      "source": [
        "len(train_data[1786]) "
      ],
      "execution_count": 3,
      "outputs": [
        {
          "output_type": "execute_result",
          "data": {
            "text/plain": [
              "113"
            ]
          },
          "metadata": {
            "tags": []
          },
          "execution_count": 3
        }
      ]
    },
    {
      "cell_type": "code",
      "metadata": {
        "id": "429IzTsz202o",
        "colab": {
          "base_uri": "https://localhost:8080/"
        },
        "outputId": "5b8eb66d-1a87-40b6-da87-f731be8e7372"
      },
      "source": [
        "train_labels[3] #La crítica 51 del conjunto de entrenamiento es negativa."
      ],
      "execution_count": 4,
      "outputs": [
        {
          "output_type": "execute_result",
          "data": {
            "text/plain": [
              "1"
            ]
          },
          "metadata": {
            "tags": []
          },
          "execution_count": 4
        }
      ]
    },
    {
      "cell_type": "markdown",
      "metadata": {
        "id": "Cv3Q6aDZ23ye"
      },
      "source": [
        "Dado que establecimos la restricción de utilizar solamente las 10,000 palabras más usuales, ninguno de los índices que constituyen cada crítica, puede tener un valor mayor a 10,000:"
      ]
    },
    {
      "cell_type": "code",
      "metadata": {
        "id": "YqFEgGb13RX4",
        "colab": {
          "base_uri": "https://localhost:8080/"
        },
        "outputId": "1b11326a-17a1-458e-c859-c61aeb404e45"
      },
      "source": [
        "max([max(sequence) for sequence in train_data])"
      ],
      "execution_count": 5,
      "outputs": [
        {
          "output_type": "execute_result",
          "data": {
            "text/plain": [
              "9999"
            ]
          },
          "metadata": {
            "tags": []
          },
          "execution_count": 5
        }
      ]
    },
    {
      "cell_type": "markdown",
      "metadata": {
        "id": "XUEKRBde3XBF"
      },
      "source": [
        "El código siguiente permite decodificar las críticas:"
      ]
    },
    {
      "cell_type": "code",
      "metadata": {
        "id": "FwUNXsRG3bJ_",
        "colab": {
          "base_uri": "https://localhost:8080/"
        },
        "outputId": "470a4ad1-db94-4737-dd77-7502ada03cc2"
      },
      "source": [
        "#word_index es un diccionario que permite mapear cada palabra a su respectivo índice\n",
        "word_index = imdb.get_word_index()\n",
        "# Aplicamos la operación inversa, es decir, mapeamos de índices a palabras.\n",
        "reverse_word_index = dict([(value, key) for (key, value) in word_index.items()]) #dict significa dictionary, y te devuelve una lista de tuplas pares, donde\n",
        "#el primer valor de la lista, representa la clave o ID, y el segundo valor denota el valor de dicha clave.\n",
        "# Procedemos a decodificar la crítica. La razón por la que a cada índice le restamos 3, es\n",
        "#porque 0, 1 y 2 son índices reservados para los valores de \"padding\", \"comienzo de la secuencia\" y \"desconocido\".\n",
        "# El argumento \"?\" se regresa en caso de que el índice en cuestión no tenga asociado ninguna palabra.\n",
        "decoded_review = ' '.join([reverse_word_index.get(i - 3, '?') for i in train_data[15678]])"
      ],
      "execution_count": 6,
      "outputs": [
        {
          "output_type": "stream",
          "text": [
            "Downloading data from https://storage.googleapis.com/tensorflow/tf-keras-datasets/imdb_word_index.json\n",
            "1646592/1641221 [==============================] - 0s 0us/step\n"
          ],
          "name": "stdout"
        }
      ]
    },
    {
      "cell_type": "code",
      "metadata": {
        "id": "jPJAR1XV6Aax",
        "colab": {
          "base_uri": "https://localhost:8080/",
          "height": 137
        },
        "outputId": "e45b9e67-3313-4d36-c5b5-4a65223d9cdf"
      },
      "source": [
        "decoded_review"
      ],
      "execution_count": 7,
      "outputs": [
        {
          "output_type": "execute_result",
          "data": {
            "application/vnd.google.colaboratory.intrinsic+json": {
              "type": "string"
            },
            "text/plain": [
              "\"? as much as i have enjoyed the hanzo the razor movies three is definitely enough ? got the gold ' the final adventure for the japanese ? with the impressive package is a fairly enjoyable piece of ? cinema but offers little new in terms of ideas whilst taking a big step backwards as far as ? is concerned br br the film opens with the appearance of a female ghost and looks as though it is going to explore supernatural territory something which might have taken the series in an interesting new direction unfortunately after the ? turns out to be nothing but a scooby doo style ? ? up by a corrupt ? official keen to keep people away from the lake where he is hiding stolen gold director ? ? is content to ? familiar elements from the first two films the result being a rather stale affair br br once again hanzo heads an investigation that requires him to ? women through the use of his mighty penis slice up his enemies and abuse his superiors on the way we get wild ? good natured rape hanzo forces himself on women who wind up ? his ? and bloody sword fights br br if you've already seen and appreciated the first two films you might as well watch this ? to complete the set but be warned this is probably the least satisfying one of them all br br 6 5 out of 10 rounded up to 7 for imdb\""
            ]
          },
          "metadata": {
            "tags": []
          },
          "execution_count": 7
        }
      ]
    },
    {
      "cell_type": "markdown",
      "metadata": {
        "id": "Al09obtH6SZg"
      },
      "source": [
        "# **Preprocesamiento de los datos**"
      ]
    },
    {
      "cell_type": "markdown",
      "metadata": {
        "id": "UQHydxeT6Vru"
      },
      "source": [
        "Aplicamos el enfoque de one-hot encoding a los datos de entrada. Por ejemplo, si una de nuestras instancias se representa por la lista [2, 7, 15], al aplicar one-hot encoding, dicha lista se convertirá en un vector de 10,000 elementos, donde a los índices 2, 7 y 15, se les asignará el valor de 1. En el problema que estamos abordando, todas las listas de críticas se transforman en vectores de 10,000 elementos, debido a que el número máximo de palabras que se están considerando, son 10,000. <br>\n",
        "La razón por la que se aplica esta operación en los datos de entrada, es porque las redes neuronales convolucionales no reciben como entrada listas de valores, sino tensores.<br>\n",
        "Ejemplo:\n",
        "\n",
        "**Crítica -> [2, 7, 15]** <br>\n",
        "**One-hot encoding de la crítica -> [0, 0, 1, 0, 0, 0, 0, 1, 0, 0, 0, 0, 0, 0, 0, 1, 0, 0, ... , 0]** <br>\n",
        "**Crítica -> [9, 7, 1, 2, 7]** <br>\n",
        "**One-hot encoding de la crítica -> [0, 1, 1, 0, 0, 0, 0, 1, 0, 1, 0, 0, 0, 0, 0, 0, 0, 0, ... , 0]**"
      ]
    },
    {
      "cell_type": "code",
      "metadata": {
        "id": "24fugxvF6Us9"
      },
      "source": [
        "import numpy as np\n",
        "\n",
        "def vectorize_sequences(sequences, dimension=10000): #sequences se refiere al conjunto de críticas\n",
        "    # Creamos matrices de ceros con dimensiones (len(sequences), dimension)\n",
        "    results = np.zeros((len(sequences), dimension)) #-> 25,000 X 10,000\n",
        "    for i, sequence in enumerate(sequences):\n",
        "        results[i, sequence] = 1.  # le asignamos el valor de uno al índice correspondiente\n",
        "    return results\n",
        "\n",
        "# Conjunto de entrenamiento vectorizado/one-hote encoding\n",
        "x_train = vectorize_sequences(train_data)\n",
        "# Conjunto de prueba vectorizado/one-hote encoding\n",
        "x_test = vectorize_sequences(test_data)"
      ],
      "execution_count": 8,
      "outputs": []
    },
    {
      "cell_type": "code",
      "metadata": {
        "id": "TqF6gZrIUGBF",
        "colab": {
          "base_uri": "https://localhost:8080/"
        },
        "outputId": "1dc4c880-eceb-46b0-b713-7a01f4b8275b"
      },
      "source": [
        "x_train[23976]"
      ],
      "execution_count": 9,
      "outputs": [
        {
          "output_type": "execute_result",
          "data": {
            "text/plain": [
              "array([0., 1., 1., ..., 0., 0., 0.])"
            ]
          },
          "metadata": {
            "tags": []
          },
          "execution_count": 9
        }
      ]
    },
    {
      "cell_type": "code",
      "metadata": {
        "id": "2g672_NBT82z",
        "colab": {
          "base_uri": "https://localhost:8080/"
        },
        "outputId": "ca47f734-5433-4b8b-81c5-ee7342b0c6c5"
      },
      "source": [
        "len(x_train[12])"
      ],
      "execution_count": 10,
      "outputs": [
        {
          "output_type": "execute_result",
          "data": {
            "text/plain": [
              "10000"
            ]
          },
          "metadata": {
            "tags": []
          },
          "execution_count": 10
        }
      ]
    },
    {
      "cell_type": "code",
      "metadata": {
        "id": "lbNkuupnT8Uc",
        "colab": {
          "base_uri": "https://localhost:8080/"
        },
        "outputId": "f0549b0d-fc9e-48cd-95c6-60b389bd7ca6"
      },
      "source": [
        "x_train[1].shape"
      ],
      "execution_count": 11,
      "outputs": [
        {
          "output_type": "execute_result",
          "data": {
            "text/plain": [
              "(10000,)"
            ]
          },
          "metadata": {
            "tags": []
          },
          "execution_count": 11
        }
      ]
    },
    {
      "cell_type": "code",
      "metadata": {
        "id": "YHugKBJ4UAd5",
        "colab": {
          "base_uri": "https://localhost:8080/"
        },
        "outputId": "ec376567-bdd4-49dc-8e42-da12f088785a"
      },
      "source": [
        "x_train.shape"
      ],
      "execution_count": 12,
      "outputs": [
        {
          "output_type": "execute_result",
          "data": {
            "text/plain": [
              "(25000, 10000)"
            ]
          },
          "metadata": {
            "tags": []
          },
          "execution_count": 12
        }
      ]
    },
    {
      "cell_type": "code",
      "metadata": {
        "id": "VfJ9c6pd-GZn",
        "colab": {
          "base_uri": "https://localhost:8080/"
        },
        "outputId": "fa4719c8-8e83-41e0-c4b4-7957a2bc12e4"
      },
      "source": [
        "x_train[15879]"
      ],
      "execution_count": 13,
      "outputs": [
        {
          "output_type": "execute_result",
          "data": {
            "text/plain": [
              "array([0., 1., 1., ..., 0., 0., 0.])"
            ]
          },
          "metadata": {
            "tags": []
          },
          "execution_count": 13
        }
      ]
    },
    {
      "cell_type": "markdown",
      "metadata": {
        "id": "eN8-njVs-ykK"
      },
      "source": [
        "También convertimos las etiquetas en tensores:"
      ]
    },
    {
      "cell_type": "code",
      "metadata": {
        "id": "CpP5gJyI-1k9"
      },
      "source": [
        "# Etiquetas vectorizadas\n",
        "y_train = np.asarray(train_labels).astype('float32')\n",
        "y_test = np.asarray(test_labels).astype('float32')"
      ],
      "execution_count": 14,
      "outputs": []
    },
    {
      "cell_type": "code",
      "metadata": {
        "id": "vFw005TuVIIB",
        "colab": {
          "base_uri": "https://localhost:8080/"
        },
        "outputId": "6b1a90e2-6dc8-4dd1-e9f7-440f2b8f885d"
      },
      "source": [
        "y_train[9]"
      ],
      "execution_count": 15,
      "outputs": [
        {
          "output_type": "execute_result",
          "data": {
            "text/plain": [
              "0.0"
            ]
          },
          "metadata": {
            "tags": []
          },
          "execution_count": 15
        }
      ]
    },
    {
      "cell_type": "markdown",
      "metadata": {
        "id": "tyigcFvc_vI3"
      },
      "source": [
        "# **Construcción de la red neuronal**"
      ]
    },
    {
      "cell_type": "code",
      "metadata": {
        "id": "Z8Yn31s-_xpN"
      },
      "source": [
        "from tensorflow.keras import models\n",
        "from tensorflow.keras import layers\n",
        "\n",
        "model = models.Sequential()\n",
        "model.add(layers.Dense(16, activation='relu', input_shape=(10000,))) #Capa oculta 1 - input_shape puede verse como una representación implícita de la capa de entrada\n",
        "model.add(layers.Dense(16, activation='relu'))# Capa oculta 2\n",
        "model.add(layers.Dense(1, activation='sigmoid'))#Capa de salida"
      ],
      "execution_count": 16,
      "outputs": []
    },
    {
      "cell_type": "code",
      "metadata": {
        "id": "g_BA0lc-iuPY",
        "colab": {
          "base_uri": "https://localhost:8080/"
        },
        "outputId": "a9fb8474-ef4c-4d3e-e312-1282b0766ae2"
      },
      "source": [
        "model.summary()"
      ],
      "execution_count": 17,
      "outputs": [
        {
          "output_type": "stream",
          "text": [
            "Model: \"sequential\"\n",
            "_________________________________________________________________\n",
            "Layer (type)                 Output Shape              Param #   \n",
            "=================================================================\n",
            "dense (Dense)                (None, 16)                160016    \n",
            "_________________________________________________________________\n",
            "dense_1 (Dense)              (None, 16)                272       \n",
            "_________________________________________________________________\n",
            "dense_2 (Dense)              (None, 1)                 17        \n",
            "=================================================================\n",
            "Total params: 160,305\n",
            "Trainable params: 160,305\n",
            "Non-trainable params: 0\n",
            "_________________________________________________________________\n"
          ],
          "name": "stdout"
        }
      ]
    },
    {
      "cell_type": "markdown",
      "metadata": {
        "id": "xY04xdUYAFeE"
      },
      "source": [
        "# **Compilación**"
      ]
    },
    {
      "cell_type": "code",
      "metadata": {
        "id": "8_T3TRHTAEIV"
      },
      "source": [
        "from tensorflow.keras import optimizers\n",
        "model.compile(optimizer=optimizers.RMSprop(lr=0.001), #Es una variación del descenso de gradiente\n",
        "              loss='binary_crossentropy', #Se relaciona a la función de error \n",
        "              metrics=['accuracy'])"
      ],
      "execution_count": 18,
      "outputs": []
    },
    {
      "cell_type": "markdown",
      "metadata": {
        "id": "k35EAUeHAtc_"
      },
      "source": [
        "# **Validación**"
      ]
    },
    {
      "cell_type": "markdown",
      "metadata": {
        "id": "9NBURPE3Axt2"
      },
      "source": [
        "Buscando evaluar el rendimiento del modelo durante la fase de entrenamiento, construimos el conjunto de validación a partir del conjunto de entrenamiento."
      ]
    },
    {
      "cell_type": "code",
      "metadata": {
        "id": "hEWPTE0eAwIF"
      },
      "source": [
        "#Instancias\n",
        "x_val = x_train[:10000] #Instancias de validación\n",
        "#x_val = x_train[0:10000]\n",
        "partial_x_train = x_train[10000:] #Instancias de entrenamiento\n",
        "#partial_x_train = x_train[10000:25000] #Instancias de entrenamiento\n",
        "\n",
        "#Etiquetas\n",
        "y_val = y_train[:10000] #Etiquetas de validación  \n",
        "#y_val = y_train[0:10000] #Etiquetas de validación  \n",
        "partial_y_train = y_train[10000:] #Etiquetas de entrenamiento\n",
        "#partial_y_train = y_train[10000:25000] #Etiquetas de entrenamiento"
      ],
      "execution_count": 19,
      "outputs": []
    },
    {
      "cell_type": "code",
      "metadata": {
        "id": "8jdBLQB9Yejh",
        "colab": {
          "base_uri": "https://localhost:8080/"
        },
        "outputId": "5f653c50-bea6-4377-f578-80ead725a8c4"
      },
      "source": [
        "#Conjunto de entrenamiento\n",
        "len(partial_x_train)"
      ],
      "execution_count": 20,
      "outputs": [
        {
          "output_type": "execute_result",
          "data": {
            "text/plain": [
              "15000"
            ]
          },
          "metadata": {
            "tags": []
          },
          "execution_count": 20
        }
      ]
    },
    {
      "cell_type": "code",
      "metadata": {
        "id": "x1SoiGZgYjxN",
        "colab": {
          "base_uri": "https://localhost:8080/"
        },
        "outputId": "61782fff-66c6-4114-db33-80c1d04244e8"
      },
      "source": [
        "#Conjunto de validación\n",
        "len(x_val)"
      ],
      "execution_count": 21,
      "outputs": [
        {
          "output_type": "execute_result",
          "data": {
            "text/plain": [
              "10000"
            ]
          },
          "metadata": {
            "tags": []
          },
          "execution_count": 21
        }
      ]
    },
    {
      "cell_type": "markdown",
      "metadata": {
        "id": "gj4P5iKfBN78"
      },
      "source": [
        "# **Entrenamiento**"
      ]
    },
    {
      "cell_type": "code",
      "metadata": {
        "id": "b8TUQ6oSBQP9",
        "colab": {
          "base_uri": "https://localhost:8080/"
        },
        "outputId": "8c55198b-89ec-473c-b0be-299b6ae20b80"
      },
      "source": [
        "epochs_num = 20\n",
        "history = model.fit(partial_x_train,\n",
        "                    partial_y_train,\n",
        "                    epochs=epochs_num,\n",
        "                    batch_size=512,\n",
        "                    validation_data=(x_val, y_val))"
      ],
      "execution_count": 22,
      "outputs": [
        {
          "output_type": "stream",
          "text": [
            "Epoch 1/20\n",
            "30/30 [==============================] - 1s 45ms/step - loss: 0.5109 - accuracy: 0.7839 - val_loss: 0.4084 - val_accuracy: 0.8431\n",
            "Epoch 2/20\n",
            "30/30 [==============================] - 1s 31ms/step - loss: 0.2980 - accuracy: 0.9015 - val_loss: 0.3122 - val_accuracy: 0.8800\n",
            "Epoch 3/20\n",
            "30/30 [==============================] - 1s 31ms/step - loss: 0.2160 - accuracy: 0.9289 - val_loss: 0.2754 - val_accuracy: 0.8928\n",
            "Epoch 4/20\n",
            "30/30 [==============================] - 1s 31ms/step - loss: 0.1709 - accuracy: 0.9445 - val_loss: 0.2776 - val_accuracy: 0.8880\n",
            "Epoch 5/20\n",
            "30/30 [==============================] - 1s 31ms/step - loss: 0.1398 - accuracy: 0.9545 - val_loss: 0.2940 - val_accuracy: 0.8841\n",
            "Epoch 6/20\n",
            "30/30 [==============================] - 1s 31ms/step - loss: 0.1145 - accuracy: 0.9636 - val_loss: 0.3155 - val_accuracy: 0.8795\n",
            "Epoch 7/20\n",
            "30/30 [==============================] - 1s 32ms/step - loss: 0.0977 - accuracy: 0.9705 - val_loss: 0.3123 - val_accuracy: 0.8838\n",
            "Epoch 8/20\n",
            "30/30 [==============================] - 1s 33ms/step - loss: 0.0807 - accuracy: 0.9769 - val_loss: 0.3603 - val_accuracy: 0.8745\n",
            "Epoch 9/20\n",
            "30/30 [==============================] - 1s 32ms/step - loss: 0.0690 - accuracy: 0.9801 - val_loss: 0.3588 - val_accuracy: 0.8816\n",
            "Epoch 10/20\n",
            "30/30 [==============================] - 1s 32ms/step - loss: 0.0539 - accuracy: 0.9865 - val_loss: 0.3836 - val_accuracy: 0.8777\n",
            "Epoch 11/20\n",
            "30/30 [==============================] - 1s 32ms/step - loss: 0.0472 - accuracy: 0.9875 - val_loss: 0.4206 - val_accuracy: 0.8761\n",
            "Epoch 12/20\n",
            "30/30 [==============================] - 1s 32ms/step - loss: 0.0380 - accuracy: 0.9907 - val_loss: 0.4393 - val_accuracy: 0.8750\n",
            "Epoch 13/20\n",
            "30/30 [==============================] - 1s 32ms/step - loss: 0.0277 - accuracy: 0.9951 - val_loss: 0.5384 - val_accuracy: 0.8565\n",
            "Epoch 14/20\n",
            "30/30 [==============================] - 1s 32ms/step - loss: 0.0263 - accuracy: 0.9947 - val_loss: 0.5183 - val_accuracy: 0.8661\n",
            "Epoch 15/20\n",
            "30/30 [==============================] - 1s 32ms/step - loss: 0.0180 - accuracy: 0.9976 - val_loss: 0.5352 - val_accuracy: 0.8696\n",
            "Epoch 16/20\n",
            "30/30 [==============================] - 1s 33ms/step - loss: 0.0171 - accuracy: 0.9973 - val_loss: 0.5732 - val_accuracy: 0.8683\n",
            "Epoch 17/20\n",
            "30/30 [==============================] - 1s 31ms/step - loss: 0.0115 - accuracy: 0.9988 - val_loss: 0.6100 - val_accuracy: 0.8653\n",
            "Epoch 18/20\n",
            "30/30 [==============================] - 1s 30ms/step - loss: 0.0111 - accuracy: 0.9983 - val_loss: 0.6417 - val_accuracy: 0.8671\n",
            "Epoch 19/20\n",
            "30/30 [==============================] - 1s 32ms/step - loss: 0.0055 - accuracy: 0.9998 - val_loss: 0.6722 - val_accuracy: 0.8656\n",
            "Epoch 20/20\n",
            "30/30 [==============================] - 1s 30ms/step - loss: 0.0077 - accuracy: 0.9984 - val_loss: 0.7009 - val_accuracy: 0.8645\n"
          ],
          "name": "stdout"
        }
      ]
    },
    {
      "cell_type": "markdown",
      "metadata": {
        "id": "z7XCBSPuBfP0"
      },
      "source": [
        "Podemos ver que la llamada al método fit(), genera un objeto History, el cual tiene un miembro history, que a su vez es un diccionario que contiene información acerca de todo el proceso de entrenamiento."
      ]
    },
    {
      "cell_type": "code",
      "metadata": {
        "id": "ZDkkkrIJB1kG",
        "colab": {
          "base_uri": "https://localhost:8080/"
        },
        "outputId": "20ab21c5-2772-4e66-cb2d-dafd46e127b1"
      },
      "source": [
        "history_dict = history.history\n",
        "history_dict.keys()"
      ],
      "execution_count": 23,
      "outputs": [
        {
          "output_type": "execute_result",
          "data": {
            "text/plain": [
              "dict_keys(['loss', 'accuracy', 'val_loss', 'val_accuracy'])"
            ]
          },
          "metadata": {
            "tags": []
          },
          "execution_count": 23
        }
      ]
    },
    {
      "cell_type": "markdown",
      "metadata": {
        "id": "U6kAejSpCBFN"
      },
      "source": [
        "Graficamos el desempeño de la red neuronal durante la fase de entrenamiento. A continuación se muestra la comparación entre la pérdida que ocurre en el conjunto de entrenamiento y la pérdida relacionada al conjunto de validación. "
      ]
    },
    {
      "cell_type": "code",
      "metadata": {
        "id": "FjM7QAztB5it",
        "colab": {
          "base_uri": "https://localhost:8080/",
          "height": 579
        },
        "outputId": "e8a51c0b-c264-4f0e-870a-f446a971614a"
      },
      "source": [
        "import matplotlib.pyplot as plt\n",
        "\n",
        "acc = history.history['accuracy']\n",
        "val_acc = history.history['val_accuracy']\n",
        "max_val_acc = max(val_acc)\n",
        "max_val_acc_epoch= val_acc.index(max(val_acc)) + 1\n",
        "loss = history.history['loss']\n",
        "val_loss = history.history['val_loss']\n",
        "min_val_loss = min(val_loss)\n",
        "min_val_loss_epoch= val_loss.index(min(val_loss)) + 1\n",
        "\n",
        "epochs = range(len(acc))\n",
        "\n",
        "#Precisión\n",
        "plt.plot(epochs, acc, 'go', label='Precisión en el entrenamiento')\n",
        "plt.plot(epochs, val_acc, 'r', label='Precisión en la validación')\n",
        "plt.plot(max_val_acc_epoch, max_val_acc, 'bo', label='Maximum accuracy')\n",
        "plt.title('Precisión durante el entrenamiento y la validación')\n",
        "plt.legend()\n",
        "print('Best accuracy epoch ', max_val_acc_epoch)\n",
        "plt.figure()\n",
        "\n",
        "#Pérdida\n",
        "plt.plot(epochs, loss, 'go', label='Pérdida en el entrenamiento')\n",
        "plt.plot(epochs, val_loss, 'r', label='Pérdida en la validación')\n",
        "plt.plot(min_val_loss_epoch, min_val_loss, 'bo', label='Minimum loss')\n",
        "plt.title('Pérdida durante el entrenamiento y la validación')\n",
        "plt.legend()\n",
        "print('Best loss epoch ', min_val_loss_epoch)\n",
        "\n",
        "plt.show()"
      ],
      "execution_count": 24,
      "outputs": [
        {
          "output_type": "stream",
          "text": [
            "Best accuracy epoch  3\n",
            "Best loss epoch  3\n"
          ],
          "name": "stdout"
        },
        {
          "output_type": "display_data",
          "data": {
            "image/png": "[encoded data removed]",
            "text/plain": [
              "<Figure size 432x288 with 1 Axes>"
            ]
          },
          "metadata": {
            "tags": [],
            "needs_background": "light"
          }
        },
        {
          "output_type": "display_data",
          "data": {
            "image/png": "[encoded data removed]",
            "text/plain": [
              "<Figure size 432x288 with 1 Axes>"
            ]
          },
          "metadata": {
            "tags": [],
            "needs_background": "light"
          }
        }
      ]
    },
    {
      "cell_type": "markdown",
      "metadata": {
        "id": "3WnpimJkQoo6"
      },
      "source": [
        "Con base a las gráficas previas, podemos observar que, aproximadamente a partir de la época 4, el modelo deja de mejorar y comienza a presentarse una disminución en su rendimiento."
      ]
    },
    {
      "cell_type": "markdown",
      "metadata": {
        "id": "T4SLTEP6eoGt"
      },
      "source": [
        "# **Overfitting - Sobreajuste:**<br>\n",
        "Esto ocurre cuando el desempeño del modelo en el conjunto de entrenamiento es superior al rendimiento del mismo modelo en el conjunto de validación.<br>\n",
        "Para mitigar el overfitting, debemos buscar que el rendimiento del modelo tanto en el conjunto de entrenamiento como en el conjunto de validación, sea similar y con valores apropiados."
      ]
    },
    {
      "cell_type": "markdown",
      "metadata": {
        "id": "pQJfOSgVESRE"
      },
      "source": [
        "# **Re-entrenamiento y evaluación del modelo final** "
      ]
    },
    {
      "cell_type": "markdown",
      "metadata": {
        "id": "rFnzQ2F3v6iC"
      },
      "source": [
        "Una vez que se seleccionó el modelo tomando como base el rendimiento de este en el conjunto de validación, una práctica recomendada es volver a entrar la arquitectura con los mismos parámetros con los que se generó el modelo seleccionado y con el conjunto de entrenamiento original, es decir, integrado el conjunto de validación al conjunto de entrenamiento \"parcial\". "
      ]
    },
    {
      "cell_type": "code",
      "metadata": {
        "id": "1PQdKOxeEbFM",
        "colab": {
          "base_uri": "https://localhost:8080/"
        },
        "outputId": "bc0cba53-69d7-446f-af8c-50c5ef53f86a"
      },
      "source": [
        "model = models.Sequential()\n",
        "model.add(layers.Dense(16, activation='relu', input_shape=(10000,)))\n",
        "model.add(layers.Dense(16, activation='relu'))\n",
        "model.add(layers.Dense(1, activation='sigmoid'))\n",
        "\n",
        "model.compile(optimizer=optimizers.RMSprop(lr=0.001),\n",
        "              loss='binary_crossentropy',\n",
        "              metrics=['accuracy'])\n",
        "\n",
        "# Entrenamos el modelo en el conjunto de entrenamiento original\n",
        "model.fit(x_train, y_train, epochs=5, batch_size=512)"
      ],
      "execution_count": 25,
      "outputs": [
        {
          "output_type": "stream",
          "text": [
            "Epoch 1/5\n",
            "49/49 [==============================] - 1s 25ms/step - loss: 0.4687 - accuracy: 0.8194\n",
            "Epoch 2/5\n",
            "49/49 [==============================] - 1s 24ms/step - loss: 0.2720 - accuracy: 0.9064\n",
            "Epoch 3/5\n",
            "49/49 [==============================] - 1s 24ms/step - loss: 0.2060 - accuracy: 0.9270\n",
            "Epoch 4/5\n",
            "49/49 [==============================] - 1s 25ms/step - loss: 0.1742 - accuracy: 0.9380\n",
            "Epoch 5/5\n",
            "49/49 [==============================] - 1s 24ms/step - loss: 0.1485 - accuracy: 0.9487\n"
          ],
          "name": "stdout"
        },
        {
          "output_type": "execute_result",
          "data": {
            "text/plain": [
              "<tensorflow.python.keras.callbacks.History at 0x7f9c42dbef28>"
            ]
          },
          "metadata": {
            "tags": []
          },
          "execution_count": 25
        }
      ]
    },
    {
      "cell_type": "code",
      "metadata": {
        "id": "bsgLrSXXBuUI",
        "colab": {
          "base_uri": "https://localhost:8080/"
        },
        "outputId": "58d81c93-72f7-4bec-e730-04113052fb4c"
      },
      "source": [
        "#Evaluamos el modelo final\n",
        "loss_test, acc_test = model.evaluate(x_test, y_test)"
      ],
      "execution_count": 26,
      "outputs": [
        {
          "output_type": "stream",
          "text": [
            "782/782 [==============================] - 1s 2ms/step - loss: 0.3155 - accuracy: 0.8773\n"
          ],
          "name": "stdout"
        }
      ]
    },
    {
      "cell_type": "code",
      "metadata": {
        "id": "qBCyFJo4Ejss",
        "colab": {
          "base_uri": "https://localhost:8080/"
        },
        "outputId": "f44af17e-4758-4e67-8168-9d5f78f23a8a"
      },
      "source": [
        "print(loss_test, acc_test)"
      ],
      "execution_count": 27,
      "outputs": [
        {
          "output_type": "stream",
          "text": [
            "0.31554871797561646 0.8773199915885925\n"
          ],
          "name": "stdout"
        }
      ]
    },
    {
      "cell_type": "markdown",
      "metadata": {
        "id": "4v58mbPDEqC1"
      },
      "source": [
        "# **Predicciones del modelo final**"
      ]
    },
    {
      "cell_type": "markdown",
      "metadata": {
        "id": "Vyah_Qp1EvVV"
      },
      "source": [
        "Luego de generar un modelo apropiado para clasificar críticas, podemos usarlo para predecir la probabilidad de que cada nueva crítica que sea leída por el modelo, se clasifique como positiva o negativa. Este proceso predictivo es muy importante, ya que así es como se desplegaría esta red neuronal en \"la vida real\", es decir, en algún servicio de consumo."
      ]
    },
    {
      "cell_type": "code",
      "metadata": {
        "id": "yWED4A2ZFJCc",
        "colab": {
          "base_uri": "https://localhost:8080/"
        },
        "outputId": "3f6192b3-47fc-42ba-a7a6-51f92bf1355b"
      },
      "source": [
        "model.predict(x_test)"
      ],
      "execution_count": 28,
      "outputs": [
        {
          "output_type": "execute_result",
          "data": {
            "text/plain": [
              "array([[0.24245262],\n",
              "       [0.999631  ],\n",
              "       [0.9650076 ],\n",
              "       ...,\n",
              "       [0.1443555 ],\n",
              "       [0.10413879],\n",
              "       [0.772051  ]], dtype=float32)"
            ]
          },
          "metadata": {
            "tags": []
          },
          "execution_count": 28
        }
      ]
    },
    {
      "cell_type": "code",
      "metadata": {
        "id": "AD5AC53WFNaz",
        "colab": {
          "base_uri": "https://localhost:8080/"
        },
        "outputId": "83410982-7937-4c1c-b113-7dd725edbd3c"
      },
      "source": [
        "y_test"
      ],
      "execution_count": 29,
      "outputs": [
        {
          "output_type": "execute_result",
          "data": {
            "text/plain": [
              "array([0., 1., 1., ..., 0., 0., 0.], dtype=float32)"
            ]
          },
          "metadata": {
            "tags": []
          },
          "execution_count": 29
        }
      ]
    },
    {
      "cell_type": "markdown",
      "metadata": {
        "id": "FekKrabcxc-h"
      },
      "source": [
        "**NOTA:** La información presentada en este notebook, fue tomada de https://github.com/fchollet/deep-learning-with-python-notebooks/blob/master/3.5-classifying-movie-reviews.ipynb. La única variación sutil del presente notebook con respecto a la fuente original, tiene que ver con la descripción de ciertas partes del código."
      ]
    }
  ]
}