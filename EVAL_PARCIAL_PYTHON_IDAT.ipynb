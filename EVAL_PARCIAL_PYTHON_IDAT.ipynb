{
  "nbformat": 4,
  "nbformat_minor": 0,
  "metadata": {
    "kernelspec": {
      "display_name": "Python 3",
      "language": "python",
      "name": "python3"
    },
    "language_info": {
      "codemirror_mode": {
        "name": "ipython",
        "version": 3
      },
      "file_extension": ".py",
      "mimetype": "text/x-python",
      "name": "python",
      "nbconvert_exporter": "python",
      "pygments_lexer": "ipython3",
      "version": "3.8.5"
    },
    "colab": {
      "name": "EVAL_PARCIAL_PYTHON_IDAT.ipynb",
      "provenance": [],
      "include_colab_link": true
    }
  },
  "cells": [
    {
      "cell_type": "markdown",
      "metadata": {
        "id": "view-in-github",
        "colab_type": "text"
      },
      "source": [
        "<a href=\"https://colab.research.google.com/github/RubenQuispe/Machine-Learning-con-Python-001/blob/master/EVAL_PARCIAL_PYTHON_IDAT.ipynb\" target=\"_parent\"><img src=\"https://colab.research.google.com/assets/colab-badge.svg\" alt=\"Open In Colab\"/></a>"
      ]
    },
    {
      "cell_type": "markdown",
      "metadata": {
        "id": "Ai9UfwhDKZJC"
      },
      "source": [
        "# SOLUCIÓN DE EVALUACIÓN PARCIAL PYTHON-IDAT\n",
        "\n",
        "# Docente: Rubén Quispe\n",
        "# correo: d17297@idat.edu.pe\n",
        "# Solución 1"
      ]
    },
    {
      "cell_type": "code",
      "metadata": {
        "id": "Hp_htXmsKZJE",
        "outputId": "05072212-4e0f-4089-9693-9985d2363e7d"
      },
      "source": [
        "V = float (input (\"ingrese el voltaje [V] respectivo \"))\n",
        "R = float (input(\"Ingrese la resistencia [ohm] respectivo\"))\n",
        "if (R !=0):\n",
        "    I=V/R # Ingresar el voltaje y la resistencia respectivo para calcular cualquier intensidad\n",
        "    print(\"Intensidad = \",I,\"Amper\") \n",
        "else:\n",
        "    print(\"error! la resistencia no puede ser cero\")"
      ],
      "execution_count": null,
      "outputs": [
        {
          "output_type": "stream",
          "text": [
            "ingrese el voltaje [V] respectivo 9.205\n",
            "Ingrese la resistencia [ohm] respectivo680\n",
            "Intensidad =  0.013536764705882352 Amper\n"
          ],
          "name": "stdout"
        }
      ]
    },
    {
      "cell_type": "markdown",
      "metadata": {
        "id": "mBE-_lIfKZJO"
      },
      "source": [
        "# Solución 2"
      ]
    },
    {
      "cell_type": "code",
      "metadata": {
        "id": "xbTTmW88KZJR",
        "outputId": "0e34dde0-5467-4acc-d019-e0601f41931f"
      },
      "source": [
        "dinero = int (input(\"Ingrese el monto de total en soles: \"))\n",
        "lista =[200, 100,50,20,10,5,2,1]\n",
        "for i in lista:\n",
        "    if dinero >=i:\n",
        "        queda = dinero//i\n",
        "        print(str(queda) +\n",
        "             (\" billetes\" if dinero >=10 else \" moneda\") + ('s' if queda >1 else '') +\n",
        "             \" de \" + str(i) + ' soles' )\n",
        "        dinero = dinero % i"
      ],
      "execution_count": null,
      "outputs": [
        {
          "output_type": "stream",
          "text": [
            "Ingrese el monto de total en soles: 2530\n",
            "12 billetess de 200 soles\n",
            "1 billetes de 100 soles\n",
            "1 billetes de 20 soles\n",
            "1 billetes de 10 soles\n"
          ],
          "name": "stdout"
        }
      ]
    },
    {
      "cell_type": "markdown",
      "metadata": {
        "id": "Sd7zvmAGKZJX"
      },
      "source": [
        "# Solución 3 FUNCIÓN SEN"
      ]
    },
    {
      "cell_type": "code",
      "metadata": {
        "id": "jr3t6OhZKZJY",
        "outputId": "b3a51a37-7e6d-4dd2-d3c1-a72164e38ae8"
      },
      "source": [
        "def SerieSeno(x,n):\n",
        "    r=0\n",
        "    for i in range(n):\n",
        "        r+=(((-1)**i)*(x**(2*i++1)))/Factorial(2*i+1)\n",
        "    return r\n",
        "\n",
        "def Factorial(dato):\n",
        "    if dato<=1:\n",
        "        valor=1\n",
        "    else:\n",
        "        valor=dato*Factorial(dato-1)\n",
        "    return valor\n",
        "\n",
        "def ImprimeFuncion(x,n):\n",
        "    for i in range(n):\n",
        "        if i==0:\n",
        "            print(\"\\nSerie:\\nSen {} = {}\".format(x,x),end=\" \")\n",
        "        elif i%2==0:\n",
        "            print(\"+ {}^{}/{}!\".format(x,2*i+1,2*i+1),end=\" \");\n",
        "        else:\n",
        "            print(\"- {}^{}/{}!\".format(x,2*i+1,2*i+1),end=\" \");\n",
        "print(\"⦁\tGenerar la siguiente función en Python\"\n",
        "      \"    sen(x)=x - x^3/3! + x^5/5! - x^7/7! +...\")\n",
        "\n",
        "x=int(input(\"Ingrese un valor para \\\"x\\\" : \"))\n",
        "n=int(input(\"Ingrese un valor para el limite de la serie \\\"n\\\" : \"))\n",
        "ImprimeFuncion(x,n)\n",
        "print(\"\\n\\nResultado de Sen( {} ) = {}\".format(x,SerieSeno(x,n)))"
      ],
      "execution_count": null,
      "outputs": [
        {
          "output_type": "stream",
          "text": [
            "⦁\tGenerar la siguiente función en Python    sen(x)=x - x^3/3! + x^5/5! - x^7/7! +...\n",
            "Ingrese un valor para \"x\" : 60\n",
            "Ingrese un valor para el limite de la serie \"n\" : 4\n",
            "\n",
            "Serie:\n",
            "Sen 60 = 60 - 60^3/3! + 60^5/5! - 60^7/7! \n",
            "\n",
            "Resultado de Sen( 60 ) = -548984511.4285715\n"
          ],
          "name": "stdout"
        }
      ]
    },
    {
      "cell_type": "markdown",
      "metadata": {
        "id": "FgENWi2nKZJd"
      },
      "source": [
        "# Solución 4 - M.C.M y M.C.D"
      ]
    },
    {
      "cell_type": "code",
      "metadata": {
        "id": "9f8VubV2KZJf",
        "outputId": "feb196f7-8e9f-49f3-ddc2-3f3b69285775"
      },
      "source": [
        "# M.C.M\n",
        "num = []\n",
        "mayor = 0\n",
        "casilla = 0\n",
        "\n",
        "print(\"Ingresa 3 numeros\")\n",
        "for i in range(3):\n",
        "    num1 = int(input(\"%d: \" %(i + 1)))\n",
        "    num.append(num1)\n",
        "    if num[i] > mayor:\n",
        "        mayor = num[i]\n",
        "\n",
        "interruptor = 0\n",
        "multiplicador = 0\n",
        "multiplo = 0\n",
        "\n",
        "while interruptor == 0:\n",
        "    contador = 0\n",
        "    multiplicador = multiplicador + 1\n",
        "    multiplo = mayor * multiplicador\n",
        "    for i in range(3):\n",
        "        if multiplo % num[i] == 0:\n",
        "            contador = contador + 1\n",
        "\n",
        "    if contador == 3:\n",
        "        interruptor = 1\n",
        "print (\"El M.C.M es: %d\" %(multiplo))"
      ],
      "execution_count": null,
      "outputs": [
        {
          "output_type": "stream",
          "text": [
            "Ingresa 3 numeros\n",
            "1: 2\n",
            "2: 4\n",
            "3: 8\n",
            "El M.C.M es: 8\n"
          ],
          "name": "stdout"
        }
      ]
    },
    {
      "cell_type": "code",
      "metadata": {
        "id": "UkSHyNvSKZJm",
        "outputId": "73d1aa90-bcea-4c43-9e88-9e96ae7f37e6"
      },
      "source": [
        "# M.C.D\n",
        "numero1 = int(input(\"Número 1: \"))\n",
        "numero2 = int(input(\"Número 2: \"))\n",
        "numero3 = int(input(\"Número 3: \"))\n",
        " \n",
        "if numero1 < numero2 and numero1 < numero3:\n",
        "    mcd = numero1\n",
        "elif numero2 < numero1 and numero2 < numero3:\n",
        "    mcd = numero2\n",
        "else:\n",
        "    mcd = numero3\n",
        "while True:\n",
        "    if numero1%mcd == 0 and numero2%mcd == 0 and numero3%mcd == 0:\n",
        "        print(\"El mcd es\", mcd)\n",
        "        break\n",
        "    else:\n",
        "         mcd -= 1"
      ],
      "execution_count": null,
      "outputs": [
        {
          "output_type": "stream",
          "text": [
            "Número 1: 3\n",
            "Número 2: 5\n",
            "Número 3: 7\n",
            "El mcd es 1\n"
          ],
          "name": "stdout"
        }
      ]
    },
    {
      "cell_type": "markdown",
      "metadata": {
        "id": "Wc3onXKvKZJr"
      },
      "source": [
        "# Solución 5 \n",
        "Este ejemplo es la serie de fibonacci al cuadrado, esto es mi avance."
      ]
    },
    {
      "cell_type": "code",
      "metadata": {
        "id": "FPHpIfFgKZJs",
        "outputId": "163fccd8-f833-4b37-a91a-340b8c70de39"
      },
      "source": [
        "def fib(n):\n",
        "    a, b = 0,1\n",
        "    while a < n:\n",
        "        print(a, end=' ')\n",
        "        a, b = b, a + b\n",
        "m = int(input(\"Ingresa límite máximo de la sucesión: \"))     \n",
        "fib(m)"
      ],
      "execution_count": null,
      "outputs": [
        {
          "output_type": "stream",
          "text": [
            "Ingresa límite máximo de la sucesión: 5\n",
            "0 1 1 2 3 "
          ],
          "name": "stdout"
        }
      ]
    },
    {
      "cell_type": "markdown",
      "metadata": {
        "id": "zhUISnD7KZJ1"
      },
      "source": [
        "# GRACIAS"
      ]
    },
    {
      "cell_type": "code",
      "metadata": {
        "id": "xvW7nct2KZJ2"
      },
      "source": [
        ""
      ],
      "execution_count": null,
      "outputs": []
    }
  ]
}