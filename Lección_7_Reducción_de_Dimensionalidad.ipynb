{
  "nbformat": 4,
  "nbformat_minor": 0,
  "metadata": {
    "colab": {
      "name": "Lección_7 Reducción de Dimensionalidad.ipynb",
      "provenance": [],
      "authorship_tag": "ABX9TyMLdjulXTS5ZJYEXP56lZpj",
      "include_colab_link": true
    },
    "kernelspec": {
      "name": "python3",
      "display_name": "Python 3"
    }
  },
  "cells": [
    {
      "cell_type": "markdown",
      "metadata": {
        "id": "view-in-github",
        "colab_type": "text"
      },
      "source": [
        "<a href=\"https://colab.research.google.com/github/RubenQuispe/Machine-Learning-con-Python-001/blob/master/Lecci%C3%B3n_7_Reducci%C3%B3n_de_Dimensionalidad.ipynb\" target=\"_parent\"><img src=\"https://colab.research.google.com/assets/colab-badge.svg\" alt=\"Open In Colab\"/></a>"
      ]
    },
    {
      "cell_type": "markdown",
      "metadata": {
        "id": "BBPxlgPCYs1c"
      },
      "source": [
        "# Reducción de Dimensionalidad con PCA\n",
        "## MSc. Rubén Quispe"
      ]
    },
    {
      "cell_type": "markdown",
      "metadata": {
        "id": "cNpjM9e3Yvon"
      },
      "source": [
        "En esta lección descubrirá cómo utilizar la reducción de dimensionalidad para reducir el número de variables de entrada en un conjunto de datos.\n",
        "El número de variables o características de entrada de un dataset se denomina dimensionalidad.\n",
        "\n",
        "La reducción de dimensionalidad se refiere a técnicas que reducen el número de  variables de entrada en un dataset.\n",
        "Más característias de entrada a menudo hacen que una tarea de modelado predictivo sea más desafiante de modelar, lo que generalmente se conoce como la maldición de la dimensioalidad.\n",
        "\n",
        "Aunque en las estadísticas de alta dimencionalidad, las tecnicas de reducción de dimensionalidad se utilizan a menudo para la visualizacipon da datos, estas técnicas se pueden utilizar en el Machine Learning aplicado para simplificar un dataset de clasificación o regresión con el fin de ajusrtar a un modelos predictivo.\n",
        "\n",
        "Quiza la técnica más popular para la reducción de dimensionalidad en el Machine Learning es el Análisis de Componentes Principales (PCA). Esta es una técnica que proviene del campo del algebra lineal y se puede utilizar como técnica de preparación de datos para crear una proyección de un dataset antes de ajustar un modelo.\n",
        "\n",
        "El dataset resultante, la proyección se puede utilizar como entrada para entrenar un modelo de machine learning.\n",
        "El siguente ejemplo  crea un dataset de calsificación binaria sintética con 10 variables de entrada y luego usa PCA para reducir a dimensionalidad del dataset a los 3 componentes más impórtantes,\n",
        "\n",
        "![Reduc](https://www.flickr.com/photos/kjarrett/7647207998/)\n"
      ]
    },
    {
      "cell_type": "code",
      "metadata": {
        "id": "HuQOE-ehXqnj"
      },
      "source": [
        "# example of pca for dimensionality reduction\n",
        "from sklearn.datasets import make_classification\n",
        "from sklearn.decomposition import PCA"
      ],
      "execution_count": 2,
      "outputs": []
    },
    {
      "cell_type": "code",
      "metadata": {
        "id": "89DPFkvgXvED"
      },
      "source": [
        "# definir el dataset \n",
        "X, y = make_classification(n_samples=1000, n_features=10, n_informative=3, n_redundant=7, random_state=1)\n"
      ],
      "execution_count": 3,
      "outputs": []
    },
    {
      "cell_type": "code",
      "metadata": {
        "id": "km85luuWZddo",
        "outputId": "42a15585-fb6f-409d-d956-e9e9c62280ce",
        "colab": {
          "base_uri": "https://localhost:8080/"
        }
      },
      "source": [
        "# Resumen del dataset antes de transformar\n",
        "print(X)"
      ],
      "execution_count": 4,
      "outputs": [
        {
          "output_type": "stream",
          "text": [
            "[[-0.53448246  0.93837451  0.38969914 ...  0.11857673 -2.72241741\n",
            "   0.2953565 ]\n",
            " [-2.42280473 -1.02658758 -2.34792156 ...  2.0265065   1.83374105\n",
            "   0.72430365]\n",
            " [-1.83391794 -1.1946668  -0.73806871 ... -0.04163788 -1.25227833\n",
            "   0.99373587]\n",
            " ...\n",
            " [ 0.98792868  0.84475295  0.37208009 ...  0.1919      0.6369791\n",
            "  -0.57791029]\n",
            " [ 1.40360438  0.43823273  0.38953534 ... -0.07665142  1.69726474\n",
            "  -0.74513831]\n",
            " [-0.4274914  -0.23498118  0.36275536 ... -0.64356585 -1.78939253\n",
            "   0.41807405]]\n"
          ],
          "name": "stdout"
        }
      ]
    },
    {
      "cell_type": "code",
      "metadata": {
        "id": "wEuXqY9VZrTf",
        "outputId": "8a71af5d-669d-4b90-f5fb-645dd1cc7c0a",
        "colab": {
          "base_uri": "https://localhost:8080/"
        }
      },
      "source": [
        "print (y)"
      ],
      "execution_count": 5,
      "outputs": [
        {
          "output_type": "stream",
          "text": [
            "[0 1 1 0 0 1 1 1 0 1 0 0 1 1 1 0 0 1 1 0 0 1 1 1 1 1 0 1 1 0 1 0 1 1 1 0 1\n",
            " 1 1 1 0 1 1 1 1 1 0 0 1 0 1 0 0 0 0 0 1 1 0 1 1 1 0 1 1 0 1 1 0 1 0 1 0 0\n",
            " 1 1 1 0 1 1 1 0 1 1 1 0 1 1 0 0 0 1 0 1 0 0 0 0 1 0 0 0 0 1 1 1 0 1 1 0 1\n",
            " 0 1 1 1 1 1 1 0 0 0 0 1 0 0 0 0 0 1 1 0 0 0 1 0 0 0 0 0 0 1 0 0 0 1 1 1 0\n",
            " 0 0 0 1 0 0 0 0 1 1 0 1 0 0 0 1 0 1 1 1 0 0 0 0 0 0 1 1 1 0 0 1 0 1 1 1 0\n",
            " 0 1 1 0 0 1 0 1 0 0 1 0 0 1 0 1 1 0 1 0 1 1 0 1 1 1 1 0 0 1 0 1 1 1 0 0 0\n",
            " 1 1 0 0 1 0 0 0 0 1 1 0 0 0 0 0 1 0 1 1 1 1 0 1 0 0 0 1 1 1 1 1 1 0 0 0 0\n",
            " 1 1 1 1 0 1 0 0 0 0 0 1 1 1 0 1 1 0 0 0 0 0 1 1 1 1 1 0 0 1 0 0 1 0 0 1 1\n",
            " 0 0 1 1 0 0 0 0 0 0 0 0 1 1 1 0 0 0 1 1 0 1 1 1 1 1 0 1 0 0 1 0 0 1 0 0 1\n",
            " 1 0 0 0 0 0 0 1 0 1 0 1 0 0 0 0 0 1 1 0 0 0 0 1 1 0 0 1 1 1 0 1 1 1 0 1 1\n",
            " 1 1 0 0 1 0 0 0 0 1 1 0 0 0 1 1 1 0 0 1 1 0 0 1 1 1 1 1 1 0 0 1 1 0 1 1 1\n",
            " 1 0 0 0 0 0 1 0 1 0 0 1 1 1 0 1 1 1 0 1 1 1 0 1 1 1 1 1 0 1 0 0 1 1 0 0 0\n",
            " 0 1 1 1 0 1 0 0 1 1 1 0 1 0 0 0 1 1 0 1 0 1 0 1 0 1 1 1 1 0 1 1 1 0 0 1 0\n",
            " 0 1 1 1 1 0 0 1 0 0 0 1 0 0 0 1 0 1 0 0 1 1 0 1 0 1 0 1 1 1 0 0 1 1 1 0 1\n",
            " 0 1 0 1 1 0 0 1 1 1 1 1 0 0 0 0 1 0 0 0 1 0 1 0 1 1 0 1 0 0 0 1 0 1 1 0 0\n",
            " 1 0 0 0 1 0 0 1 0 1 1 1 1 0 1 1 1 0 1 0 1 1 0 1 0 0 0 0 1 1 0 1 1 1 1 1 1\n",
            " 1 1 0 0 0 0 0 0 0 1 0 1 0 0 0 0 0 1 0 1 0 1 1 1 0 1 0 1 0 1 1 1 0 1 1 0 0\n",
            " 1 1 0 0 0 1 1 0 1 1 0 1 1 0 1 0 1 0 1 1 1 1 1 1 0 1 0 0 0 0 1 1 1 0 1 0 1\n",
            " 1 0 0 0 0 1 1 0 0 0 1 1 0 0 1 1 1 1 1 0 1 1 0 1 1 1 1 1 0 1 1 0 0 0 1 0 0\n",
            " 1 1 0 1 0 0 0 0 0 0 0 1 0 0 1 1 0 0 1 0 1 1 1 0 0 1 0 0 0 1 1 1 0 1 0 1 1\n",
            " 1 1 0 0 0 1 1 1 1 1 0 1 1 1 0 0 0 0 0 1 1 1 0 1 0 0 1 0 0 1 0 0 0 0 0 0 1\n",
            " 0 1 0 0 1 0 0 0 1 1 1 0 0 0 1 1 0 0 0 1 0 1 1 0 1 1 1 0 1 0 0 1 0 1 0 1 0\n",
            " 0 1 0 1 1 1 1 1 0 1 0 0 1 1 0 0 1 0 1 0 1 0 0 0 1 0 1 1 0 0 0 0 1 0 1 0 0\n",
            " 1 1 1 1 1 1 1 0 1 1 0 0 0 1 0 1 1 1 1 1 1 0 1 1 1 0 1 0 0 1 1 0 0 0 0 1 0\n",
            " 0 1 1 1 1 0 0 0 1 1 0 1 1 0 0 0 0 0 1 1 0 0 1 0 1 1 0 0 1 0 0 0 0 1 1 1 0\n",
            " 1 1 1 1 1 1 0 0 0 0 0 0 1 1 0 0 0 0 1 1 0 0 1 0 0 0 1 1 1 1 1 0 0 0 1 1 0\n",
            " 1 0 0 0 1 1 0 0 1 0 1 0 0 1 0 0 0 1 0 1 1 1 1 0 0 0 0 1 0 0 0 0 1 1 0 0 0\n",
            " 1]\n"
          ],
          "name": "stdout"
        }
      ]
    },
    {
      "cell_type": "code",
      "metadata": {
        "id": "WV3T6DavZvf-",
        "outputId": "dc1d098a-fe75-4cb5-abb2-01c454cdd85d",
        "colab": {
          "base_uri": "https://localhost:8080/"
        }
      },
      "source": [
        "print(X[:3, :])"
      ],
      "execution_count": 7,
      "outputs": [
        {
          "output_type": "stream",
          "text": [
            "[[-0.53448246  0.93837451  0.38969914  0.0926655   1.70876508  1.14351305\n",
            "  -1.47034214  0.11857673 -2.72241741  0.2953565 ]\n",
            " [-2.42280473 -1.02658758 -2.34792156 -0.82422408  0.59933419 -2.44832253\n",
            "   0.39750207  2.0265065   1.83374105  0.72430365]\n",
            " [-1.83391794 -1.1946668  -0.73806871  1.50947233  1.78047734  0.58779205\n",
            "  -2.78506977 -0.04163788 -1.25227833  0.99373587]]\n"
          ],
          "name": "stdout"
        }
      ]
    },
    {
      "cell_type": "code",
      "metadata": {
        "id": "mhAZiGhNZ5CG"
      },
      "source": [
        "# Definir la transformación \n",
        "trans =PCA(n_components=3)"
      ],
      "execution_count": 9,
      "outputs": []
    },
    {
      "cell_type": "code",
      "metadata": {
        "id": "E509L0B5aMhu",
        "outputId": "2e5e5888-6e6b-4883-e7f6-6f14c265a588",
        "colab": {
          "base_uri": "https://localhost:8080/"
        }
      },
      "source": [
        "trans"
      ],
      "execution_count": 10,
      "outputs": [
        {
          "output_type": "execute_result",
          "data": {
            "text/plain": [
              "PCA(copy=True, iterated_power='auto', n_components=3, random_state=None,\n",
              "    svd_solver='auto', tol=0.0, whiten=False)"
            ]
          },
          "metadata": {
            "tags": []
          },
          "execution_count": 10
        }
      ]
    },
    {
      "cell_type": "code",
      "metadata": {
        "id": "z2hGq1QgaO0u"
      },
      "source": [
        "# Transformando la data\n",
        "X_dim = trans.fit_transform(X)"
      ],
      "execution_count": 11,
      "outputs": []
    },
    {
      "cell_type": "code",
      "metadata": {
        "id": "Wc-KNQfkaaOe",
        "outputId": "127b41cd-1231-4aa3-91a8-b4fd6676ead6",
        "colab": {
          "base_uri": "https://localhost:8080/"
        }
      },
      "source": [
        "X_dim"
      ],
      "execution_count": 12,
      "outputs": [
        {
          "output_type": "execute_result",
          "data": {
            "text/plain": [
              "array([[-1.64710578e+00, -2.11683302e+00,  1.98256096e+00],\n",
              "       [ 9.28402085e-01,  4.82949970e+00,  2.27270432e-01],\n",
              "       [-3.83677757e+00,  3.23007138e-01,  1.15128013e-01],\n",
              "       ...,\n",
              "       [ 3.45579288e+00, -6.49130724e-01, -6.98465393e-01],\n",
              "       [ 4.32915522e+00, -3.00906405e-01, -1.99348645e+00],\n",
              "       [-2.49808012e+00, -1.87944823e+00,  4.47071779e-03]])"
            ]
          },
          "metadata": {
            "tags": []
          },
          "execution_count": 12
        }
      ]
    },
    {
      "cell_type": "code",
      "metadata": {
        "id": "7Odif4Msab21",
        "outputId": "750cce6a-a115-4bf1-ab85-628ab402fd8a",
        "colab": {
          "base_uri": "https://localhost:8080/"
        }
      },
      "source": [
        "# Resumir la dataset después de transformar\n",
        "print (X_dim[:3,:])"
      ],
      "execution_count": 13,
      "outputs": [
        {
          "output_type": "stream",
          "text": [
            "[[-1.64710578 -2.11683302  1.98256096]\n",
            " [ 0.92840209  4.8294997   0.22727043]\n",
            " [-3.83677757  0.32300714  0.11512801]]\n"
          ],
          "name": "stdout"
        }
      ]
    },
    {
      "cell_type": "markdown",
      "metadata": {
        "id": "JYOG-0Peed4P"
      },
      "source": [
        "# Gracias"
      ]
    },
    {
      "cell_type": "code",
      "metadata": {
        "id": "pffXC0j_awmW"
      },
      "source": [
        ""
      ],
      "execution_count": null,
      "outputs": []
    }
  ]
}