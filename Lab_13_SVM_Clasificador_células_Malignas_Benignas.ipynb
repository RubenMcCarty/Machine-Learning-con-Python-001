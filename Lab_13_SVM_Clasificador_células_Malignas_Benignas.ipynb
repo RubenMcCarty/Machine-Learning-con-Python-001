{
  "nbformat": 4,
  "nbformat_minor": 0,
  "metadata": {
    "colab": {
      "name": "Lab_13_SVM_Clasificador células_Malignas_Benignas.ipynb",
      "provenance": [],
      "authorship_tag": "ABX9TyPOFDC/AHWuZTO5RqDUoqkD",
      "include_colab_link": true
    },
    "kernelspec": {
      "name": "python3",
      "display_name": "Python 3"
    }
  },
  "cells": [
    {
      "cell_type": "markdown",
      "metadata": {
        "id": "view-in-github",
        "colab_type": "text"
      },
      "source": [
        "<a href=\"https://colab.research.google.com/github/RubenQuispe/Machine-Learning-con-Python-001/blob/master/Lab_13_SVM_Clasificador_c%C3%A9lulas_Malignas_Benignas.ipynb\" target=\"_parent\"><img src=\"https://colab.research.google.com/assets/colab-badge.svg\" alt=\"Open In Colab\"/></a>"
      ]
    },
    {
      "cell_type": "markdown",
      "metadata": {
        "id": "fZ49fQb7p3UN"
      },
      "source": [
        "# SVM (Support Vector Machines)\n",
        "## MSc. Rubén Quispe"
      ]
    },
    {
      "cell_type": "markdown",
      "metadata": {
        "id": "x5HHisUWp_Ok"
      },
      "source": [
        "En este notebook, aprenderás a usar SVM para contruir y entrenatr un modelo usando reistros de células humanas y clasificar las cálulas según si las muestras son malignas o benignas.\n",
        "\n",
        "SVM funciona mapeando datos en un espacio de caractarísticas de alta dimensión para que los puntos de datos se puedan categorizar, incluso cuando  los datos no sean linealmente separarbles. Se encuentra un separador entre las categorias, luego los datos se transforman de tal manera que el separador se podria dibujar como un hiperplano. Despues de esto, las características de los nuevos datos se puede utilizar para predecir el grupo al que debe pertenecer un nuevo registro.\n",
        "\n",
        "# Tabla de contenidos\n",
        "\n",
        "1. Cargar la dataset de cancer\n",
        "2. Modelado\n",
        "3. Evaluación\n",
        "4. Práctica\n",
        "# 1. Importar las librerías necesarias"
      ]
    },
    {
      "cell_type": "code",
      "metadata": {
        "id": "68h6h4nnpzhL"
      },
      "source": [
        "import pandas as pd\n",
        "import pylab as pl\n",
        "import numpy as np\n",
        "import scipy.optimize as opt\n",
        "from sklearn import preprocessing\n",
        "from sklearn.model_selection import train_test_split\n",
        "%matplotlib inline \n",
        "import matplotlib.pyplot as plt"
      ],
      "execution_count": 12,
      "outputs": []
    },
    {
      "cell_type": "markdown",
      "metadata": {
        "id": "9AbCAmWKqNpT"
      },
      "source": [
        "# 2.  Cargar la dataset de cancer\n",
        "El ejemplo se basa en un dataset que esta disponible publicamente en el repositorio de ML de la UCI [Asuncion and Newman, 2007](https://cml.ics.uci.edu/MLRepository.html). El dataset consta de varios cientos de registros de muestras de células humanas, cada, cada uno de los cuales contiene los valores de un conjunto de características celulares. Lo campos de registro son:\n",
        "\n",
        "|Field name|Description|\n",
        "|--- |--- |\n",
        "|ID|Clump thickness|\n",
        "|Clump|Clump thickness|\n",
        "|UnifSize|Uniformity of cell size|\n",
        "|UnifShape|Uniformity of cell shape|\n",
        "|MargAdh|Marginal adhesion|\n",
        "|SingEpiSize|Single epithelial cell size|\n",
        "|BareNuc|Bare nuclei|\n",
        "|BlandChrom|Bland chromatin|\n",
        "|NormNucl|Normal nucleoli|\n",
        "|Mit|Mitoses|\n",
        "|Class|Benign or malignant|"
      ]
    },
    {
      "cell_type": "code",
      "metadata": {
        "id": "FpSpYcG2qHmP"
      },
      "source": [
        "cell_df = pd.read_csv(\"cell_samples.csv\")"
      ],
      "execution_count": 13,
      "outputs": []
    },
    {
      "cell_type": "markdown",
      "metadata": {
        "id": "hEoAGeujq4Q8"
      },
      "source": [
        "# 3. Explorar la data"
      ]
    },
    {
      "cell_type": "code",
      "metadata": {
        "id": "FIJXdPfrqaSQ",
        "outputId": "65ac8e90-a22e-4cdb-f5d4-ffcc0d9d57d0",
        "colab": {
          "base_uri": "https://localhost:8080/",
          "height": 204
        }
      },
      "source": [
        "# Leer el dataset\n",
        "cell_df.head()"
      ],
      "execution_count": 14,
      "outputs": [
        {
          "output_type": "execute_result",
          "data": {
            "text/html": [
              "<div>\n",
              "<style scoped>\n",
              "    .dataframe tbody tr th:only-of-type {\n",
              "        vertical-align: middle;\n",
              "    }\n",
              "\n",
              "    .dataframe tbody tr th {\n",
              "        vertical-align: top;\n",
              "    }\n",
              "\n",
              "    .dataframe thead th {\n",
              "        text-align: right;\n",
              "    }\n",
              "</style>\n",
              "<table border=\"1\" class=\"dataframe\">\n",
              "  <thead>\n",
              "    <tr style=\"text-align: right;\">\n",
              "      <th></th>\n",
              "      <th>ID</th>\n",
              "      <th>Clump</th>\n",
              "      <th>UnifSize</th>\n",
              "      <th>UnifShape</th>\n",
              "      <th>MargAdh</th>\n",
              "      <th>SingEpiSize</th>\n",
              "      <th>BareNuc</th>\n",
              "      <th>BlandChrom</th>\n",
              "      <th>NormNucl</th>\n",
              "      <th>Mit</th>\n",
              "      <th>Class</th>\n",
              "    </tr>\n",
              "  </thead>\n",
              "  <tbody>\n",
              "    <tr>\n",
              "      <th>0</th>\n",
              "      <td>1000025</td>\n",
              "      <td>5</td>\n",
              "      <td>1</td>\n",
              "      <td>1</td>\n",
              "      <td>1</td>\n",
              "      <td>2</td>\n",
              "      <td>1</td>\n",
              "      <td>3</td>\n",
              "      <td>1</td>\n",
              "      <td>1</td>\n",
              "      <td>2</td>\n",
              "    </tr>\n",
              "    <tr>\n",
              "      <th>1</th>\n",
              "      <td>1002945</td>\n",
              "      <td>5</td>\n",
              "      <td>4</td>\n",
              "      <td>4</td>\n",
              "      <td>5</td>\n",
              "      <td>7</td>\n",
              "      <td>10</td>\n",
              "      <td>3</td>\n",
              "      <td>2</td>\n",
              "      <td>1</td>\n",
              "      <td>2</td>\n",
              "    </tr>\n",
              "    <tr>\n",
              "      <th>2</th>\n",
              "      <td>1015425</td>\n",
              "      <td>3</td>\n",
              "      <td>1</td>\n",
              "      <td>1</td>\n",
              "      <td>1</td>\n",
              "      <td>2</td>\n",
              "      <td>2</td>\n",
              "      <td>3</td>\n",
              "      <td>1</td>\n",
              "      <td>1</td>\n",
              "      <td>2</td>\n",
              "    </tr>\n",
              "    <tr>\n",
              "      <th>3</th>\n",
              "      <td>1016277</td>\n",
              "      <td>6</td>\n",
              "      <td>8</td>\n",
              "      <td>8</td>\n",
              "      <td>1</td>\n",
              "      <td>3</td>\n",
              "      <td>4</td>\n",
              "      <td>3</td>\n",
              "      <td>7</td>\n",
              "      <td>1</td>\n",
              "      <td>2</td>\n",
              "    </tr>\n",
              "    <tr>\n",
              "      <th>4</th>\n",
              "      <td>1017023</td>\n",
              "      <td>4</td>\n",
              "      <td>1</td>\n",
              "      <td>1</td>\n",
              "      <td>3</td>\n",
              "      <td>2</td>\n",
              "      <td>1</td>\n",
              "      <td>3</td>\n",
              "      <td>1</td>\n",
              "      <td>1</td>\n",
              "      <td>2</td>\n",
              "    </tr>\n",
              "  </tbody>\n",
              "</table>\n",
              "</div>"
            ],
            "text/plain": [
              "        ID  Clump  UnifSize  UnifShape  ...  BlandChrom  NormNucl Mit  Class\n",
              "0  1000025      5         1          1  ...           3         1   1      2\n",
              "1  1002945      5         4          4  ...           3         2   1      2\n",
              "2  1015425      3         1          1  ...           3         1   1      2\n",
              "3  1016277      6         8          8  ...           3         7   1      2\n",
              "4  1017023      4         1          1  ...           3         1   1      2\n",
              "\n",
              "[5 rows x 11 columns]"
            ]
          },
          "metadata": {
            "tags": []
          },
          "execution_count": 14
        }
      ]
    },
    {
      "cell_type": "markdown",
      "metadata": {
        "id": "vo9YccP-qgtb"
      },
      "source": [
        "El campo ID contiene el identificador del paciente. Las características de las muestras de células de cada paciente estan contenidas en los campos de clump (agrupar) a Mit. Los valores se clasifican de 1 a 10, siendo 1 el más cercano a benigno.\n",
        "\n",
        "El campo Class contiene el diagnóstico, confirmado por procedimientos médicos separados, de si las muestras son benignas (valor=2) o malignas (valor =4).\n",
        "\n",
        "Veamosla distribución de las clases según al espesor del grupo y la uniformidad del tamaño de la celda."
      ]
    },
    {
      "cell_type": "code",
      "metadata": {
        "id": "2cDG6JVJqcmt",
        "outputId": "15d04e77-ce44-45eb-ba16-e367a048097f",
        "colab": {
          "base_uri": "https://localhost:8080/",
          "height": 279
        }
      },
      "source": [
        "ax = cell_df[cell_df['Class'] == 4][0:50].plot(kind='scatter', x='Clump', y='UnifSize', color='DarkBlue', label='malignant');\n",
        "cell_df[cell_df['Class'] == 2][0:50].plot(kind='scatter', x='Clump', y='UnifSize', color='Yellow', label='benign', ax=ax);\n",
        "plt.show()"
      ],
      "execution_count": 15,
      "outputs": [
        {
          "output_type": "display_data",
          "data": {
            "image/png": "[encoded data removed]",
            "text/plain": [
              "<Figure size 432x288 with 1 Axes>"
            ]
          },
          "metadata": {
            "tags": [],
            "needs_background": "light"
          }
        }
      ]
    },
    {
      "cell_type": "markdown",
      "metadata": {
        "id": "lwKR7QQwrDc-"
      },
      "source": [
        "# 4. Pre-procesamiento y selección de Data \n",
        "Veamos el tipo de las columnas\n"
      ]
    },
    {
      "cell_type": "code",
      "metadata": {
        "id": "lODl2M2HqlpT",
        "outputId": "e429e62c-5aca-4c31-96d2-44e7bd8f785e",
        "colab": {
          "base_uri": "https://localhost:8080/"
        }
      },
      "source": [
        "cell_df.dtypes"
      ],
      "execution_count": 16,
      "outputs": [
        {
          "output_type": "execute_result",
          "data": {
            "text/plain": [
              "ID              int64\n",
              "Clump           int64\n",
              "UnifSize        int64\n",
              "UnifShape       int64\n",
              "MargAdh         int64\n",
              "SingEpiSize     int64\n",
              "BareNuc        object\n",
              "BlandChrom      int64\n",
              "NormNucl        int64\n",
              "Mit             int64\n",
              "Class           int64\n",
              "dtype: object"
            ]
          },
          "metadata": {
            "tags": []
          },
          "execution_count": 16
        }
      ]
    },
    {
      "cell_type": "markdown",
      "metadata": {
        "id": "KqQdtFTTriZU"
      },
      "source": [
        "Parece que la columna incluye algunos valores que no son numéricos.Podemos soltar(drop) esas filas"
      ]
    },
    {
      "cell_type": "code",
      "metadata": {
        "id": "cGOS7QJZrawz",
        "outputId": "3b334c30-5f49-4412-f91a-c532ea5d263c",
        "colab": {
          "base_uri": "https://localhost:8080/"
        }
      },
      "source": [
        "cell_df = cell_df[pd.to_numeric(cell_df['BareNuc'], errors='coerce').notnull()]\n",
        "cell_df['BareNuc']=cell_df['BareNuc'].astype('int')\n",
        "cell_df.dtypes"
      ],
      "execution_count": 17,
      "outputs": [
        {
          "output_type": "execute_result",
          "data": {
            "text/plain": [
              "ID             int64\n",
              "Clump          int64\n",
              "UnifSize       int64\n",
              "UnifShape      int64\n",
              "MargAdh        int64\n",
              "SingEpiSize    int64\n",
              "BareNuc        int64\n",
              "BlandChrom     int64\n",
              "NormNucl       int64\n",
              "Mit            int64\n",
              "Class          int64\n",
              "dtype: object"
            ]
          },
          "metadata": {
            "tags": []
          },
          "execution_count": 17
        }
      ]
    },
    {
      "cell_type": "code",
      "metadata": {
        "id": "J6X2hGYWsiED",
        "outputId": "110e4fc0-d8b8-4e6a-d3ba-452eee49a2b8",
        "colab": {
          "base_uri": "https://localhost:8080/"
        }
      },
      "source": [
        "feature_df=cell_df[['Clump', 'UnifSize', 'UnifShape', 'MargAdh','SingEpiSize', 'BareNuc', 'BlandChrom', 'NormNucl', 'Mit']]\n",
        "X= np.asanyarray(feature_df)\n",
        "X[0:5]"
      ],
      "execution_count": 18,
      "outputs": [
        {
          "output_type": "execute_result",
          "data": {
            "text/plain": [
              "array([[ 5,  1,  1,  1,  2,  1,  3,  1,  1],\n",
              "       [ 5,  4,  4,  5,  7, 10,  3,  2,  1],\n",
              "       [ 3,  1,  1,  1,  2,  2,  3,  1,  1],\n",
              "       [ 6,  8,  8,  1,  3,  4,  3,  7,  1],\n",
              "       [ 4,  1,  1,  3,  2,  1,  3,  1,  1]])"
            ]
          },
          "metadata": {
            "tags": []
          },
          "execution_count": 18
        }
      ]
    },
    {
      "cell_type": "markdown",
      "metadata": {
        "id": "pzjeRpcgt69m"
      },
      "source": [
        "Queremos que el modelo prediga el valor de clase (bening=2) o (malignant =4). Como este campo puede tener uno de los 2 valores posibles, necesitamos cambiar su nivel de medición para reflejarlo."
      ]
    },
    {
      "cell_type": "code",
      "metadata": {
        "id": "DqzSwFKQts9x",
        "outputId": "11326542-d41b-409f-9d39-45696ec5d10a",
        "colab": {
          "base_uri": "https://localhost:8080/"
        }
      },
      "source": [
        "cell_df['Class']= cell_df['Class'].astype('int')\n",
        "y = np.asanyarray(cell_df['Class'])\n",
        "y[0:5]"
      ],
      "execution_count": 19,
      "outputs": [
        {
          "output_type": "execute_result",
          "data": {
            "text/plain": [
              "array([2, 2, 2, 2, 2])"
            ]
          },
          "metadata": {
            "tags": []
          },
          "execution_count": 19
        }
      ]
    },
    {
      "cell_type": "markdown",
      "metadata": {
        "id": "xeRs1uCFvFNm"
      },
      "source": [
        "# 5. Train/Test Dataset"
      ]
    },
    {
      "cell_type": "code",
      "metadata": {
        "id": "tUn8WqiWvDGy",
        "outputId": "440c3dbd-e77b-433b-c720-fcbaf8ef1068",
        "colab": {
          "base_uri": "https://localhost:8080/"
        }
      },
      "source": [
        "X_train, X_test, y_train, y_test = train_test_split(X, y, test_size=0.2, random_state=4)\n",
        "print ('Train set:', X_train.shape, y_train.shape)\n",
        "print('Test set: ', X_test.shape, y_test.shape)"
      ],
      "execution_count": 20,
      "outputs": [
        {
          "output_type": "stream",
          "text": [
            "Train set: (546, 9) (546,)\n",
            "Test set:  (137, 9) (137,)\n"
          ],
          "name": "stdout"
        }
      ]
    },
    {
      "cell_type": "markdown",
      "metadata": {
        "id": "m7x0iG25wFGK"
      },
      "source": [
        "# 6. Modelos de SVM\n",
        "El algoritmo de SVM ofrece una variedad de funciones de kernel para realizar su procesamiento. Básicamente, el mapeo de datos en un espacio de mayor dimesión se llama kernelling. La función matemática utilizada para la transformación se conoce como función de Kernel o nucleo y puede ser de diferentes tipos como:\n",
        "1. Lineal\n",
        "2. Polinomial\n",
        "3. Función de Base Radial\n",
        "4. Sigmoide\n",
        "\n",
        "Cada una de estas funcionaes tiene sus características, pros y contras, y su ecuación, como no hay una manera fácil de saber qué función funciona mejor con un dataset dado, generalmente elegimos diferentes funciones a su vez y comparamos los resultados. Usalmos RBF predeterminada para este laboratorio. "
      ]
    },
    {
      "cell_type": "code",
      "metadata": {
        "id": "BU2BWkBKwCFs",
        "outputId": "0cb1634c-10a6-4826-a329-1b9527bc6bfc",
        "colab": {
          "base_uri": "https://localhost:8080/"
        }
      },
      "source": [
        "from sklearn import svm\n",
        "clf = svm.SVC(kernel='rbf')\n",
        "clf.fit(X_train, y_train) "
      ],
      "execution_count": 22,
      "outputs": [
        {
          "output_type": "execute_result",
          "data": {
            "text/plain": [
              "SVC(C=1.0, break_ties=False, cache_size=200, class_weight=None, coef0=0.0,\n",
              "    decision_function_shape='ovr', degree=3, gamma='scale', kernel='rbf',\n",
              "    max_iter=-1, probability=False, random_state=None, shrinking=True,\n",
              "    tol=0.001, verbose=False)"
            ]
          },
          "metadata": {
            "tags": []
          },
          "execution_count": 22
        }
      ]
    },
    {
      "cell_type": "code",
      "metadata": {
        "id": "tDii3FlYyanH",
        "outputId": "bfb533bb-29cc-4870-84dd-4f31a97ea914",
        "colab": {
          "base_uri": "https://localhost:8080/"
        }
      },
      "source": [
        "# Una vez ajustado, el modelo se puede utilizar para predecir nuevos valores \n",
        "yhat=clf.predict(X_test)\n",
        "yhat[0:5]"
      ],
      "execution_count": 23,
      "outputs": [
        {
          "output_type": "execute_result",
          "data": {
            "text/plain": [
              "array([2, 4, 2, 4, 2])"
            ]
          },
          "metadata": {
            "tags": []
          },
          "execution_count": 23
        }
      ]
    },
    {
      "cell_type": "markdown",
      "metadata": {
        "id": "o1ttOlVSzkjl"
      },
      "source": [
        "# 7. Evaluación"
      ]
    },
    {
      "cell_type": "code",
      "metadata": {
        "id": "HyvTbzVfzgBB"
      },
      "source": [
        "from sklearn.metrics import classification_report, confusion_matrix\n",
        "import itertools"
      ],
      "execution_count": 24,
      "outputs": []
    },
    {
      "cell_type": "code",
      "metadata": {
        "id": "HFp-zEsw4Hne"
      },
      "source": [
        "def plot_confusion_matrix(cm, classes,\n",
        "                          normalize=False,\n",
        "                          title='Confusion matrix',\n",
        "                          cmap=plt.cm.Blues):\n",
        "    \"\"\"\n",
        "    esta fucnión imprime y grafica la matriz de confusión \n",
        "      La Normaliza se puede aplicar configurando 'normalize=True'\n",
        "    \"\"\"\n",
        "    if normalize:\n",
        "        cm = cm.astype('float') / cm.sum(axis=1)[:, np.newaxis]\n",
        "        print(\"Normalized confusion matrix\")\n",
        "    else:\n",
        "        print('Confusion matrix, without normalization')\n",
        "\n",
        "    print(cm)\n",
        "\n",
        "    plt.imshow(cm, interpolation='nearest', cmap=cmap)\n",
        "    plt.title(title)\n",
        "    plt.colorbar()\n",
        "    tick_marks = np.arange(len(classes))\n",
        "    plt.xticks(tick_marks, classes, rotation=45)\n",
        "    plt.yticks(tick_marks, classes)\n",
        "\n",
        "    fmt = '.2f' if normalize else 'd'\n",
        "    thresh = cm.max() / 2.\n",
        "    for i, j in itertools.product(range(cm.shape[0]), range(cm.shape[1])):\n",
        "        plt.text(j, i, format(cm[i, j], fmt),\n",
        "                 horizontalalignment=\"center\",\n",
        "                 color=\"white\" if cm[i, j] > thresh else \"black\")\n",
        "\n",
        "    plt.tight_layout()\n",
        "    plt.ylabel('True label')\n",
        "    plt.xlabel('Predicted label')"
      ],
      "execution_count": 31,
      "outputs": []
    },
    {
      "cell_type": "code",
      "metadata": {
        "id": "9bfVW3Rt5ChP",
        "outputId": "f0903b24-e6e3-49a0-e785-0be318545b74",
        "colab": {
          "base_uri": "https://localhost:8080/",
          "height": 515
        }
      },
      "source": [
        "# Calculo de la confusion de matrix\n",
        "cnf_matrix= confusion_matrix(y_test, yhat, labels=[2,4])\n",
        "np.set_printoptions(precision=2)\n",
        "\n",
        "print (classification_report(y_test, yhat))\n",
        "\n",
        "# grafica de no normalizado de confusion matrix\n",
        "plt.figure()\n",
        "plot_confusion_matrix(cnf_matrix,classes =['Bening(2)', 'Malignant(4)'], normalize=False, title ='Confusion matrix')"
      ],
      "execution_count": 33,
      "outputs": [
        {
          "output_type": "stream",
          "text": [
            "              precision    recall  f1-score   support\n",
            "\n",
            "           2       1.00      0.94      0.97        90\n",
            "           4       0.90      1.00      0.95        47\n",
            "\n",
            "    accuracy                           0.96       137\n",
            "   macro avg       0.95      0.97      0.96       137\n",
            "weighted avg       0.97      0.96      0.96       137\n",
            "\n",
            "Confusion matrix, without normalization\n",
            "[[85  5]\n",
            " [ 0 47]]\n"
          ],
          "name": "stdout"
        },
        {
          "output_type": "display_data",
          "data": {
            "image/png": "[encoded data removed]",
            "text/plain": [
              "<Figure size 432x288 with 2 Axes>"
            ]
          },
          "metadata": {
            "tags": [],
            "needs_background": "light"
          }
        }
      ]
    },
    {
      "cell_type": "markdown",
      "metadata": {
        "id": "8x-m7Olf6Ycx"
      },
      "source": [
        "También se puede usar fácilmente f1_score de la librería de sklearn"
      ]
    },
    {
      "cell_type": "code",
      "metadata": {
        "id": "1oz48Lbv6QtO",
        "outputId": "655f1f0c-4d08-4d14-f381-929e65cfc5bf",
        "colab": {
          "base_uri": "https://localhost:8080/"
        }
      },
      "source": [
        "from sklearn.metrics import f1_score\n",
        "f1_score(y_test, yhat, average='weighted')\n"
      ],
      "execution_count": 35,
      "outputs": [
        {
          "output_type": "execute_result",
          "data": {
            "text/plain": [
              "0.9639038982104676"
            ]
          },
          "metadata": {
            "tags": []
          },
          "execution_count": 35
        }
      ]
    },
    {
      "cell_type": "markdown",
      "metadata": {
        "id": "9NGDquSj66ys"
      },
      "source": [
        "Probemos el **jaccard index** para mayor precisión"
      ]
    },
    {
      "cell_type": "code",
      "metadata": {
        "id": "c_4zq8gA6xpv",
        "outputId": "7966ccff-b65a-4b2d-8627-a238f7c795fb",
        "colab": {
          "base_uri": "https://localhost:8080/"
        }
      },
      "source": [
        "from sklearn.metrics import jaccard_similarity_score\n",
        "jaccard_similarity_score(y_test, yhat)"
      ],
      "execution_count": 36,
      "outputs": [
        {
          "output_type": "stream",
          "text": [
            "/usr/local/lib/python3.6/dist-packages/sklearn/metrics/_classification.py:664: FutureWarning: jaccard_similarity_score has been deprecated and replaced with jaccard_score. It will be removed in version 0.23. This implementation has surprising behavior for binary and multiclass classification tasks.\n",
            "  FutureWarning)\n"
          ],
          "name": "stderr"
        },
        {
          "output_type": "execute_result",
          "data": {
            "text/plain": [
              "0.9635036496350365"
            ]
          },
          "metadata": {
            "tags": []
          },
          "execution_count": 36
        }
      ]
    },
    {
      "cell_type": "markdown",
      "metadata": {
        "id": "f9d1Qz747YKo"
      },
      "source": [
        "# Práctica\n",
        "¿Puede reconstruir el modelo, pero esta vez con un kernel __linear__? Puede usar la opción __kernel = 'linear' __, cuando defina el archivo svm. ¿Cómo cambia la precisión con la nueva función del kernel?"
      ]
    },
    {
      "cell_type": "code",
      "metadata": {
        "id": "_LPvrQFT7Vs5",
        "outputId": "41f16be8-29ce-4b83-c757-7f47aea7cfc6",
        "colab": {
          "base_uri": "https://localhost:8080/"
        }
      },
      "source": [
        "# tu codigo\n",
        "clf2 = svm.SVC(kernel='linear')\n",
        "clf2.fit(X_train, y_train) \n",
        "yhat2 = clf2.predict(X_test)\n",
        "print(\"Avg F1-score: %.4f\" % f1_score(y_test, yhat2, average='weighted'))\n",
        "print(\"Jaccard score: %.4f\" % jaccard_similarity_score(y_test, yhat2))"
      ],
      "execution_count": 37,
      "outputs": [
        {
          "output_type": "stream",
          "text": [
            "Avg F1-score: 0.9639\n",
            "Jaccard score: 0.9635\n"
          ],
          "name": "stdout"
        },
        {
          "output_type": "stream",
          "text": [
            "/usr/local/lib/python3.6/dist-packages/sklearn/metrics/_classification.py:664: FutureWarning: jaccard_similarity_score has been deprecated and replaced with jaccard_score. It will be removed in version 0.23. This implementation has surprising behavior for binary and multiclass classification tasks.\n",
            "  FutureWarning)\n"
          ],
          "name": "stderr"
        }
      ]
    },
    {
      "cell_type": "markdown",
      "metadata": {
        "id": "62wnjpn27sIn"
      },
      "source": [
        "# Muchas gracias."
      ]
    },
    {
      "cell_type": "code",
      "metadata": {
        "id": "P7xfl5Zh7p95"
      },
      "source": [
        ""
      ],
      "execution_count": null,
      "outputs": []
    }
  ]
}