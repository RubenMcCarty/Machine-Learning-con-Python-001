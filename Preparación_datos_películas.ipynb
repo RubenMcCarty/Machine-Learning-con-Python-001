{
  "nbformat": 4,
  "nbformat_minor": 0,
  "metadata": {
    "kernelspec": {
      "display_name": "Python 3",
      "language": "python",
      "name": "python3"
    },
    "language_info": {
      "codemirror_mode": {
        "name": "ipython",
        "version": 3
      },
      "file_extension": ".py",
      "mimetype": "text/x-python",
      "name": "python",
      "nbconvert_exporter": "python",
      "pygments_lexer": "ipython3",
      "version": "3.8.5"
    },
    "colab": {
      "name": "Preparación_datos_películas.ipynb",
      "provenance": [],
      "include_colab_link": true
    }
  },
  "cells": [
    {
      "cell_type": "markdown",
      "metadata": {
        "id": "view-in-github",
        "colab_type": "text"
      },
      "source": [
        "<a href=\"https://colab.research.google.com/github/RubenQuispe/Machine-Learning-con-Python-001/blob/master/Preparaci%C3%B3n_datos_pel%C3%ADculas.ipynb\" target=\"_parent\"><img src=\"https://colab.research.google.com/assets/colab-badge.svg\" alt=\"Open In Colab\"/></a>"
      ]
    },
    {
      "cell_type": "markdown",
      "metadata": {
        "id": "J84NA18kquOK"
      },
      "source": [
        "# Preparación de datos -Predicción de Películas\n",
        "## MSc. Rubén Quispe\n",
        "# 1. Importando las librerias"
      ]
    },
    {
      "cell_type": "code",
      "metadata": {
        "id": "IC647CUHquOM"
      },
      "source": [
        "import numpy as np\n",
        "import pandas as pd\n",
        "import matplotlib.pyplot as plt\n",
        "import seaborn as sb\n",
        "%matplotlib inline"
      ],
      "execution_count": null,
      "outputs": []
    },
    {
      "cell_type": "markdown",
      "metadata": {
        "id": "6CzOyFp7quOX"
      },
      "source": [
        "# 2. Cargar un pandas dataframe nuestro base de \n",
        "pd.read_csv es el metodo que nos permite importar los datos desde un CSV y cargarlo en un **DataFrame**, que es la estructura de base de Pandas"
      ]
    },
    {
      "cell_type": "code",
      "metadata": {
        "id": "KXGOP9PUquOY"
      },
      "source": [
        "movies = pd.read_csv('D:/TECHNOLOGY 2020/Data/peliculas.csv',encoding='utf-8')"
      ],
      "execution_count": null,
      "outputs": []
    },
    {
      "cell_type": "code",
      "metadata": {
        "id": "MJMk-ZjoquOf",
        "outputId": "72356bed-ed70-42f3-de73-b9c68cec43a1"
      },
      "source": [
        "type(movies)"
      ],
      "execution_count": null,
      "outputs": [
        {
          "output_type": "execute_result",
          "data": {
            "text/plain": [
              "pandas.core.frame.DataFrame"
            ]
          },
          "metadata": {
            "tags": []
          },
          "execution_count": 122
        }
      ]
    },
    {
      "cell_type": "code",
      "metadata": {
        "id": "8ByyeS4RquOo",
        "outputId": "dc1d17aa-6d6a-4d15-9473-9fb5f43f3dd7"
      },
      "source": [
        "movies.head()"
      ],
      "execution_count": null,
      "outputs": [
        {
          "output_type": "execute_result",
          "data": {
            "text/html": [
              "<div>\n",
              "<style scoped>\n",
              "    .dataframe tbody tr th:only-of-type {\n",
              "        vertical-align: middle;\n",
              "    }\n",
              "\n",
              "    .dataframe tbody tr th {\n",
              "        vertical-align: top;\n",
              "    }\n",
              "\n",
              "    .dataframe thead th {\n",
              "        text-align: right;\n",
              "    }\n",
              "</style>\n",
              "<table border=\"1\" class=\"dataframe\">\n",
              "  <thead>\n",
              "    <tr style=\"text-align: right;\">\n",
              "      <th></th>\n",
              "      <th>movie_title</th>\n",
              "      <th>title_year</th>\n",
              "      <th>color</th>\n",
              "      <th>aspect_ratio</th>\n",
              "      <th>duration</th>\n",
              "      <th>language</th>\n",
              "      <th>country</th>\n",
              "      <th>duration.1</th>\n",
              "      <th>genres</th>\n",
              "      <th>content_rating</th>\n",
              "      <th>plot_keywords</th>\n",
              "      <th>director_name</th>\n",
              "      <th>actor_1_name</th>\n",
              "      <th>actor_2_name</th>\n",
              "      <th>actor_3_name</th>\n",
              "      <th>cast_total_facebook_likes</th>\n",
              "      <th>budget</th>\n",
              "      <th>imdb_score</th>\n",
              "      <th>gross</th>\n",
              "    </tr>\n",
              "  </thead>\n",
              "  <tbody>\n",
              "    <tr>\n",
              "      <th>0</th>\n",
              "      <td>Avatar</td>\n",
              "      <td>2009.0</td>\n",
              "      <td>Color</td>\n",
              "      <td>1.78</td>\n",
              "      <td>178.0</td>\n",
              "      <td>English</td>\n",
              "      <td>USA</td>\n",
              "      <td>178.0</td>\n",
              "      <td>Action|Adventure|Fantasy|Sci-Fi</td>\n",
              "      <td>PG-13</td>\n",
              "      <td>avatar|future|marine|native|paraplegic</td>\n",
              "      <td>James Cameron</td>\n",
              "      <td>CCH Pounder</td>\n",
              "      <td>Joel David Moore</td>\n",
              "      <td>Wes Studi</td>\n",
              "      <td>4834</td>\n",
              "      <td>237000000.0</td>\n",
              "      <td>7.9</td>\n",
              "      <td>760505847.0</td>\n",
              "    </tr>\n",
              "    <tr>\n",
              "      <th>1</th>\n",
              "      <td>Pirates of the Caribbean: At World's End</td>\n",
              "      <td>2007.0</td>\n",
              "      <td>Color</td>\n",
              "      <td>2.35</td>\n",
              "      <td>169.0</td>\n",
              "      <td>English</td>\n",
              "      <td>USA</td>\n",
              "      <td>169.0</td>\n",
              "      <td>Action|Adventure|Fantasy</td>\n",
              "      <td>PG-13</td>\n",
              "      <td>goddess|marriage ceremony|marriage proposal|pi...</td>\n",
              "      <td>Gore Verbinski</td>\n",
              "      <td>Johnny Depp</td>\n",
              "      <td>Orlando Bloom</td>\n",
              "      <td>Jack Davenport</td>\n",
              "      <td>48350</td>\n",
              "      <td>300000000.0</td>\n",
              "      <td>7.1</td>\n",
              "      <td>309404152.0</td>\n",
              "    </tr>\n",
              "    <tr>\n",
              "      <th>2</th>\n",
              "      <td>Spectre</td>\n",
              "      <td>2015.0</td>\n",
              "      <td>Color</td>\n",
              "      <td>2.35</td>\n",
              "      <td>148.0</td>\n",
              "      <td>English</td>\n",
              "      <td>UK</td>\n",
              "      <td>148.0</td>\n",
              "      <td>Action|Adventure|Thriller</td>\n",
              "      <td>PG-13</td>\n",
              "      <td>bomb|espionage|sequel|spy|terrorist</td>\n",
              "      <td>Sam Mendes</td>\n",
              "      <td>Christoph Waltz</td>\n",
              "      <td>Rory Kinnear</td>\n",
              "      <td>Stephanie Sigman</td>\n",
              "      <td>11700</td>\n",
              "      <td>245000000.0</td>\n",
              "      <td>6.8</td>\n",
              "      <td>200074175.0</td>\n",
              "    </tr>\n",
              "    <tr>\n",
              "      <th>3</th>\n",
              "      <td>The Dark Knight Rises</td>\n",
              "      <td>2012.0</td>\n",
              "      <td>Color</td>\n",
              "      <td>2.35</td>\n",
              "      <td>164.0</td>\n",
              "      <td>English</td>\n",
              "      <td>USA</td>\n",
              "      <td>164.0</td>\n",
              "      <td>Action|Thriller</td>\n",
              "      <td>PG-13</td>\n",
              "      <td>deception|imprisonment|lawlessness|police offi...</td>\n",
              "      <td>Christopher Nolan</td>\n",
              "      <td>Tom Hardy</td>\n",
              "      <td>Christian Bale</td>\n",
              "      <td>Joseph Gordon-Levitt</td>\n",
              "      <td>106759</td>\n",
              "      <td>250000000.0</td>\n",
              "      <td>8.5</td>\n",
              "      <td>448130642.0</td>\n",
              "    </tr>\n",
              "    <tr>\n",
              "      <th>4</th>\n",
              "      <td>Star Wars: Episode VII - The Force Awakens    ...</td>\n",
              "      <td>NaN</td>\n",
              "      <td>NaN</td>\n",
              "      <td>NaN</td>\n",
              "      <td>NaN</td>\n",
              "      <td>NaN</td>\n",
              "      <td>NaN</td>\n",
              "      <td>NaN</td>\n",
              "      <td>Documentary</td>\n",
              "      <td>NaN</td>\n",
              "      <td>NaN</td>\n",
              "      <td>Doug Walker</td>\n",
              "      <td>Doug Walker</td>\n",
              "      <td>Rob Walker</td>\n",
              "      <td>NaN</td>\n",
              "      <td>143</td>\n",
              "      <td>NaN</td>\n",
              "      <td>7.1</td>\n",
              "      <td>NaN</td>\n",
              "    </tr>\n",
              "  </tbody>\n",
              "</table>\n",
              "</div>"
            ],
            "text/plain": [
              "                                         movie_title  title_year  color  \\\n",
              "0                                            Avatar       2009.0  Color   \n",
              "1          Pirates of the Caribbean: At World's End       2007.0  Color   \n",
              "2                                           Spectre       2015.0  Color   \n",
              "3                             The Dark Knight Rises       2012.0  Color   \n",
              "4  Star Wars: Episode VII - The Force Awakens    ...         NaN    NaN   \n",
              "\n",
              "   aspect_ratio  duration language country  duration.1  \\\n",
              "0          1.78     178.0  English     USA       178.0   \n",
              "1          2.35     169.0  English     USA       169.0   \n",
              "2          2.35     148.0  English      UK       148.0   \n",
              "3          2.35     164.0  English     USA       164.0   \n",
              "4           NaN       NaN      NaN     NaN         NaN   \n",
              "\n",
              "                            genres content_rating  \\\n",
              "0  Action|Adventure|Fantasy|Sci-Fi          PG-13   \n",
              "1         Action|Adventure|Fantasy          PG-13   \n",
              "2        Action|Adventure|Thriller          PG-13   \n",
              "3                  Action|Thriller          PG-13   \n",
              "4                      Documentary            NaN   \n",
              "\n",
              "                                       plot_keywords      director_name  \\\n",
              "0             avatar|future|marine|native|paraplegic      James Cameron   \n",
              "1  goddess|marriage ceremony|marriage proposal|pi...     Gore Verbinski   \n",
              "2                bomb|espionage|sequel|spy|terrorist         Sam Mendes   \n",
              "3  deception|imprisonment|lawlessness|police offi...  Christopher Nolan   \n",
              "4                                                NaN        Doug Walker   \n",
              "\n",
              "      actor_1_name      actor_2_name          actor_3_name  \\\n",
              "0      CCH Pounder  Joel David Moore             Wes Studi   \n",
              "1      Johnny Depp     Orlando Bloom        Jack Davenport   \n",
              "2  Christoph Waltz      Rory Kinnear      Stephanie Sigman   \n",
              "3        Tom Hardy    Christian Bale  Joseph Gordon-Levitt   \n",
              "4      Doug Walker        Rob Walker                   NaN   \n",
              "\n",
              "   cast_total_facebook_likes       budget  imdb_score        gross  \n",
              "0                       4834  237000000.0         7.9  760505847.0  \n",
              "1                      48350  300000000.0         7.1  309404152.0  \n",
              "2                      11700  245000000.0         6.8  200074175.0  \n",
              "3                     106759  250000000.0         8.5  448130642.0  \n",
              "4                        143          NaN         7.1          NaN  "
            ]
          },
          "metadata": {
            "tags": []
          },
          "execution_count": 123
        }
      ]
    },
    {
      "cell_type": "markdown",
      "metadata": {
        "id": "WntfKG6bquOv"
      },
      "source": [
        "![title](df.jpg)"
      ]
    },
    {
      "cell_type": "code",
      "metadata": {
        "id": "Z8A0r0FdquOw",
        "outputId": "dcdd906d-f61d-4588-c6a6-6855584ec09d"
      },
      "source": [
        "# Cuantas lineas y columnas tiene nuestro dataframe\n",
        "### Un dataframe es una estructura de datos que se compone de los elementos siguientes\n",
        "movies.shape"
      ],
      "execution_count": null,
      "outputs": [
        {
          "output_type": "execute_result",
          "data": {
            "text/plain": [
              "(5043, 19)"
            ]
          },
          "metadata": {
            "tags": []
          },
          "execution_count": 124
        }
      ]
    },
    {
      "cell_type": "code",
      "metadata": {
        "id": "CCX4ehIMquO2",
        "outputId": "b6e662a5-ddca-4156-b4c4-0274cbf92eb6"
      },
      "source": [
        "#visualizemos las columnas\n",
        "movies.columns\n"
      ],
      "execution_count": null,
      "outputs": [
        {
          "output_type": "execute_result",
          "data": {
            "text/plain": [
              "Index(['movie_title', 'title_year', 'color', 'aspect_ratio', 'duration',\n",
              "       'language', 'country', 'duration.1', 'genres', 'content_rating',\n",
              "       'plot_keywords', 'director_name', 'actor_1_name', 'actor_2_name',\n",
              "       'actor_3_name', 'cast_total_facebook_likes', 'budget', 'imdb_score',\n",
              "       'gross'],\n",
              "      dtype='object')"
            ]
          },
          "metadata": {
            "tags": []
          },
          "execution_count": 125
        }
      ]
    },
    {
      "cell_type": "code",
      "metadata": {
        "id": "hTrOMQtaquO9",
        "outputId": "f732c743-5636-441a-b936-200fbf21afbc"
      },
      "source": [
        "movies.index"
      ],
      "execution_count": null,
      "outputs": [
        {
          "output_type": "execute_result",
          "data": {
            "text/plain": [
              "RangeIndex(start=0, stop=5043, step=1)"
            ]
          },
          "metadata": {
            "tags": []
          },
          "execution_count": 126
        }
      ]
    },
    {
      "cell_type": "code",
      "metadata": {
        "id": "JOQI7lpiquPF",
        "outputId": "e96d65e2-9465-43e2-975f-f094f90069bf"
      },
      "source": [
        "#como acceder a un columna\n",
        "columnal= movies['movie_title']\n",
        "columnal.head()"
      ],
      "execution_count": null,
      "outputs": [
        {
          "output_type": "execute_result",
          "data": {
            "text/plain": [
              "0                                              Avatar \n",
              "1            Pirates of the Caribbean: At World's End \n",
              "2                                             Spectre \n",
              "3                               The Dark Knight Rises \n",
              "4    Star Wars: Episode VII - The Force Awakens    ...\n",
              "Name: movie_title, dtype: object"
            ]
          },
          "metadata": {
            "tags": []
          },
          "execution_count": 127
        }
      ]
    },
    {
      "cell_type": "code",
      "metadata": {
        "id": "XHjOqgO3quPK",
        "outputId": "e04a9a14-3546-425b-dd68-ac243952d355"
      },
      "source": [
        "columnal"
      ],
      "execution_count": null,
      "outputs": [
        {
          "output_type": "execute_result",
          "data": {
            "text/plain": [
              "0                                                 Avatar \n",
              "1               Pirates of the Caribbean: At World's End \n",
              "2                                                Spectre \n",
              "3                                  The Dark Knight Rises \n",
              "4       Star Wars: Episode VII - The Force Awakens    ...\n",
              "                              ...                        \n",
              "5038                             Signed Sealed Delivered \n",
              "5039                           The Following             \n",
              "5040                                A Plague So Pleasant \n",
              "5041                                    Shanghai Calling \n",
              "5042                                   My Date with Drew \n",
              "Name: movie_title, Length: 5043, dtype: object"
            ]
          },
          "metadata": {
            "tags": []
          },
          "execution_count": 128
        }
      ]
    },
    {
      "cell_type": "code",
      "metadata": {
        "id": "HFxvOdququPS",
        "outputId": "736f8721-b5a6-4d32-e382-98e4a7c9c532"
      },
      "source": [
        "linea = movies.loc[10,:]\n",
        "linea"
      ],
      "execution_count": null,
      "outputs": [
        {
          "output_type": "execute_result",
          "data": {
            "text/plain": [
              "movie_title                                Batman v Superman: Dawn of Justice \n",
              "title_year                                                                2016\n",
              "color                                                                    Color\n",
              "aspect_ratio                                                              2.35\n",
              "duration                                                                   183\n",
              "language                                                               English\n",
              "country                                                                    USA\n",
              "duration.1                                                                 183\n",
              "genres                                                 Action|Adventure|Sci-Fi\n",
              "content_rating                                                           PG-13\n",
              "plot_keywords                based on comic book|batman|sequel to a reboot|...\n",
              "director_name                                                      Zack Snyder\n",
              "actor_1_name                                                      Henry Cavill\n",
              "actor_2_name                                                      Lauren Cohan\n",
              "actor_3_name                                                    Alan D. Purwin\n",
              "cast_total_facebook_likes                                                24450\n",
              "budget                                                                 2.5e+08\n",
              "imdb_score                                                                 6.9\n",
              "gross                                                              3.30249e+08\n",
              "Name: 10, dtype: object"
            ]
          },
          "metadata": {
            "tags": []
          },
          "execution_count": 129
        }
      ]
    },
    {
      "cell_type": "code",
      "metadata": {
        "id": "bQN512JsquPZ",
        "outputId": "944b5184-3e14-4c33-e268-300a944d2f92"
      },
      "source": [
        "movies['movie_title']"
      ],
      "execution_count": null,
      "outputs": [
        {
          "output_type": "execute_result",
          "data": {
            "text/plain": [
              "0                                                 Avatar \n",
              "1               Pirates of the Caribbean: At World's End \n",
              "2                                                Spectre \n",
              "3                                  The Dark Knight Rises \n",
              "4       Star Wars: Episode VII - The Force Awakens    ...\n",
              "                              ...                        \n",
              "5038                             Signed Sealed Delivered \n",
              "5039                           The Following             \n",
              "5040                                A Plague So Pleasant \n",
              "5041                                    Shanghai Calling \n",
              "5042                                   My Date with Drew \n",
              "Name: movie_title, Length: 5043, dtype: object"
            ]
          },
          "metadata": {
            "tags": []
          },
          "execution_count": 130
        }
      ]
    },
    {
      "cell_type": "code",
      "metadata": {
        "id": "LG82sI6pquPd",
        "outputId": "a804b3f0-4be7-477e-c7e8-2603d92c6bc7"
      },
      "source": [
        "linea = movies.loc[10,:]\n",
        "linea"
      ],
      "execution_count": null,
      "outputs": [
        {
          "output_type": "execute_result",
          "data": {
            "text/plain": [
              "movie_title                                Batman v Superman: Dawn of Justice \n",
              "title_year                                                                2016\n",
              "color                                                                    Color\n",
              "aspect_ratio                                                              2.35\n",
              "duration                                                                   183\n",
              "language                                                               English\n",
              "country                                                                    USA\n",
              "duration.1                                                                 183\n",
              "genres                                                 Action|Adventure|Sci-Fi\n",
              "content_rating                                                           PG-13\n",
              "plot_keywords                based on comic book|batman|sequel to a reboot|...\n",
              "director_name                                                      Zack Snyder\n",
              "actor_1_name                                                      Henry Cavill\n",
              "actor_2_name                                                      Lauren Cohan\n",
              "actor_3_name                                                    Alan D. Purwin\n",
              "cast_total_facebook_likes                                                24450\n",
              "budget                                                                 2.5e+08\n",
              "imdb_score                                                                 6.9\n",
              "gross                                                              3.30249e+08\n",
              "Name: 10, dtype: object"
            ]
          },
          "metadata": {
            "tags": []
          },
          "execution_count": 131
        }
      ]
    },
    {
      "cell_type": "code",
      "metadata": {
        "id": "zm3o6YWAquPi",
        "outputId": "f3a2c18a-6825-41aa-c7cf-1f5478ebf55e"
      },
      "source": [
        "\n",
        "movies.loc[:,'movie_title'].head()"
      ],
      "execution_count": null,
      "outputs": [
        {
          "output_type": "execute_result",
          "data": {
            "text/plain": [
              "0                                              Avatar \n",
              "1            Pirates of the Caribbean: At World's End \n",
              "2                                             Spectre \n",
              "3                               The Dark Knight Rises \n",
              "4    Star Wars: Episode VII - The Force Awakens    ...\n",
              "Name: movie_title, dtype: object"
            ]
          },
          "metadata": {
            "tags": []
          },
          "execution_count": 132
        }
      ]
    },
    {
      "cell_type": "markdown",
      "metadata": {
        "id": "2SBhBWFEquPq"
      },
      "source": [
        "# 3. Inspeccionando los tipos de datos"
      ]
    },
    {
      "cell_type": "code",
      "metadata": {
        "id": "Rcg7w51fquPr",
        "outputId": "1b01bf14-6e51-4ce0-cc85-0acc49f0aa54"
      },
      "source": [
        "movies.info()"
      ],
      "execution_count": null,
      "outputs": [
        {
          "output_type": "stream",
          "text": [
            "<class 'pandas.core.frame.DataFrame'>\n",
            "RangeIndex: 5043 entries, 0 to 5042\n",
            "Data columns (total 19 columns):\n",
            " #   Column                     Non-Null Count  Dtype  \n",
            "---  ------                     --------------  -----  \n",
            " 0   movie_title                5043 non-null   object \n",
            " 1   title_year                 4935 non-null   float64\n",
            " 2   color                      5024 non-null   object \n",
            " 3   aspect_ratio               4714 non-null   float64\n",
            " 4   duration                   5028 non-null   float64\n",
            " 5   language                   5031 non-null   object \n",
            " 6   country                    5038 non-null   object \n",
            " 7   duration.1                 5028 non-null   float64\n",
            " 8   genres                     5043 non-null   object \n",
            " 9   content_rating             4740 non-null   object \n",
            " 10  plot_keywords              4890 non-null   object \n",
            " 11  director_name              4939 non-null   object \n",
            " 12  actor_1_name               5036 non-null   object \n",
            " 13  actor_2_name               5030 non-null   object \n",
            " 14  actor_3_name               5020 non-null   object \n",
            " 15  cast_total_facebook_likes  5043 non-null   int64  \n",
            " 16  budget                     4551 non-null   float64\n",
            " 17  imdb_score                 5043 non-null   float64\n",
            " 18  gross                      4159 non-null   float64\n",
            "dtypes: float64(7), int64(1), object(11)\n",
            "memory usage: 748.7+ KB\n"
          ],
          "name": "stdout"
        }
      ]
    },
    {
      "cell_type": "markdown",
      "metadata": {
        "id": "cbqjkGClquPv"
      },
      "source": [
        "A diferencia de Numpy, Pandas permite cargar no solo datos numericos pero tambien **datos de texto** que vemos por ejemplo en las columnas de actores y **mezclar distintos tipos de datos**.\n",
        "* int64 y float64 corresponden a los mismos dtypes de Numpy\n",
        "* object es el dtype que permite manejar datos de texto"
      ]
    },
    {
      "cell_type": "code",
      "metadata": {
        "id": "qflVGudYquPw",
        "outputId": "f9296315-9979-488d-f7c4-dc982dbb25a7"
      },
      "source": [
        "# columnas númericas y columnas de texto\n",
        "movies.dtypes"
      ],
      "execution_count": null,
      "outputs": [
        {
          "output_type": "execute_result",
          "data": {
            "text/plain": [
              "movie_title                   object\n",
              "title_year                   float64\n",
              "color                         object\n",
              "aspect_ratio                 float64\n",
              "duration                     float64\n",
              "language                      object\n",
              "country                       object\n",
              "duration.1                   float64\n",
              "genres                        object\n",
              "content_rating                object\n",
              "plot_keywords                 object\n",
              "director_name                 object\n",
              "actor_1_name                  object\n",
              "actor_2_name                  object\n",
              "actor_3_name                  object\n",
              "cast_total_facebook_likes      int64\n",
              "budget                       float64\n",
              "imdb_score                   float64\n",
              "gross                        float64\n",
              "dtype: object"
            ]
          },
          "metadata": {
            "tags": []
          },
          "execution_count": 134
        }
      ]
    },
    {
      "cell_type": "code",
      "metadata": {
        "id": "bSzdNsVvquP3",
        "outputId": "3b2237e6-07b5-4acf-fb66-000f27632bdc"
      },
      "source": [
        "movies.dtypes == float"
      ],
      "execution_count": null,
      "outputs": [
        {
          "output_type": "execute_result",
          "data": {
            "text/plain": [
              "movie_title                  False\n",
              "title_year                    True\n",
              "color                        False\n",
              "aspect_ratio                  True\n",
              "duration                      True\n",
              "language                     False\n",
              "country                      False\n",
              "duration.1                    True\n",
              "genres                       False\n",
              "content_rating               False\n",
              "plot_keywords                False\n",
              "director_name                False\n",
              "actor_1_name                 False\n",
              "actor_2_name                 False\n",
              "actor_3_name                 False\n",
              "cast_total_facebook_likes    False\n",
              "budget                        True\n",
              "imdb_score                    True\n",
              "gross                         True\n",
              "dtype: bool"
            ]
          },
          "metadata": {
            "tags": []
          },
          "execution_count": 135
        }
      ]
    },
    {
      "cell_type": "code",
      "metadata": {
        "id": "Gb6vg7hzquP8",
        "outputId": "d477e86e-ae8d-4a4d-8dd5-77a18ad4cab8"
      },
      "source": [
        "movies.dtypes == int"
      ],
      "execution_count": null,
      "outputs": [
        {
          "output_type": "execute_result",
          "data": {
            "text/plain": [
              "movie_title                  False\n",
              "title_year                   False\n",
              "color                        False\n",
              "aspect_ratio                 False\n",
              "duration                     False\n",
              "language                     False\n",
              "country                      False\n",
              "duration.1                   False\n",
              "genres                       False\n",
              "content_rating               False\n",
              "plot_keywords                False\n",
              "director_name                False\n",
              "actor_1_name                 False\n",
              "actor_2_name                 False\n",
              "actor_3_name                 False\n",
              "cast_total_facebook_likes    False\n",
              "budget                       False\n",
              "imdb_score                   False\n",
              "gross                        False\n",
              "dtype: bool"
            ]
          },
          "metadata": {
            "tags": []
          },
          "execution_count": 136
        }
      ]
    },
    {
      "cell_type": "code",
      "metadata": {
        "id": "cGDV91JSquQC",
        "outputId": "51721730-51cf-493f-e4c4-a024090ad2f4"
      },
      "source": [
        "num = (movies.dtypes == float) | (movies.dtypes == int)\n",
        "num"
      ],
      "execution_count": null,
      "outputs": [
        {
          "output_type": "execute_result",
          "data": {
            "text/plain": [
              "movie_title                  False\n",
              "title_year                    True\n",
              "color                        False\n",
              "aspect_ratio                  True\n",
              "duration                      True\n",
              "language                     False\n",
              "country                      False\n",
              "duration.1                    True\n",
              "genres                       False\n",
              "content_rating               False\n",
              "plot_keywords                False\n",
              "director_name                False\n",
              "actor_1_name                 False\n",
              "actor_2_name                 False\n",
              "actor_3_name                 False\n",
              "cast_total_facebook_likes    False\n",
              "budget                        True\n",
              "imdb_score                    True\n",
              "gross                         True\n",
              "dtype: bool"
            ]
          },
          "metadata": {
            "tags": []
          },
          "execution_count": 137
        }
      ]
    },
    {
      "cell_type": "code",
      "metadata": {
        "id": "-C17e1obquQJ",
        "outputId": "6725ff3e-0abd-4939-e10f-748510995e93"
      },
      "source": [
        "movies.dtypes == object\n",
        "# Esto nos permite saber que columna es numero y otros textos"
      ],
      "execution_count": null,
      "outputs": [
        {
          "output_type": "execute_result",
          "data": {
            "text/plain": [
              "movie_title                   True\n",
              "title_year                   False\n",
              "color                         True\n",
              "aspect_ratio                 False\n",
              "duration                     False\n",
              "language                      True\n",
              "country                       True\n",
              "duration.1                   False\n",
              "genres                        True\n",
              "content_rating                True\n",
              "plot_keywords                 True\n",
              "director_name                 True\n",
              "actor_1_name                  True\n",
              "actor_2_name                  True\n",
              "actor_3_name                  True\n",
              "cast_total_facebook_likes    False\n",
              "budget                       False\n",
              "imdb_score                   False\n",
              "gross                        False\n",
              "dtype: bool"
            ]
          },
          "metadata": {
            "tags": []
          },
          "execution_count": 138
        }
      ]
    },
    {
      "cell_type": "code",
      "metadata": {
        "id": "ggC0_X_4quQN",
        "outputId": "6ba720da-0568-4920-d509-3394b6a744a4"
      },
      "source": [
        "num = (movies.dtypes == float) | (movies.dtypes == int)\n",
        "num"
      ],
      "execution_count": null,
      "outputs": [
        {
          "output_type": "execute_result",
          "data": {
            "text/plain": [
              "movie_title                  False\n",
              "title_year                    True\n",
              "color                        False\n",
              "aspect_ratio                  True\n",
              "duration                      True\n",
              "language                     False\n",
              "country                      False\n",
              "duration.1                    True\n",
              "genres                       False\n",
              "content_rating               False\n",
              "plot_keywords                False\n",
              "director_name                False\n",
              "actor_1_name                 False\n",
              "actor_2_name                 False\n",
              "actor_3_name                 False\n",
              "cast_total_facebook_likes    False\n",
              "budget                        True\n",
              "imdb_score                    True\n",
              "gross                         True\n",
              "dtype: bool"
            ]
          },
          "metadata": {
            "tags": []
          },
          "execution_count": 139
        }
      ]
    },
    {
      "cell_type": "code",
      "metadata": {
        "id": "IITl09I9quQT",
        "outputId": "73223eca-b54a-444e-ced4-5ac28ed39e54"
      },
      "source": [
        "num.index"
      ],
      "execution_count": null,
      "outputs": [
        {
          "output_type": "execute_result",
          "data": {
            "text/plain": [
              "Index(['movie_title', 'title_year', 'color', 'aspect_ratio', 'duration',\n",
              "       'language', 'country', 'duration.1', 'genres', 'content_rating',\n",
              "       'plot_keywords', 'director_name', 'actor_1_name', 'actor_2_name',\n",
              "       'actor_3_name', 'cast_total_facebook_likes', 'budget', 'imdb_score',\n",
              "       'gross'],\n",
              "      dtype='object')"
            ]
          },
          "metadata": {
            "tags": []
          },
          "execution_count": 140
        }
      ]
    },
    {
      "cell_type": "code",
      "metadata": {
        "id": "iX4ksL55quQa",
        "outputId": "aee63f66-10d3-469a-c360-93355b98616e"
      },
      "source": [
        "for el in num:\n",
        "    print (el)"
      ],
      "execution_count": null,
      "outputs": [
        {
          "output_type": "stream",
          "text": [
            "False\n",
            "True\n",
            "False\n",
            "True\n",
            "True\n",
            "False\n",
            "False\n",
            "True\n",
            "False\n",
            "False\n",
            "False\n",
            "False\n",
            "False\n",
            "False\n",
            "False\n",
            "False\n",
            "True\n",
            "True\n",
            "True\n"
          ],
          "name": "stdout"
        }
      ]
    },
    {
      "cell_type": "code",
      "metadata": {
        "id": "Ah9_bpkaquQg",
        "outputId": "769c7832-f927-4310-9933-c5c1bd0d998c"
      },
      "source": [
        "for el in num.index:\n",
        "    print(el)"
      ],
      "execution_count": null,
      "outputs": [
        {
          "output_type": "stream",
          "text": [
            "movie_title\n",
            "title_year\n",
            "color\n",
            "aspect_ratio\n",
            "duration\n",
            "language\n",
            "country\n",
            "duration.1\n",
            "genres\n",
            "content_rating\n",
            "plot_keywords\n",
            "director_name\n",
            "actor_1_name\n",
            "actor_2_name\n",
            "actor_3_name\n",
            "cast_total_facebook_likes\n",
            "budget\n",
            "imdb_score\n",
            "gross\n"
          ],
          "name": "stdout"
        }
      ]
    },
    {
      "cell_type": "code",
      "metadata": {
        "id": "2qzTI7GjquQl"
      },
      "source": [
        "num_cols = [c for c in num.index if num[c]]"
      ],
      "execution_count": null,
      "outputs": []
    },
    {
      "cell_type": "code",
      "metadata": {
        "id": "0H38QRv3quQt",
        "outputId": "9f76d082-508e-41e3-d99e-4380a667c90e"
      },
      "source": [
        "num_cols\n",
        "# columnas numericas"
      ],
      "execution_count": null,
      "outputs": [
        {
          "output_type": "execute_result",
          "data": {
            "text/plain": [
              "['title_year',\n",
              " 'aspect_ratio',\n",
              " 'duration',\n",
              " 'duration.1',\n",
              " 'budget',\n",
              " 'imdb_score',\n",
              " 'gross']"
            ]
          },
          "metadata": {
            "tags": []
          },
          "execution_count": 144
        }
      ]
    },
    {
      "cell_type": "code",
      "metadata": {
        "id": "pOKGfhRxquQx",
        "outputId": "a2f4a5aa-50da-4bbc-a84a-57d657590bc6"
      },
      "source": [
        "movies.dtypes == object"
      ],
      "execution_count": null,
      "outputs": [
        {
          "output_type": "execute_result",
          "data": {
            "text/plain": [
              "movie_title                   True\n",
              "title_year                   False\n",
              "color                         True\n",
              "aspect_ratio                 False\n",
              "duration                     False\n",
              "language                      True\n",
              "country                       True\n",
              "duration.1                   False\n",
              "genres                        True\n",
              "content_rating                True\n",
              "plot_keywords                 True\n",
              "director_name                 True\n",
              "actor_1_name                  True\n",
              "actor_2_name                  True\n",
              "actor_3_name                  True\n",
              "cast_total_facebook_likes    False\n",
              "budget                       False\n",
              "imdb_score                   False\n",
              "gross                        False\n",
              "dtype: bool"
            ]
          },
          "metadata": {
            "tags": []
          },
          "execution_count": 145
        }
      ]
    },
    {
      "cell_type": "code",
      "metadata": {
        "id": "Ty7qmGnRquQ2",
        "outputId": "e2c2fb8a-d2d3-4a60-f06a-c9aa420b4c42"
      },
      "source": [
        "obj = (movies.dtypes == object)\n",
        "obj_cols = [c for c in obj.index if obj[c]]\n",
        "obj_cols\n",
        "# columnas de texto"
      ],
      "execution_count": null,
      "outputs": [
        {
          "output_type": "execute_result",
          "data": {
            "text/plain": [
              "['movie_title',\n",
              " 'color',\n",
              " 'language',\n",
              " 'country',\n",
              " 'genres',\n",
              " 'content_rating',\n",
              " 'plot_keywords',\n",
              " 'director_name',\n",
              " 'actor_1_name',\n",
              " 'actor_2_name',\n",
              " 'actor_3_name']"
            ]
          },
          "metadata": {
            "tags": []
          },
          "execution_count": 146
        }
      ]
    },
    {
      "cell_type": "code",
      "metadata": {
        "id": "PKovp2FZquQ9",
        "outputId": "feaadb64-43f1-4d2e-b6ef-46eea16d7968"
      },
      "source": [
        "num_cols"
      ],
      "execution_count": null,
      "outputs": [
        {
          "output_type": "execute_result",
          "data": {
            "text/plain": [
              "['title_year',\n",
              " 'aspect_ratio',\n",
              " 'duration',\n",
              " 'duration.1',\n",
              " 'budget',\n",
              " 'imdb_score',\n",
              " 'gross']"
            ]
          },
          "metadata": {
            "tags": []
          },
          "execution_count": 147
        }
      ]
    },
    {
      "cell_type": "code",
      "metadata": {
        "id": "EZVleLADquRE",
        "outputId": "f23d18ef-ff97-4d49-e85e-b3a230ee662e"
      },
      "source": [
        "movies_num = movies[num_cols]\n",
        "# todo son numeros y no textos\n",
        "movies_num"
      ],
      "execution_count": null,
      "outputs": [
        {
          "output_type": "execute_result",
          "data": {
            "text/html": [
              "<div>\n",
              "<style scoped>\n",
              "    .dataframe tbody tr th:only-of-type {\n",
              "        vertical-align: middle;\n",
              "    }\n",
              "\n",
              "    .dataframe tbody tr th {\n",
              "        vertical-align: top;\n",
              "    }\n",
              "\n",
              "    .dataframe thead th {\n",
              "        text-align: right;\n",
              "    }\n",
              "</style>\n",
              "<table border=\"1\" class=\"dataframe\">\n",
              "  <thead>\n",
              "    <tr style=\"text-align: right;\">\n",
              "      <th></th>\n",
              "      <th>title_year</th>\n",
              "      <th>aspect_ratio</th>\n",
              "      <th>duration</th>\n",
              "      <th>duration.1</th>\n",
              "      <th>budget</th>\n",
              "      <th>imdb_score</th>\n",
              "      <th>gross</th>\n",
              "    </tr>\n",
              "  </thead>\n",
              "  <tbody>\n",
              "    <tr>\n",
              "      <th>0</th>\n",
              "      <td>2009.0</td>\n",
              "      <td>1.78</td>\n",
              "      <td>178.0</td>\n",
              "      <td>178.0</td>\n",
              "      <td>237000000.0</td>\n",
              "      <td>7.9</td>\n",
              "      <td>760505847.0</td>\n",
              "    </tr>\n",
              "    <tr>\n",
              "      <th>1</th>\n",
              "      <td>2007.0</td>\n",
              "      <td>2.35</td>\n",
              "      <td>169.0</td>\n",
              "      <td>169.0</td>\n",
              "      <td>300000000.0</td>\n",
              "      <td>7.1</td>\n",
              "      <td>309404152.0</td>\n",
              "    </tr>\n",
              "    <tr>\n",
              "      <th>2</th>\n",
              "      <td>2015.0</td>\n",
              "      <td>2.35</td>\n",
              "      <td>148.0</td>\n",
              "      <td>148.0</td>\n",
              "      <td>245000000.0</td>\n",
              "      <td>6.8</td>\n",
              "      <td>200074175.0</td>\n",
              "    </tr>\n",
              "    <tr>\n",
              "      <th>3</th>\n",
              "      <td>2012.0</td>\n",
              "      <td>2.35</td>\n",
              "      <td>164.0</td>\n",
              "      <td>164.0</td>\n",
              "      <td>250000000.0</td>\n",
              "      <td>8.5</td>\n",
              "      <td>448130642.0</td>\n",
              "    </tr>\n",
              "    <tr>\n",
              "      <th>4</th>\n",
              "      <td>NaN</td>\n",
              "      <td>NaN</td>\n",
              "      <td>NaN</td>\n",
              "      <td>NaN</td>\n",
              "      <td>NaN</td>\n",
              "      <td>7.1</td>\n",
              "      <td>NaN</td>\n",
              "    </tr>\n",
              "    <tr>\n",
              "      <th>...</th>\n",
              "      <td>...</td>\n",
              "      <td>...</td>\n",
              "      <td>...</td>\n",
              "      <td>...</td>\n",
              "      <td>...</td>\n",
              "      <td>...</td>\n",
              "      <td>...</td>\n",
              "    </tr>\n",
              "    <tr>\n",
              "      <th>5038</th>\n",
              "      <td>2013.0</td>\n",
              "      <td>NaN</td>\n",
              "      <td>87.0</td>\n",
              "      <td>87.0</td>\n",
              "      <td>NaN</td>\n",
              "      <td>7.7</td>\n",
              "      <td>NaN</td>\n",
              "    </tr>\n",
              "    <tr>\n",
              "      <th>5039</th>\n",
              "      <td>NaN</td>\n",
              "      <td>16.00</td>\n",
              "      <td>43.0</td>\n",
              "      <td>43.0</td>\n",
              "      <td>NaN</td>\n",
              "      <td>7.5</td>\n",
              "      <td>NaN</td>\n",
              "    </tr>\n",
              "    <tr>\n",
              "      <th>5040</th>\n",
              "      <td>2013.0</td>\n",
              "      <td>NaN</td>\n",
              "      <td>76.0</td>\n",
              "      <td>76.0</td>\n",
              "      <td>1400.0</td>\n",
              "      <td>6.3</td>\n",
              "      <td>NaN</td>\n",
              "    </tr>\n",
              "    <tr>\n",
              "      <th>5041</th>\n",
              "      <td>2012.0</td>\n",
              "      <td>2.35</td>\n",
              "      <td>100.0</td>\n",
              "      <td>100.0</td>\n",
              "      <td>NaN</td>\n",
              "      <td>6.3</td>\n",
              "      <td>10443.0</td>\n",
              "    </tr>\n",
              "    <tr>\n",
              "      <th>5042</th>\n",
              "      <td>2004.0</td>\n",
              "      <td>1.85</td>\n",
              "      <td>90.0</td>\n",
              "      <td>90.0</td>\n",
              "      <td>1100.0</td>\n",
              "      <td>6.6</td>\n",
              "      <td>85222.0</td>\n",
              "    </tr>\n",
              "  </tbody>\n",
              "</table>\n",
              "<p>5043 rows × 7 columns</p>\n",
              "</div>"
            ],
            "text/plain": [
              "      title_year  aspect_ratio  duration  duration.1       budget  imdb_score  \\\n",
              "0         2009.0          1.78     178.0       178.0  237000000.0         7.9   \n",
              "1         2007.0          2.35     169.0       169.0  300000000.0         7.1   \n",
              "2         2015.0          2.35     148.0       148.0  245000000.0         6.8   \n",
              "3         2012.0          2.35     164.0       164.0  250000000.0         8.5   \n",
              "4            NaN           NaN       NaN         NaN          NaN         7.1   \n",
              "...          ...           ...       ...         ...          ...         ...   \n",
              "5038      2013.0           NaN      87.0        87.0          NaN         7.7   \n",
              "5039         NaN         16.00      43.0        43.0          NaN         7.5   \n",
              "5040      2013.0           NaN      76.0        76.0       1400.0         6.3   \n",
              "5041      2012.0          2.35     100.0       100.0          NaN         6.3   \n",
              "5042      2004.0          1.85      90.0        90.0       1100.0         6.6   \n",
              "\n",
              "            gross  \n",
              "0     760505847.0  \n",
              "1     309404152.0  \n",
              "2     200074175.0  \n",
              "3     448130642.0  \n",
              "4             NaN  \n",
              "...           ...  \n",
              "5038          NaN  \n",
              "5039          NaN  \n",
              "5040          NaN  \n",
              "5041      10443.0  \n",
              "5042      85222.0  \n",
              "\n",
              "[5043 rows x 7 columns]"
            ]
          },
          "metadata": {
            "tags": []
          },
          "execution_count": 148
        }
      ]
    },
    {
      "cell_type": "code",
      "metadata": {
        "id": "8a993n74quRK",
        "outputId": "70e458ac-c2a0-4d81-8caf-cdd6334eda69"
      },
      "source": [
        "movies_num.describe()\n",
        "#describe solo nos sirve solo numeros"
      ],
      "execution_count": null,
      "outputs": [
        {
          "output_type": "execute_result",
          "data": {
            "text/html": [
              "<div>\n",
              "<style scoped>\n",
              "    .dataframe tbody tr th:only-of-type {\n",
              "        vertical-align: middle;\n",
              "    }\n",
              "\n",
              "    .dataframe tbody tr th {\n",
              "        vertical-align: top;\n",
              "    }\n",
              "\n",
              "    .dataframe thead th {\n",
              "        text-align: right;\n",
              "    }\n",
              "</style>\n",
              "<table border=\"1\" class=\"dataframe\">\n",
              "  <thead>\n",
              "    <tr style=\"text-align: right;\">\n",
              "      <th></th>\n",
              "      <th>title_year</th>\n",
              "      <th>aspect_ratio</th>\n",
              "      <th>duration</th>\n",
              "      <th>duration.1</th>\n",
              "      <th>budget</th>\n",
              "      <th>imdb_score</th>\n",
              "      <th>gross</th>\n",
              "    </tr>\n",
              "  </thead>\n",
              "  <tbody>\n",
              "    <tr>\n",
              "      <th>count</th>\n",
              "      <td>4935.000000</td>\n",
              "      <td>4714.000000</td>\n",
              "      <td>5028.000000</td>\n",
              "      <td>5028.000000</td>\n",
              "      <td>4.551000e+03</td>\n",
              "      <td>5043.000000</td>\n",
              "      <td>4.159000e+03</td>\n",
              "    </tr>\n",
              "    <tr>\n",
              "      <th>mean</th>\n",
              "      <td>2002.470517</td>\n",
              "      <td>2.220403</td>\n",
              "      <td>107.201074</td>\n",
              "      <td>107.201074</td>\n",
              "      <td>3.975262e+07</td>\n",
              "      <td>6.442138</td>\n",
              "      <td>4.846841e+07</td>\n",
              "    </tr>\n",
              "    <tr>\n",
              "      <th>std</th>\n",
              "      <td>12.474599</td>\n",
              "      <td>1.385113</td>\n",
              "      <td>25.197441</td>\n",
              "      <td>25.197441</td>\n",
              "      <td>2.061149e+08</td>\n",
              "      <td>1.125116</td>\n",
              "      <td>6.845299e+07</td>\n",
              "    </tr>\n",
              "    <tr>\n",
              "      <th>min</th>\n",
              "      <td>1916.000000</td>\n",
              "      <td>1.180000</td>\n",
              "      <td>7.000000</td>\n",
              "      <td>7.000000</td>\n",
              "      <td>2.180000e+02</td>\n",
              "      <td>1.600000</td>\n",
              "      <td>1.620000e+02</td>\n",
              "    </tr>\n",
              "    <tr>\n",
              "      <th>25%</th>\n",
              "      <td>1999.000000</td>\n",
              "      <td>1.850000</td>\n",
              "      <td>93.000000</td>\n",
              "      <td>93.000000</td>\n",
              "      <td>6.000000e+06</td>\n",
              "      <td>5.800000</td>\n",
              "      <td>5.340988e+06</td>\n",
              "    </tr>\n",
              "    <tr>\n",
              "      <th>50%</th>\n",
              "      <td>2005.000000</td>\n",
              "      <td>2.350000</td>\n",
              "      <td>103.000000</td>\n",
              "      <td>103.000000</td>\n",
              "      <td>2.000000e+07</td>\n",
              "      <td>6.600000</td>\n",
              "      <td>2.551750e+07</td>\n",
              "    </tr>\n",
              "    <tr>\n",
              "      <th>75%</th>\n",
              "      <td>2011.000000</td>\n",
              "      <td>2.350000</td>\n",
              "      <td>118.000000</td>\n",
              "      <td>118.000000</td>\n",
              "      <td>4.500000e+07</td>\n",
              "      <td>7.200000</td>\n",
              "      <td>6.230944e+07</td>\n",
              "    </tr>\n",
              "    <tr>\n",
              "      <th>max</th>\n",
              "      <td>2016.000000</td>\n",
              "      <td>16.000000</td>\n",
              "      <td>511.000000</td>\n",
              "      <td>511.000000</td>\n",
              "      <td>1.221550e+10</td>\n",
              "      <td>9.500000</td>\n",
              "      <td>7.605058e+08</td>\n",
              "    </tr>\n",
              "  </tbody>\n",
              "</table>\n",
              "</div>"
            ],
            "text/plain": [
              "        title_year  aspect_ratio     duration   duration.1        budget  \\\n",
              "count  4935.000000   4714.000000  5028.000000  5028.000000  4.551000e+03   \n",
              "mean   2002.470517      2.220403   107.201074   107.201074  3.975262e+07   \n",
              "std      12.474599      1.385113    25.197441    25.197441  2.061149e+08   \n",
              "min    1916.000000      1.180000     7.000000     7.000000  2.180000e+02   \n",
              "25%    1999.000000      1.850000    93.000000    93.000000  6.000000e+06   \n",
              "50%    2005.000000      2.350000   103.000000   103.000000  2.000000e+07   \n",
              "75%    2011.000000      2.350000   118.000000   118.000000  4.500000e+07   \n",
              "max    2016.000000     16.000000   511.000000   511.000000  1.221550e+10   \n",
              "\n",
              "        imdb_score         gross  \n",
              "count  5043.000000  4.159000e+03  \n",
              "mean      6.442138  4.846841e+07  \n",
              "std       1.125116  6.845299e+07  \n",
              "min       1.600000  1.620000e+02  \n",
              "25%       5.800000  5.340988e+06  \n",
              "50%       6.600000  2.551750e+07  \n",
              "75%       7.200000  6.230944e+07  \n",
              "max       9.500000  7.605058e+08  "
            ]
          },
          "metadata": {
            "tags": []
          },
          "execution_count": 149
        }
      ]
    },
    {
      "cell_type": "code",
      "metadata": {
        "id": "MX_6gkMoquRR"
      },
      "source": [
        "# Estadísticas de las columnas de texto\n",
        "#Para hacer nuestro primer modelo más simple para este trabajaremos solo con las columnas númericas."
      ],
      "execution_count": null,
      "outputs": []
    },
    {
      "cell_type": "code",
      "metadata": {
        "id": "OmWA6HXPquRU",
        "outputId": "3d92ed90-1a92-4d55-d733-26bbd2c86c94"
      },
      "source": [
        "movies_num['duration'].hist()"
      ],
      "execution_count": null,
      "outputs": [
        {
          "output_type": "execute_result",
          "data": {
            "text/plain": [
              "<AxesSubplot:>"
            ]
          },
          "metadata": {
            "tags": []
          },
          "execution_count": 151
        },
        {
          "output_type": "display_data",
          "data": {
            "image/png": "[encoded data removed]",
            "text/plain": [
              "<Figure size 432x288 with 1 Axes>"
            ]
          },
          "metadata": {
            "tags": [],
            "needs_background": "light"
          }
        }
      ]
    },
    {
      "cell_type": "code",
      "metadata": {
        "id": "t-_dFjk9quRb",
        "outputId": "f75c7ba3-5382-4fc5-ac07-ff8cd4952ee3"
      },
      "source": [
        "movies_num['imdb_score'].hist()\n"
      ],
      "execution_count": null,
      "outputs": [
        {
          "output_type": "execute_result",
          "data": {
            "text/plain": [
              "<AxesSubplot:>"
            ]
          },
          "metadata": {
            "tags": []
          },
          "execution_count": 152
        },
        {
          "output_type": "display_data",
          "data": {
            "image/png": "[encoded data removed]",
            "text/plain": [
              "<Figure size 432x288 with 1 Axes>"
            ]
          },
          "metadata": {
            "tags": [],
            "needs_background": "light"
          }
        }
      ]
    },
    {
      "cell_type": "code",
      "metadata": {
        "id": "9jKISgArquRh",
        "outputId": "55bd7128-48b6-4c52-dbac-aff69e3a6602"
      },
      "source": [
        "movies_num['budget'].hist()"
      ],
      "execution_count": null,
      "outputs": [
        {
          "output_type": "execute_result",
          "data": {
            "text/plain": [
              "<AxesSubplot:>"
            ]
          },
          "metadata": {
            "tags": []
          },
          "execution_count": 153
        },
        {
          "output_type": "display_data",
          "data": {
            "image/png": "[encoded data removed]",
            "text/plain": [
              "<Figure size 432x288 with 1 Axes>"
            ]
          },
          "metadata": {
            "tags": [],
            "needs_background": "light"
          }
        }
      ]
    },
    {
      "cell_type": "markdown",
      "metadata": {
        "id": "W1eMsiKJquRl"
      },
      "source": [
        "Para poder debuggear esta situación utilizaremos una tecnica muy tipica de pandas que se llama **boolean filtering**. Basicamente construimos una serie de booleanos con el mismo indice que nuestro dataframe (la serie clasicamente la llamaremos mask)."
      ]
    },
    {
      "cell_type": "code",
      "metadata": {
        "id": "1JqOKukkquRm",
        "outputId": "dbd57503-54b1-4c3e-a9f4-34c5b35ae7d5"
      },
      "source": [
        "\n",
        "mask = (movies_num['budget'] > 1e9)\n",
        "mask"
      ],
      "execution_count": null,
      "outputs": [
        {
          "output_type": "execute_result",
          "data": {
            "text/plain": [
              "0       False\n",
              "1       False\n",
              "2       False\n",
              "3       False\n",
              "4       False\n",
              "        ...  \n",
              "5038    False\n",
              "5039    False\n",
              "5040    False\n",
              "5041    False\n",
              "5042    False\n",
              "Name: budget, Length: 5043, dtype: bool"
            ]
          },
          "metadata": {
            "tags": []
          },
          "execution_count": 154
        }
      ]
    },
    {
      "cell_type": "code",
      "metadata": {
        "id": "2roHpDziquRr",
        "outputId": "bedf9911-a1a2-4af6-94a4-30cbd42d19a0"
      },
      "source": [
        "movies[mask]"
      ],
      "execution_count": null,
      "outputs": [
        {
          "output_type": "execute_result",
          "data": {
            "text/html": [
              "<div>\n",
              "<style scoped>\n",
              "    .dataframe tbody tr th:only-of-type {\n",
              "        vertical-align: middle;\n",
              "    }\n",
              "\n",
              "    .dataframe tbody tr th {\n",
              "        vertical-align: top;\n",
              "    }\n",
              "\n",
              "    .dataframe thead th {\n",
              "        text-align: right;\n",
              "    }\n",
              "</style>\n",
              "<table border=\"1\" class=\"dataframe\">\n",
              "  <thead>\n",
              "    <tr style=\"text-align: right;\">\n",
              "      <th></th>\n",
              "      <th>movie_title</th>\n",
              "      <th>title_year</th>\n",
              "      <th>color</th>\n",
              "      <th>aspect_ratio</th>\n",
              "      <th>duration</th>\n",
              "      <th>language</th>\n",
              "      <th>country</th>\n",
              "      <th>duration.1</th>\n",
              "      <th>genres</th>\n",
              "      <th>content_rating</th>\n",
              "      <th>plot_keywords</th>\n",
              "      <th>director_name</th>\n",
              "      <th>actor_1_name</th>\n",
              "      <th>actor_2_name</th>\n",
              "      <th>actor_3_name</th>\n",
              "      <th>cast_total_facebook_likes</th>\n",
              "      <th>budget</th>\n",
              "      <th>imdb_score</th>\n",
              "      <th>gross</th>\n",
              "    </tr>\n",
              "  </thead>\n",
              "  <tbody>\n",
              "    <tr>\n",
              "      <th>2323</th>\n",
              "      <td>Princess Mononoke</td>\n",
              "      <td>1997.0</td>\n",
              "      <td>Color</td>\n",
              "      <td>1.85</td>\n",
              "      <td>134.0</td>\n",
              "      <td>Japanese</td>\n",
              "      <td>Japan</td>\n",
              "      <td>134.0</td>\n",
              "      <td>Adventure|Animation|Fantasy</td>\n",
              "      <td>PG-13</td>\n",
              "      <td>anime|cult film|forest|princess|studio ghibli</td>\n",
              "      <td>Hayao Miyazaki</td>\n",
              "      <td>Minnie Driver</td>\n",
              "      <td>Jada Pinkett Smith</td>\n",
              "      <td>Billy Crudup</td>\n",
              "      <td>2710</td>\n",
              "      <td>2.400000e+09</td>\n",
              "      <td>8.4</td>\n",
              "      <td>2298191.0</td>\n",
              "    </tr>\n",
              "    <tr>\n",
              "      <th>2334</th>\n",
              "      <td>Steamboy</td>\n",
              "      <td>2004.0</td>\n",
              "      <td>Color</td>\n",
              "      <td>1.85</td>\n",
              "      <td>103.0</td>\n",
              "      <td>Japanese</td>\n",
              "      <td>Japan</td>\n",
              "      <td>103.0</td>\n",
              "      <td>Action|Adventure|Animation|Family|Sci-Fi|Thriller</td>\n",
              "      <td>PG-13</td>\n",
              "      <td>19th century|ball|boy|inventor|steam</td>\n",
              "      <td>Katsuhiro Ôtomo</td>\n",
              "      <td>William Hootkins</td>\n",
              "      <td>Robin Atkin Downes</td>\n",
              "      <td>Rosalind Ayres</td>\n",
              "      <td>991</td>\n",
              "      <td>2.127520e+09</td>\n",
              "      <td>6.9</td>\n",
              "      <td>410388.0</td>\n",
              "    </tr>\n",
              "    <tr>\n",
              "      <th>2988</th>\n",
              "      <td>The Host</td>\n",
              "      <td>2006.0</td>\n",
              "      <td>Color</td>\n",
              "      <td>1.85</td>\n",
              "      <td>110.0</td>\n",
              "      <td>Korean</td>\n",
              "      <td>South Korea</td>\n",
              "      <td>110.0</td>\n",
              "      <td>Comedy|Drama|Horror|Sci-Fi</td>\n",
              "      <td>R</td>\n",
              "      <td>daughter|han river|monster|river|seoul</td>\n",
              "      <td>Joon-ho Bong</td>\n",
              "      <td>Doona Bae</td>\n",
              "      <td>Kang-ho Song</td>\n",
              "      <td>Ah-sung Ko</td>\n",
              "      <td>1173</td>\n",
              "      <td>1.221550e+10</td>\n",
              "      <td>7.0</td>\n",
              "      <td>2201412.0</td>\n",
              "    </tr>\n",
              "    <tr>\n",
              "      <th>3005</th>\n",
              "      <td>Fateless</td>\n",
              "      <td>2005.0</td>\n",
              "      <td>Color</td>\n",
              "      <td>2.35</td>\n",
              "      <td>134.0</td>\n",
              "      <td>Hungarian</td>\n",
              "      <td>Hungary</td>\n",
              "      <td>134.0</td>\n",
              "      <td>Drama|Romance|War</td>\n",
              "      <td>R</td>\n",
              "      <td>bus|death|gay slur|hatred|jewish</td>\n",
              "      <td>Lajos Koltai</td>\n",
              "      <td>Marcell Nagy</td>\n",
              "      <td>Péter Fancsikai</td>\n",
              "      <td>Bálint Péntek</td>\n",
              "      <td>11</td>\n",
              "      <td>2.500000e+09</td>\n",
              "      <td>7.1</td>\n",
              "      <td>195888.0</td>\n",
              "    </tr>\n",
              "    <tr>\n",
              "      <th>3423</th>\n",
              "      <td>Akira</td>\n",
              "      <td>1988.0</td>\n",
              "      <td>Color</td>\n",
              "      <td>1.85</td>\n",
              "      <td>124.0</td>\n",
              "      <td>Japanese</td>\n",
              "      <td>Japan</td>\n",
              "      <td>124.0</td>\n",
              "      <td>Action|Animation|Sci-Fi</td>\n",
              "      <td>R</td>\n",
              "      <td>based on manga|biker gang|gifted child|post th...</td>\n",
              "      <td>Katsuhiro Ôtomo</td>\n",
              "      <td>Mitsuo Iwata</td>\n",
              "      <td>Takeshi Kusao</td>\n",
              "      <td>Tesshô Genda</td>\n",
              "      <td>28</td>\n",
              "      <td>1.100000e+09</td>\n",
              "      <td>8.1</td>\n",
              "      <td>439162.0</td>\n",
              "    </tr>\n",
              "    <tr>\n",
              "      <th>3859</th>\n",
              "      <td>Lady Vengeance</td>\n",
              "      <td>2005.0</td>\n",
              "      <td>Color</td>\n",
              "      <td>2.35</td>\n",
              "      <td>112.0</td>\n",
              "      <td>Korean</td>\n",
              "      <td>South Korea</td>\n",
              "      <td>112.0</td>\n",
              "      <td>Crime|Drama</td>\n",
              "      <td>R</td>\n",
              "      <td>cake|christian|lesbian sex|oral sex|pregnant s...</td>\n",
              "      <td>Chan-wook Park</td>\n",
              "      <td>Min-sik Choi</td>\n",
              "      <td>Yeong-ae Lee</td>\n",
              "      <td>Hye-jeong Kang</td>\n",
              "      <td>907</td>\n",
              "      <td>4.200000e+09</td>\n",
              "      <td>7.7</td>\n",
              "      <td>211667.0</td>\n",
              "    </tr>\n",
              "  </tbody>\n",
              "</table>\n",
              "</div>"
            ],
            "text/plain": [
              "             movie_title  title_year  color  aspect_ratio  duration  \\\n",
              "2323  Princess Mononoke       1997.0  Color          1.85     134.0   \n",
              "2334           Steamboy       2004.0  Color          1.85     103.0   \n",
              "2988           The Host       2006.0  Color          1.85     110.0   \n",
              "3005           Fateless       2005.0  Color          2.35     134.0   \n",
              "3423              Akira       1988.0  Color          1.85     124.0   \n",
              "3859     Lady Vengeance       2005.0  Color          2.35     112.0   \n",
              "\n",
              "       language      country  duration.1  \\\n",
              "2323   Japanese        Japan       134.0   \n",
              "2334   Japanese        Japan       103.0   \n",
              "2988     Korean  South Korea       110.0   \n",
              "3005  Hungarian      Hungary       134.0   \n",
              "3423   Japanese        Japan       124.0   \n",
              "3859     Korean  South Korea       112.0   \n",
              "\n",
              "                                                 genres content_rating  \\\n",
              "2323                        Adventure|Animation|Fantasy          PG-13   \n",
              "2334  Action|Adventure|Animation|Family|Sci-Fi|Thriller          PG-13   \n",
              "2988                         Comedy|Drama|Horror|Sci-Fi              R   \n",
              "3005                                  Drama|Romance|War              R   \n",
              "3423                            Action|Animation|Sci-Fi              R   \n",
              "3859                                        Crime|Drama              R   \n",
              "\n",
              "                                          plot_keywords    director_name  \\\n",
              "2323      anime|cult film|forest|princess|studio ghibli   Hayao Miyazaki   \n",
              "2334               19th century|ball|boy|inventor|steam  Katsuhiro Ôtomo   \n",
              "2988             daughter|han river|monster|river|seoul     Joon-ho Bong   \n",
              "3005                   bus|death|gay slur|hatred|jewish     Lajos Koltai   \n",
              "3423  based on manga|biker gang|gifted child|post th...  Katsuhiro Ôtomo   \n",
              "3859  cake|christian|lesbian sex|oral sex|pregnant s...   Chan-wook Park   \n",
              "\n",
              "          actor_1_name        actor_2_name    actor_3_name  \\\n",
              "2323     Minnie Driver  Jada Pinkett Smith    Billy Crudup   \n",
              "2334  William Hootkins  Robin Atkin Downes  Rosalind Ayres   \n",
              "2988         Doona Bae        Kang-ho Song      Ah-sung Ko   \n",
              "3005      Marcell Nagy     Péter Fancsikai   Bálint Péntek   \n",
              "3423      Mitsuo Iwata       Takeshi Kusao    Tesshô Genda   \n",
              "3859      Min-sik Choi        Yeong-ae Lee  Hye-jeong Kang   \n",
              "\n",
              "      cast_total_facebook_likes        budget  imdb_score      gross  \n",
              "2323                       2710  2.400000e+09         8.4  2298191.0  \n",
              "2334                        991  2.127520e+09         6.9   410388.0  \n",
              "2988                       1173  1.221550e+10         7.0  2201412.0  \n",
              "3005                         11  2.500000e+09         7.1   195888.0  \n",
              "3423                         28  1.100000e+09         8.1   439162.0  \n",
              "3859                        907  4.200000e+09         7.7   211667.0  "
            ]
          },
          "metadata": {
            "tags": []
          },
          "execution_count": 155
        }
      ]
    },
    {
      "cell_type": "markdown",
      "metadata": {
        "id": "noqdYo6bquR1"
      },
      "source": [
        "![title](akira.png)"
      ]
    },
    {
      "cell_type": "markdown",
      "metadata": {
        "id": "398TOzjVquR2"
      },
      "source": [
        "# Limpieza de datos\n",
        "Tenemos un problema de limpieza de los datos. La BDD fue creada sin diferenciar:\n",
        "\n",
        "* La moneda en la que se ingresaba el presupuesto y el ingreso.\n",
        "* La zona (país/mundial) en la que se registro el ingreso\n",
        "\n",
        "\n",
        "Importar BBDD thenumbers.com## Ahora manejaremos los datos faltantes (nulos o NaN)."
      ]
    },
    {
      "cell_type": "code",
      "metadata": {
        "id": "Z7-Fc-SQquR2",
        "outputId": "04cb366a-2bd5-4779-dd0d-6bd19d9ae3f9"
      },
      "source": [
        "pd.read_csv(\"D:/TECHNOLOGY 2020/Data/thenumbers.csv\")"
      ],
      "execution_count": null,
      "outputs": [
        {
          "output_type": "execute_result",
          "data": {
            "text/html": [
              "<div>\n",
              "<style scoped>\n",
              "    .dataframe tbody tr th:only-of-type {\n",
              "        vertical-align: middle;\n",
              "    }\n",
              "\n",
              "    .dataframe tbody tr th {\n",
              "        vertical-align: top;\n",
              "    }\n",
              "\n",
              "    .dataframe thead th {\n",
              "        text-align: right;\n",
              "    }\n",
              "</style>\n",
              "<table border=\"1\" class=\"dataframe\">\n",
              "  <thead>\n",
              "    <tr style=\"text-align: right;\">\n",
              "      <th></th>\n",
              "      <th>Unnamed: 0</th>\n",
              "      <th>movie_name</th>\n",
              "      <th>domestic_gross</th>\n",
              "      <th>movie_link</th>\n",
              "      <th>production_budget</th>\n",
              "      <th>release_date</th>\n",
              "      <th>worldwide_gross</th>\n",
              "      <th>movie_title</th>\n",
              "    </tr>\n",
              "  </thead>\n",
              "  <tbody>\n",
              "    <tr>\n",
              "      <th>0</th>\n",
              "      <td>0</td>\n",
              "      <td>Avatar</td>\n",
              "      <td>760507625</td>\n",
              "      <td>http://www.the-numbers.com/movie/Avatar#tab=su...</td>\n",
              "      <td>425000000</td>\n",
              "      <td>12/18/2009</td>\n",
              "      <td>2783918982</td>\n",
              "      <td>Avatar</td>\n",
              "    </tr>\n",
              "    <tr>\n",
              "      <th>1</th>\n",
              "      <td>1</td>\n",
              "      <td>Star Wars Ep. VII: The Force Awakens</td>\n",
              "      <td>936662225</td>\n",
              "      <td>http://www.the-numbers.com/movie/Star-Wars-Ep-...</td>\n",
              "      <td>306000000</td>\n",
              "      <td>12/18/2015</td>\n",
              "      <td>2058662225</td>\n",
              "      <td>Star Wars: Episode VII - The Force Awakens    ...</td>\n",
              "    </tr>\n",
              "    <tr>\n",
              "      <th>2</th>\n",
              "      <td>2</td>\n",
              "      <td>Pirates of the Caribbean: At World's End</td>\n",
              "      <td>309420425</td>\n",
              "      <td>http://www.the-numbers.com/movie/Pirates-of-th...</td>\n",
              "      <td>300000000</td>\n",
              "      <td>5/24/2007</td>\n",
              "      <td>963420425</td>\n",
              "      <td>Pirates of the Caribbean: At World's End</td>\n",
              "    </tr>\n",
              "    <tr>\n",
              "      <th>3</th>\n",
              "      <td>3</td>\n",
              "      <td>Spectre</td>\n",
              "      <td>200074175</td>\n",
              "      <td>http://www.the-numbers.com/movie/Spectre#tab=s...</td>\n",
              "      <td>300000000</td>\n",
              "      <td>11/6/2015</td>\n",
              "      <td>879620923</td>\n",
              "      <td>Spectre</td>\n",
              "    </tr>\n",
              "    <tr>\n",
              "      <th>4</th>\n",
              "      <td>4</td>\n",
              "      <td>The Dark Knight Rises</td>\n",
              "      <td>448139099</td>\n",
              "      <td>http://www.the-numbers.com/movie/Dark-Knight-R...</td>\n",
              "      <td>275000000</td>\n",
              "      <td>7/20/2012</td>\n",
              "      <td>1084439099</td>\n",
              "      <td>The Dark Knight Rises</td>\n",
              "    </tr>\n",
              "    <tr>\n",
              "      <th>...</th>\n",
              "      <td>...</td>\n",
              "      <td>...</td>\n",
              "      <td>...</td>\n",
              "      <td>...</td>\n",
              "      <td>...</td>\n",
              "      <td>...</td>\n",
              "      <td>...</td>\n",
              "      <td>...</td>\n",
              "    </tr>\n",
              "    <tr>\n",
              "      <th>4336</th>\n",
              "      <td>5157</td>\n",
              "      <td>The Mongol King</td>\n",
              "      <td>900</td>\n",
              "      <td>http://www.the-numbers.com/movie/Mongol-King-T...</td>\n",
              "      <td>7000</td>\n",
              "      <td>1/1/2004</td>\n",
              "      <td>900</td>\n",
              "      <td>The Mongol King</td>\n",
              "    </tr>\n",
              "    <tr>\n",
              "      <th>4337</th>\n",
              "      <td>5160</td>\n",
              "      <td>Signed Sealed Delivered</td>\n",
              "      <td>0</td>\n",
              "      <td>http://www.the-numbers.com/movie/Signed-Sealed...</td>\n",
              "      <td>5000</td>\n",
              "      <td>9/29/2015</td>\n",
              "      <td>0</td>\n",
              "      <td>Signed Sealed Delivered</td>\n",
              "    </tr>\n",
              "    <tr>\n",
              "      <th>4338</th>\n",
              "      <td>5161</td>\n",
              "      <td>Shanghai Calling</td>\n",
              "      <td>10443</td>\n",
              "      <td>http://www.the-numbers.com/movie/Shanghai-Call...</td>\n",
              "      <td>3967</td>\n",
              "      <td>2/15/2013</td>\n",
              "      <td>10443</td>\n",
              "      <td>Shanghai Calling</td>\n",
              "    </tr>\n",
              "    <tr>\n",
              "      <th>4339</th>\n",
              "      <td>5162</td>\n",
              "      <td>A Plague So Pleasant</td>\n",
              "      <td>0</td>\n",
              "      <td>http://www.the-numbers.com/movie/Plague-So-Ple...</td>\n",
              "      <td>1400</td>\n",
              "      <td>9/29/2015</td>\n",
              "      <td>0</td>\n",
              "      <td>A Plague So Pleasant</td>\n",
              "    </tr>\n",
              "    <tr>\n",
              "      <th>4340</th>\n",
              "      <td>5163</td>\n",
              "      <td>My Date With Drew</td>\n",
              "      <td>181041</td>\n",
              "      <td>http://www.the-numbers.com/movie/My-Date-With-...</td>\n",
              "      <td>1100</td>\n",
              "      <td>8/5/2005</td>\n",
              "      <td>181041</td>\n",
              "      <td>My Date with Drew</td>\n",
              "    </tr>\n",
              "  </tbody>\n",
              "</table>\n",
              "<p>4341 rows × 8 columns</p>\n",
              "</div>"
            ],
            "text/plain": [
              "      Unnamed: 0                                movie_name  domestic_gross  \\\n",
              "0              0                                    Avatar       760507625   \n",
              "1              1      Star Wars Ep. VII: The Force Awakens       936662225   \n",
              "2              2  Pirates of the Caribbean: At World's End       309420425   \n",
              "3              3                                   Spectre       200074175   \n",
              "4              4                     The Dark Knight Rises       448139099   \n",
              "...          ...                                       ...             ...   \n",
              "4336        5157                           The Mongol King             900   \n",
              "4337        5160                   Signed Sealed Delivered               0   \n",
              "4338        5161                          Shanghai Calling           10443   \n",
              "4339        5162                      A Plague So Pleasant               0   \n",
              "4340        5163                         My Date With Drew          181041   \n",
              "\n",
              "                                             movie_link  production_budget  \\\n",
              "0     http://www.the-numbers.com/movie/Avatar#tab=su...          425000000   \n",
              "1     http://www.the-numbers.com/movie/Star-Wars-Ep-...          306000000   \n",
              "2     http://www.the-numbers.com/movie/Pirates-of-th...          300000000   \n",
              "3     http://www.the-numbers.com/movie/Spectre#tab=s...          300000000   \n",
              "4     http://www.the-numbers.com/movie/Dark-Knight-R...          275000000   \n",
              "...                                                 ...                ...   \n",
              "4336  http://www.the-numbers.com/movie/Mongol-King-T...               7000   \n",
              "4337  http://www.the-numbers.com/movie/Signed-Sealed...               5000   \n",
              "4338  http://www.the-numbers.com/movie/Shanghai-Call...               3967   \n",
              "4339  http://www.the-numbers.com/movie/Plague-So-Ple...               1400   \n",
              "4340  http://www.the-numbers.com/movie/My-Date-With-...               1100   \n",
              "\n",
              "     release_date  worldwide_gross  \\\n",
              "0      12/18/2009       2783918982   \n",
              "1      12/18/2015       2058662225   \n",
              "2       5/24/2007        963420425   \n",
              "3       11/6/2015        879620923   \n",
              "4       7/20/2012       1084439099   \n",
              "...           ...              ...   \n",
              "4336     1/1/2004              900   \n",
              "4337    9/29/2015                0   \n",
              "4338    2/15/2013            10443   \n",
              "4339    9/29/2015                0   \n",
              "4340     8/5/2005           181041   \n",
              "\n",
              "                                            movie_title  \n",
              "0                                               Avatar   \n",
              "1     Star Wars: Episode VII - The Force Awakens    ...  \n",
              "2             Pirates of the Caribbean: At World's End   \n",
              "3                                              Spectre   \n",
              "4                                The Dark Knight Rises   \n",
              "...                                                 ...  \n",
              "4336                                   The Mongol King   \n",
              "4337                           Signed Sealed Delivered   \n",
              "4338                                  Shanghai Calling   \n",
              "4339                              A Plague So Pleasant   \n",
              "4340                                 My Date with Drew   \n",
              "\n",
              "[4341 rows x 8 columns]"
            ]
          },
          "metadata": {
            "tags": []
          },
          "execution_count": 156
        }
      ]
    },
    {
      "cell_type": "code",
      "metadata": {
        "id": "r5GYYxjYquR_"
      },
      "source": [
        "financials= pd.read_csv(\"D:/TECHNOLOGY 2020/Data/thenumbers.csv\")"
      ],
      "execution_count": null,
      "outputs": []
    },
    {
      "cell_type": "code",
      "metadata": {
        "id": "3pH9jSXHquSD"
      },
      "source": [
        "financials = financials[['movie_title', 'production_budget', 'worldwide_gross']]"
      ],
      "execution_count": null,
      "outputs": []
    },
    {
      "cell_type": "code",
      "metadata": {
        "id": "spQJ9z2KquSJ",
        "outputId": "232072b3-3b77-4771-aae7-5c1b0105450a"
      },
      "source": [
        "financials.shape"
      ],
      "execution_count": null,
      "outputs": [
        {
          "output_type": "execute_result",
          "data": {
            "text/plain": [
              "(4341, 3)"
            ]
          },
          "metadata": {
            "tags": []
          },
          "execution_count": 159
        }
      ]
    },
    {
      "cell_type": "code",
      "metadata": {
        "id": "vP7IsiisquSa",
        "outputId": "1d1f57ea-18f3-46eb-9560-4c1cda85e6ce"
      },
      "source": [
        "# aqui vemos que va perder datos como 700 datos\n",
        "movies.shape"
      ],
      "execution_count": null,
      "outputs": [
        {
          "output_type": "execute_result",
          "data": {
            "text/plain": [
              "(5043, 19)"
            ]
          },
          "metadata": {
            "tags": []
          },
          "execution_count": 160
        }
      ]
    },
    {
      "cell_type": "code",
      "metadata": {
        "id": "BNKyvYqJquSg",
        "outputId": "2af62711-fbfd-4c34-9f14-c8c2ce885cb5"
      },
      "source": [
        "movies_num"
      ],
      "execution_count": null,
      "outputs": [
        {
          "output_type": "execute_result",
          "data": {
            "text/html": [
              "<div>\n",
              "<style scoped>\n",
              "    .dataframe tbody tr th:only-of-type {\n",
              "        vertical-align: middle;\n",
              "    }\n",
              "\n",
              "    .dataframe tbody tr th {\n",
              "        vertical-align: top;\n",
              "    }\n",
              "\n",
              "    .dataframe thead th {\n",
              "        text-align: right;\n",
              "    }\n",
              "</style>\n",
              "<table border=\"1\" class=\"dataframe\">\n",
              "  <thead>\n",
              "    <tr style=\"text-align: right;\">\n",
              "      <th></th>\n",
              "      <th>title_year</th>\n",
              "      <th>aspect_ratio</th>\n",
              "      <th>duration</th>\n",
              "      <th>duration.1</th>\n",
              "      <th>budget</th>\n",
              "      <th>imdb_score</th>\n",
              "      <th>gross</th>\n",
              "    </tr>\n",
              "  </thead>\n",
              "  <tbody>\n",
              "    <tr>\n",
              "      <th>0</th>\n",
              "      <td>2009.0</td>\n",
              "      <td>1.78</td>\n",
              "      <td>178.0</td>\n",
              "      <td>178.0</td>\n",
              "      <td>237000000.0</td>\n",
              "      <td>7.9</td>\n",
              "      <td>760505847.0</td>\n",
              "    </tr>\n",
              "    <tr>\n",
              "      <th>1</th>\n",
              "      <td>2007.0</td>\n",
              "      <td>2.35</td>\n",
              "      <td>169.0</td>\n",
              "      <td>169.0</td>\n",
              "      <td>300000000.0</td>\n",
              "      <td>7.1</td>\n",
              "      <td>309404152.0</td>\n",
              "    </tr>\n",
              "    <tr>\n",
              "      <th>2</th>\n",
              "      <td>2015.0</td>\n",
              "      <td>2.35</td>\n",
              "      <td>148.0</td>\n",
              "      <td>148.0</td>\n",
              "      <td>245000000.0</td>\n",
              "      <td>6.8</td>\n",
              "      <td>200074175.0</td>\n",
              "    </tr>\n",
              "    <tr>\n",
              "      <th>3</th>\n",
              "      <td>2012.0</td>\n",
              "      <td>2.35</td>\n",
              "      <td>164.0</td>\n",
              "      <td>164.0</td>\n",
              "      <td>250000000.0</td>\n",
              "      <td>8.5</td>\n",
              "      <td>448130642.0</td>\n",
              "    </tr>\n",
              "    <tr>\n",
              "      <th>4</th>\n",
              "      <td>NaN</td>\n",
              "      <td>NaN</td>\n",
              "      <td>NaN</td>\n",
              "      <td>NaN</td>\n",
              "      <td>NaN</td>\n",
              "      <td>7.1</td>\n",
              "      <td>NaN</td>\n",
              "    </tr>\n",
              "    <tr>\n",
              "      <th>...</th>\n",
              "      <td>...</td>\n",
              "      <td>...</td>\n",
              "      <td>...</td>\n",
              "      <td>...</td>\n",
              "      <td>...</td>\n",
              "      <td>...</td>\n",
              "      <td>...</td>\n",
              "    </tr>\n",
              "    <tr>\n",
              "      <th>5038</th>\n",
              "      <td>2013.0</td>\n",
              "      <td>NaN</td>\n",
              "      <td>87.0</td>\n",
              "      <td>87.0</td>\n",
              "      <td>NaN</td>\n",
              "      <td>7.7</td>\n",
              "      <td>NaN</td>\n",
              "    </tr>\n",
              "    <tr>\n",
              "      <th>5039</th>\n",
              "      <td>NaN</td>\n",
              "      <td>16.00</td>\n",
              "      <td>43.0</td>\n",
              "      <td>43.0</td>\n",
              "      <td>NaN</td>\n",
              "      <td>7.5</td>\n",
              "      <td>NaN</td>\n",
              "    </tr>\n",
              "    <tr>\n",
              "      <th>5040</th>\n",
              "      <td>2013.0</td>\n",
              "      <td>NaN</td>\n",
              "      <td>76.0</td>\n",
              "      <td>76.0</td>\n",
              "      <td>1400.0</td>\n",
              "      <td>6.3</td>\n",
              "      <td>NaN</td>\n",
              "    </tr>\n",
              "    <tr>\n",
              "      <th>5041</th>\n",
              "      <td>2012.0</td>\n",
              "      <td>2.35</td>\n",
              "      <td>100.0</td>\n",
              "      <td>100.0</td>\n",
              "      <td>NaN</td>\n",
              "      <td>6.3</td>\n",
              "      <td>10443.0</td>\n",
              "    </tr>\n",
              "    <tr>\n",
              "      <th>5042</th>\n",
              "      <td>2004.0</td>\n",
              "      <td>1.85</td>\n",
              "      <td>90.0</td>\n",
              "      <td>90.0</td>\n",
              "      <td>1100.0</td>\n",
              "      <td>6.6</td>\n",
              "      <td>85222.0</td>\n",
              "    </tr>\n",
              "  </tbody>\n",
              "</table>\n",
              "<p>5043 rows × 7 columns</p>\n",
              "</div>"
            ],
            "text/plain": [
              "      title_year  aspect_ratio  duration  duration.1       budget  imdb_score  \\\n",
              "0         2009.0          1.78     178.0       178.0  237000000.0         7.9   \n",
              "1         2007.0          2.35     169.0       169.0  300000000.0         7.1   \n",
              "2         2015.0          2.35     148.0       148.0  245000000.0         6.8   \n",
              "3         2012.0          2.35     164.0       164.0  250000000.0         8.5   \n",
              "4            NaN           NaN       NaN         NaN          NaN         7.1   \n",
              "...          ...           ...       ...         ...          ...         ...   \n",
              "5038      2013.0           NaN      87.0        87.0          NaN         7.7   \n",
              "5039         NaN         16.00      43.0        43.0          NaN         7.5   \n",
              "5040      2013.0           NaN      76.0        76.0       1400.0         6.3   \n",
              "5041      2012.0          2.35     100.0       100.0          NaN         6.3   \n",
              "5042      2004.0          1.85      90.0        90.0       1100.0         6.6   \n",
              "\n",
              "            gross  \n",
              "0     760505847.0  \n",
              "1     309404152.0  \n",
              "2     200074175.0  \n",
              "3     448130642.0  \n",
              "4             NaN  \n",
              "...           ...  \n",
              "5038          NaN  \n",
              "5039          NaN  \n",
              "5040          NaN  \n",
              "5041      10443.0  \n",
              "5042      85222.0  \n",
              "\n",
              "[5043 rows x 7 columns]"
            ]
          },
          "metadata": {
            "tags": []
          },
          "execution_count": 161
        }
      ]
    },
    {
      "cell_type": "code",
      "metadata": {
        "id": "kUwDyr2PquSp",
        "outputId": "ae997485-a393-4e4a-de98-7087531ae9cc"
      },
      "source": [
        "movies['movie_title']"
      ],
      "execution_count": null,
      "outputs": [
        {
          "output_type": "execute_result",
          "data": {
            "text/plain": [
              "0                                                 Avatar \n",
              "1               Pirates of the Caribbean: At World's End \n",
              "2                                                Spectre \n",
              "3                                  The Dark Knight Rises \n",
              "4       Star Wars: Episode VII - The Force Awakens    ...\n",
              "                              ...                        \n",
              "5038                             Signed Sealed Delivered \n",
              "5039                           The Following             \n",
              "5040                                A Plague So Pleasant \n",
              "5041                                    Shanghai Calling \n",
              "5042                                   My Date with Drew \n",
              "Name: movie_title, Length: 5043, dtype: object"
            ]
          },
          "metadata": {
            "tags": []
          },
          "execution_count": 162
        }
      ]
    },
    {
      "cell_type": "code",
      "metadata": {
        "id": "9bPEE_ocquSw",
        "outputId": "4d678246-9f6e-4b3b-eb2e-9ffb9d350a2e"
      },
      "source": [
        "# agregamos la columna de movie_title\n",
        "movies_num1 =pd.concat([movies_num, movies['movie_title']], axis=1)\n",
        "movies_num1"
      ],
      "execution_count": null,
      "outputs": [
        {
          "output_type": "execute_result",
          "data": {
            "text/html": [
              "<div>\n",
              "<style scoped>\n",
              "    .dataframe tbody tr th:only-of-type {\n",
              "        vertical-align: middle;\n",
              "    }\n",
              "\n",
              "    .dataframe tbody tr th {\n",
              "        vertical-align: top;\n",
              "    }\n",
              "\n",
              "    .dataframe thead th {\n",
              "        text-align: right;\n",
              "    }\n",
              "</style>\n",
              "<table border=\"1\" class=\"dataframe\">\n",
              "  <thead>\n",
              "    <tr style=\"text-align: right;\">\n",
              "      <th></th>\n",
              "      <th>title_year</th>\n",
              "      <th>aspect_ratio</th>\n",
              "      <th>duration</th>\n",
              "      <th>duration.1</th>\n",
              "      <th>budget</th>\n",
              "      <th>imdb_score</th>\n",
              "      <th>gross</th>\n",
              "      <th>movie_title</th>\n",
              "    </tr>\n",
              "  </thead>\n",
              "  <tbody>\n",
              "    <tr>\n",
              "      <th>0</th>\n",
              "      <td>2009.0</td>\n",
              "      <td>1.78</td>\n",
              "      <td>178.0</td>\n",
              "      <td>178.0</td>\n",
              "      <td>237000000.0</td>\n",
              "      <td>7.9</td>\n",
              "      <td>760505847.0</td>\n",
              "      <td>Avatar</td>\n",
              "    </tr>\n",
              "    <tr>\n",
              "      <th>1</th>\n",
              "      <td>2007.0</td>\n",
              "      <td>2.35</td>\n",
              "      <td>169.0</td>\n",
              "      <td>169.0</td>\n",
              "      <td>300000000.0</td>\n",
              "      <td>7.1</td>\n",
              "      <td>309404152.0</td>\n",
              "      <td>Pirates of the Caribbean: At World's End</td>\n",
              "    </tr>\n",
              "    <tr>\n",
              "      <th>2</th>\n",
              "      <td>2015.0</td>\n",
              "      <td>2.35</td>\n",
              "      <td>148.0</td>\n",
              "      <td>148.0</td>\n",
              "      <td>245000000.0</td>\n",
              "      <td>6.8</td>\n",
              "      <td>200074175.0</td>\n",
              "      <td>Spectre</td>\n",
              "    </tr>\n",
              "    <tr>\n",
              "      <th>3</th>\n",
              "      <td>2012.0</td>\n",
              "      <td>2.35</td>\n",
              "      <td>164.0</td>\n",
              "      <td>164.0</td>\n",
              "      <td>250000000.0</td>\n",
              "      <td>8.5</td>\n",
              "      <td>448130642.0</td>\n",
              "      <td>The Dark Knight Rises</td>\n",
              "    </tr>\n",
              "    <tr>\n",
              "      <th>4</th>\n",
              "      <td>NaN</td>\n",
              "      <td>NaN</td>\n",
              "      <td>NaN</td>\n",
              "      <td>NaN</td>\n",
              "      <td>NaN</td>\n",
              "      <td>7.1</td>\n",
              "      <td>NaN</td>\n",
              "      <td>Star Wars: Episode VII - The Force Awakens    ...</td>\n",
              "    </tr>\n",
              "    <tr>\n",
              "      <th>...</th>\n",
              "      <td>...</td>\n",
              "      <td>...</td>\n",
              "      <td>...</td>\n",
              "      <td>...</td>\n",
              "      <td>...</td>\n",
              "      <td>...</td>\n",
              "      <td>...</td>\n",
              "      <td>...</td>\n",
              "    </tr>\n",
              "    <tr>\n",
              "      <th>5038</th>\n",
              "      <td>2013.0</td>\n",
              "      <td>NaN</td>\n",
              "      <td>87.0</td>\n",
              "      <td>87.0</td>\n",
              "      <td>NaN</td>\n",
              "      <td>7.7</td>\n",
              "      <td>NaN</td>\n",
              "      <td>Signed Sealed Delivered</td>\n",
              "    </tr>\n",
              "    <tr>\n",
              "      <th>5039</th>\n",
              "      <td>NaN</td>\n",
              "      <td>16.00</td>\n",
              "      <td>43.0</td>\n",
              "      <td>43.0</td>\n",
              "      <td>NaN</td>\n",
              "      <td>7.5</td>\n",
              "      <td>NaN</td>\n",
              "      <td>The Following</td>\n",
              "    </tr>\n",
              "    <tr>\n",
              "      <th>5040</th>\n",
              "      <td>2013.0</td>\n",
              "      <td>NaN</td>\n",
              "      <td>76.0</td>\n",
              "      <td>76.0</td>\n",
              "      <td>1400.0</td>\n",
              "      <td>6.3</td>\n",
              "      <td>NaN</td>\n",
              "      <td>A Plague So Pleasant</td>\n",
              "    </tr>\n",
              "    <tr>\n",
              "      <th>5041</th>\n",
              "      <td>2012.0</td>\n",
              "      <td>2.35</td>\n",
              "      <td>100.0</td>\n",
              "      <td>100.0</td>\n",
              "      <td>NaN</td>\n",
              "      <td>6.3</td>\n",
              "      <td>10443.0</td>\n",
              "      <td>Shanghai Calling</td>\n",
              "    </tr>\n",
              "    <tr>\n",
              "      <th>5042</th>\n",
              "      <td>2004.0</td>\n",
              "      <td>1.85</td>\n",
              "      <td>90.0</td>\n",
              "      <td>90.0</td>\n",
              "      <td>1100.0</td>\n",
              "      <td>6.6</td>\n",
              "      <td>85222.0</td>\n",
              "      <td>My Date with Drew</td>\n",
              "    </tr>\n",
              "  </tbody>\n",
              "</table>\n",
              "<p>5043 rows × 8 columns</p>\n",
              "</div>"
            ],
            "text/plain": [
              "      title_year  aspect_ratio  duration  duration.1       budget  imdb_score  \\\n",
              "0         2009.0          1.78     178.0       178.0  237000000.0         7.9   \n",
              "1         2007.0          2.35     169.0       169.0  300000000.0         7.1   \n",
              "2         2015.0          2.35     148.0       148.0  245000000.0         6.8   \n",
              "3         2012.0          2.35     164.0       164.0  250000000.0         8.5   \n",
              "4            NaN           NaN       NaN         NaN          NaN         7.1   \n",
              "...          ...           ...       ...         ...          ...         ...   \n",
              "5038      2013.0           NaN      87.0        87.0          NaN         7.7   \n",
              "5039         NaN         16.00      43.0        43.0          NaN         7.5   \n",
              "5040      2013.0           NaN      76.0        76.0       1400.0         6.3   \n",
              "5041      2012.0          2.35     100.0       100.0          NaN         6.3   \n",
              "5042      2004.0          1.85      90.0        90.0       1100.0         6.6   \n",
              "\n",
              "            gross                                        movie_title  \n",
              "0     760505847.0                                            Avatar   \n",
              "1     309404152.0          Pirates of the Caribbean: At World's End   \n",
              "2     200074175.0                                           Spectre   \n",
              "3     448130642.0                             The Dark Knight Rises   \n",
              "4             NaN  Star Wars: Episode VII - The Force Awakens    ...  \n",
              "...           ...                                                ...  \n",
              "5038          NaN                           Signed Sealed Delivered   \n",
              "5039          NaN                         The Following               \n",
              "5040          NaN                              A Plague So Pleasant   \n",
              "5041      10443.0                                  Shanghai Calling   \n",
              "5042      85222.0                                 My Date with Drew   \n",
              "\n",
              "[5043 rows x 8 columns]"
            ]
          },
          "metadata": {
            "tags": []
          },
          "execution_count": 163
        }
      ]
    },
    {
      "cell_type": "code",
      "metadata": {
        "id": "ZkIuhn2UquS4",
        "outputId": "7c7439ee-305c-4f4d-f5ed-88b58f373eb4"
      },
      "source": [
        "gross_opening = gross_opening.drop('Unnamed: 0',axis=1)\n",
        "gross_opening"
      ],
      "execution_count": null,
      "outputs": [
        {
          "output_type": "error",
          "ename": "NameError",
          "evalue": "name 'gross_opening' is not defined",
          "traceback": [
            "\u001b[1;31m---------------------------------------------------------------------------\u001b[0m",
            "\u001b[1;31mNameError\u001b[0m                                 Traceback (most recent call last)",
            "\u001b[1;32m<ipython-input-165-944ac5f9cf4d>\u001b[0m in \u001b[0;36m<module>\u001b[1;34m\u001b[0m\n\u001b[1;32m----> 1\u001b[1;33m \u001b[0mgross_opening\u001b[0m \u001b[1;33m=\u001b[0m \u001b[0mgross_opening\u001b[0m\u001b[1;33m.\u001b[0m\u001b[0mdrop\u001b[0m\u001b[1;33m(\u001b[0m\u001b[1;34m'Unnamed: 0'\u001b[0m\u001b[1;33m,\u001b[0m\u001b[0maxis\u001b[0m\u001b[1;33m=\u001b[0m\u001b[1;36m1\u001b[0m\u001b[1;33m)\u001b[0m\u001b[1;33m\u001b[0m\u001b[1;33m\u001b[0m\u001b[0m\n\u001b[0m\u001b[0;32m      2\u001b[0m \u001b[0mgross_opening\u001b[0m\u001b[1;33m\u001b[0m\u001b[1;33m\u001b[0m\u001b[0m\n",
            "\u001b[1;31mNameError\u001b[0m: name 'gross_opening' is not defined"
          ]
        }
      ]
    },
    {
      "cell_type": "code",
      "metadata": {
        "id": "4E7FQjzUquS7",
        "outputId": "93b241e0-adb9-49c5-8612-3b0fc18635ca"
      },
      "source": [
        "movies_v2 = pd.merge(financials,movies_num,on='movie_title',how='left')\n",
        "movies_v2"
      ],
      "execution_count": null,
      "outputs": [
        {
          "output_type": "error",
          "ename": "KeyError",
          "evalue": "'movie_title'",
          "traceback": [
            "\u001b[1;31m---------------------------------------------------------------------------\u001b[0m",
            "\u001b[1;31mKeyError\u001b[0m                                  Traceback (most recent call last)",
            "\u001b[1;32m<ipython-input-166-2454f24dad2d>\u001b[0m in \u001b[0;36m<module>\u001b[1;34m\u001b[0m\n\u001b[1;32m----> 1\u001b[1;33m \u001b[0mmovies_v2\u001b[0m \u001b[1;33m=\u001b[0m \u001b[0mpd\u001b[0m\u001b[1;33m.\u001b[0m\u001b[0mmerge\u001b[0m\u001b[1;33m(\u001b[0m\u001b[0mfinancials\u001b[0m\u001b[1;33m,\u001b[0m\u001b[0mmovies_num\u001b[0m\u001b[1;33m,\u001b[0m\u001b[0mon\u001b[0m\u001b[1;33m=\u001b[0m\u001b[1;34m'movie_title'\u001b[0m\u001b[1;33m,\u001b[0m\u001b[0mhow\u001b[0m\u001b[1;33m=\u001b[0m\u001b[1;34m'left'\u001b[0m\u001b[1;33m)\u001b[0m\u001b[1;33m\u001b[0m\u001b[1;33m\u001b[0m\u001b[0m\n\u001b[0m\u001b[0;32m      2\u001b[0m \u001b[0mmovies_v2\u001b[0m\u001b[1;33m\u001b[0m\u001b[1;33m\u001b[0m\u001b[0m\n",
            "\u001b[1;32m~\\Anaconda3\\envs\\ambiente2\\lib\\site-packages\\pandas\\core\\reshape\\merge.py\u001b[0m in \u001b[0;36mmerge\u001b[1;34m(left, right, how, on, left_on, right_on, left_index, right_index, sort, suffixes, copy, indicator, validate)\u001b[0m\n\u001b[0;32m     72\u001b[0m     \u001b[0mvalidate\u001b[0m\u001b[1;33m=\u001b[0m\u001b[1;32mNone\u001b[0m\u001b[1;33m,\u001b[0m\u001b[1;33m\u001b[0m\u001b[1;33m\u001b[0m\u001b[0m\n\u001b[0;32m     73\u001b[0m ) -> \"DataFrame\":\n\u001b[1;32m---> 74\u001b[1;33m     op = _MergeOperation(\n\u001b[0m\u001b[0;32m     75\u001b[0m         \u001b[0mleft\u001b[0m\u001b[1;33m,\u001b[0m\u001b[1;33m\u001b[0m\u001b[1;33m\u001b[0m\u001b[0m\n\u001b[0;32m     76\u001b[0m         \u001b[0mright\u001b[0m\u001b[1;33m,\u001b[0m\u001b[1;33m\u001b[0m\u001b[1;33m\u001b[0m\u001b[0m\n",
            "\u001b[1;32m~\\Anaconda3\\envs\\ambiente2\\lib\\site-packages\\pandas\\core\\reshape\\merge.py\u001b[0m in \u001b[0;36m__init__\u001b[1;34m(self, left, right, how, on, left_on, right_on, axis, left_index, right_index, sort, suffixes, copy, indicator, validate)\u001b[0m\n\u001b[0;32m    650\u001b[0m             \u001b[0mself\u001b[0m\u001b[1;33m.\u001b[0m\u001b[0mright_join_keys\u001b[0m\u001b[1;33m,\u001b[0m\u001b[1;33m\u001b[0m\u001b[1;33m\u001b[0m\u001b[0m\n\u001b[0;32m    651\u001b[0m             \u001b[0mself\u001b[0m\u001b[1;33m.\u001b[0m\u001b[0mjoin_names\u001b[0m\u001b[1;33m,\u001b[0m\u001b[1;33m\u001b[0m\u001b[1;33m\u001b[0m\u001b[0m\n\u001b[1;32m--> 652\u001b[1;33m         ) = self._get_merge_keys()\n\u001b[0m\u001b[0;32m    653\u001b[0m \u001b[1;33m\u001b[0m\u001b[0m\n\u001b[0;32m    654\u001b[0m         \u001b[1;31m# validate the merge keys dtypes. We may need to coerce\u001b[0m\u001b[1;33m\u001b[0m\u001b[1;33m\u001b[0m\u001b[1;33m\u001b[0m\u001b[0m\n",
            "\u001b[1;32m~\\Anaconda3\\envs\\ambiente2\\lib\\site-packages\\pandas\\core\\reshape\\merge.py\u001b[0m in \u001b[0;36m_get_merge_keys\u001b[1;34m(self)\u001b[0m\n\u001b[0;32m   1003\u001b[0m                     \u001b[1;32mif\u001b[0m \u001b[1;32mnot\u001b[0m \u001b[0mis_rkey\u001b[0m\u001b[1;33m(\u001b[0m\u001b[0mrk\u001b[0m\u001b[1;33m)\u001b[0m\u001b[1;33m:\u001b[0m\u001b[1;33m\u001b[0m\u001b[1;33m\u001b[0m\u001b[0m\n\u001b[0;32m   1004\u001b[0m                         \u001b[1;32mif\u001b[0m \u001b[0mrk\u001b[0m \u001b[1;32mis\u001b[0m \u001b[1;32mnot\u001b[0m \u001b[1;32mNone\u001b[0m\u001b[1;33m:\u001b[0m\u001b[1;33m\u001b[0m\u001b[1;33m\u001b[0m\u001b[0m\n\u001b[1;32m-> 1005\u001b[1;33m                             \u001b[0mright_keys\u001b[0m\u001b[1;33m.\u001b[0m\u001b[0mappend\u001b[0m\u001b[1;33m(\u001b[0m\u001b[0mright\u001b[0m\u001b[1;33m.\u001b[0m\u001b[0m_get_label_or_level_values\u001b[0m\u001b[1;33m(\u001b[0m\u001b[0mrk\u001b[0m\u001b[1;33m)\u001b[0m\u001b[1;33m)\u001b[0m\u001b[1;33m\u001b[0m\u001b[1;33m\u001b[0m\u001b[0m\n\u001b[0m\u001b[0;32m   1006\u001b[0m                         \u001b[1;32melse\u001b[0m\u001b[1;33m:\u001b[0m\u001b[1;33m\u001b[0m\u001b[1;33m\u001b[0m\u001b[0m\n\u001b[0;32m   1007\u001b[0m                             \u001b[1;31m# work-around for merge_asof(right_index=True)\u001b[0m\u001b[1;33m\u001b[0m\u001b[1;33m\u001b[0m\u001b[1;33m\u001b[0m\u001b[0m\n",
            "\u001b[1;32m~\\Anaconda3\\envs\\ambiente2\\lib\\site-packages\\pandas\\core\\generic.py\u001b[0m in \u001b[0;36m_get_label_or_level_values\u001b[1;34m(self, key, axis)\u001b[0m\n\u001b[0;32m   1558\u001b[0m             \u001b[0mvalues\u001b[0m \u001b[1;33m=\u001b[0m \u001b[0mself\u001b[0m\u001b[1;33m.\u001b[0m\u001b[0maxes\u001b[0m\u001b[1;33m[\u001b[0m\u001b[0maxis\u001b[0m\u001b[1;33m]\u001b[0m\u001b[1;33m.\u001b[0m\u001b[0mget_level_values\u001b[0m\u001b[1;33m(\u001b[0m\u001b[0mkey\u001b[0m\u001b[1;33m)\u001b[0m\u001b[1;33m.\u001b[0m\u001b[0m_values\u001b[0m\u001b[1;33m\u001b[0m\u001b[1;33m\u001b[0m\u001b[0m\n\u001b[0;32m   1559\u001b[0m         \u001b[1;32melse\u001b[0m\u001b[1;33m:\u001b[0m\u001b[1;33m\u001b[0m\u001b[1;33m\u001b[0m\u001b[0m\n\u001b[1;32m-> 1560\u001b[1;33m             \u001b[1;32mraise\u001b[0m \u001b[0mKeyError\u001b[0m\u001b[1;33m(\u001b[0m\u001b[0mkey\u001b[0m\u001b[1;33m)\u001b[0m\u001b[1;33m\u001b[0m\u001b[1;33m\u001b[0m\u001b[0m\n\u001b[0m\u001b[0;32m   1561\u001b[0m \u001b[1;33m\u001b[0m\u001b[0m\n\u001b[0;32m   1562\u001b[0m         \u001b[1;31m# Check for duplicates\u001b[0m\u001b[1;33m\u001b[0m\u001b[1;33m\u001b[0m\u001b[1;33m\u001b[0m\u001b[0m\n",
            "\u001b[1;31mKeyError\u001b[0m: 'movie_title'"
          ]
        }
      ]
    },
    {
      "cell_type": "code",
      "metadata": {
        "id": "3QjEWKf3quTB",
        "outputId": "05883a75-ca35-4904-b379-faf7a2259842"
      },
      "source": [
        "movies_v2 = pd.merge(movies_v2,gross_opening,on='movie_title',how='left')"
      ],
      "execution_count": null,
      "outputs": [
        {
          "output_type": "error",
          "ename": "NameError",
          "evalue": "name 'gross_opening' is not defined",
          "traceback": [
            "\u001b[1;31m---------------------------------------------------------------------------\u001b[0m",
            "\u001b[1;31mNameError\u001b[0m                                 Traceback (most recent call last)",
            "\u001b[1;32m<ipython-input-168-24e5a19b5107>\u001b[0m in \u001b[0;36m<module>\u001b[1;34m\u001b[0m\n\u001b[1;32m----> 1\u001b[1;33m \u001b[0mmovies_v2\u001b[0m \u001b[1;33m=\u001b[0m \u001b[0mpd\u001b[0m\u001b[1;33m.\u001b[0m\u001b[0mmerge\u001b[0m\u001b[1;33m(\u001b[0m\u001b[0mmovies_v2\u001b[0m\u001b[1;33m,\u001b[0m\u001b[0mgross_opening\u001b[0m\u001b[1;33m,\u001b[0m\u001b[0mon\u001b[0m\u001b[1;33m=\u001b[0m\u001b[1;34m'movie_title'\u001b[0m\u001b[1;33m,\u001b[0m\u001b[0mhow\u001b[0m\u001b[1;33m=\u001b[0m\u001b[1;34m'left'\u001b[0m\u001b[1;33m)\u001b[0m\u001b[1;33m\u001b[0m\u001b[1;33m\u001b[0m\u001b[0m\n\u001b[0m",
            "\u001b[1;31mNameError\u001b[0m: name 'gross_opening' is not defined"
          ]
        }
      ]
    },
    {
      "cell_type": "code",
      "metadata": {
        "id": "9Ng1yEsNquTF",
        "outputId": "955aa0c8-8fd0-47cf-bed0-0767718f3626"
      },
      "source": [
        "movies_v2.shape"
      ],
      "execution_count": null,
      "outputs": [
        {
          "output_type": "execute_result",
          "data": {
            "text/plain": [
              "(4104, 7)"
            ]
          },
          "metadata": {
            "tags": []
          },
          "execution_count": 169
        }
      ]
    },
    {
      "cell_type": "markdown",
      "metadata": {
        "id": "v-Y-ZwqkquTJ"
      },
      "source": [
        "# Ahora solucionaremos el problema de los datos faltantes (nulos o NaN).\n",
        "Los datos faltantes generan problemas con muchos algoritmos de ML. Es por esto que existen distintas estrategias para lidiar con ellos."
      ]
    },
    {
      "cell_type": "code",
      "metadata": {
        "id": "VamMfESSquTK",
        "outputId": "fe931504-de2a-4bbc-be2d-5e7b62e25ef1"
      },
      "source": [
        "help(pd.Series.value_counts)"
      ],
      "execution_count": null,
      "outputs": [
        {
          "output_type": "stream",
          "text": [
            "Help on function value_counts in module pandas.core.base:\n",
            "\n",
            "value_counts(self, normalize=False, sort=True, ascending=False, bins=None, dropna=True)\n",
            "    Return a Series containing counts of unique values.\n",
            "    \n",
            "    The resulting object will be in descending order so that the\n",
            "    first element is the most frequently-occurring element.\n",
            "    Excludes NA values by default.\n",
            "    \n",
            "    Parameters\n",
            "    ----------\n",
            "    normalize : bool, default False\n",
            "        If True then the object returned will contain the relative\n",
            "        frequencies of the unique values.\n",
            "    sort : bool, default True\n",
            "        Sort by frequencies.\n",
            "    ascending : bool, default False\n",
            "        Sort in ascending order.\n",
            "    bins : int, optional\n",
            "        Rather than count values, group them into half-open bins,\n",
            "        a convenience for ``pd.cut``, only works with numeric data.\n",
            "    dropna : bool, default True\n",
            "        Don't include counts of NaN.\n",
            "    \n",
            "    Returns\n",
            "    -------\n",
            "    Series\n",
            "    \n",
            "    See Also\n",
            "    --------\n",
            "    Series.count: Number of non-NA elements in a Series.\n",
            "    DataFrame.count: Number of non-NA elements in a DataFrame.\n",
            "    DataFrame.value_counts: Equivalent method on DataFrames.\n",
            "    \n",
            "    Examples\n",
            "    --------\n",
            "    >>> index = pd.Index([3, 1, 2, 3, 4, np.nan])\n",
            "    >>> index.value_counts()\n",
            "    3.0    2\n",
            "    4.0    1\n",
            "    2.0    1\n",
            "    1.0    1\n",
            "    dtype: int64\n",
            "    \n",
            "    With `normalize` set to `True`, returns the relative frequency by\n",
            "    dividing all values by the sum of values.\n",
            "    \n",
            "    >>> s = pd.Series([3, 1, 2, 3, 4, np.nan])\n",
            "    >>> s.value_counts(normalize=True)\n",
            "    3.0    0.4\n",
            "    4.0    0.2\n",
            "    2.0    0.2\n",
            "    1.0    0.2\n",
            "    dtype: float64\n",
            "    \n",
            "    **bins**\n",
            "    \n",
            "    Bins can be useful for going from a continuous variable to a\n",
            "    categorical variable; instead of counting unique\n",
            "    apparitions of values, divide the index in the specified\n",
            "    number of half-open bins.\n",
            "    \n",
            "    >>> s.value_counts(bins=3)\n",
            "    (2.0, 3.0]      2\n",
            "    (0.996, 2.0]    2\n",
            "    (3.0, 4.0]      1\n",
            "    dtype: int64\n",
            "    \n",
            "    **dropna**\n",
            "    \n",
            "    With `dropna` set to `False` we can also see NaN index values.\n",
            "    \n",
            "    >>> s.value_counts(dropna=False)\n",
            "    3.0    2\n",
            "    NaN    1\n",
            "    4.0    1\n",
            "    2.0    1\n",
            "    1.0    1\n",
            "    dtype: int64\n",
            "\n"
          ],
          "name": "stdout"
        }
      ]
    },
    {
      "cell_type": "code",
      "metadata": {
        "id": "fau7VvfCquTT",
        "outputId": "77c5c486-c992-4170-f96e-fefe96b16cf5"
      },
      "source": [
        "\n",
        "movies_v2.notnull()"
      ],
      "execution_count": null,
      "outputs": [
        {
          "output_type": "execute_result",
          "data": {
            "text/html": [
              "<div>\n",
              "<style scoped>\n",
              "    .dataframe tbody tr th:only-of-type {\n",
              "        vertical-align: middle;\n",
              "    }\n",
              "\n",
              "    .dataframe tbody tr th {\n",
              "        vertical-align: top;\n",
              "    }\n",
              "\n",
              "    .dataframe thead th {\n",
              "        text-align: right;\n",
              "    }\n",
              "</style>\n",
              "<table border=\"1\" class=\"dataframe\">\n",
              "  <thead>\n",
              "    <tr style=\"text-align: right;\">\n",
              "      <th></th>\n",
              "      <th>production_budget</th>\n",
              "      <th>worldwide_gross</th>\n",
              "      <th>title_year</th>\n",
              "      <th>aspect_ratio</th>\n",
              "      <th>duration.1</th>\n",
              "      <th>budget</th>\n",
              "      <th>imdb_score</th>\n",
              "    </tr>\n",
              "  </thead>\n",
              "  <tbody>\n",
              "    <tr>\n",
              "      <th>0</th>\n",
              "      <td>True</td>\n",
              "      <td>True</td>\n",
              "      <td>True</td>\n",
              "      <td>True</td>\n",
              "      <td>True</td>\n",
              "      <td>True</td>\n",
              "      <td>True</td>\n",
              "    </tr>\n",
              "    <tr>\n",
              "      <th>1</th>\n",
              "      <td>True</td>\n",
              "      <td>True</td>\n",
              "      <td>False</td>\n",
              "      <td>False</td>\n",
              "      <td>False</td>\n",
              "      <td>False</td>\n",
              "      <td>True</td>\n",
              "    </tr>\n",
              "    <tr>\n",
              "      <th>2</th>\n",
              "      <td>True</td>\n",
              "      <td>True</td>\n",
              "      <td>True</td>\n",
              "      <td>True</td>\n",
              "      <td>True</td>\n",
              "      <td>True</td>\n",
              "      <td>True</td>\n",
              "    </tr>\n",
              "    <tr>\n",
              "      <th>3</th>\n",
              "      <td>True</td>\n",
              "      <td>True</td>\n",
              "      <td>True</td>\n",
              "      <td>True</td>\n",
              "      <td>True</td>\n",
              "      <td>True</td>\n",
              "      <td>True</td>\n",
              "    </tr>\n",
              "    <tr>\n",
              "      <th>4</th>\n",
              "      <td>True</td>\n",
              "      <td>True</td>\n",
              "      <td>True</td>\n",
              "      <td>True</td>\n",
              "      <td>True</td>\n",
              "      <td>True</td>\n",
              "      <td>True</td>\n",
              "    </tr>\n",
              "    <tr>\n",
              "      <th>...</th>\n",
              "      <td>...</td>\n",
              "      <td>...</td>\n",
              "      <td>...</td>\n",
              "      <td>...</td>\n",
              "      <td>...</td>\n",
              "      <td>...</td>\n",
              "      <td>...</td>\n",
              "    </tr>\n",
              "    <tr>\n",
              "      <th>4378</th>\n",
              "      <td>True</td>\n",
              "      <td>True</td>\n",
              "      <td>True</td>\n",
              "      <td>True</td>\n",
              "      <td>True</td>\n",
              "      <td>True</td>\n",
              "      <td>True</td>\n",
              "    </tr>\n",
              "    <tr>\n",
              "      <th>4379</th>\n",
              "      <td>True</td>\n",
              "      <td>True</td>\n",
              "      <td>True</td>\n",
              "      <td>False</td>\n",
              "      <td>True</td>\n",
              "      <td>True</td>\n",
              "      <td>True</td>\n",
              "    </tr>\n",
              "    <tr>\n",
              "      <th>4380</th>\n",
              "      <td>True</td>\n",
              "      <td>True</td>\n",
              "      <td>True</td>\n",
              "      <td>False</td>\n",
              "      <td>True</td>\n",
              "      <td>True</td>\n",
              "      <td>True</td>\n",
              "    </tr>\n",
              "    <tr>\n",
              "      <th>4382</th>\n",
              "      <td>True</td>\n",
              "      <td>True</td>\n",
              "      <td>True</td>\n",
              "      <td>True</td>\n",
              "      <td>True</td>\n",
              "      <td>False</td>\n",
              "      <td>True</td>\n",
              "    </tr>\n",
              "    <tr>\n",
              "      <th>4384</th>\n",
              "      <td>True</td>\n",
              "      <td>True</td>\n",
              "      <td>True</td>\n",
              "      <td>True</td>\n",
              "      <td>True</td>\n",
              "      <td>True</td>\n",
              "      <td>True</td>\n",
              "    </tr>\n",
              "  </tbody>\n",
              "</table>\n",
              "<p>4104 rows × 7 columns</p>\n",
              "</div>"
            ],
            "text/plain": [
              "      production_budget  worldwide_gross  title_year  aspect_ratio  \\\n",
              "0                  True             True        True          True   \n",
              "1                  True             True       False         False   \n",
              "2                  True             True        True          True   \n",
              "3                  True             True        True          True   \n",
              "4                  True             True        True          True   \n",
              "...                 ...              ...         ...           ...   \n",
              "4378               True             True        True          True   \n",
              "4379               True             True        True         False   \n",
              "4380               True             True        True         False   \n",
              "4382               True             True        True          True   \n",
              "4384               True             True        True          True   \n",
              "\n",
              "      duration.1  budget  imdb_score  \n",
              "0           True    True        True  \n",
              "1          False   False        True  \n",
              "2           True    True        True  \n",
              "3           True    True        True  \n",
              "4           True    True        True  \n",
              "...          ...     ...         ...  \n",
              "4378        True    True        True  \n",
              "4379        True    True        True  \n",
              "4380        True    True        True  \n",
              "4382        True   False        True  \n",
              "4384        True    True        True  \n",
              "\n",
              "[4104 rows x 7 columns]"
            ]
          },
          "metadata": {
            "tags": []
          },
          "execution_count": 171
        }
      ]
    },
    {
      "cell_type": "code",
      "metadata": {
        "id": "XqBLRjuLquTb",
        "outputId": "fac03596-bfc7-4677-a8b4-ada42c4d4189"
      },
      "source": [
        "#APPLY nos indica cuantos son los datos faltantes x ejemplo hay 274 datos faltantes de aspect ratio\n",
        "movies_v2.notnull().apply(pd.Series.value_counts)"
      ],
      "execution_count": null,
      "outputs": [
        {
          "output_type": "execute_result",
          "data": {
            "text/html": [
              "<div>\n",
              "<style scoped>\n",
              "    .dataframe tbody tr th:only-of-type {\n",
              "        vertical-align: middle;\n",
              "    }\n",
              "\n",
              "    .dataframe tbody tr th {\n",
              "        vertical-align: top;\n",
              "    }\n",
              "\n",
              "    .dataframe thead th {\n",
              "        text-align: right;\n",
              "    }\n",
              "</style>\n",
              "<table border=\"1\" class=\"dataframe\">\n",
              "  <thead>\n",
              "    <tr style=\"text-align: right;\">\n",
              "      <th></th>\n",
              "      <th>production_budget</th>\n",
              "      <th>worldwide_gross</th>\n",
              "      <th>title_year</th>\n",
              "      <th>aspect_ratio</th>\n",
              "      <th>duration.1</th>\n",
              "      <th>budget</th>\n",
              "      <th>imdb_score</th>\n",
              "    </tr>\n",
              "  </thead>\n",
              "  <tbody>\n",
              "    <tr>\n",
              "      <th>False</th>\n",
              "      <td>NaN</td>\n",
              "      <td>NaN</td>\n",
              "      <td>27</td>\n",
              "      <td>162</td>\n",
              "      <td>10</td>\n",
              "      <td>299</td>\n",
              "      <td>NaN</td>\n",
              "    </tr>\n",
              "    <tr>\n",
              "      <th>True</th>\n",
              "      <td>4104.0</td>\n",
              "      <td>4104.0</td>\n",
              "      <td>4077</td>\n",
              "      <td>3942</td>\n",
              "      <td>4094</td>\n",
              "      <td>3805</td>\n",
              "      <td>4104.0</td>\n",
              "    </tr>\n",
              "  </tbody>\n",
              "</table>\n",
              "</div>"
            ],
            "text/plain": [
              "       production_budget  worldwide_gross  title_year  aspect_ratio  \\\n",
              "False                NaN              NaN          27           162   \n",
              "True              4104.0           4104.0        4077          3942   \n",
              "\n",
              "       duration.1  budget  imdb_score  \n",
              "False          10     299         NaN  \n",
              "True         4094    3805      4104.0  "
            ]
          },
          "metadata": {
            "tags": []
          },
          "execution_count": 172
        }
      ]
    },
    {
      "cell_type": "code",
      "metadata": {
        "id": "fQxSadtJquTo",
        "outputId": "7145be03-e103-4702-c94a-c3b86eb2a365"
      },
      "source": [
        "# nos indica cuantos datos tienen datos nulos\n",
        "(movies_v2 != 0).apply(pd.Series.value_counts)"
      ],
      "execution_count": null,
      "outputs": [
        {
          "output_type": "execute_result",
          "data": {
            "text/html": [
              "<div>\n",
              "<style scoped>\n",
              "    .dataframe tbody tr th:only-of-type {\n",
              "        vertical-align: middle;\n",
              "    }\n",
              "\n",
              "    .dataframe tbody tr th {\n",
              "        vertical-align: top;\n",
              "    }\n",
              "\n",
              "    .dataframe thead th {\n",
              "        text-align: right;\n",
              "    }\n",
              "</style>\n",
              "<table border=\"1\" class=\"dataframe\">\n",
              "  <thead>\n",
              "    <tr style=\"text-align: right;\">\n",
              "      <th></th>\n",
              "      <th>production_budget</th>\n",
              "      <th>worldwide_gross</th>\n",
              "      <th>title_year</th>\n",
              "      <th>aspect_ratio</th>\n",
              "      <th>duration.1</th>\n",
              "      <th>budget</th>\n",
              "      <th>imdb_score</th>\n",
              "    </tr>\n",
              "  </thead>\n",
              "  <tbody>\n",
              "    <tr>\n",
              "      <th>True</th>\n",
              "      <td>4104</td>\n",
              "      <td>4104</td>\n",
              "      <td>4104</td>\n",
              "      <td>4104</td>\n",
              "      <td>4104</td>\n",
              "      <td>4104</td>\n",
              "      <td>4104</td>\n",
              "    </tr>\n",
              "  </tbody>\n",
              "</table>\n",
              "</div>"
            ],
            "text/plain": [
              "      production_budget  worldwide_gross  title_year  aspect_ratio  \\\n",
              "True               4104             4104        4104          4104   \n",
              "\n",
              "      duration.1  budget  imdb_score  \n",
              "True        4104    4104        4104  "
            ]
          },
          "metadata": {
            "tags": []
          },
          "execution_count": 173
        }
      ]
    },
    {
      "cell_type": "code",
      "metadata": {
        "id": "JU8WvzMSquT4",
        "outputId": "1e922f7f-8727-4f05-d88c-1961aaaaaf7a"
      },
      "source": [
        "available = ((movies_v2 != 0) & (movies_v2.notnull()))\n",
        "available"
      ],
      "execution_count": null,
      "outputs": [
        {
          "output_type": "execute_result",
          "data": {
            "text/html": [
              "<div>\n",
              "<style scoped>\n",
              "    .dataframe tbody tr th:only-of-type {\n",
              "        vertical-align: middle;\n",
              "    }\n",
              "\n",
              "    .dataframe tbody tr th {\n",
              "        vertical-align: top;\n",
              "    }\n",
              "\n",
              "    .dataframe thead th {\n",
              "        text-align: right;\n",
              "    }\n",
              "</style>\n",
              "<table border=\"1\" class=\"dataframe\">\n",
              "  <thead>\n",
              "    <tr style=\"text-align: right;\">\n",
              "      <th></th>\n",
              "      <th>production_budget</th>\n",
              "      <th>worldwide_gross</th>\n",
              "      <th>title_year</th>\n",
              "      <th>aspect_ratio</th>\n",
              "      <th>duration.1</th>\n",
              "      <th>budget</th>\n",
              "      <th>imdb_score</th>\n",
              "    </tr>\n",
              "  </thead>\n",
              "  <tbody>\n",
              "    <tr>\n",
              "      <th>0</th>\n",
              "      <td>True</td>\n",
              "      <td>True</td>\n",
              "      <td>True</td>\n",
              "      <td>True</td>\n",
              "      <td>True</td>\n",
              "      <td>True</td>\n",
              "      <td>True</td>\n",
              "    </tr>\n",
              "    <tr>\n",
              "      <th>1</th>\n",
              "      <td>True</td>\n",
              "      <td>True</td>\n",
              "      <td>False</td>\n",
              "      <td>False</td>\n",
              "      <td>False</td>\n",
              "      <td>False</td>\n",
              "      <td>True</td>\n",
              "    </tr>\n",
              "    <tr>\n",
              "      <th>2</th>\n",
              "      <td>True</td>\n",
              "      <td>True</td>\n",
              "      <td>True</td>\n",
              "      <td>True</td>\n",
              "      <td>True</td>\n",
              "      <td>True</td>\n",
              "      <td>True</td>\n",
              "    </tr>\n",
              "    <tr>\n",
              "      <th>3</th>\n",
              "      <td>True</td>\n",
              "      <td>True</td>\n",
              "      <td>True</td>\n",
              "      <td>True</td>\n",
              "      <td>True</td>\n",
              "      <td>True</td>\n",
              "      <td>True</td>\n",
              "    </tr>\n",
              "    <tr>\n",
              "      <th>4</th>\n",
              "      <td>True</td>\n",
              "      <td>True</td>\n",
              "      <td>True</td>\n",
              "      <td>True</td>\n",
              "      <td>True</td>\n",
              "      <td>True</td>\n",
              "      <td>True</td>\n",
              "    </tr>\n",
              "    <tr>\n",
              "      <th>...</th>\n",
              "      <td>...</td>\n",
              "      <td>...</td>\n",
              "      <td>...</td>\n",
              "      <td>...</td>\n",
              "      <td>...</td>\n",
              "      <td>...</td>\n",
              "      <td>...</td>\n",
              "    </tr>\n",
              "    <tr>\n",
              "      <th>4378</th>\n",
              "      <td>True</td>\n",
              "      <td>True</td>\n",
              "      <td>True</td>\n",
              "      <td>True</td>\n",
              "      <td>True</td>\n",
              "      <td>True</td>\n",
              "      <td>True</td>\n",
              "    </tr>\n",
              "    <tr>\n",
              "      <th>4379</th>\n",
              "      <td>True</td>\n",
              "      <td>True</td>\n",
              "      <td>True</td>\n",
              "      <td>False</td>\n",
              "      <td>True</td>\n",
              "      <td>True</td>\n",
              "      <td>True</td>\n",
              "    </tr>\n",
              "    <tr>\n",
              "      <th>4380</th>\n",
              "      <td>True</td>\n",
              "      <td>True</td>\n",
              "      <td>True</td>\n",
              "      <td>False</td>\n",
              "      <td>True</td>\n",
              "      <td>True</td>\n",
              "      <td>True</td>\n",
              "    </tr>\n",
              "    <tr>\n",
              "      <th>4382</th>\n",
              "      <td>True</td>\n",
              "      <td>True</td>\n",
              "      <td>True</td>\n",
              "      <td>True</td>\n",
              "      <td>True</td>\n",
              "      <td>False</td>\n",
              "      <td>True</td>\n",
              "    </tr>\n",
              "    <tr>\n",
              "      <th>4384</th>\n",
              "      <td>True</td>\n",
              "      <td>True</td>\n",
              "      <td>True</td>\n",
              "      <td>True</td>\n",
              "      <td>True</td>\n",
              "      <td>True</td>\n",
              "      <td>True</td>\n",
              "    </tr>\n",
              "  </tbody>\n",
              "</table>\n",
              "<p>4104 rows × 7 columns</p>\n",
              "</div>"
            ],
            "text/plain": [
              "      production_budget  worldwide_gross  title_year  aspect_ratio  \\\n",
              "0                  True             True        True          True   \n",
              "1                  True             True       False         False   \n",
              "2                  True             True        True          True   \n",
              "3                  True             True        True          True   \n",
              "4                  True             True        True          True   \n",
              "...                 ...              ...         ...           ...   \n",
              "4378               True             True        True          True   \n",
              "4379               True             True        True         False   \n",
              "4380               True             True        True         False   \n",
              "4382               True             True        True          True   \n",
              "4384               True             True        True          True   \n",
              "\n",
              "      duration.1  budget  imdb_score  \n",
              "0           True    True        True  \n",
              "1          False   False        True  \n",
              "2           True    True        True  \n",
              "3           True    True        True  \n",
              "4           True    True        True  \n",
              "...          ...     ...         ...  \n",
              "4378        True    True        True  \n",
              "4379        True    True        True  \n",
              "4380        True    True        True  \n",
              "4382        True   False        True  \n",
              "4384        True    True        True  \n",
              "\n",
              "[4104 rows x 7 columns]"
            ]
          },
          "metadata": {
            "tags": []
          },
          "execution_count": 174
        }
      ]
    },
    {
      "cell_type": "code",
      "metadata": {
        "id": "hSbNHQ_vquT-",
        "outputId": "92e1ba09-08d1-4838-be21-bfa48c8fbccf"
      },
      "source": [
        "available.all(axis=1)"
      ],
      "execution_count": null,
      "outputs": [
        {
          "output_type": "execute_result",
          "data": {
            "text/plain": [
              "0        True\n",
              "1       False\n",
              "2        True\n",
              "3        True\n",
              "4        True\n",
              "        ...  \n",
              "4378     True\n",
              "4379    False\n",
              "4380    False\n",
              "4382    False\n",
              "4384     True\n",
              "Length: 4104, dtype: bool"
            ]
          },
          "metadata": {
            "tags": []
          },
          "execution_count": 175
        }
      ]
    },
    {
      "cell_type": "code",
      "metadata": {
        "id": "0UBoUECvquUD",
        "outputId": "55bd53cd-d01a-41a1-ac4f-9ebcbea2ad62"
      },
      "source": [
        "#Cuantos lineas tienen vaores falsos\n",
        "available.all(axis=1).value_counts()"
      ],
      "execution_count": null,
      "outputs": [
        {
          "output_type": "execute_result",
          "data": {
            "text/plain": [
              "True     3693\n",
              "False     411\n",
              "dtype: int64"
            ]
          },
          "metadata": {
            "tags": []
          },
          "execution_count": 176
        }
      ]
    },
    {
      "cell_type": "markdown",
      "metadata": {
        "id": "YNohbSgpquUJ"
      },
      "source": [
        "\n",
        "No podemos entrenar nuestro algoritmo con datos cuya variable objetivo no esta definida o sea nula (valor falso). Eliminemos esas líneas."
      ]
    },
    {
      "cell_type": "code",
      "metadata": {
        "id": "o4Wuh5b3quUK",
        "outputId": "e8ae9a4c-671b-4cfc-9949-99d5bacc9c31"
      },
      "source": [
        "#Cuando la variable objetivo esta disponible o no\n",
        "mask = available['worldwide_gross']\n",
        "mask"
      ],
      "execution_count": null,
      "outputs": [
        {
          "output_type": "execute_result",
          "data": {
            "text/plain": [
              "0       True\n",
              "1       True\n",
              "2       True\n",
              "3       True\n",
              "4       True\n",
              "        ... \n",
              "4378    True\n",
              "4379    True\n",
              "4380    True\n",
              "4382    True\n",
              "4384    True\n",
              "Name: worldwide_gross, Length: 4104, dtype: bool"
            ]
          },
          "metadata": {
            "tags": []
          },
          "execution_count": 177
        }
      ]
    },
    {
      "cell_type": "code",
      "metadata": {
        "id": "1zpPEWSLquUN"
      },
      "source": [
        "movies_v2 = movies_v2[mask]"
      ],
      "execution_count": null,
      "outputs": []
    },
    {
      "cell_type": "code",
      "metadata": {
        "id": "ZiXx_F0HquUT",
        "outputId": "b6977945-d889-477e-c805-530d2b746ba9"
      },
      "source": [
        "# esto nos indica cuanto no son faltante ni nulos \n",
        "((movies_v2 != 0) & (movies_v2.notnull())).worldwide_gross.value_counts()"
      ],
      "execution_count": null,
      "outputs": [
        {
          "output_type": "execute_result",
          "data": {
            "text/plain": [
              "True    4104\n",
              "Name: worldwide_gross, dtype: int64"
            ]
          },
          "metadata": {
            "tags": []
          },
          "execution_count": 179
        }
      ]
    },
    {
      "cell_type": "markdown",
      "metadata": {
        "id": "hA7ojiH1quUZ"
      },
      "source": [
        "En el caso de las features que no son la variable objetivo una mejor solución para lidiar con los datos faltantes es remplazar estos datos por otros que sean manejables y no afecten la calidad de las predicciones. La estrategia más comun es utilizar la media de todos los ejemplos para la feature dada."
      ]
    },
    {
      "cell_type": "code",
      "metadata": {
        "id": "sAPUzTfWquUa",
        "outputId": "8b0ee3bf-f02e-47d6-fa1b-ad33fa25f954"
      },
      "source": [
        "\n",
        "movies_v2.head()"
      ],
      "execution_count": null,
      "outputs": [
        {
          "output_type": "execute_result",
          "data": {
            "text/html": [
              "<div>\n",
              "<style scoped>\n",
              "    .dataframe tbody tr th:only-of-type {\n",
              "        vertical-align: middle;\n",
              "    }\n",
              "\n",
              "    .dataframe tbody tr th {\n",
              "        vertical-align: top;\n",
              "    }\n",
              "\n",
              "    .dataframe thead th {\n",
              "        text-align: right;\n",
              "    }\n",
              "</style>\n",
              "<table border=\"1\" class=\"dataframe\">\n",
              "  <thead>\n",
              "    <tr style=\"text-align: right;\">\n",
              "      <th></th>\n",
              "      <th>production_budget</th>\n",
              "      <th>worldwide_gross</th>\n",
              "      <th>title_year</th>\n",
              "      <th>aspect_ratio</th>\n",
              "      <th>duration.1</th>\n",
              "      <th>budget</th>\n",
              "      <th>imdb_score</th>\n",
              "    </tr>\n",
              "  </thead>\n",
              "  <tbody>\n",
              "    <tr>\n",
              "      <th>0</th>\n",
              "      <td>425000000</td>\n",
              "      <td>2783918982</td>\n",
              "      <td>2009.0</td>\n",
              "      <td>1.78</td>\n",
              "      <td>178.0</td>\n",
              "      <td>237000000.0</td>\n",
              "      <td>7.9</td>\n",
              "    </tr>\n",
              "    <tr>\n",
              "      <th>1</th>\n",
              "      <td>306000000</td>\n",
              "      <td>2058662225</td>\n",
              "      <td>NaN</td>\n",
              "      <td>NaN</td>\n",
              "      <td>NaN</td>\n",
              "      <td>NaN</td>\n",
              "      <td>7.1</td>\n",
              "    </tr>\n",
              "    <tr>\n",
              "      <th>2</th>\n",
              "      <td>300000000</td>\n",
              "      <td>963420425</td>\n",
              "      <td>2007.0</td>\n",
              "      <td>2.35</td>\n",
              "      <td>169.0</td>\n",
              "      <td>300000000.0</td>\n",
              "      <td>7.1</td>\n",
              "    </tr>\n",
              "    <tr>\n",
              "      <th>3</th>\n",
              "      <td>300000000</td>\n",
              "      <td>879620923</td>\n",
              "      <td>2015.0</td>\n",
              "      <td>2.35</td>\n",
              "      <td>148.0</td>\n",
              "      <td>245000000.0</td>\n",
              "      <td>6.8</td>\n",
              "    </tr>\n",
              "    <tr>\n",
              "      <th>4</th>\n",
              "      <td>275000000</td>\n",
              "      <td>1084439099</td>\n",
              "      <td>2012.0</td>\n",
              "      <td>2.35</td>\n",
              "      <td>164.0</td>\n",
              "      <td>250000000.0</td>\n",
              "      <td>8.5</td>\n",
              "    </tr>\n",
              "  </tbody>\n",
              "</table>\n",
              "</div>"
            ],
            "text/plain": [
              "   production_budget  worldwide_gross  title_year  aspect_ratio  duration.1  \\\n",
              "0          425000000       2783918982      2009.0          1.78       178.0   \n",
              "1          306000000       2058662225         NaN           NaN         NaN   \n",
              "2          300000000        963420425      2007.0          2.35       169.0   \n",
              "3          300000000        879620923      2015.0          2.35       148.0   \n",
              "4          275000000       1084439099      2012.0          2.35       164.0   \n",
              "\n",
              "        budget  imdb_score  \n",
              "0  237000000.0         7.9  \n",
              "1          NaN         7.1  \n",
              "2  300000000.0         7.1  \n",
              "3  245000000.0         6.8  \n",
              "4  250000000.0         8.5  "
            ]
          },
          "metadata": {
            "tags": []
          },
          "execution_count": 186
        }
      ]
    },
    {
      "cell_type": "code",
      "metadata": {
        "id": "c9vrb02qquUe",
        "outputId": "9e4543e6-4132-40ef-e96f-7b4592cfb053"
      },
      "source": [
        "len(movies_v2)"
      ],
      "execution_count": null,
      "outputs": [
        {
          "output_type": "execute_result",
          "data": {
            "text/plain": [
              "4104"
            ]
          },
          "metadata": {
            "tags": []
          },
          "execution_count": 188
        }
      ]
    },
    {
      "cell_type": "code",
      "metadata": {
        "id": "HFlYpKRkquUi"
      },
      "source": [
        "from sklearn.impute import SimpleImputer \n",
        "imputer = SimpleImputer(missing_values=np.nan, strategy='mean')\n"
      ],
      "execution_count": null,
      "outputs": []
    },
    {
      "cell_type": "code",
      "metadata": {
        "id": "_LEfLKWJquUn",
        "outputId": "74fc6cb8-3381-4dd9-f781-6ef5c6b238f1"
      },
      "source": [
        "movies_v2"
      ],
      "execution_count": null,
      "outputs": [
        {
          "output_type": "execute_result",
          "data": {
            "text/html": [
              "<div>\n",
              "<style scoped>\n",
              "    .dataframe tbody tr th:only-of-type {\n",
              "        vertical-align: middle;\n",
              "    }\n",
              "\n",
              "    .dataframe tbody tr th {\n",
              "        vertical-align: top;\n",
              "    }\n",
              "\n",
              "    .dataframe thead th {\n",
              "        text-align: right;\n",
              "    }\n",
              "</style>\n",
              "<table border=\"1\" class=\"dataframe\">\n",
              "  <thead>\n",
              "    <tr style=\"text-align: right;\">\n",
              "      <th></th>\n",
              "      <th>production_budget</th>\n",
              "      <th>worldwide_gross</th>\n",
              "      <th>title_year</th>\n",
              "      <th>aspect_ratio</th>\n",
              "      <th>duration.1</th>\n",
              "      <th>budget</th>\n",
              "      <th>imdb_score</th>\n",
              "    </tr>\n",
              "  </thead>\n",
              "  <tbody>\n",
              "    <tr>\n",
              "      <th>0</th>\n",
              "      <td>425000000</td>\n",
              "      <td>2783918982</td>\n",
              "      <td>2009.0</td>\n",
              "      <td>1.78</td>\n",
              "      <td>178.0</td>\n",
              "      <td>237000000.0</td>\n",
              "      <td>7.9</td>\n",
              "    </tr>\n",
              "    <tr>\n",
              "      <th>1</th>\n",
              "      <td>306000000</td>\n",
              "      <td>2058662225</td>\n",
              "      <td>NaN</td>\n",
              "      <td>NaN</td>\n",
              "      <td>NaN</td>\n",
              "      <td>NaN</td>\n",
              "      <td>7.1</td>\n",
              "    </tr>\n",
              "    <tr>\n",
              "      <th>2</th>\n",
              "      <td>300000000</td>\n",
              "      <td>963420425</td>\n",
              "      <td>2007.0</td>\n",
              "      <td>2.35</td>\n",
              "      <td>169.0</td>\n",
              "      <td>300000000.0</td>\n",
              "      <td>7.1</td>\n",
              "    </tr>\n",
              "    <tr>\n",
              "      <th>3</th>\n",
              "      <td>300000000</td>\n",
              "      <td>879620923</td>\n",
              "      <td>2015.0</td>\n",
              "      <td>2.35</td>\n",
              "      <td>148.0</td>\n",
              "      <td>245000000.0</td>\n",
              "      <td>6.8</td>\n",
              "    </tr>\n",
              "    <tr>\n",
              "      <th>4</th>\n",
              "      <td>275000000</td>\n",
              "      <td>1084439099</td>\n",
              "      <td>2012.0</td>\n",
              "      <td>2.35</td>\n",
              "      <td>164.0</td>\n",
              "      <td>250000000.0</td>\n",
              "      <td>8.5</td>\n",
              "    </tr>\n",
              "    <tr>\n",
              "      <th>...</th>\n",
              "      <td>...</td>\n",
              "      <td>...</td>\n",
              "      <td>...</td>\n",
              "      <td>...</td>\n",
              "      <td>...</td>\n",
              "      <td>...</td>\n",
              "      <td>...</td>\n",
              "    </tr>\n",
              "    <tr>\n",
              "      <th>4378</th>\n",
              "      <td>7000</td>\n",
              "      <td>841926</td>\n",
              "      <td>2004.0</td>\n",
              "      <td>1.85</td>\n",
              "      <td>77.0</td>\n",
              "      <td>7000.0</td>\n",
              "      <td>7.0</td>\n",
              "    </tr>\n",
              "    <tr>\n",
              "      <th>4379</th>\n",
              "      <td>7000</td>\n",
              "      <td>71644</td>\n",
              "      <td>2005.0</td>\n",
              "      <td>NaN</td>\n",
              "      <td>80.0</td>\n",
              "      <td>7000.0</td>\n",
              "      <td>6.3</td>\n",
              "    </tr>\n",
              "    <tr>\n",
              "      <th>4380</th>\n",
              "      <td>7000</td>\n",
              "      <td>900</td>\n",
              "      <td>2005.0</td>\n",
              "      <td>NaN</td>\n",
              "      <td>84.0</td>\n",
              "      <td>3250.0</td>\n",
              "      <td>7.8</td>\n",
              "    </tr>\n",
              "    <tr>\n",
              "      <th>4382</th>\n",
              "      <td>3967</td>\n",
              "      <td>10443</td>\n",
              "      <td>2012.0</td>\n",
              "      <td>2.35</td>\n",
              "      <td>100.0</td>\n",
              "      <td>NaN</td>\n",
              "      <td>6.3</td>\n",
              "    </tr>\n",
              "    <tr>\n",
              "      <th>4384</th>\n",
              "      <td>1100</td>\n",
              "      <td>181041</td>\n",
              "      <td>2004.0</td>\n",
              "      <td>1.85</td>\n",
              "      <td>90.0</td>\n",
              "      <td>1100.0</td>\n",
              "      <td>6.6</td>\n",
              "    </tr>\n",
              "  </tbody>\n",
              "</table>\n",
              "<p>4104 rows × 7 columns</p>\n",
              "</div>"
            ],
            "text/plain": [
              "      production_budget  worldwide_gross  title_year  aspect_ratio  \\\n",
              "0             425000000       2783918982      2009.0          1.78   \n",
              "1             306000000       2058662225         NaN           NaN   \n",
              "2             300000000        963420425      2007.0          2.35   \n",
              "3             300000000        879620923      2015.0          2.35   \n",
              "4             275000000       1084439099      2012.0          2.35   \n",
              "...                 ...              ...         ...           ...   \n",
              "4378               7000           841926      2004.0          1.85   \n",
              "4379               7000            71644      2005.0           NaN   \n",
              "4380               7000              900      2005.0           NaN   \n",
              "4382               3967            10443      2012.0          2.35   \n",
              "4384               1100           181041      2004.0          1.85   \n",
              "\n",
              "      duration.1       budget  imdb_score  \n",
              "0          178.0  237000000.0         7.9  \n",
              "1            NaN          NaN         7.1  \n",
              "2          169.0  300000000.0         7.1  \n",
              "3          148.0  245000000.0         6.8  \n",
              "4          164.0  250000000.0         8.5  \n",
              "...          ...          ...         ...  \n",
              "4378        77.0       7000.0         7.0  \n",
              "4379        80.0       7000.0         6.3  \n",
              "4380        84.0       3250.0         7.8  \n",
              "4382       100.0          NaN         6.3  \n",
              "4384        90.0       1100.0         6.6  \n",
              "\n",
              "[4104 rows x 7 columns]"
            ]
          },
          "metadata": {
            "tags": []
          },
          "execution_count": 103
        }
      ]
    },
    {
      "cell_type": "code",
      "metadata": {
        "id": "PexaGigKquUq",
        "outputId": "101d2d2d-6ce2-42dc-f163-4a87a774794c"
      },
      "source": [
        "\n",
        "values = imputer.fit_transform(movies_v2)\n",
        "X = pd.DataFrame(values)\n",
        "X.columns = movies_v2.columns\n",
        "X.index = movies_v2.index\n",
        "X.head()"
      ],
      "execution_count": null,
      "outputs": [
        {
          "output_type": "execute_result",
          "data": {
            "text/html": [
              "<div>\n",
              "<style scoped>\n",
              "    .dataframe tbody tr th:only-of-type {\n",
              "        vertical-align: middle;\n",
              "    }\n",
              "\n",
              "    .dataframe tbody tr th {\n",
              "        vertical-align: top;\n",
              "    }\n",
              "\n",
              "    .dataframe thead th {\n",
              "        text-align: right;\n",
              "    }\n",
              "</style>\n",
              "<table border=\"1\" class=\"dataframe\">\n",
              "  <thead>\n",
              "    <tr style=\"text-align: right;\">\n",
              "      <th></th>\n",
              "      <th>production_budget</th>\n",
              "      <th>worldwide_gross</th>\n",
              "      <th>title_year</th>\n",
              "      <th>aspect_ratio</th>\n",
              "      <th>duration.1</th>\n",
              "      <th>budget</th>\n",
              "      <th>imdb_score</th>\n",
              "    </tr>\n",
              "  </thead>\n",
              "  <tbody>\n",
              "    <tr>\n",
              "      <th>0</th>\n",
              "      <td>425000000.0</td>\n",
              "      <td>2.783919e+09</td>\n",
              "      <td>2009.000000</td>\n",
              "      <td>1.780000</td>\n",
              "      <td>178.000000</td>\n",
              "      <td>2.370000e+08</td>\n",
              "      <td>7.9</td>\n",
              "    </tr>\n",
              "    <tr>\n",
              "      <th>1</th>\n",
              "      <td>306000000.0</td>\n",
              "      <td>2.058662e+09</td>\n",
              "      <td>2002.130733</td>\n",
              "      <td>2.126976</td>\n",
              "      <td>108.577186</td>\n",
              "      <td>4.045539e+07</td>\n",
              "      <td>7.1</td>\n",
              "    </tr>\n",
              "    <tr>\n",
              "      <th>2</th>\n",
              "      <td>300000000.0</td>\n",
              "      <td>9.634204e+08</td>\n",
              "      <td>2007.000000</td>\n",
              "      <td>2.350000</td>\n",
              "      <td>169.000000</td>\n",
              "      <td>3.000000e+08</td>\n",
              "      <td>7.1</td>\n",
              "    </tr>\n",
              "    <tr>\n",
              "      <th>3</th>\n",
              "      <td>300000000.0</td>\n",
              "      <td>8.796209e+08</td>\n",
              "      <td>2015.000000</td>\n",
              "      <td>2.350000</td>\n",
              "      <td>148.000000</td>\n",
              "      <td>2.450000e+08</td>\n",
              "      <td>6.8</td>\n",
              "    </tr>\n",
              "    <tr>\n",
              "      <th>4</th>\n",
              "      <td>275000000.0</td>\n",
              "      <td>1.084439e+09</td>\n",
              "      <td>2012.000000</td>\n",
              "      <td>2.350000</td>\n",
              "      <td>164.000000</td>\n",
              "      <td>2.500000e+08</td>\n",
              "      <td>8.5</td>\n",
              "    </tr>\n",
              "  </tbody>\n",
              "</table>\n",
              "</div>"
            ],
            "text/plain": [
              "   production_budget  worldwide_gross   title_year  aspect_ratio  duration.1  \\\n",
              "0        425000000.0     2.783919e+09  2009.000000      1.780000  178.000000   \n",
              "1        306000000.0     2.058662e+09  2002.130733      2.126976  108.577186   \n",
              "2        300000000.0     9.634204e+08  2007.000000      2.350000  169.000000   \n",
              "3        300000000.0     8.796209e+08  2015.000000      2.350000  148.000000   \n",
              "4        275000000.0     1.084439e+09  2012.000000      2.350000  164.000000   \n",
              "\n",
              "         budget  imdb_score  \n",
              "0  2.370000e+08         7.9  \n",
              "1  4.045539e+07         7.1  \n",
              "2  3.000000e+08         7.1  \n",
              "3  2.450000e+08         6.8  \n",
              "4  2.500000e+08         8.5  "
            ]
          },
          "metadata": {
            "tags": []
          },
          "execution_count": 190
        }
      ]
    },
    {
      "cell_type": "code",
      "metadata": {
        "id": "ZMbMsXoUquUu",
        "outputId": "9023ade7-c52a-439b-c435-6c0f9715593b"
      },
      "source": [
        "len(X)"
      ],
      "execution_count": null,
      "outputs": [
        {
          "output_type": "execute_result",
          "data": {
            "text/plain": [
              "4104"
            ]
          },
          "metadata": {
            "tags": []
          },
          "execution_count": 191
        }
      ]
    },
    {
      "cell_type": "code",
      "metadata": {
        "id": "mhNbIW9YquU0",
        "outputId": "c369a96e-18fc-4a28-cbfd-820699d17bc8"
      },
      "source": [
        "\n",
        "movies_v2.values"
      ],
      "execution_count": null,
      "outputs": [
        {
          "output_type": "execute_result",
          "data": {
            "text/plain": [
              "array([[4.25000000e+08, 2.78391898e+09, 2.00900000e+03, ...,\n",
              "        1.78000000e+02, 2.37000000e+08, 7.90000000e+00],\n",
              "       [3.06000000e+08, 2.05866222e+09,            nan, ...,\n",
              "                   nan,            nan, 7.10000000e+00],\n",
              "       [3.00000000e+08, 9.63420425e+08, 2.00700000e+03, ...,\n",
              "        1.69000000e+02, 3.00000000e+08, 7.10000000e+00],\n",
              "       ...,\n",
              "       [7.00000000e+03, 9.00000000e+02, 2.00500000e+03, ...,\n",
              "        8.40000000e+01, 3.25000000e+03, 7.80000000e+00],\n",
              "       [3.96700000e+03, 1.04430000e+04, 2.01200000e+03, ...,\n",
              "        1.00000000e+02,            nan, 6.30000000e+00],\n",
              "       [1.10000000e+03, 1.81041000e+05, 2.00400000e+03, ...,\n",
              "        9.00000000e+01, 1.10000000e+03, 6.60000000e+00]])"
            ]
          },
          "metadata": {
            "tags": []
          },
          "execution_count": 192
        }
      ]
    },
    {
      "cell_type": "code",
      "metadata": {
        "id": "HCgL2GgMquU-",
        "outputId": "47ef75b0-ca3e-4cf7-e3f9-2418b035cfe4"
      },
      "source": [
        "values"
      ],
      "execution_count": null,
      "outputs": [
        {
          "output_type": "execute_result",
          "data": {
            "text/plain": [
              "array([[4.25000000e+08, 2.78391898e+09, 2.00900000e+03, ...,\n",
              "        1.78000000e+02, 2.37000000e+08, 7.90000000e+00],\n",
              "       [3.06000000e+08, 2.05866222e+09, 2.00213073e+03, ...,\n",
              "        1.08577186e+02, 4.04553863e+07, 7.10000000e+00],\n",
              "       [3.00000000e+08, 9.63420425e+08, 2.00700000e+03, ...,\n",
              "        1.69000000e+02, 3.00000000e+08, 7.10000000e+00],\n",
              "       ...,\n",
              "       [7.00000000e+03, 9.00000000e+02, 2.00500000e+03, ...,\n",
              "        8.40000000e+01, 3.25000000e+03, 7.80000000e+00],\n",
              "       [3.96700000e+03, 1.04430000e+04, 2.01200000e+03, ...,\n",
              "        1.00000000e+02, 4.04553863e+07, 6.30000000e+00],\n",
              "       [1.10000000e+03, 1.81041000e+05, 2.00400000e+03, ...,\n",
              "        9.00000000e+01, 1.10000000e+03, 6.60000000e+00]])"
            ]
          },
          "metadata": {
            "tags": []
          },
          "execution_count": 193
        }
      ]
    },
    {
      "cell_type": "code",
      "metadata": {
        "id": "VGHcFcxvquVL",
        "outputId": "7072517a-1aac-4609-fdf0-18429f0f8a34"
      },
      "source": [
        "values = imputer.fit_transform(movies_v2)\n",
        "X = pd.DataFrame(values)\n",
        "X.columns = movies_v2.columns\n",
        "X.index = movies_v2.index\n",
        "X.head()"
      ],
      "execution_count": null,
      "outputs": [
        {
          "output_type": "execute_result",
          "data": {
            "text/html": [
              "<div>\n",
              "<style scoped>\n",
              "    .dataframe tbody tr th:only-of-type {\n",
              "        vertical-align: middle;\n",
              "    }\n",
              "\n",
              "    .dataframe tbody tr th {\n",
              "        vertical-align: top;\n",
              "    }\n",
              "\n",
              "    .dataframe thead th {\n",
              "        text-align: right;\n",
              "    }\n",
              "</style>\n",
              "<table border=\"1\" class=\"dataframe\">\n",
              "  <thead>\n",
              "    <tr style=\"text-align: right;\">\n",
              "      <th></th>\n",
              "      <th>production_budget</th>\n",
              "      <th>worldwide_gross</th>\n",
              "      <th>title_year</th>\n",
              "      <th>aspect_ratio</th>\n",
              "      <th>duration.1</th>\n",
              "      <th>budget</th>\n",
              "      <th>imdb_score</th>\n",
              "    </tr>\n",
              "  </thead>\n",
              "  <tbody>\n",
              "    <tr>\n",
              "      <th>0</th>\n",
              "      <td>425000000.0</td>\n",
              "      <td>2.783919e+09</td>\n",
              "      <td>2009.000000</td>\n",
              "      <td>1.780000</td>\n",
              "      <td>178.000000</td>\n",
              "      <td>2.370000e+08</td>\n",
              "      <td>7.9</td>\n",
              "    </tr>\n",
              "    <tr>\n",
              "      <th>1</th>\n",
              "      <td>306000000.0</td>\n",
              "      <td>2.058662e+09</td>\n",
              "      <td>2002.130733</td>\n",
              "      <td>2.126976</td>\n",
              "      <td>108.577186</td>\n",
              "      <td>4.045539e+07</td>\n",
              "      <td>7.1</td>\n",
              "    </tr>\n",
              "    <tr>\n",
              "      <th>2</th>\n",
              "      <td>300000000.0</td>\n",
              "      <td>9.634204e+08</td>\n",
              "      <td>2007.000000</td>\n",
              "      <td>2.350000</td>\n",
              "      <td>169.000000</td>\n",
              "      <td>3.000000e+08</td>\n",
              "      <td>7.1</td>\n",
              "    </tr>\n",
              "    <tr>\n",
              "      <th>3</th>\n",
              "      <td>300000000.0</td>\n",
              "      <td>8.796209e+08</td>\n",
              "      <td>2015.000000</td>\n",
              "      <td>2.350000</td>\n",
              "      <td>148.000000</td>\n",
              "      <td>2.450000e+08</td>\n",
              "      <td>6.8</td>\n",
              "    </tr>\n",
              "    <tr>\n",
              "      <th>4</th>\n",
              "      <td>275000000.0</td>\n",
              "      <td>1.084439e+09</td>\n",
              "      <td>2012.000000</td>\n",
              "      <td>2.350000</td>\n",
              "      <td>164.000000</td>\n",
              "      <td>2.500000e+08</td>\n",
              "      <td>8.5</td>\n",
              "    </tr>\n",
              "  </tbody>\n",
              "</table>\n",
              "</div>"
            ],
            "text/plain": [
              "   production_budget  worldwide_gross   title_year  aspect_ratio  duration.1  \\\n",
              "0        425000000.0     2.783919e+09  2009.000000      1.780000  178.000000   \n",
              "1        306000000.0     2.058662e+09  2002.130733      2.126976  108.577186   \n",
              "2        300000000.0     9.634204e+08  2007.000000      2.350000  169.000000   \n",
              "3        300000000.0     8.796209e+08  2015.000000      2.350000  148.000000   \n",
              "4        275000000.0     1.084439e+09  2012.000000      2.350000  164.000000   \n",
              "\n",
              "         budget  imdb_score  \n",
              "0  2.370000e+08         7.9  \n",
              "1  4.045539e+07         7.1  \n",
              "2  3.000000e+08         7.1  \n",
              "3  2.450000e+08         6.8  \n",
              "4  2.500000e+08         8.5  "
            ]
          },
          "metadata": {
            "tags": []
          },
          "execution_count": 194
        }
      ]
    },
    {
      "cell_type": "code",
      "metadata": {
        "id": "C7OBTI3CquVU"
      },
      "source": [
        "# para guardar el archivo limpio\n",
        "X.to_csv('D:/TECHNOLOGY 2020/Data/resultado.csv',index=False)"
      ],
      "execution_count": null,
      "outputs": []
    },
    {
      "cell_type": "code",
      "metadata": {
        "id": "5Sx8ll2squVj",
        "outputId": "80a0bee5-5dd3-4bfb-99d1-b9b746a1fef1"
      },
      "source": [
        "pd.Series(X.index).apply(lambda x: inv_map.loc[x])"
      ],
      "execution_count": null,
      "outputs": [
        {
          "output_type": "error",
          "ename": "NameError",
          "evalue": "name 'inv_map' is not defined",
          "traceback": [
            "\u001b[1;31m---------------------------------------------------------------------------\u001b[0m",
            "\u001b[1;31mNameError\u001b[0m                                 Traceback (most recent call last)",
            "\u001b[1;32m<ipython-input-200-272a10d0982b>\u001b[0m in \u001b[0;36m<module>\u001b[1;34m\u001b[0m\n\u001b[1;32m----> 1\u001b[1;33m \u001b[0mpd\u001b[0m\u001b[1;33m.\u001b[0m\u001b[0mSeries\u001b[0m\u001b[1;33m(\u001b[0m\u001b[0mX\u001b[0m\u001b[1;33m.\u001b[0m\u001b[0mindex\u001b[0m\u001b[1;33m)\u001b[0m\u001b[1;33m.\u001b[0m\u001b[0mapply\u001b[0m\u001b[1;33m(\u001b[0m\u001b[1;32mlambda\u001b[0m \u001b[0mx\u001b[0m\u001b[1;33m:\u001b[0m \u001b[0minv_map\u001b[0m\u001b[1;33m.\u001b[0m\u001b[0mloc\u001b[0m\u001b[1;33m[\u001b[0m\u001b[0mx\u001b[0m\u001b[1;33m]\u001b[0m\u001b[1;33m)\u001b[0m\u001b[1;33m\u001b[0m\u001b[1;33m\u001b[0m\u001b[0m\n\u001b[0m",
            "\u001b[1;32m~\\Anaconda3\\envs\\ambiente2\\lib\\site-packages\\pandas\\core\\series.py\u001b[0m in \u001b[0;36mapply\u001b[1;34m(self, func, convert_dtype, args, **kwds)\u001b[0m\n\u001b[0;32m   4198\u001b[0m             \u001b[1;32melse\u001b[0m\u001b[1;33m:\u001b[0m\u001b[1;33m\u001b[0m\u001b[1;33m\u001b[0m\u001b[0m\n\u001b[0;32m   4199\u001b[0m                 \u001b[0mvalues\u001b[0m \u001b[1;33m=\u001b[0m \u001b[0mself\u001b[0m\u001b[1;33m.\u001b[0m\u001b[0mastype\u001b[0m\u001b[1;33m(\u001b[0m\u001b[0mobject\u001b[0m\u001b[1;33m)\u001b[0m\u001b[1;33m.\u001b[0m\u001b[0m_values\u001b[0m\u001b[1;33m\u001b[0m\u001b[1;33m\u001b[0m\u001b[0m\n\u001b[1;32m-> 4200\u001b[1;33m                 \u001b[0mmapped\u001b[0m \u001b[1;33m=\u001b[0m \u001b[0mlib\u001b[0m\u001b[1;33m.\u001b[0m\u001b[0mmap_infer\u001b[0m\u001b[1;33m(\u001b[0m\u001b[0mvalues\u001b[0m\u001b[1;33m,\u001b[0m \u001b[0mf\u001b[0m\u001b[1;33m,\u001b[0m \u001b[0mconvert\u001b[0m\u001b[1;33m=\u001b[0m\u001b[0mconvert_dtype\u001b[0m\u001b[1;33m)\u001b[0m\u001b[1;33m\u001b[0m\u001b[1;33m\u001b[0m\u001b[0m\n\u001b[0m\u001b[0;32m   4201\u001b[0m \u001b[1;33m\u001b[0m\u001b[0m\n\u001b[0;32m   4202\u001b[0m         \u001b[1;32mif\u001b[0m \u001b[0mlen\u001b[0m\u001b[1;33m(\u001b[0m\u001b[0mmapped\u001b[0m\u001b[1;33m)\u001b[0m \u001b[1;32mand\u001b[0m \u001b[0misinstance\u001b[0m\u001b[1;33m(\u001b[0m\u001b[0mmapped\u001b[0m\u001b[1;33m[\u001b[0m\u001b[1;36m0\u001b[0m\u001b[1;33m]\u001b[0m\u001b[1;33m,\u001b[0m \u001b[0mSeries\u001b[0m\u001b[1;33m)\u001b[0m\u001b[1;33m:\u001b[0m\u001b[1;33m\u001b[0m\u001b[1;33m\u001b[0m\u001b[0m\n",
            "\u001b[1;32mpandas\\_libs\\lib.pyx\u001b[0m in \u001b[0;36mpandas._libs.lib.map_infer\u001b[1;34m()\u001b[0m\n",
            "\u001b[1;32m<ipython-input-200-272a10d0982b>\u001b[0m in \u001b[0;36m<lambda>\u001b[1;34m(x)\u001b[0m\n\u001b[1;32m----> 1\u001b[1;33m \u001b[0mpd\u001b[0m\u001b[1;33m.\u001b[0m\u001b[0mSeries\u001b[0m\u001b[1;33m(\u001b[0m\u001b[0mX\u001b[0m\u001b[1;33m.\u001b[0m\u001b[0mindex\u001b[0m\u001b[1;33m)\u001b[0m\u001b[1;33m.\u001b[0m\u001b[0mapply\u001b[0m\u001b[1;33m(\u001b[0m\u001b[1;32mlambda\u001b[0m \u001b[0mx\u001b[0m\u001b[1;33m:\u001b[0m \u001b[0minv_map\u001b[0m\u001b[1;33m.\u001b[0m\u001b[0mloc\u001b[0m\u001b[1;33m[\u001b[0m\u001b[0mx\u001b[0m\u001b[1;33m]\u001b[0m\u001b[1;33m)\u001b[0m\u001b[1;33m\u001b[0m\u001b[1;33m\u001b[0m\u001b[0m\n\u001b[0m",
            "\u001b[1;31mNameError\u001b[0m: name 'inv_map' is not defined"
          ]
        }
      ]
    },
    {
      "cell_type": "code",
      "metadata": {
        "id": "QlLFCyybquWL"
      },
      "source": [
        "\n",
        "X.to_csv('D:/TECHNOLOGY 2020/Data/input.csv' ,index=False)"
      ],
      "execution_count": null,
      "outputs": []
    },
    {
      "cell_type": "code",
      "metadata": {
        "id": "Q3n_zgefquWQ"
      },
      "source": [
        ""
      ],
      "execution_count": null,
      "outputs": []
    }
  ]
}