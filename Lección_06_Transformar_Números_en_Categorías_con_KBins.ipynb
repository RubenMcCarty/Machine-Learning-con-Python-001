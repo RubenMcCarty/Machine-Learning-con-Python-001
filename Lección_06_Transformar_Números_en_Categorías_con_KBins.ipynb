{
  "nbformat": 4,
  "nbformat_minor": 0,
  "metadata": {
    "colab": {
      "name": "Lección_06_Transformar_Números en Categorías con KBins.ipynb",
      "provenance": [],
      "authorship_tag": "ABX9TyNY9JNJ2mtGa1rrgiL61pym",
      "include_colab_link": true
    },
    "kernelspec": {
      "name": "python3",
      "display_name": "Python 3"
    }
  },
  "cells": [
    {
      "cell_type": "markdown",
      "metadata": {
        "id": "view-in-github",
        "colab_type": "text"
      },
      "source": [
        "<a href=\"https://colab.research.google.com/github/RubenMcCarty/Machine-Learning-con-Python-001/blob/master/Lecci%C3%B3n_06_Transformar_N%C3%BAmeros_en_Categor%C3%ADas_con_KBins.ipynb\" target=\"_parent\"><img src=\"https://colab.research.google.com/assets/colab-badge.svg\" alt=\"Open In Colab\"/></a>"
      ]
    },
    {
      "cell_type": "markdown",
      "metadata": {
        "id": "o7rvh_5hpDLi"
      },
      "source": [
        "# **Lección 06: Transformar Números en Categorías con KBins**\r\n",
        "# MSc. Rubén Quispe\r\n"
      ]
    },
    {
      "cell_type": "markdown",
      "metadata": {
        "id": "mRXg16x0pV6O"
      },
      "source": [
        "En esta lección, descubrirá cómo transformar variables numéricas en variables categóricas.\r\n",
        "\r\n",
        "Algunos algoritmos de Machine Learning pueden preferir o requerir variables de entrada categóricas u ordinales, como algunos árboles de decisión y algoritmos basados ​​en reglas.\r\n",
        "\r\n",
        "Esto podría deberse a valores atípicos en los datos, distribuciones multimodales, distribuciones altamente exponenciales y más.\r\n",
        "\r\n",
        "Muchos algoritmos de Machine Learning prefieren o funcionan mejor cuando las variables de entrada numéricas con distribuciones no estándar se transforman para tener una nueva distribución o un tipo de datos completamente nuevo.\r\n",
        "\r\n",
        "Un enfoque es usar la transformada de la variable numérica para tener una distribución de probabilidad discreta donde a cada valor numérico se le asigna una etiqueta y las etiquetas tienen una relación ordenada (ordinal).\r\n",
        "\r\n",
        "Esto se denomina transformación de discretización y puede mejorar el rendimiento de algunos modelos de aprendizaje automático para conjuntos de datos al hacer que la distribución de probabilidad de las variables de entrada numéricas sea discreta.\r\n",
        "\r\n",
        "La transformación de discretización está disponible en la librería de Machine Learning de Python de scikit-learn a través de la clase KBinsDiscretizer .\r\n",
        "\r\n",
        "Le permite especificar el número de bins discretos para crear ( n_bins ), si el resultado de la transformación será una codificación ordinal o one-hot (codificación) y la distribución utilizada para dividir los valores de la variable (estrategia) , como ' uniforme '.\r\n",
        "\r\n",
        "El siguiente ejemplo crea una variable de entrada sintética con 10 variables de entrada numéricas, luego codifica cada una en 10 bins discretos con una codificación ordinal."
      ]
    },
    {
      "cell_type": "code",
      "metadata": {
        "id": "XV3inEgwpQpA"
      },
      "source": [
        "# discretize numeric input variables\r\n",
        "from sklearn.datasets import make_classification\r\n",
        "from sklearn.preprocessing import KBinsDiscretizer"
      ],
      "execution_count": 1,
      "outputs": []
    },
    {
      "cell_type": "code",
      "metadata": {
        "id": "FnrCpa6eqNCC"
      },
      "source": [
        "# define dataset\r\n",
        "X, y = make_classification(n_samples=1000, n_features=5, n_informative=5, n_redundant=0, random_state=1)"
      ],
      "execution_count": 2,
      "outputs": []
    },
    {
      "cell_type": "code",
      "metadata": {
        "colab": {
          "base_uri": "https://localhost:8080/"
        },
        "id": "fPZ2P07SqWQQ",
        "outputId": "48e3b610-f555-4789-f695-7c66c7672bc6"
      },
      "source": [
        "X"
      ],
      "execution_count": 4,
      "outputs": [
        {
          "output_type": "execute_result",
          "data": {
            "text/plain": [
              "array([[ 2.39324489, -5.77732048, -0.59062319, -2.08095322,  1.04707034],\n",
              "       [-0.45820294,  1.94683482, -2.46471441,  2.36590955, -0.73666725],\n",
              "       [ 2.35162422, -1.00061698, -0.5946091 ,  1.12531096, -0.65267587],\n",
              "       ...,\n",
              "       [ 2.75687956,  1.67376262,  0.39299534,  1.98033054,  1.05085815],\n",
              "       [-0.3257538 ,  0.86766186, -0.53730065,  0.70964207,  1.25200457],\n",
              "       [-1.73912165,  0.17810134, -3.28309556, -0.42392359, -3.73900435]])"
            ]
          },
          "metadata": {
            "tags": []
          },
          "execution_count": 4
        }
      ]
    },
    {
      "cell_type": "code",
      "metadata": {
        "colab": {
          "base_uri": "https://localhost:8080/"
        },
        "id": "vddeKbMcqX_4",
        "outputId": "aa12a3ea-0a52-4a32-bd28-f4f6cbc506af"
      },
      "source": [
        "y"
      ],
      "execution_count": 5,
      "outputs": [
        {
          "output_type": "execute_result",
          "data": {
            "text/plain": [
              "array([1, 1, 1, 0, 1, 0, 1, 1, 1, 0, 0, 0, 0, 0, 0, 1, 1, 1, 1, 1, 1, 0,\n",
              "       0, 1, 1, 1, 1, 1, 1, 0, 1, 1, 0, 1, 0, 0, 1, 1, 1, 1, 0, 0, 0, 1,\n",
              "       0, 1, 0, 1, 0, 0, 1, 0, 1, 0, 0, 1, 1, 0, 1, 0, 0, 0, 0, 0, 0, 0,\n",
              "       1, 1, 0, 0, 1, 1, 1, 0, 1, 1, 1, 0, 1, 0, 1, 1, 0, 0, 1, 0, 0, 0,\n",
              "       1, 1, 1, 1, 1, 1, 0, 0, 1, 0, 0, 1, 1, 1, 0, 0, 0, 1, 0, 0, 0, 0,\n",
              "       0, 1, 1, 0, 0, 0, 0, 0, 0, 0, 1, 1, 1, 0, 1, 0, 1, 0, 0, 1, 0, 0,\n",
              "       1, 0, 0, 0, 0, 0, 1, 1, 0, 1, 0, 1, 0, 1, 1, 1, 0, 1, 1, 1, 1, 1,\n",
              "       1, 1, 1, 0, 1, 0, 0, 1, 0, 0, 1, 1, 1, 1, 1, 0, 1, 0, 1, 1, 0, 1,\n",
              "       1, 1, 1, 0, 0, 1, 1, 1, 1, 1, 1, 1, 0, 0, 1, 0, 0, 0, 0, 0, 1, 1,\n",
              "       0, 0, 0, 1, 1, 0, 0, 0, 1, 1, 1, 0, 1, 0, 1, 0, 1, 1, 1, 1, 0, 0,\n",
              "       1, 1, 1, 0, 1, 0, 0, 0, 0, 1, 0, 1, 1, 1, 1, 0, 0, 0, 1, 1, 0, 0,\n",
              "       1, 0, 0, 1, 0, 1, 1, 1, 1, 1, 0, 1, 1, 1, 0, 1, 0, 1, 1, 0, 1, 0,\n",
              "       1, 1, 1, 1, 0, 0, 1, 0, 1, 0, 1, 0, 1, 1, 1, 0, 1, 1, 0, 0, 1, 1,\n",
              "       1, 1, 1, 1, 0, 0, 0, 1, 1, 0, 0, 1, 0, 1, 0, 1, 1, 0, 1, 1, 0, 0,\n",
              "       0, 1, 0, 0, 0, 0, 1, 1, 1, 0, 1, 1, 1, 0, 0, 0, 1, 1, 0, 0, 0, 0,\n",
              "       1, 1, 1, 1, 1, 0, 1, 0, 1, 0, 1, 1, 1, 0, 1, 0, 1, 0, 0, 1, 0, 0,\n",
              "       0, 1, 0, 0, 1, 0, 0, 0, 1, 1, 0, 1, 0, 0, 0, 0, 1, 1, 1, 1, 0, 0,\n",
              "       0, 0, 1, 1, 0, 1, 1, 1, 0, 1, 0, 1, 1, 1, 1, 1, 1, 1, 0, 1, 0, 1,\n",
              "       0, 0, 1, 1, 0, 1, 1, 1, 1, 0, 0, 1, 1, 1, 0, 1, 0, 0, 0, 1, 0, 0,\n",
              "       1, 1, 0, 0, 0, 1, 1, 1, 1, 1, 1, 0, 0, 0, 1, 1, 1, 1, 0, 0, 0, 0,\n",
              "       0, 1, 1, 1, 0, 0, 0, 1, 1, 1, 0, 1, 0, 0, 1, 1, 0, 1, 0, 0, 0, 0,\n",
              "       1, 1, 1, 0, 1, 0, 0, 0, 0, 0, 1, 0, 1, 0, 1, 1, 0, 0, 1, 0, 0, 0,\n",
              "       0, 0, 1, 0, 0, 0, 0, 1, 0, 0, 0, 1, 1, 0, 1, 0, 1, 0, 0, 0, 1, 0,\n",
              "       0, 0, 1, 0, 0, 0, 0, 1, 1, 1, 0, 1, 0, 1, 0, 1, 1, 0, 0, 0, 1, 1,\n",
              "       1, 1, 1, 0, 0, 0, 1, 0, 0, 0, 0, 1, 0, 1, 1, 1, 1, 0, 1, 1, 1, 0,\n",
              "       0, 1, 1, 0, 1, 0, 1, 1, 0, 0, 1, 0, 0, 1, 1, 1, 0, 0, 1, 0, 1, 1,\n",
              "       0, 1, 0, 1, 0, 1, 0, 1, 1, 1, 0, 0, 1, 0, 0, 0, 1, 1, 1, 0, 1, 0,\n",
              "       0, 0, 0, 0, 0, 1, 1, 0, 0, 1, 1, 1, 1, 1, 0, 0, 1, 1, 1, 0, 1, 1,\n",
              "       0, 0, 1, 1, 1, 1, 0, 0, 0, 0, 1, 1, 1, 1, 0, 0, 1, 1, 0, 0, 0, 1,\n",
              "       0, 0, 0, 1, 0, 1, 0, 0, 0, 0, 0, 0, 0, 0, 0, 1, 1, 1, 1, 1, 1, 0,\n",
              "       0, 1, 0, 1, 1, 0, 1, 0, 1, 1, 0, 1, 0, 0, 1, 1, 0, 0, 0, 0, 0, 0,\n",
              "       0, 1, 0, 1, 0, 0, 1, 0, 0, 0, 1, 0, 0, 1, 1, 0, 0, 0, 0, 0, 1, 1,\n",
              "       0, 1, 1, 1, 0, 1, 0, 1, 0, 0, 1, 1, 1, 0, 0, 0, 0, 1, 0, 1, 1, 0,\n",
              "       0, 0, 0, 1, 1, 0, 1, 0, 0, 0, 0, 1, 1, 1, 1, 1, 1, 0, 0, 1, 0, 1,\n",
              "       0, 1, 1, 1, 1, 0, 0, 0, 0, 0, 0, 0, 0, 0, 1, 1, 1, 0, 0, 1, 0, 1,\n",
              "       1, 0, 0, 0, 0, 0, 0, 1, 0, 1, 1, 1, 1, 0, 1, 1, 1, 0, 0, 1, 1, 1,\n",
              "       1, 0, 1, 0, 1, 0, 0, 1, 1, 0, 1, 1, 1, 1, 1, 0, 1, 0, 0, 1, 1, 1,\n",
              "       1, 1, 0, 0, 1, 0, 0, 1, 0, 1, 0, 1, 1, 0, 1, 0, 0, 1, 0, 0, 0, 1,\n",
              "       0, 0, 1, 0, 0, 1, 0, 0, 1, 1, 1, 1, 1, 1, 0, 0, 1, 1, 0, 0, 1, 0,\n",
              "       1, 1, 1, 1, 0, 1, 0, 0, 0, 0, 0, 1, 1, 0, 1, 0, 1, 0, 1, 1, 0, 1,\n",
              "       1, 1, 1, 1, 0, 0, 0, 0, 0, 0, 1, 0, 0, 1, 1, 1, 0, 0, 0, 0, 1, 1,\n",
              "       0, 0, 0, 1, 1, 0, 0, 1, 0, 1, 0, 1, 0, 1, 0, 1, 0, 0, 1, 0, 0, 1,\n",
              "       1, 1, 1, 1, 0, 1, 0, 0, 1, 1, 0, 1, 0, 1, 1, 1, 0, 0, 1, 0, 0, 0,\n",
              "       0, 1, 1, 0, 0, 0, 1, 1, 0, 1, 1, 0, 0, 0, 0, 1, 1, 1, 1, 0, 1, 1,\n",
              "       0, 0, 1, 0, 1, 0, 0, 0, 1, 1, 1, 0, 0, 0, 0, 0, 0, 0, 1, 1, 1, 0,\n",
              "       1, 0, 0, 0, 0, 1, 0, 0, 0, 1])"
            ]
          },
          "metadata": {
            "tags": []
          },
          "execution_count": 5
        }
      ]
    },
    {
      "cell_type": "code",
      "metadata": {
        "colab": {
          "base_uri": "https://localhost:8080/"
        },
        "id": "Rk2Xa3OzqQlv",
        "outputId": "b36f11f3-503e-46ce-f433-94287dd45297"
      },
      "source": [
        "# summarize data before the transform\r\n",
        "print(X[:3, :])"
      ],
      "execution_count": 3,
      "outputs": [
        {
          "output_type": "stream",
          "text": [
            "[[ 2.39324489 -5.77732048 -0.59062319 -2.08095322  1.04707034]\n",
            " [-0.45820294  1.94683482 -2.46471441  2.36590955 -0.73666725]\n",
            " [ 2.35162422 -1.00061698 -0.5946091   1.12531096 -0.65267587]]\n"
          ],
          "name": "stdout"
        }
      ]
    },
    {
      "cell_type": "code",
      "metadata": {
        "colab": {
          "base_uri": "https://localhost:8080/"
        },
        "id": "THA5466qqUVX",
        "outputId": "d12adbca-c668-4125-d5c7-298185158af5"
      },
      "source": [
        "# define the transform\r\n",
        "trans = KBinsDiscretizer(n_bins=10, encode='ordinal', strategy='uniform')\r\n",
        "trans"
      ],
      "execution_count": 9,
      "outputs": [
        {
          "output_type": "execute_result",
          "data": {
            "text/plain": [
              "KBinsDiscretizer(encode='ordinal', n_bins=10, strategy='uniform')"
            ]
          },
          "metadata": {
            "tags": []
          },
          "execution_count": 9
        }
      ]
    },
    {
      "cell_type": "code",
      "metadata": {
        "colab": {
          "base_uri": "https://localhost:8080/"
        },
        "id": "1TQps-reqdnP",
        "outputId": "84532855-9755-46bd-89c6-6d41d6ab703c"
      },
      "source": [
        "# transform the data\r\n",
        "X_discrete = trans.fit_transform(X)\r\n",
        "X_discrete"
      ],
      "execution_count": 10,
      "outputs": [
        {
          "output_type": "execute_result",
          "data": {
            "text/plain": [
              "array([[7., 0., 4., 1., 5.],\n",
              "       [4., 7., 2., 6., 4.],\n",
              "       [7., 5., 4., 5., 4.],\n",
              "       ...,\n",
              "       [8., 7., 5., 5., 5.],\n",
              "       [4., 6., 4., 4., 6.],\n",
              "       [2., 6., 1., 3., 1.]])"
            ]
          },
          "metadata": {
            "tags": []
          },
          "execution_count": 10
        }
      ]
    },
    {
      "cell_type": "code",
      "metadata": {
        "colab": {
          "base_uri": "https://localhost:8080/"
        },
        "id": "RxH51tgRqgCo",
        "outputId": "99279241-d36c-4f7d-f962-4138161262e5"
      },
      "source": [
        "# summarize data after the transform\r\n",
        "print(X_discrete[:3, :])"
      ],
      "execution_count": 8,
      "outputs": [
        {
          "output_type": "stream",
          "text": [
            "[[7. 0. 4. 1. 5.]\n",
            " [4. 7. 2. 6. 4.]\n",
            " [7. 5. 4. 5. 4.]]\n"
          ],
          "name": "stdout"
        }
      ]
    },
    {
      "cell_type": "markdown",
      "metadata": {
        "id": "X4zOHv03qsvM"
      },
      "source": [
        "# Tu tarea\r\n",
        "Para esta lección, debe ejecutar el ejemplo e informar sobre los datos sin procesar antes de la transformación, y luego el efecto que tuvo la transformación en los datos.\r\n",
        "\r\n",
        "Para obtener puntos de bonificación, explore configuraciones alternativas de la transformación, como diferentes estrategias y cantidad de contenedores.\r\n",
        "\r\n",
        "Publique su respuesta en la plataforma a continuación. Me encantaría ver qué se te ocurre.\r\n",
        "\r\n",
        "En la siguiente lección, descubrirá cómo reducir la dimensionalidad de los datos de entrada."
      ]
    },
    {
      "cell_type": "code",
      "metadata": {
        "id": "ozGnozdxqiUQ"
      },
      "source": [
        ""
      ],
      "execution_count": null,
      "outputs": []
    }
  ]
}