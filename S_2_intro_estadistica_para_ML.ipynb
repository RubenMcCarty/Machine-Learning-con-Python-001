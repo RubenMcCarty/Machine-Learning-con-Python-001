{
  "nbformat": 4,
  "nbformat_minor": 0,
  "metadata": {
    "kernelspec": {
      "display_name": "Python 3",
      "language": "python",
      "name": "python3"
    },
    "language_info": {
      "codemirror_mode": {
        "name": "ipython",
        "version": 3
      },
      "file_extension": ".py",
      "mimetype": "text/x-python",
      "name": "python",
      "nbconvert_exporter": "python",
      "pygments_lexer": "ipython3",
      "version": "3.8.5"
    },
    "colab": {
      "name": "S_2_intro_estadistica para ML.ipynb",
      "provenance": [],
      "include_colab_link": true
    }
  },
  "cells": [
    {
      "cell_type": "markdown",
      "metadata": {
        "id": "view-in-github",
        "colab_type": "text"
      },
      "source": [
        "<a href=\"https://colab.research.google.com/github/RubenQuispe/Machine-Learning-con-Python-001/blob/master/S_2_intro_estadistica_para_ML.ipynb\" target=\"_parent\"><img src=\"https://colab.research.google.com/assets/colab-badge.svg\" alt=\"Open In Colab\"/></a>"
      ]
    },
    {
      "cell_type": "markdown",
      "metadata": {
        "id": "SLGAHLQGnaLP"
      },
      "source": [
        "# Curso Introducción a Estadística para Machine Learning\n",
        "\n",
        "\n",
        "Creado por [Rubén Quispe](https://www.linkedin.com/in/msc-rub%C3%A9n-quispe-l/)\n",
        "\n",
        "#### Curso Machine Learning con Python\n",
        "\n",
        "\n",
        "[Ver el curso](https://eie.pe/curso-de-especializacion-en-machine-learning-con-python/)."
      ]
    },
    {
      "cell_type": "markdown",
      "metadata": {
        "id": "2tWkM-XpnaLa"
      },
      "source": [
        "# Introducción a estadística"
      ]
    },
    {
      "cell_type": "code",
      "metadata": {
        "id": "RbAOl0rQnaLc"
      },
      "source": [
        "import pandas as pd"
      ],
      "execution_count": 1,
      "outputs": []
    },
    {
      "cell_type": "code",
      "metadata": {
        "id": "T6_KztyQnaLm"
      },
      "source": [
        "data_spotify=pd.read_csv('https://raw.githubusercontent.com/rfordatascience/tidytuesday/master/data/2020/2020-01-21/spotify_songs.csv')"
      ],
      "execution_count": 2,
      "outputs": []
    },
    {
      "cell_type": "markdown",
      "metadata": {
        "id": "SpP5IDe-naLv"
      },
      "source": [
        "### 1) Estadística descriptiva\n",
        "\n",
        "Video AE3"
      ]
    },
    {
      "cell_type": "code",
      "metadata": {
        "id": "mayj6CWpnaLw",
        "outputId": "7304e571-3cab-4232-9b4b-0dc9aa652a4d",
        "colab": {
          "base_uri": "https://localhost:8080/",
          "height": 333
        }
      },
      "source": [
        "from pandas_profiling import ProfileReport\n",
        "# describir los datos\n",
        "\n",
        "from funpymodeling.exploratory import status, profiling_num, freq_tbl"
      ],
      "execution_count": 3,
      "outputs": [
        {
          "output_type": "error",
          "ename": "ModuleNotFoundError",
          "evalue": "ignored",
          "traceback": [
            "\u001b[0;31m---------------------------------------------------------------------------\u001b[0m",
            "\u001b[0;31mModuleNotFoundError\u001b[0m                       Traceback (most recent call last)",
            "\u001b[0;32m<ipython-input-3-05bedd2a99a2>\u001b[0m in \u001b[0;36m<module>\u001b[0;34m()\u001b[0m\n\u001b[1;32m      2\u001b[0m \u001b[0;31m# describir los datos\u001b[0m\u001b[0;34m\u001b[0m\u001b[0;34m\u001b[0m\u001b[0;34m\u001b[0m\u001b[0m\n\u001b[1;32m      3\u001b[0m \u001b[0;34m\u001b[0m\u001b[0m\n\u001b[0;32m----> 4\u001b[0;31m \u001b[0;32mfrom\u001b[0m \u001b[0mfunpymodeling\u001b[0m\u001b[0;34m.\u001b[0m\u001b[0mexploratory\u001b[0m \u001b[0;32mimport\u001b[0m \u001b[0mstatus\u001b[0m\u001b[0;34m,\u001b[0m \u001b[0mprofiling_num\u001b[0m\u001b[0;34m,\u001b[0m \u001b[0mfreq_tbl\u001b[0m\u001b[0;34m\u001b[0m\u001b[0;34m\u001b[0m\u001b[0m\n\u001b[0m",
            "\u001b[0;31mModuleNotFoundError\u001b[0m: No module named 'funpymodeling'",
            "",
            "\u001b[0;31m---------------------------------------------------------------------------\u001b[0;32m\nNOTE: If your import is failing due to a missing package, you can\nmanually install dependencies using either !pip or !apt.\n\nTo view examples of installing some common dependencies, click the\n\"Open Examples\" button below.\n\u001b[0;31m---------------------------------------------------------------------------\u001b[0m\n"
          ]
        }
      ]
    },
    {
      "cell_type": "markdown",
      "metadata": {
        "id": "bPcUsxjEnaL4"
      },
      "source": [
        "[Video intro a funpymodeling](https://www.youtube.com/watch?v=1wwQ9mWxrVE)"
      ]
    },
    {
      "cell_type": "code",
      "metadata": {
        "id": "gZxPDe0enaL5",
        "outputId": "5cda1053-966e-4ca9-83cc-734eed677919",
        "colab": {
          "base_uri": "https://localhost:8080/",
          "height": 163
        }
      },
      "source": [
        "status(data_spotify)"
      ],
      "execution_count": 4,
      "outputs": [
        {
          "output_type": "error",
          "ename": "NameError",
          "evalue": "ignored",
          "traceback": [
            "\u001b[0;31m---------------------------------------------------------------------------\u001b[0m",
            "\u001b[0;31mNameError\u001b[0m                                 Traceback (most recent call last)",
            "\u001b[0;32m<ipython-input-4-08b590693d74>\u001b[0m in \u001b[0;36m<module>\u001b[0;34m()\u001b[0m\n\u001b[0;32m----> 1\u001b[0;31m \u001b[0mstatus\u001b[0m\u001b[0;34m(\u001b[0m\u001b[0mdata_spotify\u001b[0m\u001b[0;34m)\u001b[0m\u001b[0;34m\u001b[0m\u001b[0;34m\u001b[0m\u001b[0m\n\u001b[0m",
            "\u001b[0;31mNameError\u001b[0m: name 'status' is not defined"
          ]
        }
      ]
    },
    {
      "cell_type": "code",
      "metadata": {
        "id": "DvvTX1t2naMM",
        "outputId": "e671ce6d-a988-4df8-82cf-016a695da356",
        "colab": {
          "base_uri": "https://localhost:8080/",
          "height": 163
        }
      },
      "source": [
        "freq_tbl(data_spotify.playlist_genre)"
      ],
      "execution_count": 5,
      "outputs": [
        {
          "output_type": "error",
          "ename": "NameError",
          "evalue": "ignored",
          "traceback": [
            "\u001b[0;31m---------------------------------------------------------------------------\u001b[0m",
            "\u001b[0;31mNameError\u001b[0m                                 Traceback (most recent call last)",
            "\u001b[0;32m<ipython-input-5-d1aeb4d1010b>\u001b[0m in \u001b[0;36m<module>\u001b[0;34m()\u001b[0m\n\u001b[0;32m----> 1\u001b[0;31m \u001b[0mfreq_tbl\u001b[0m\u001b[0;34m(\u001b[0m\u001b[0mdata_spotify\u001b[0m\u001b[0;34m.\u001b[0m\u001b[0mplaylist_genre\u001b[0m\u001b[0;34m)\u001b[0m\u001b[0;34m\u001b[0m\u001b[0;34m\u001b[0m\u001b[0m\n\u001b[0m",
            "\u001b[0;31mNameError\u001b[0m: name 'freq_tbl' is not defined"
          ]
        }
      ]
    },
    {
      "cell_type": "markdown",
      "metadata": {
        "id": "68HwA0gunaMV"
      },
      "source": [
        "Comparemos las popularidades! ¿Cuales son los géneros más populares?"
      ]
    },
    {
      "cell_type": "code",
      "metadata": {
        "id": "klyw0DYynaMX",
        "outputId": "217841da-c557-4f3e-cc76-34973b464fc7",
        "colab": {
          "base_uri": "https://localhost:8080/"
        }
      },
      "source": [
        "data_spotify.groupby('playlist_genre')['track_popularity'].mean().sort_values(ascending=False)"
      ],
      "execution_count": 6,
      "outputs": [
        {
          "output_type": "execute_result",
          "data": {
            "text/plain": [
              "playlist_genre\n",
              "pop      47.744870\n",
              "latin    47.026576\n",
              "rap      43.215454\n",
              "rock     41.728338\n",
              "r&b      41.223532\n",
              "edm      34.833526\n",
              "Name: track_popularity, dtype: float64"
            ]
          },
          "metadata": {
            "tags": []
          },
          "execution_count": 6
        }
      ]
    },
    {
      "cell_type": "markdown",
      "metadata": {
        "id": "LWWQZJYGnaMn"
      },
      "source": [
        "¿Cuáles son los 5 temas más populares?"
      ]
    },
    {
      "cell_type": "code",
      "metadata": {
        "id": "vCl9WbfXnaMo",
        "outputId": "f64336e6-c50f-4607-dddd-ff68924e60b4",
        "colab": {
          "base_uri": "https://localhost:8080/",
          "height": 428
        }
      },
      "source": [
        "data_spotify.sort_values('track_popularity', ascending=False).head()"
      ],
      "execution_count": 7,
      "outputs": [
        {
          "output_type": "execute_result",
          "data": {
            "text/html": [
              "<div>\n",
              "<style scoped>\n",
              "    .dataframe tbody tr th:only-of-type {\n",
              "        vertical-align: middle;\n",
              "    }\n",
              "\n",
              "    .dataframe tbody tr th {\n",
              "        vertical-align: top;\n",
              "    }\n",
              "\n",
              "    .dataframe thead th {\n",
              "        text-align: right;\n",
              "    }\n",
              "</style>\n",
              "<table border=\"1\" class=\"dataframe\">\n",
              "  <thead>\n",
              "    <tr style=\"text-align: right;\">\n",
              "      <th></th>\n",
              "      <th>track_id</th>\n",
              "      <th>track_name</th>\n",
              "      <th>track_artist</th>\n",
              "      <th>track_popularity</th>\n",
              "      <th>track_album_id</th>\n",
              "      <th>track_album_name</th>\n",
              "      <th>track_album_release_date</th>\n",
              "      <th>playlist_name</th>\n",
              "      <th>playlist_id</th>\n",
              "      <th>playlist_genre</th>\n",
              "      <th>playlist_subgenre</th>\n",
              "      <th>danceability</th>\n",
              "      <th>energy</th>\n",
              "      <th>key</th>\n",
              "      <th>loudness</th>\n",
              "      <th>mode</th>\n",
              "      <th>speechiness</th>\n",
              "      <th>acousticness</th>\n",
              "      <th>instrumentalness</th>\n",
              "      <th>liveness</th>\n",
              "      <th>valence</th>\n",
              "      <th>tempo</th>\n",
              "      <th>duration_ms</th>\n",
              "    </tr>\n",
              "  </thead>\n",
              "  <tbody>\n",
              "    <tr>\n",
              "      <th>20091</th>\n",
              "      <td>2XU0oxnq2qxCpomAAuJY8K</td>\n",
              "      <td>Dance Monkey</td>\n",
              "      <td>Tones and I</td>\n",
              "      <td>100</td>\n",
              "      <td>0UywfDKYlyiu1b38DRrzYD</td>\n",
              "      <td>Dance Monkey (Stripped Back) / Dance Monkey</td>\n",
              "      <td>2019-10-17</td>\n",
              "      <td>Global Top 50 | 2020 Hits</td>\n",
              "      <td>1KNl4AYfgZtOVm9KHkhPTF</td>\n",
              "      <td>latin</td>\n",
              "      <td>latin hip hop</td>\n",
              "      <td>0.824</td>\n",
              "      <td>0.588</td>\n",
              "      <td>6</td>\n",
              "      <td>-6.400</td>\n",
              "      <td>0</td>\n",
              "      <td>0.0924</td>\n",
              "      <td>0.6920</td>\n",
              "      <td>0.000104</td>\n",
              "      <td>0.149</td>\n",
              "      <td>0.513</td>\n",
              "      <td>98.027</td>\n",
              "      <td>209438</td>\n",
              "    </tr>\n",
              "    <tr>\n",
              "      <th>1551</th>\n",
              "      <td>2XU0oxnq2qxCpomAAuJY8K</td>\n",
              "      <td>Dance Monkey</td>\n",
              "      <td>Tones and I</td>\n",
              "      <td>100</td>\n",
              "      <td>0UywfDKYlyiu1b38DRrzYD</td>\n",
              "      <td>Dance Monkey (Stripped Back) / Dance Monkey</td>\n",
              "      <td>2019-10-17</td>\n",
              "      <td>post-teen alternative, indie, pop (large variety)</td>\n",
              "      <td>1y42gwI5cuwjBslPyQNfqb</td>\n",
              "      <td>pop</td>\n",
              "      <td>post-teen pop</td>\n",
              "      <td>0.824</td>\n",
              "      <td>0.588</td>\n",
              "      <td>6</td>\n",
              "      <td>-6.400</td>\n",
              "      <td>0</td>\n",
              "      <td>0.0924</td>\n",
              "      <td>0.6920</td>\n",
              "      <td>0.000104</td>\n",
              "      <td>0.149</td>\n",
              "      <td>0.513</td>\n",
              "      <td>98.027</td>\n",
              "      <td>209438</td>\n",
              "    </tr>\n",
              "    <tr>\n",
              "      <th>30202</th>\n",
              "      <td>696DnlkuDOXcMAnKlTgXXK</td>\n",
              "      <td>ROXANNE</td>\n",
              "      <td>Arizona Zervas</td>\n",
              "      <td>99</td>\n",
              "      <td>6HJDrXs0hpebaRFKA1sF90</td>\n",
              "      <td>ROXANNE</td>\n",
              "      <td>2019-10-10</td>\n",
              "      <td>Charts 2020 🔥Top 2020🔥Hits 2020🔥Summer 2020🔥Po...</td>\n",
              "      <td>3xMQTDLOIGvj3lWH5e5x6F</td>\n",
              "      <td>edm</td>\n",
              "      <td>pop edm</td>\n",
              "      <td>0.621</td>\n",
              "      <td>0.601</td>\n",
              "      <td>6</td>\n",
              "      <td>-5.616</td>\n",
              "      <td>0</td>\n",
              "      <td>0.1480</td>\n",
              "      <td>0.0522</td>\n",
              "      <td>0.000000</td>\n",
              "      <td>0.460</td>\n",
              "      <td>0.457</td>\n",
              "      <td>116.735</td>\n",
              "      <td>163636</td>\n",
              "    </tr>\n",
              "    <tr>\n",
              "      <th>23104</th>\n",
              "      <td>696DnlkuDOXcMAnKlTgXXK</td>\n",
              "      <td>ROXANNE</td>\n",
              "      <td>Arizona Zervas</td>\n",
              "      <td>99</td>\n",
              "      <td>6HJDrXs0hpebaRFKA1sF90</td>\n",
              "      <td>ROXANNE</td>\n",
              "      <td>2019-10-10</td>\n",
              "      <td>Charts 2020 🔥Top 2020🔥Hits 2020🔥Summer 2020🔥Po...</td>\n",
              "      <td>3xMQTDLOIGvj3lWH5e5x6F</td>\n",
              "      <td>r&amp;b</td>\n",
              "      <td>hip pop</td>\n",
              "      <td>0.621</td>\n",
              "      <td>0.601</td>\n",
              "      <td>6</td>\n",
              "      <td>-5.616</td>\n",
              "      <td>0</td>\n",
              "      <td>0.1480</td>\n",
              "      <td>0.0522</td>\n",
              "      <td>0.000000</td>\n",
              "      <td>0.460</td>\n",
              "      <td>0.457</td>\n",
              "      <td>116.735</td>\n",
              "      <td>163636</td>\n",
              "    </tr>\n",
              "    <tr>\n",
              "      <th>21468</th>\n",
              "      <td>696DnlkuDOXcMAnKlTgXXK</td>\n",
              "      <td>ROXANNE</td>\n",
              "      <td>Arizona Zervas</td>\n",
              "      <td>99</td>\n",
              "      <td>6HJDrXs0hpebaRFKA1sF90</td>\n",
              "      <td>ROXANNE</td>\n",
              "      <td>2019-10-10</td>\n",
              "      <td>Contemporary Urban</td>\n",
              "      <td>6wyJ4bsjZaUKa9f6GeZlAO</td>\n",
              "      <td>r&amp;b</td>\n",
              "      <td>urban contemporary</td>\n",
              "      <td>0.621</td>\n",
              "      <td>0.601</td>\n",
              "      <td>6</td>\n",
              "      <td>-5.616</td>\n",
              "      <td>0</td>\n",
              "      <td>0.1480</td>\n",
              "      <td>0.0522</td>\n",
              "      <td>0.000000</td>\n",
              "      <td>0.460</td>\n",
              "      <td>0.457</td>\n",
              "      <td>116.735</td>\n",
              "      <td>163636</td>\n",
              "    </tr>\n",
              "  </tbody>\n",
              "</table>\n",
              "</div>"
            ],
            "text/plain": [
              "                     track_id    track_name  ...    tempo  duration_ms\n",
              "20091  2XU0oxnq2qxCpomAAuJY8K  Dance Monkey  ...   98.027       209438\n",
              "1551   2XU0oxnq2qxCpomAAuJY8K  Dance Monkey  ...   98.027       209438\n",
              "30202  696DnlkuDOXcMAnKlTgXXK       ROXANNE  ...  116.735       163636\n",
              "23104  696DnlkuDOXcMAnKlTgXXK       ROXANNE  ...  116.735       163636\n",
              "21468  696DnlkuDOXcMAnKlTgXXK       ROXANNE  ...  116.735       163636\n",
              "\n",
              "[5 rows x 23 columns]"
            ]
          },
          "metadata": {
            "tags": []
          },
          "execution_count": 7
        }
      ]
    },
    {
      "cell_type": "markdown",
      "metadata": {
        "id": "azccfLRfnaMw"
      },
      "source": [
        "Ejercicio: Al set de datos anterior, quedarse con la combinación única de `track_id` y `track_name`."
      ]
    },
    {
      "cell_type": "markdown",
      "metadata": {
        "id": "kN6_ZHA1naMx"
      },
      "source": [
        "¿Cuales son los temas que mas aparecen? (con duplicados...)"
      ]
    },
    {
      "cell_type": "code",
      "metadata": {
        "id": "ZrjPDjU-naMy",
        "outputId": "01b2c0a8-16c1-4d16-a853-7e42e113cbaf",
        "colab": {
          "base_uri": "https://localhost:8080/",
          "height": 197
        }
      },
      "source": [
        "freq_track=freq_tbl(data_spotify['track_name'])\n",
        "freq_track"
      ],
      "execution_count": 8,
      "outputs": [
        {
          "output_type": "error",
          "ename": "NameError",
          "evalue": "ignored",
          "traceback": [
            "\u001b[0;31m---------------------------------------------------------------------------\u001b[0m",
            "\u001b[0;31mNameError\u001b[0m                                 Traceback (most recent call last)",
            "\u001b[0;32m<ipython-input-8-bd4588afa881>\u001b[0m in \u001b[0;36m<module>\u001b[0;34m()\u001b[0m\n\u001b[0;32m----> 1\u001b[0;31m \u001b[0mfreq_track\u001b[0m\u001b[0;34m=\u001b[0m\u001b[0mfreq_tbl\u001b[0m\u001b[0;34m(\u001b[0m\u001b[0mdata_spotify\u001b[0m\u001b[0;34m[\u001b[0m\u001b[0;34m'track_name'\u001b[0m\u001b[0;34m]\u001b[0m\u001b[0;34m)\u001b[0m\u001b[0;34m\u001b[0m\u001b[0;34m\u001b[0m\u001b[0m\n\u001b[0m\u001b[1;32m      2\u001b[0m \u001b[0mfreq_track\u001b[0m\u001b[0;34m\u001b[0m\u001b[0;34m\u001b[0m\u001b[0m\n\u001b[1;32m      3\u001b[0m \u001b[0;31m#\u001b[0m\u001b[0;34m\u001b[0m\u001b[0;34m\u001b[0m\u001b[0;34m\u001b[0m\u001b[0m\n",
            "\u001b[0;31mNameError\u001b[0m: name 'freq_tbl' is not defined"
          ]
        }
      ]
    },
    {
      "cell_type": "markdown",
      "metadata": {
        "id": "cY4kh4E7naM9"
      },
      "source": [
        "## 2) Estadística inferencial"
      ]
    },
    {
      "cell_type": "markdown",
      "metadata": {
        "id": "mIg56k1snaM_"
      },
      "source": [
        "Video AE3"
      ]
    },
    {
      "cell_type": "markdown",
      "metadata": {
        "id": "YhB9hbjRnaNA"
      },
      "source": [
        "### 2.1) Muestras de una población (intuición)"
      ]
    },
    {
      "cell_type": "code",
      "metadata": {
        "id": "orKYLJ73naNB"
      },
      "source": [
        "muestra_1=data_spotify.sample(n=16000, random_state=1)\n",
        "muestra_2=data_spotify.sample(n=16000, random_state=2)\n",
        "muestra_3=data_spotify.sample(n=16000, random_state=3)"
      ],
      "execution_count": 9,
      "outputs": []
    },
    {
      "cell_type": "code",
      "metadata": {
        "id": "ZExfU7Q-naNI",
        "outputId": "a3009499-e143-484c-e11f-aba6fae3f4ea",
        "colab": {
          "base_uri": "https://localhost:8080/"
        }
      },
      "source": [
        "muestra_1.track_popularity.mean()"
      ],
      "execution_count": 10,
      "outputs": [
        {
          "output_type": "execute_result",
          "data": {
            "text/plain": [
              "42.5674375"
            ]
          },
          "metadata": {
            "tags": []
          },
          "execution_count": 10
        }
      ]
    },
    {
      "cell_type": "code",
      "metadata": {
        "id": "_Z2Z6gVMnaNO",
        "outputId": "0a5edcb7-85a0-4954-a491-67109419d93f",
        "colab": {
          "base_uri": "https://localhost:8080/"
        }
      },
      "source": [
        "muestra_2.track_popularity.mean()"
      ],
      "execution_count": 11,
      "outputs": [
        {
          "output_type": "execute_result",
          "data": {
            "text/plain": [
              "42.55375"
            ]
          },
          "metadata": {
            "tags": []
          },
          "execution_count": 11
        }
      ]
    },
    {
      "cell_type": "code",
      "metadata": {
        "id": "49iA_l_KnaNX",
        "outputId": "890113be-3d87-4f54-ad38-669746ddad28",
        "colab": {
          "base_uri": "https://localhost:8080/"
        }
      },
      "source": [
        "muestra_3.track_popularity.mean()"
      ],
      "execution_count": 12,
      "outputs": [
        {
          "output_type": "execute_result",
          "data": {
            "text/plain": [
              "42.6625625"
            ]
          },
          "metadata": {
            "tags": []
          },
          "execution_count": 12
        }
      ]
    },
    {
      "cell_type": "code",
      "metadata": {
        "id": "sUT8tZCHnaNd",
        "outputId": "65837d77-198f-4bf9-8f17-97cd9d22bf12",
        "colab": {
          "base_uri": "https://localhost:8080/",
          "height": 762
        }
      },
      "source": [
        "muestra_1  # TR\n",
        "muestra_2  # TS"
      ],
      "execution_count": 13,
      "outputs": [
        {
          "output_type": "execute_result",
          "data": {
            "text/html": [
              "<div>\n",
              "<style scoped>\n",
              "    .dataframe tbody tr th:only-of-type {\n",
              "        vertical-align: middle;\n",
              "    }\n",
              "\n",
              "    .dataframe tbody tr th {\n",
              "        vertical-align: top;\n",
              "    }\n",
              "\n",
              "    .dataframe thead th {\n",
              "        text-align: right;\n",
              "    }\n",
              "</style>\n",
              "<table border=\"1\" class=\"dataframe\">\n",
              "  <thead>\n",
              "    <tr style=\"text-align: right;\">\n",
              "      <th></th>\n",
              "      <th>track_id</th>\n",
              "      <th>track_name</th>\n",
              "      <th>track_artist</th>\n",
              "      <th>track_popularity</th>\n",
              "      <th>track_album_id</th>\n",
              "      <th>track_album_name</th>\n",
              "      <th>track_album_release_date</th>\n",
              "      <th>playlist_name</th>\n",
              "      <th>playlist_id</th>\n",
              "      <th>playlist_genre</th>\n",
              "      <th>playlist_subgenre</th>\n",
              "      <th>danceability</th>\n",
              "      <th>energy</th>\n",
              "      <th>key</th>\n",
              "      <th>loudness</th>\n",
              "      <th>mode</th>\n",
              "      <th>speechiness</th>\n",
              "      <th>acousticness</th>\n",
              "      <th>instrumentalness</th>\n",
              "      <th>liveness</th>\n",
              "      <th>valence</th>\n",
              "      <th>tempo</th>\n",
              "      <th>duration_ms</th>\n",
              "    </tr>\n",
              "  </thead>\n",
              "  <tbody>\n",
              "    <tr>\n",
              "      <th>27688</th>\n",
              "      <td>4XgTgTG9FF7llF5waA0KSE</td>\n",
              "      <td>Sweet &amp; Sour</td>\n",
              "      <td>Mike Williams</td>\n",
              "      <td>0</td>\n",
              "      <td>4jy8viBbz3dZaYjYbR4Pwz</td>\n",
              "      <td>Sweet &amp; Sour</td>\n",
              "      <td>2016-03-11</td>\n",
              "      <td>Jeff Seid Electro House</td>\n",
              "      <td>2Tisn6NZbeofpc57Oc6MGo</td>\n",
              "      <td>edm</td>\n",
              "      <td>electro house</td>\n",
              "      <td>0.577</td>\n",
              "      <td>0.919</td>\n",
              "      <td>1</td>\n",
              "      <td>-5.510</td>\n",
              "      <td>1</td>\n",
              "      <td>0.0413</td>\n",
              "      <td>0.000113</td>\n",
              "      <td>0.856000</td>\n",
              "      <td>0.1450</td>\n",
              "      <td>0.385</td>\n",
              "      <td>127.966</td>\n",
              "      <td>177611</td>\n",
              "    </tr>\n",
              "    <tr>\n",
              "      <th>17835</th>\n",
              "      <td>17G9G5tBsdzmKmoHIh00sX</td>\n",
              "      <td>Me Gusta - Remix</td>\n",
              "      <td>Natti Natasha</td>\n",
              "      <td>70</td>\n",
              "      <td>1D7lFbv4p8DjJVKOcHfX1r</td>\n",
              "      <td>Me Gusta (Remix)</td>\n",
              "      <td>2019-05-01</td>\n",
              "      <td>LATIN POP 2020 🔥 Pop latino actual</td>\n",
              "      <td>2kKzN3kRYDzBctlaWs7CP2</td>\n",
              "      <td>latin</td>\n",
              "      <td>latin pop</td>\n",
              "      <td>0.853</td>\n",
              "      <td>0.766</td>\n",
              "      <td>1</td>\n",
              "      <td>-3.527</td>\n",
              "      <td>0</td>\n",
              "      <td>0.0401</td>\n",
              "      <td>0.024700</td>\n",
              "      <td>0.000003</td>\n",
              "      <td>0.2720</td>\n",
              "      <td>0.835</td>\n",
              "      <td>96.010</td>\n",
              "      <td>197013</td>\n",
              "    </tr>\n",
              "    <tr>\n",
              "      <th>24609</th>\n",
              "      <td>1n86eBhlqaxWIwi5YZTUok</td>\n",
              "      <td>I Get Around</td>\n",
              "      <td>2Pac</td>\n",
              "      <td>8</td>\n",
              "      <td>57ewG8zGTf3Thf3v7boDaA</td>\n",
              "      <td>Strictly 4 My N.I.G.G.A.Z...</td>\n",
              "      <td>1993-02-16</td>\n",
              "      <td>Ultimate Throwbacks Collection</td>\n",
              "      <td>1dsaMvnC1hXPCNGC4aVtjj</td>\n",
              "      <td>r&amp;b</td>\n",
              "      <td>new jack swing</td>\n",
              "      <td>0.846</td>\n",
              "      <td>0.420</td>\n",
              "      <td>10</td>\n",
              "      <td>-13.927</td>\n",
              "      <td>0</td>\n",
              "      <td>0.1170</td>\n",
              "      <td>0.152000</td>\n",
              "      <td>0.000018</td>\n",
              "      <td>0.2510</td>\n",
              "      <td>0.633</td>\n",
              "      <td>96.194</td>\n",
              "      <td>259000</td>\n",
              "    </tr>\n",
              "    <tr>\n",
              "      <th>21573</th>\n",
              "      <td>41L3O37CECZt3N7ziG2z7l</td>\n",
              "      <td>Yummy</td>\n",
              "      <td>Justin Bieber</td>\n",
              "      <td>95</td>\n",
              "      <td>1SN6N3fNkZk5oXQ9X46QZ3</td>\n",
              "      <td>Yummy</td>\n",
              "      <td>2020-01-03</td>\n",
              "      <td>Most Popular 2020 TOP 50</td>\n",
              "      <td>1fqkbjEACMlekdddm5aobE</td>\n",
              "      <td>r&amp;b</td>\n",
              "      <td>urban contemporary</td>\n",
              "      <td>0.662</td>\n",
              "      <td>0.519</td>\n",
              "      <td>9</td>\n",
              "      <td>-6.554</td>\n",
              "      <td>0</td>\n",
              "      <td>0.1060</td>\n",
              "      <td>0.404000</td>\n",
              "      <td>0.000000</td>\n",
              "      <td>0.1210</td>\n",
              "      <td>0.495</td>\n",
              "      <td>145.841</td>\n",
              "      <td>210427</td>\n",
              "    </tr>\n",
              "    <tr>\n",
              "      <th>2558</th>\n",
              "      <td>6BaCraQ9xeLYg4Sb9TBT2X</td>\n",
              "      <td>Feels (feat. Pharrell Williams, Katy Perry &amp; B...</td>\n",
              "      <td>Calvin Harris</td>\n",
              "      <td>66</td>\n",
              "      <td>52LQhrLLYOup9HhaOsv54e</td>\n",
              "      <td>Feels (feat. Pharrell Williams, Katy Perry &amp; B...</td>\n",
              "      <td>2017-06-16</td>\n",
              "      <td>Electropop Hits  2017-2020</td>\n",
              "      <td>7kyvBmlc1uSqsTL0EuNLrx</td>\n",
              "      <td>pop</td>\n",
              "      <td>electropop</td>\n",
              "      <td>0.893</td>\n",
              "      <td>0.745</td>\n",
              "      <td>11</td>\n",
              "      <td>-3.105</td>\n",
              "      <td>0</td>\n",
              "      <td>0.0571</td>\n",
              "      <td>0.064200</td>\n",
              "      <td>0.000000</td>\n",
              "      <td>0.0943</td>\n",
              "      <td>0.872</td>\n",
              "      <td>101.018</td>\n",
              "      <td>223413</td>\n",
              "    </tr>\n",
              "    <tr>\n",
              "      <th>...</th>\n",
              "      <td>...</td>\n",
              "      <td>...</td>\n",
              "      <td>...</td>\n",
              "      <td>...</td>\n",
              "      <td>...</td>\n",
              "      <td>...</td>\n",
              "      <td>...</td>\n",
              "      <td>...</td>\n",
              "      <td>...</td>\n",
              "      <td>...</td>\n",
              "      <td>...</td>\n",
              "      <td>...</td>\n",
              "      <td>...</td>\n",
              "      <td>...</td>\n",
              "      <td>...</td>\n",
              "      <td>...</td>\n",
              "      <td>...</td>\n",
              "      <td>...</td>\n",
              "      <td>...</td>\n",
              "      <td>...</td>\n",
              "      <td>...</td>\n",
              "      <td>...</td>\n",
              "      <td>...</td>\n",
              "    </tr>\n",
              "    <tr>\n",
              "      <th>9546</th>\n",
              "      <td>5UQOmTylBEdsIfSn37v3DO</td>\n",
              "      <td>Straight Up Menace</td>\n",
              "      <td>MC Eiht</td>\n",
              "      <td>56</td>\n",
              "      <td>38BUSePXkHHL9gNyS1weTB</td>\n",
              "      <td>The Best of MC Eiht</td>\n",
              "      <td>2010-09-21</td>\n",
              "      <td>Gangsta Rap/90's Hip-Hop</td>\n",
              "      <td>62spXXfUxBed8nbd5xvH2O</td>\n",
              "      <td>rap</td>\n",
              "      <td>gangster rap</td>\n",
              "      <td>0.756</td>\n",
              "      <td>0.530</td>\n",
              "      <td>7</td>\n",
              "      <td>-9.639</td>\n",
              "      <td>1</td>\n",
              "      <td>0.1420</td>\n",
              "      <td>0.001380</td>\n",
              "      <td>0.007010</td>\n",
              "      <td>0.3230</td>\n",
              "      <td>0.524</td>\n",
              "      <td>79.855</td>\n",
              "      <td>274307</td>\n",
              "    </tr>\n",
              "    <tr>\n",
              "      <th>28165</th>\n",
              "      <td>2h4QMolhE2puX7CYZyYOmn</td>\n",
              "      <td>Disappear</td>\n",
              "      <td>Rob Stepwart</td>\n",
              "      <td>13</td>\n",
              "      <td>246E5OvV4QXhPrGOSj7vdb</td>\n",
              "      <td>Trip Stories</td>\n",
              "      <td>2018-11-27</td>\n",
              "      <td>House Electro 2019</td>\n",
              "      <td>72r6odw0Q3OWTCYMGA7Yiy</td>\n",
              "      <td>edm</td>\n",
              "      <td>electro house</td>\n",
              "      <td>0.766</td>\n",
              "      <td>0.920</td>\n",
              "      <td>1</td>\n",
              "      <td>-5.565</td>\n",
              "      <td>1</td>\n",
              "      <td>0.2920</td>\n",
              "      <td>0.280000</td>\n",
              "      <td>0.000000</td>\n",
              "      <td>0.2100</td>\n",
              "      <td>0.535</td>\n",
              "      <td>128.049</td>\n",
              "      <td>161250</td>\n",
              "    </tr>\n",
              "    <tr>\n",
              "      <th>22622</th>\n",
              "      <td>5r42z9LpkdDAYe3bmbnO5M</td>\n",
              "      <td>Un Bolero Que Te Salve - Remasterizado</td>\n",
              "      <td>Leoni Torres</td>\n",
              "      <td>26</td>\n",
              "      <td>4EYZaRvd05NA1IVzJZv8dd</td>\n",
              "      <td>Latiendo (Remasterizado)</td>\n",
              "      <td>2011-02-10</td>\n",
              "      <td>Cuban vibes only</td>\n",
              "      <td>6VWXakL2ojgiVC01I271e2</td>\n",
              "      <td>r&amp;b</td>\n",
              "      <td>urban contemporary</td>\n",
              "      <td>0.624</td>\n",
              "      <td>0.521</td>\n",
              "      <td>0</td>\n",
              "      <td>-7.135</td>\n",
              "      <td>1</td>\n",
              "      <td>0.0303</td>\n",
              "      <td>0.626000</td>\n",
              "      <td>0.000010</td>\n",
              "      <td>0.0842</td>\n",
              "      <td>0.450</td>\n",
              "      <td>133.939</td>\n",
              "      <td>221000</td>\n",
              "    </tr>\n",
              "    <tr>\n",
              "      <th>16154</th>\n",
              "      <td>6jbUknjNdYMr4I5WB1Mmis</td>\n",
              "      <td>Love Hurts</td>\n",
              "      <td>Nazareth</td>\n",
              "      <td>1</td>\n",
              "      <td>0OYxyoXzDB2ybBBU9slmxN</td>\n",
              "      <td>The Singles</td>\n",
              "      <td>2012-02-20</td>\n",
              "      <td>Hard Rock Classics 1967-1991 (Party Edition)</td>\n",
              "      <td>1NIX36ZFWEtgXSbSNghoue</td>\n",
              "      <td>rock</td>\n",
              "      <td>hard rock</td>\n",
              "      <td>0.447</td>\n",
              "      <td>0.493</td>\n",
              "      <td>7</td>\n",
              "      <td>-6.584</td>\n",
              "      <td>1</td>\n",
              "      <td>0.0245</td>\n",
              "      <td>0.006130</td>\n",
              "      <td>0.007800</td>\n",
              "      <td>0.1130</td>\n",
              "      <td>0.119</td>\n",
              "      <td>80.071</td>\n",
              "      <td>233013</td>\n",
              "    </tr>\n",
              "    <tr>\n",
              "      <th>8019</th>\n",
              "      <td>3H1WufSXLnOPckdJnFDbtF</td>\n",
              "      <td>Leflaur Leflah Eshkoshka</td>\n",
              "      <td>Heltah Skeltah</td>\n",
              "      <td>44</td>\n",
              "      <td>2y2mVMtsGw109N65M3NiWO</td>\n",
              "      <td>Nocturnal</td>\n",
              "      <td>1996-01-01</td>\n",
              "      <td>90's Hip Hop Ultimate Collection</td>\n",
              "      <td>4IG024zoaGMurhTFBkMAv9</td>\n",
              "      <td>rap</td>\n",
              "      <td>southern hip hop</td>\n",
              "      <td>0.812</td>\n",
              "      <td>0.555</td>\n",
              "      <td>11</td>\n",
              "      <td>-10.879</td>\n",
              "      <td>0</td>\n",
              "      <td>0.3530</td>\n",
              "      <td>0.023600</td>\n",
              "      <td>0.000000</td>\n",
              "      <td>0.1320</td>\n",
              "      <td>0.698</td>\n",
              "      <td>92.062</td>\n",
              "      <td>303299</td>\n",
              "    </tr>\n",
              "  </tbody>\n",
              "</table>\n",
              "<p>16000 rows × 23 columns</p>\n",
              "</div>"
            ],
            "text/plain": [
              "                     track_id  ... duration_ms\n",
              "27688  4XgTgTG9FF7llF5waA0KSE  ...      177611\n",
              "17835  17G9G5tBsdzmKmoHIh00sX  ...      197013\n",
              "24609  1n86eBhlqaxWIwi5YZTUok  ...      259000\n",
              "21573  41L3O37CECZt3N7ziG2z7l  ...      210427\n",
              "2558   6BaCraQ9xeLYg4Sb9TBT2X  ...      223413\n",
              "...                       ...  ...         ...\n",
              "9546   5UQOmTylBEdsIfSn37v3DO  ...      274307\n",
              "28165  2h4QMolhE2puX7CYZyYOmn  ...      161250\n",
              "22622  5r42z9LpkdDAYe3bmbnO5M  ...      221000\n",
              "16154  6jbUknjNdYMr4I5WB1Mmis  ...      233013\n",
              "8019   3H1WufSXLnOPckdJnFDbtF  ...      303299\n",
              "\n",
              "[16000 rows x 23 columns]"
            ]
          },
          "metadata": {
            "tags": []
          },
          "execution_count": 13
        }
      ]
    },
    {
      "cell_type": "markdown",
      "metadata": {
        "id": "wSrKT5RWnaNk"
      },
      "source": [
        "¿Bastante estable alrededor de 42 no?"
      ]
    },
    {
      "cell_type": "markdown",
      "metadata": {
        "id": "wIKRv5gYnaNs"
      },
      "source": [
        "### 2.2) ¿Que pasa cuando la muestra baja mucho?"
      ]
    },
    {
      "cell_type": "code",
      "metadata": {
        "id": "W9qjt3o4naNt"
      },
      "source": [
        "muestra_4=data_spotify.sample(n=100, random_state=1)\n",
        "muestra_5=data_spotify.sample(n=100, random_state=2)\n",
        "muestra_6=data_spotify.sample(n=100, random_state=3)"
      ],
      "execution_count": 14,
      "outputs": []
    },
    {
      "cell_type": "code",
      "metadata": {
        "id": "227_VXbgnaN1",
        "outputId": "8c970045-26fc-4d5f-9ae9-8cd7dd52428d",
        "colab": {
          "base_uri": "https://localhost:8080/"
        }
      },
      "source": [
        "muestra_4.track_popularity.mean()"
      ],
      "execution_count": 16,
      "outputs": [
        {
          "output_type": "execute_result",
          "data": {
            "text/plain": [
              "41.41"
            ]
          },
          "metadata": {
            "tags": []
          },
          "execution_count": 16
        }
      ]
    },
    {
      "cell_type": "code",
      "metadata": {
        "id": "2TnLZlLUnaN5",
        "outputId": "42a2153e-f88d-497d-ea0f-0f0fd9b015b2",
        "colab": {
          "base_uri": "https://localhost:8080/"
        }
      },
      "source": [
        "muestra_5.track_popularity.mean()"
      ],
      "execution_count": 17,
      "outputs": [
        {
          "output_type": "execute_result",
          "data": {
            "text/plain": [
              "41.58"
            ]
          },
          "metadata": {
            "tags": []
          },
          "execution_count": 17
        }
      ]
    },
    {
      "cell_type": "code",
      "metadata": {
        "id": "u3f_OXEMnaOB",
        "outputId": "b83f0e9c-423f-4614-d3b8-44d663e58ba6",
        "colab": {
          "base_uri": "https://localhost:8080/"
        }
      },
      "source": [
        "muestra_6.track_popularity.mean()"
      ],
      "execution_count": 18,
      "outputs": [
        {
          "output_type": "execute_result",
          "data": {
            "text/plain": [
              "44.3"
            ]
          },
          "metadata": {
            "tags": []
          },
          "execution_count": 18
        }
      ]
    },
    {
      "cell_type": "markdown",
      "metadata": {
        "id": "lAyhDXLwnaOH"
      },
      "source": [
        "En la muestra 6 hay un **desvío de casi el 10%!**"
      ]
    },
    {
      "cell_type": "markdown",
      "metadata": {
        "id": "tKsACtENnaOI"
      },
      "source": [
        "¿Cuántos datos necesito para hacer un modelo predictivo?\n"
      ]
    },
    {
      "cell_type": "markdown",
      "metadata": {
        "id": "W3XAgzGhnaOJ"
      },
      "source": [
        "#### Dos tipos de muestras:\n",
        "    \n",
        "- Muestras independientes\n",
        "- Muestras relacionadas"
      ]
    }
  ]
}