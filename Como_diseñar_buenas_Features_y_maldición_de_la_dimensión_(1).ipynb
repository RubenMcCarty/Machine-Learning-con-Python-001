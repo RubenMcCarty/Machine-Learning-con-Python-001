{
  "nbformat": 4,
  "nbformat_minor": 0,
  "metadata": {
    "kernelspec": {
      "display_name": "Python 3",
      "language": "python",
      "name": "python3"
    },
    "language_info": {
      "codemirror_mode": {
        "name": "ipython",
        "version": 3
      },
      "file_extension": ".py",
      "mimetype": "text/x-python",
      "name": "python",
      "nbconvert_exporter": "python",
      "pygments_lexer": "ipython3",
      "version": "3.8.5"
    },
    "colab": {
      "name": "Como diseñar buenas Features y maldición de la dimensión (1).ipynb",
      "provenance": [],
      "include_colab_link": true
    }
  },
  "cells": [
    {
      "cell_type": "markdown",
      "metadata": {
        "id": "view-in-github",
        "colab_type": "text"
      },
      "source": [
        "<a href=\"https://colab.research.google.com/github/RubenQuispe/Machine-Learning-con-Python-001/blob/master/Como_dise%C3%B1ar_buenas_Features_y_maldici%C3%B3n_de_la_dimensi%C3%B3n_(1).ipynb\" target=\"_parent\"><img src=\"https://colab.research.google.com/assets/colab-badge.svg\" alt=\"Open In Colab\"/></a>"
      ]
    },
    {
      "cell_type": "markdown",
      "metadata": {
        "id": "rzLvD5gor-IZ"
      },
      "source": [
        "# Como diseñar buenas Features y maldición de la Dimensión\n",
        "## Mg. Rubén Quispe\n"
      ]
    },
    {
      "cell_type": "markdown",
      "metadata": {
        "id": "Yq6xuHcdr-Ic"
      },
      "source": [
        "Mejorar la performance de nuestros modelos no solo pasa por optimizar sus parametros.\n",
        "Una de las partes clave, y según algunos expertos la más importante, es la de **diseñar la representación en la que se entregan los datos a los modelos** para que estos los procesen.\n",
        "Esto equivale, en palabras más simples, en definir de forma inteligente las features (columnas) de nuestras tablas de datos.\n",
        "\n",
        "Ejemplo de feature engineering:\n",
        "\n",
        "El problema:\n",
        "\n",
        "Supongamos que estamos tratando de resolver el problema siguiente.\n",
        "\n",
        "Tenemos un problema de reconocer si ciertos datos con una sola feature son de una clase 1 o de una clase 2 (por ejemplo \"el producto esta deficiente\" o \"el producto esta funcional\").\n",
        "Por lo tanto estamos resolviendo una clasificación.\n",
        "Para esta clasificación decidimos tomar un SVM, que es un modelo poderoso que funciona buscando la \"mejor\" recta que separa los puntos de cada clase.\n",
        "\n",
        "![title](clase.jpg)\n",
        "\n",
        "Como podemos ver no existe un separador óptimo. Debemos para resolver el problema buscar un modelo aún más poderoso? No necesariamente.\n",
        "\n",
        "Agregemos una nueva feature:\n",
        "$$X[columna_2] = X[columna_1]^2$$\n",
        "![title](clase1.jpg)\n",
        "\n",
        "Claramente con esta nueva feature vemos que existe una recta que separa los espacios de puntos.\n",
        "Esta recta tendra un score ampliamente mejor que cualquier solucion al primer problema.\n",
        "\n",
        "# Principios de diseño de Features\n",
        "Diseñar tus features es un arte más que una ciencia (por lo que en general te recomendamos ganar experiencia leyendo articulos cientificos y viendo soluciones\n",
        "1. Features Informativas: Tus features son más utiles mientras más correlación tengan tu variable objetivo.\n",
        "2. Features Independientes: Para no tener redudancias tus features deberían ser lo más independientes posible entre ellas.\n",
        "3. Cantidad de Features controlada: Nuestra intuición nos falla en dimensiones superiores a 3 (ver video maldicion de la dimensionalidad). En la mayoría de los casos aumentar la cantidad de features afecta negativamente la performance si no contamos con una gran cantidad de datos. Por ultimo pocas features aseguran una mejor interpretabilidad de los modelos\n",
        "\n",
        "## Ejemplo de Feature informativa y Feature no informativa\n",
        "\n",
        "Predecir el **precio de una casa** en **función de sus metros cuadrados**.\n",
        "\n",
        "Predecir el **precio de una casa** en **función de la temperatura del mar**.\n",
        "\n",
        "Es importante entender la correlación entre la feature y la variable objetivo. Más sobre esto en los siguientes videos."
      ]
    },
    {
      "cell_type": "markdown",
      "metadata": {
        "id": "WGxuQz6Rr-Ie"
      },
      "source": [
        "\n",
        "# Visualizar interdepencia entre variables"
      ]
    },
    {
      "cell_type": "code",
      "metadata": {
        "id": "dBJL9lVNr-If"
      },
      "source": [
        "import pandas as pd\n",
        "X = pd.read_csv('D:/TECHNOLOGY 2020/Data/X.csv').drop('worldwide_gross',axis=1)"
      ],
      "execution_count": null,
      "outputs": []
    },
    {
      "cell_type": "code",
      "metadata": {
        "id": "s6k-dCOyr-Im",
        "outputId": "8eba97a6-82f0-49e3-b80a-776f14b248d9"
      },
      "source": [
        "import seaborn as sns\n",
        "%matplotlib inline \n",
        "\n",
        "sns.heatmap(X.corr())"
      ],
      "execution_count": null,
      "outputs": [
        {
          "output_type": "execute_result",
          "data": {
            "text/plain": [
              "<AxesSubplot:>"
            ]
          },
          "metadata": {
            "tags": []
          },
          "execution_count": 3
        },
        {
          "output_type": "display_data",
          "data": {
            "image/png": "[encoded data removed]",
            "text/plain": [
              "<Figure size 432x288 with 2 Axes>"
            ]
          },
          "metadata": {
            "tags": [],
            "needs_background": "light"
          }
        }
      ]
    },
    {
      "cell_type": "code",
      "metadata": {
        "id": "h52tkQimr-Iz",
        "outputId": "8b1a89d4-55a7-41be-aa1c-568bf9433816"
      },
      "source": [
        "X.corr()"
      ],
      "execution_count": null,
      "outputs": [
        {
          "output_type": "execute_result",
          "data": {
            "text/html": [
              "<div>\n",
              "<style scoped>\n",
              "    .dataframe tbody tr th:only-of-type {\n",
              "        vertical-align: middle;\n",
              "    }\n",
              "\n",
              "    .dataframe tbody tr th {\n",
              "        vertical-align: top;\n",
              "    }\n",
              "\n",
              "    .dataframe thead th {\n",
              "        text-align: right;\n",
              "    }\n",
              "</style>\n",
              "<table border=\"1\" class=\"dataframe\">\n",
              "  <thead>\n",
              "    <tr style=\"text-align: right;\">\n",
              "      <th></th>\n",
              "      <th>production_budget</th>\n",
              "      <th>title_year</th>\n",
              "      <th>aspect_ratio</th>\n",
              "      <th>duration.1</th>\n",
              "      <th>cast_total_facebook_likes</th>\n",
              "      <th>budget</th>\n",
              "      <th>imdb_score</th>\n",
              "    </tr>\n",
              "  </thead>\n",
              "  <tbody>\n",
              "    <tr>\n",
              "      <th>production_budget</th>\n",
              "      <td>1.000000</td>\n",
              "      <td>0.108014</td>\n",
              "      <td>0.111093</td>\n",
              "      <td>0.113107</td>\n",
              "      <td>0.236820</td>\n",
              "      <td>0.198268</td>\n",
              "      <td>0.033154</td>\n",
              "    </tr>\n",
              "    <tr>\n",
              "      <th>title_year</th>\n",
              "      <td>0.108014</td>\n",
              "      <td>1.000000</td>\n",
              "      <td>0.833058</td>\n",
              "      <td>0.833214</td>\n",
              "      <td>-0.013226</td>\n",
              "      <td>0.041345</td>\n",
              "      <td>0.021057</td>\n",
              "    </tr>\n",
              "    <tr>\n",
              "      <th>aspect_ratio</th>\n",
              "      <td>0.111093</td>\n",
              "      <td>0.833058</td>\n",
              "      <td>1.000000</td>\n",
              "      <td>0.980641</td>\n",
              "      <td>-0.009069</td>\n",
              "      <td>0.052507</td>\n",
              "      <td>0.009654</td>\n",
              "    </tr>\n",
              "    <tr>\n",
              "      <th>duration.1</th>\n",
              "      <td>0.113107</td>\n",
              "      <td>0.833214</td>\n",
              "      <td>0.980641</td>\n",
              "      <td>1.000000</td>\n",
              "      <td>-0.006138</td>\n",
              "      <td>0.048788</td>\n",
              "      <td>0.013964</td>\n",
              "    </tr>\n",
              "    <tr>\n",
              "      <th>cast_total_facebook_likes</th>\n",
              "      <td>0.236820</td>\n",
              "      <td>-0.013226</td>\n",
              "      <td>-0.009069</td>\n",
              "      <td>-0.006138</td>\n",
              "      <td>1.000000</td>\n",
              "      <td>0.035872</td>\n",
              "      <td>0.096663</td>\n",
              "    </tr>\n",
              "    <tr>\n",
              "      <th>budget</th>\n",
              "      <td>0.198268</td>\n",
              "      <td>0.041345</td>\n",
              "      <td>0.052507</td>\n",
              "      <td>0.048788</td>\n",
              "      <td>0.035872</td>\n",
              "      <td>1.000000</td>\n",
              "      <td>0.018949</td>\n",
              "    </tr>\n",
              "    <tr>\n",
              "      <th>imdb_score</th>\n",
              "      <td>0.033154</td>\n",
              "      <td>0.021057</td>\n",
              "      <td>0.009654</td>\n",
              "      <td>0.013964</td>\n",
              "      <td>0.096663</td>\n",
              "      <td>0.018949</td>\n",
              "      <td>1.000000</td>\n",
              "    </tr>\n",
              "  </tbody>\n",
              "</table>\n",
              "</div>"
            ],
            "text/plain": [
              "                           production_budget  title_year  aspect_ratio  \\\n",
              "production_budget                   1.000000    0.108014      0.111093   \n",
              "title_year                          0.108014    1.000000      0.833058   \n",
              "aspect_ratio                        0.111093    0.833058      1.000000   \n",
              "duration.1                          0.113107    0.833214      0.980641   \n",
              "cast_total_facebook_likes           0.236820   -0.013226     -0.009069   \n",
              "budget                              0.198268    0.041345      0.052507   \n",
              "imdb_score                          0.033154    0.021057      0.009654   \n",
              "\n",
              "                           duration.1  cast_total_facebook_likes    budget  \\\n",
              "production_budget            0.113107                   0.236820  0.198268   \n",
              "title_year                   0.833214                  -0.013226  0.041345   \n",
              "aspect_ratio                 0.980641                  -0.009069  0.052507   \n",
              "duration.1                   1.000000                  -0.006138  0.048788   \n",
              "cast_total_facebook_likes   -0.006138                   1.000000  0.035872   \n",
              "budget                       0.048788                   0.035872  1.000000   \n",
              "imdb_score                   0.013964                   0.096663  0.018949   \n",
              "\n",
              "                           imdb_score  \n",
              "production_budget            0.033154  \n",
              "title_year                   0.021057  \n",
              "aspect_ratio                 0.009654  \n",
              "duration.1                   0.013964  \n",
              "cast_total_facebook_likes    0.096663  \n",
              "budget                       0.018949  \n",
              "imdb_score                   1.000000  "
            ]
          },
          "metadata": {
            "tags": []
          },
          "execution_count": 4
        }
      ]
    },
    {
      "cell_type": "markdown",
      "metadata": {
        "id": "YKs3rL5er-I7"
      },
      "source": [
        "# La maldición de la dimensión\n",
        "Datasaurus Dozen y Anscombe's quartet:\n",
        "\n",
        "Utilidad de la capacidad de entender los datos en 1, 2 y 3 dimensiones del ojo humano.\n",
        "\n",
        "Maldición de la dimensionalidad:\n",
        "\n",
        "En dimensión superior o igual a 4, nuestra capacidad de entender los datos se pierde, y aún peor fenomenos extraños/contraproducentes ocurren\n",
        "\n",
        "### Ejemplo 1\n",
        "\n",
        "Que largo debe tener cada arista de un hypercubo de dimension p que capture 10% del volumen de un hypercubo de volumen 1 que lo contiene?\n",
        "\n",
        "![title](cube.jpg)"
      ]
    },
    {
      "cell_type": "markdown",
      "metadata": {
        "id": "Jh-T-hySr-I8"
      },
      "source": [
        "\n",
        "$$ V_{hypercubo} = a^p\\ y\\ si\\ V_{hypercubo} = 0.1 \\implies a = 0.1^{1/p}$$$$$$"
      ]
    },
    {
      "cell_type": "code",
      "metadata": {
        "id": "Ago4nN6ar-I9",
        "outputId": "fcbaec0d-cd83-4422-ffa3-1b2af07ddc0d"
      },
      "source": [
        "import matplotlib.pyplot as plt\n",
        "import numpy as np\n",
        "\n",
        "x = np.arange(1,15)\n",
        "y = np.power(0.1,1/x)\n",
        "plt.plot(x,y)"
      ],
      "execution_count": null,
      "outputs": [
        {
          "output_type": "execute_result",
          "data": {
            "text/plain": [
              "[<matplotlib.lines.Line2D at 0x261a308bfd0>]"
            ]
          },
          "metadata": {
            "tags": []
          },
          "execution_count": 6
        },
        {
          "output_type": "display_data",
          "data": {
            "image/png": "[encoded data removed]",
            "text/plain": [
              "<Figure size 432x288 with 1 Axes>"
            ]
          },
          "metadata": {
            "tags": [],
            "needs_background": "light"
          }
        }
      ]
    },
    {
      "cell_type": "markdown",
      "metadata": {
        "id": "2P4lCywYr-JC"
      },
      "source": [
        "En dimensión 10: Necesitamos un hypercubo que cubra 80% de cada una de las aristas para solamente obtener 10% del volumen!\n",
        "\n",
        "En alta dimensión es muy poco probable que tus ejemplos cubran todo el espacio de forma densa.\n",
        "Por ende en **alta dimensión necesitas una cantidad de datos que crece exponencialmente para poder entrenar tus modelos**.\n",
        "Te recomendamos tener cuidado al aumentar la dimensión de tus datos, no esta prohibido, pero hacerlo de forma exagerada te puede llevar hacia estos problemas."
      ]
    },
    {
      "cell_type": "code",
      "metadata": {
        "id": "Ld6mu5Flr-JD"
      },
      "source": [
        ""
      ],
      "execution_count": null,
      "outputs": []
    }
  ]
}