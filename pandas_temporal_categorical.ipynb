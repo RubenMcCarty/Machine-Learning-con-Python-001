{
  "cells": [
    {
      "cell_type": "markdown",
      "metadata": {
        "id": "view-in-github",
        "colab_type": "text"
      },
      "source": [
        "<a href=\"https://colab.research.google.com/github/RubenMcCarty/Machine-Learning-con-Python-001/blob/master/pandas_temporal_categorical.ipynb\" target=\"_parent\"><img src=\"https://colab.research.google.com/assets/colab-badge.svg\" alt=\"Open In Colab\"/></a>"
      ]
    },
    {
      "cell_type": "markdown",
      "metadata": {
        "id": "0USZX9RG2pec"
      },
      "source": [
        "# Pandas - Datos Temporales y Categóricos\n",
        "## [MSc: Ruben Quispe](https://www.linkedin.com/in/ruben-quispe-l/)"
      ]
    },
    {
      "cell_type": "markdown",
      "metadata": {
        "id": "wcwQSsLb2ped"
      },
      "source": [
        "En posts anteriores hemos visto cómo trabajar con `Pandas` para manipular datos tabulares de diferentes maneras, sin embargo nos hemos centrado en datos de tipo numérico ya que son el tipo de datos que necesitamos para entrenar nuestros modelos de `Machine Learning`. Sin embargo, muchos datos no están en formato numérico, y en este post vamos a ver como `Pandas` nos puede ayudar a la hora de trabajar con este tipo de datos, en concreto hablaremos sobre datos de tipo temporal y categóricos."
      ]
    },
    {
      "cell_type": "code",
      "execution_count": 1,
      "metadata": {
        "ExecuteTime": {
          "end_time": "2020-07-27T09:17:15.958900Z",
          "start_time": "2020-07-27T09:17:14.729272Z"
        },
        "id": "D9PjRU1t2ped"
      },
      "outputs": [],
      "source": [
        "import pandas as pd"
      ]
    },
    {
      "cell_type": "markdown",
      "metadata": {
        "id": "uoqXbjdt2pee"
      },
      "source": [
        "## Datos Temporales"
      ]
    },
    {
      "cell_type": "markdown",
      "metadata": {
        "id": "SYxOpYtN2pee"
      },
      "source": [
        "Podemos encontrar datos temporales en multitud de aplicaciones como por ejemplo financieras, económicas, médicas... Este tipo de fuente de datos se nos suele presentar como una secuencia de instantes en el tiempo formada por una marca de tiempo (o *timestamp*) acompañada por una cantidad determinada de características relativas al instante temporal en cuestión. Esta estructura de datos suele conocerse por el nombre de `serie temporal` y ejemplos en los campos mencionados anteriormente podrían ser la evolución de ventas de una empresa en el tiempo, el número de visitantes en una web a lo largo de un día o la evolución de la temperatura en un paciente. \n",
        "\n",
        "Podemos crear una serie temporal con la función `date_range` indicando la fecha de inicio, el número de instantes temporales y la frecuencia."
      ]
    },
    {
      "cell_type": "code",
      "execution_count": 2,
      "metadata": {
        "ExecuteTime": {
          "end_time": "2020-07-27T09:26:23.897716Z",
          "start_time": "2020-07-27T09:26:23.882591Z"
        },
        "id": "EOoN-2VW2pee",
        "outputId": "205d41c5-eb2a-4e2a-e8ce-06116e2be577",
        "colab": {
          "base_uri": "https://localhost:8080/"
        }
      },
      "outputs": [
        {
          "output_type": "execute_result",
          "data": {
            "text/plain": [
              "DatetimeIndex(['2016-10-29 17:30:00', '2016-10-29 18:30:00',\n",
              "               '2016-10-29 19:30:00', '2016-10-29 20:30:00',\n",
              "               '2016-10-29 21:30:00', '2016-10-29 22:30:00',\n",
              "               '2016-10-29 23:30:00', '2016-10-30 00:30:00',\n",
              "               '2016-10-30 01:30:00', '2016-10-30 02:30:00',\n",
              "               '2016-10-30 03:30:00', '2016-10-30 04:30:00'],\n",
              "              dtype='datetime64[ns]', freq='H')"
            ]
          },
          "metadata": {},
          "execution_count": 2
        }
      ],
      "source": [
        "dates = pd.date_range('2016/10/29 5:30pm', periods=12, freq='H')\n",
        "dates"
      ]
    },
    {
      "cell_type": "markdown",
      "metadata": {
        "id": "T0gfJXQo2pef"
      },
      "source": [
        "Como puedes observar, la función devuelve una lista de índices temporales. Esto significa que podemos usarlo como índices para una `Series` de datos."
      ]
    },
    {
      "cell_type": "code",
      "execution_count": 3,
      "metadata": {
        "ExecuteTime": {
          "end_time": "2020-07-27T09:34:33.365063Z",
          "start_time": "2020-07-27T09:34:33.354910Z"
        },
        "id": "GLMe1k1u2pef",
        "outputId": "74c8f4f9-c76e-4d72-ffe5-ef93ef6f9133",
        "colab": {
          "base_uri": "https://localhost:8080/"
        }
      },
      "outputs": [
        {
          "output_type": "execute_result",
          "data": {
            "text/plain": [
              "2016-10-29 17:30:00    4.4\n",
              "2016-10-29 18:30:00    5.1\n",
              "2016-10-29 19:30:00    6.1\n",
              "2016-10-29 20:30:00    6.2\n",
              "2016-10-29 21:30:00    6.1\n",
              "2016-10-29 22:30:00    6.1\n",
              "2016-10-29 23:30:00    5.7\n",
              "2016-10-30 00:30:00    5.2\n",
              "2016-10-30 01:30:00    4.7\n",
              "2016-10-30 02:30:00    4.1\n",
              "2016-10-30 03:30:00    3.9\n",
              "2016-10-30 04:30:00    3.5\n",
              "Freq: H, dtype: float64"
            ]
          },
          "metadata": {},
          "execution_count": 3
        }
      ],
      "source": [
        "temperatures = [4.4,5.1,6.1,6.2,6.1,6.1,5.7,5.2,4.7,4.1,3.9,3.5]\n",
        "temp_series = pd.Series(temperatures, dates)\n",
        "temp_series"
      ]
    },
    {
      "cell_type": "markdown",
      "metadata": {
        "id": "NNOYar8q2peg"
      },
      "source": [
        "Y como ya hemos visto anteriormente, podemos visualizar esta serie temporal de manera sencilla."
      ]
    },
    {
      "cell_type": "code",
      "execution_count": 4,
      "metadata": {
        "ExecuteTime": {
          "end_time": "2020-07-27T09:34:34.271688Z",
          "start_time": "2020-07-27T09:34:34.103221Z"
        },
        "id": "4cp394fl2peg",
        "outputId": "9a749104-bb17-4d5d-a3b0-0a9439f64e72",
        "colab": {
          "base_uri": "https://localhost:8080/",
          "height": 265
        }
      },
      "outputs": [
        {
          "output_type": "display_data",
          "data": {
            "text/plain": [
              "<Figure size 432x288 with 1 Axes>"
            ],
            "image/png": "[encoded data removed]"
          },
          "metadata": {
            "needs_background": "light"
          }
        }
      ],
      "source": [
        "import matplotlib.pyplot as plt \n",
        "\n",
        "temp_series.plot()\n",
        "plt.grid(True)\n",
        "plt.show()"
      ]
    },
    {
      "cell_type": "markdown",
      "metadata": {
        "id": "QZQaHtAh2peh"
      },
      "source": [
        "Podemos modificar la serie temporal para interpolar nuevos valores en diferentes instantes gracias a la función `resample`"
      ]
    },
    {
      "cell_type": "code",
      "execution_count": 7,
      "metadata": {
        "ExecuteTime": {
          "end_time": "2020-07-27T09:34:34.815395Z",
          "start_time": "2020-07-27T09:34:34.796287Z"
        },
        "id": "hKaD_Pjw2peh",
        "outputId": "ef66a5cc-6e01-4a55-86b6-b31ce44c933c",
        "colab": {
          "base_uri": "https://localhost:8080/"
        }
      },
      "outputs": [
        {
          "output_type": "execute_result",
          "data": {
            "text/plain": [
              "<pandas.core.resample.DatetimeIndexResampler object at 0x7f9fe15a5b10>"
            ]
          },
          "metadata": {},
          "execution_count": 7
        }
      ],
      "source": [
        "temp_series_freq_2H = temp_series.resample(\"2H\")\n",
        "temp_series_freq_2H"
      ]
    },
    {
      "cell_type": "markdown",
      "metadata": {
        "id": "GlOfIQuX2peh"
      },
      "source": [
        "Esta función no nos devuelve una nueva `Series`, para ello tenemos que llamar a alguno de sus métodos para llevar a cabo los cálculos necesarios para el re-muestreo de la serie temporal."
      ]
    },
    {
      "cell_type": "code",
      "execution_count": 8,
      "metadata": {
        "ExecuteTime": {
          "end_time": "2020-07-27T09:34:35.766668Z",
          "start_time": "2020-07-27T09:34:35.755165Z"
        },
        "id": "pRn-C_262peh",
        "outputId": "a252e348-ab81-40b6-cfba-371446d4b0fb",
        "colab": {
          "base_uri": "https://localhost:8080/"
        }
      },
      "outputs": [
        {
          "output_type": "execute_result",
          "data": {
            "text/plain": [
              "2016-10-29 16:00:00    4.40\n",
              "2016-10-29 18:00:00    5.60\n",
              "2016-10-29 20:00:00    6.15\n",
              "2016-10-29 22:00:00    5.90\n",
              "2016-10-30 00:00:00    4.95\n",
              "2016-10-30 02:00:00    4.00\n",
              "2016-10-30 04:00:00    3.50\n",
              "Freq: 2H, dtype: float64"
            ]
          },
          "metadata": {},
          "execution_count": 8
        }
      ],
      "source": [
        "temp_series_freq_2H = temp_series_freq_2H.mean()\n",
        "temp_series_freq_2H"
      ]
    },
    {
      "cell_type": "markdown",
      "metadata": {
        "id": "AuCUiRPl2peh"
      },
      "source": [
        "Ahora nuestra serie temporal tiene la mitad de puntos, ya que hemos re-muestreado cada dos horas, y cada valor se calcula como el valor medio entre el instante anterior y consecutivo. Podemos aumentar el número de muestras de maneras similar, sin embargo esto va a crear huecos en la serie temporal."
      ]
    },
    {
      "cell_type": "code",
      "execution_count": 9,
      "metadata": {
        "ExecuteTime": {
          "end_time": "2020-07-27T09:43:06.999663Z",
          "start_time": "2020-07-27T09:43:06.986380Z"
        },
        "id": "PTwh5O_J2pei",
        "outputId": "add85a45-0c19-4344-a1ed-47393e30311f",
        "colab": {
          "base_uri": "https://localhost:8080/"
        }
      },
      "outputs": [
        {
          "output_type": "execute_result",
          "data": {
            "text/plain": [
              "2016-10-29 17:30:00    4.4\n",
              "2016-10-29 18:00:00    NaN\n",
              "2016-10-29 18:30:00    5.1\n",
              "2016-10-29 19:00:00    NaN\n",
              "2016-10-29 19:30:00    6.1\n",
              "2016-10-29 20:00:00    NaN\n",
              "2016-10-29 20:30:00    6.2\n",
              "2016-10-29 21:00:00    NaN\n",
              "2016-10-29 21:30:00    6.1\n",
              "2016-10-29 22:00:00    NaN\n",
              "2016-10-29 22:30:00    6.1\n",
              "2016-10-29 23:00:00    NaN\n",
              "2016-10-29 23:30:00    5.7\n",
              "2016-10-30 00:00:00    NaN\n",
              "2016-10-30 00:30:00    5.2\n",
              "2016-10-30 01:00:00    NaN\n",
              "2016-10-30 01:30:00    4.7\n",
              "2016-10-30 02:00:00    NaN\n",
              "2016-10-30 02:30:00    4.1\n",
              "2016-10-30 03:00:00    NaN\n",
              "2016-10-30 03:30:00    3.9\n",
              "2016-10-30 04:00:00    NaN\n",
              "2016-10-30 04:30:00    3.5\n",
              "Freq: 30T, dtype: float64"
            ]
          },
          "metadata": {},
          "execution_count": 9
        }
      ],
      "source": [
        "temp_series_freq_30min = temp_series.resample(\"30Min\").mean()\n",
        "temp_series_freq_30min"
      ]
    },
    {
      "cell_type": "markdown",
      "metadata": {
        "id": "Qt3qK7_M2pei"
      },
      "source": [
        "La solución es utilizar la función `interpolate`. Por defecto esta función hace una interpolación lineal, pero podemos cambiar el método fácilmente con el argumento `method`."
      ]
    },
    {
      "cell_type": "code",
      "execution_count": 10,
      "metadata": {
        "ExecuteTime": {
          "end_time": "2020-07-27T09:44:59.852908Z",
          "start_time": "2020-07-27T09:44:59.840380Z"
        },
        "id": "9mZPiYO22pei",
        "outputId": "6a2616f1-dd69-466e-9701-70546871a761",
        "colab": {
          "base_uri": "https://localhost:8080/"
        }
      },
      "outputs": [
        {
          "output_type": "execute_result",
          "data": {
            "text/plain": [
              "2016-10-29 17:30:00    4.400000\n",
              "2016-10-29 18:00:00    4.605113\n",
              "2016-10-29 18:30:00    5.100000\n",
              "2016-10-29 19:00:00    5.669887\n",
              "2016-10-29 19:30:00    6.100000\n",
              "2016-10-29 20:00:00    6.240339\n",
              "2016-10-29 20:30:00    6.200000\n",
              "2016-10-29 21:00:00    6.131257\n",
              "2016-10-29 21:30:00    6.100000\n",
              "2016-10-29 22:00:00    6.122133\n",
              "2016-10-29 22:30:00    6.100000\n",
              "2016-10-29 23:00:00    5.942712\n",
              "2016-10-29 23:30:00    5.700000\n",
              "2016-10-30 00:00:00    5.444518\n",
              "2016-10-30 00:30:00    5.200000\n",
              "2016-10-30 01:00:00    4.966715\n",
              "2016-10-30 01:30:00    4.700000\n",
              "2016-10-30 02:00:00    4.376123\n",
              "2016-10-30 02:30:00    4.100000\n",
              "2016-10-30 03:00:00    3.966292\n",
              "2016-10-30 03:30:00    3.900000\n",
              "2016-10-30 04:00:00    3.783708\n",
              "2016-10-30 04:30:00    3.500000\n",
              "Freq: 30T, dtype: float64"
            ]
          },
          "metadata": {},
          "execution_count": 10
        }
      ],
      "source": [
        "temp_series_freq_30min = temp_series.resample(\"30Min\").interpolate(method=\"cubic\")\n",
        "temp_series_freq_30min"
      ]
    },
    {
      "cell_type": "code",
      "execution_count": 11,
      "metadata": {
        "ExecuteTime": {
          "end_time": "2020-07-27T09:45:45.701686Z",
          "start_time": "2020-07-27T09:45:45.513753Z"
        },
        "id": "zNcL77NV2pei",
        "outputId": "b1fe422c-eefc-4230-a0a2-56164b0f1302",
        "colab": {
          "base_uri": "https://localhost:8080/",
          "height": 265
        }
      },
      "outputs": [
        {
          "output_type": "display_data",
          "data": {
            "text/plain": [
              "<Figure size 432x288 with 1 Axes>"
            ],
            "image/png": "[encoded data removed]"
          },
          "metadata": {
            "needs_background": "light"
          }
        }
      ],
      "source": [
        "temp_series.plot(label=\"Periodo: 1 hora\")\n",
        "temp_series_freq_30min.plot(label=\"Periodo: 30 minutos\")\n",
        "plt.legend()\n",
        "plt.grid(True)\n",
        "plt.show()"
      ]
    },
    {
      "cell_type": "markdown",
      "metadata": {
        "id": "VQWoe7eI2pei"
      },
      "source": [
        "Por defecto, una serie temporal es genérica en el sentido que no hace referencia a ninguna zona horaria en concreto. `Pandas` nos permite asignar una zona horaria a una serie temporal mediante la función `tz_localize`."
      ]
    },
    {
      "cell_type": "code",
      "execution_count": 18,
      "metadata": {
        "ExecuteTime": {
          "end_time": "2020-07-27T09:49:38.188046Z",
          "start_time": "2020-07-27T09:49:38.177015Z"
        },
        "id": "cuxVzyC42pei",
        "outputId": "72ab6df3-4fd6-41d2-efe6-ebf92483b1ae",
        "colab": {
          "base_uri": "https://localhost:8080/"
        }
      },
      "outputs": [
        {
          "output_type": "execute_result",
          "data": {
            "text/plain": [
              "2016-10-29 17:30:00-04:00    4.4\n",
              "2016-10-29 18:30:00-04:00    5.1\n",
              "2016-10-29 19:30:00-04:00    6.1\n",
              "2016-10-29 20:30:00-04:00    6.2\n",
              "2016-10-29 21:30:00-04:00    6.1\n",
              "2016-10-29 22:30:00-04:00    6.1\n",
              "2016-10-29 23:30:00-04:00    5.7\n",
              "2016-10-30 00:30:00-04:00    5.2\n",
              "2016-10-30 01:30:00-04:00    4.7\n",
              "2016-10-30 02:30:00-04:00    4.1\n",
              "2016-10-30 03:30:00-04:00    3.9\n",
              "2016-10-30 04:30:00-04:00    3.5\n",
              "dtype: float64"
            ]
          },
          "metadata": {},
          "execution_count": 18
        }
      ],
      "source": [
        "temp_series_ny = temp_series.tz_localize(\"America/New_York\")\n",
        "temp_series_ny"
      ]
    },
    {
      "cell_type": "markdown",
      "metadata": {
        "id": "GvsURfFb2pej"
      },
      "source": [
        "`Pandas` ha añadido la hora UTC a los índices de la serie temporal. Podemos transformar entre diferentes zonas horarias fácilmente"
      ]
    },
    {
      "cell_type": "code",
      "execution_count": 19,
      "metadata": {
        "ExecuteTime": {
          "end_time": "2020-07-27T09:50:48.603416Z",
          "start_time": "2020-07-27T09:50:48.593635Z"
        },
        "id": "UBrFco8Q2pej",
        "outputId": "061669b2-658d-440c-9d0e-f5f1fb290e01",
        "colab": {
          "base_uri": "https://localhost:8080/"
        }
      },
      "outputs": [
        {
          "output_type": "execute_result",
          "data": {
            "text/plain": [
              "2016-10-29 23:30:00+02:00    4.4\n",
              "2016-10-30 00:30:00+02:00    5.1\n",
              "2016-10-30 01:30:00+02:00    6.1\n",
              "2016-10-30 02:30:00+02:00    6.2\n",
              "2016-10-30 02:30:00+01:00    6.1\n",
              "2016-10-30 03:30:00+01:00    6.1\n",
              "2016-10-30 04:30:00+01:00    5.7\n",
              "2016-10-30 05:30:00+01:00    5.2\n",
              "2016-10-30 06:30:00+01:00    4.7\n",
              "2016-10-30 07:30:00+01:00    4.1\n",
              "2016-10-30 08:30:00+01:00    3.9\n",
              "2016-10-30 09:30:00+01:00    3.5\n",
              "dtype: float64"
            ]
          },
          "metadata": {},
          "execution_count": 19
        }
      ],
      "source": [
        "temp_series_paris = temp_series_ny.tz_convert(\"Europe/Paris\")\n",
        "temp_series_paris"
      ]
    },
    {
      "cell_type": "markdown",
      "metadata": {
        "id": "19NdkFDR2pej"
      },
      "source": [
        "En muchas aplicaciones, especialmente financieras, se suele trabajar por cuatrimestres en lugar de la fecha concreta. Para ello `Pandas` nos ofrece la función `period_range`."
      ]
    },
    {
      "cell_type": "code",
      "execution_count": 20,
      "metadata": {
        "ExecuteTime": {
          "end_time": "2020-07-27T09:53:15.427671Z",
          "start_time": "2020-07-27T09:53:15.417818Z"
        },
        "id": "tP9Cg2-z2pej",
        "outputId": "162cf3ee-a7fe-41cd-ad36-e44b348225a5",
        "colab": {
          "base_uri": "https://localhost:8080/"
        }
      },
      "outputs": [
        {
          "output_type": "execute_result",
          "data": {
            "text/plain": [
              "PeriodIndex(['2016Q1', '2016Q2', '2016Q3', '2016Q4', '2017Q1', '2017Q2',\n",
              "             '2017Q3', '2017Q4'],\n",
              "            dtype='period[Q-DEC]')"
            ]
          },
          "metadata": {},
          "execution_count": 20
        }
      ],
      "source": [
        "quarters = pd.period_range('2016Q1', periods=8, freq='Q')\n",
        "quarters"
      ]
    },
    {
      "cell_type": "markdown",
      "metadata": {
        "id": "X9eFJjjp2pej"
      },
      "source": [
        "Podemos transformar entre los dos formatos de la siguiente manera"
      ]
    },
    {
      "cell_type": "code",
      "execution_count": 21,
      "metadata": {
        "ExecuteTime": {
          "end_time": "2020-07-27T09:55:19.857437Z",
          "start_time": "2020-07-27T09:55:19.846881Z"
        },
        "id": "MB-y4fye2pej",
        "outputId": "740efc63-76bd-43c2-c5af-a290452cb3ef",
        "colab": {
          "base_uri": "https://localhost:8080/"
        }
      },
      "outputs": [
        {
          "output_type": "execute_result",
          "data": {
            "text/plain": [
              "DatetimeIndex(['2016-03-31 23:59:59.999999999',\n",
              "               '2016-06-30 23:59:59.999999999',\n",
              "               '2016-09-30 23:59:59.999999999',\n",
              "               '2016-12-31 23:59:59.999999999',\n",
              "               '2017-03-31 23:59:59.999999999',\n",
              "               '2017-06-30 23:59:59.999999999',\n",
              "               '2017-09-30 23:59:59.999999999',\n",
              "               '2017-12-31 23:59:59.999999999'],\n",
              "              dtype='datetime64[ns]', freq=None)"
            ]
          },
          "metadata": {},
          "execution_count": 21
        }
      ],
      "source": [
        "time_stamps = quarters.to_timestamp(how=\"end\", freq=\"H\")\n",
        "time_stamps"
      ]
    },
    {
      "cell_type": "code",
      "execution_count": 22,
      "metadata": {
        "ExecuteTime": {
          "end_time": "2020-07-27T09:55:26.084491Z",
          "start_time": "2020-07-27T09:55:26.076250Z"
        },
        "id": "Gg9yx63O2pej",
        "outputId": "c623eb54-071c-4dbe-cbba-a755a8ae2fee",
        "colab": {
          "base_uri": "https://localhost:8080/"
        }
      },
      "outputs": [
        {
          "output_type": "execute_result",
          "data": {
            "text/plain": [
              "PeriodIndex(['2016Q1', '2016Q2', '2016Q3', '2016Q4', '2017Q1', '2017Q2',\n",
              "             '2017Q3', '2017Q4'],\n",
              "            dtype='period[Q-DEC]')"
            ]
          },
          "metadata": {},
          "execution_count": 22
        }
      ],
      "source": [
        "time_stamps.to_period()"
      ]
    },
    {
      "cell_type": "markdown",
      "metadata": {
        "id": "Ap8Q46aw2pej"
      },
      "source": [
        "`Pandas` ofrece muchísima más funcionalidad para trabajar con datos temporales de la que hemos visto en este post. Si trabajas con este tipo de datos vale la pena invertir tiempo en familiarizarse con la librería y su funcionalidad, en la [documentación](https://pandas.pydata.org/pandas-docs/stable/user_guide/timeseries.html) podrás encontrar más información. "
      ]
    },
    {
      "cell_type": "markdown",
      "metadata": {
        "id": "AepoFN1Q2pej"
      },
      "source": [
        "## Datos Categóricos"
      ]
    },
    {
      "cell_type": "markdown",
      "metadata": {
        "id": "tcjPKwgH2pej"
      },
      "source": [
        "Es muy común en el análisis de datos encontrarse con valores que representan categorías, por ejemplo `\"H\"` para representar *hombre* y `\"F\"`, *mujer*. Estos datos pueden resultar difíciles de interpretar y pueden llevar a errores, y para resolver este problema `Pandas` nos ofrece varias funciones. "
      ]
    },
    {
      "cell_type": "code",
      "execution_count": 23,
      "metadata": {
        "ExecuteTime": {
          "end_time": "2020-07-27T10:02:40.594617Z",
          "start_time": "2020-07-27T10:02:40.579526Z"
        },
        "id": "E92hwL5Q2pej",
        "outputId": "5243cece-4924-4d83-cb12-e91ab6e07410",
        "colab": {
          "base_uri": "https://localhost:8080/",
          "height": 143
        }
      },
      "outputs": [
        {
          "output_type": "execute_result",
          "data": {
            "text/plain": [
              "        sexo\n",
              "alice      F\n",
              "bob        H\n",
              "charles    H"
            ],
            "text/html": [
              "\n",
              "  <div id=\"df-41c8fefc-02ef-4711-ac20-dda084a6e7c9\">\n",
              "    <div class=\"colab-df-container\">\n",
              "      <div>\n",
              "<style scoped>\n",
              "    .dataframe tbody tr th:only-of-type {\n",
              "        vertical-align: middle;\n",
              "    }\n",
              "\n",
              "    .dataframe tbody tr th {\n",
              "        vertical-align: top;\n",
              "    }\n",
              "\n",
              "    .dataframe thead th {\n",
              "        text-align: right;\n",
              "    }\n",
              "</style>\n",
              "<table border=\"1\" class=\"dataframe\">\n",
              "  <thead>\n",
              "    <tr style=\"text-align: right;\">\n",
              "      <th></th>\n",
              "      <th>sexo</th>\n",
              "    </tr>\n",
              "  </thead>\n",
              "  <tbody>\n",
              "    <tr>\n",
              "      <th>alice</th>\n",
              "      <td>F</td>\n",
              "    </tr>\n",
              "    <tr>\n",
              "      <th>bob</th>\n",
              "      <td>H</td>\n",
              "    </tr>\n",
              "    <tr>\n",
              "      <th>charles</th>\n",
              "      <td>H</td>\n",
              "    </tr>\n",
              "  </tbody>\n",
              "</table>\n",
              "</div>\n",
              "      <button class=\"colab-df-convert\" onclick=\"convertToInteractive('df-41c8fefc-02ef-4711-ac20-dda084a6e7c9')\"\n",
              "              title=\"Convert this dataframe to an interactive table.\"\n",
              "              style=\"display:none;\">\n",
              "        \n",
              "  <svg xmlns=\"http://www.w3.org/2000/svg\" height=\"24px\"viewBox=\"0 0 24 24\"\n",
              "       width=\"24px\">\n",
              "    <path d=\"M0 0h24v24H0V0z\" fill=\"none\"/>\n",
              "    <path d=\"M18.56 5.44l.94 2.06.94-2.06 2.06-.94-2.06-.94-.94-2.06-.94 2.06-2.06.94zm-11 1L8.5 8.5l.94-2.06 2.06-.94-2.06-.94L8.5 2.5l-.94 2.06-2.06.94zm10 10l.94 2.06.94-2.06 2.06-.94-2.06-.94-.94-2.06-.94 2.06-2.06.94z\"/><path d=\"M17.41 7.96l-1.37-1.37c-.4-.4-.92-.59-1.43-.59-.52 0-1.04.2-1.43.59L10.3 9.45l-7.72 7.72c-.78.78-.78 2.05 0 2.83L4 21.41c.39.39.9.59 1.41.59.51 0 1.02-.2 1.41-.59l7.78-7.78 2.81-2.81c.8-.78.8-2.07 0-2.86zM5.41 20L4 18.59l7.72-7.72 1.47 1.35L5.41 20z\"/>\n",
              "  </svg>\n",
              "      </button>\n",
              "      \n",
              "  <style>\n",
              "    .colab-df-container {\n",
              "      display:flex;\n",
              "      flex-wrap:wrap;\n",
              "      gap: 12px;\n",
              "    }\n",
              "\n",
              "    .colab-df-convert {\n",
              "      background-color: #E8F0FE;\n",
              "      border: none;\n",
              "      border-radius: 50%;\n",
              "      cursor: pointer;\n",
              "      display: none;\n",
              "      fill: #1967D2;\n",
              "      height: 32px;\n",
              "      padding: 0 0 0 0;\n",
              "      width: 32px;\n",
              "    }\n",
              "\n",
              "    .colab-df-convert:hover {\n",
              "      background-color: #E2EBFA;\n",
              "      box-shadow: 0px 1px 2px rgba(60, 64, 67, 0.3), 0px 1px 3px 1px rgba(60, 64, 67, 0.15);\n",
              "      fill: #174EA6;\n",
              "    }\n",
              "\n",
              "    [theme=dark] .colab-df-convert {\n",
              "      background-color: #3B4455;\n",
              "      fill: #D2E3FC;\n",
              "    }\n",
              "\n",
              "    [theme=dark] .colab-df-convert:hover {\n",
              "      background-color: #434B5C;\n",
              "      box-shadow: 0px 1px 3px 1px rgba(0, 0, 0, 0.15);\n",
              "      filter: drop-shadow(0px 1px 2px rgba(0, 0, 0, 0.3));\n",
              "      fill: #FFFFFF;\n",
              "    }\n",
              "  </style>\n",
              "\n",
              "      <script>\n",
              "        const buttonEl =\n",
              "          document.querySelector('#df-41c8fefc-02ef-4711-ac20-dda084a6e7c9 button.colab-df-convert');\n",
              "        buttonEl.style.display =\n",
              "          google.colab.kernel.accessAllowed ? 'block' : 'none';\n",
              "\n",
              "        async function convertToInteractive(key) {\n",
              "          const element = document.querySelector('#df-41c8fefc-02ef-4711-ac20-dda084a6e7c9');\n",
              "          const dataTable =\n",
              "            await google.colab.kernel.invokeFunction('convertToInteractive',\n",
              "                                                     [key], {});\n",
              "          if (!dataTable) return;\n",
              "\n",
              "          const docLinkHtml = 'Like what you see? Visit the ' +\n",
              "            '<a target=\"_blank\" href=https://colab.research.google.com/notebooks/data_table.ipynb>data table notebook</a>'\n",
              "            + ' to learn more about interactive tables.';\n",
              "          element.innerHTML = '';\n",
              "          dataTable['output_type'] = 'display_data';\n",
              "          await google.colab.output.renderOutput(dataTable, element);\n",
              "          const docLink = document.createElement('div');\n",
              "          docLink.innerHTML = docLinkHtml;\n",
              "          element.appendChild(docLink);\n",
              "        }\n",
              "      </script>\n",
              "    </div>\n",
              "  </div>\n",
              "  "
            ]
          },
          "metadata": {},
          "execution_count": 23
        }
      ],
      "source": [
        "df = pd.DataFrame({\n",
        "    \"sexo\": {\"alice\": \"F\", \"bob\": \"H\", \"charles\": \"H\"}\n",
        "})\n",
        "\n",
        "df"
      ]
    },
    {
      "cell_type": "markdown",
      "metadata": {
        "id": "KA7Dyw-d2pej"
      },
      "source": [
        "Vamos a crear una nueva columna a partir de la columna con las categorías, indicando específicamente que se trata de una columna con datos categóricos"
      ]
    },
    {
      "cell_type": "code",
      "execution_count": 27,
      "metadata": {
        "ExecuteTime": {
          "end_time": "2020-07-27T10:04:17.607960Z",
          "start_time": "2020-07-27T10:04:17.594000Z"
        },
        "id": "46N0PdUI2pek",
        "outputId": "31a5e839-87f7-4d01-a55c-466c07e73567",
        "colab": {
          "base_uri": "https://localhost:8080/",
          "height": 143
        }
      },
      "outputs": [
        {
          "output_type": "execute_result",
          "data": {
            "text/plain": [
              "        sexo sexo_cat\n",
              "alice      F        F\n",
              "bob        H        H\n",
              "charles    H        H"
            ],
            "text/html": [
              "\n",
              "  <div id=\"df-4c38b775-8f71-4a78-bd95-d0d0a7378128\">\n",
              "    <div class=\"colab-df-container\">\n",
              "      <div>\n",
              "<style scoped>\n",
              "    .dataframe tbody tr th:only-of-type {\n",
              "        vertical-align: middle;\n",
              "    }\n",
              "\n",
              "    .dataframe tbody tr th {\n",
              "        vertical-align: top;\n",
              "    }\n",
              "\n",
              "    .dataframe thead th {\n",
              "        text-align: right;\n",
              "    }\n",
              "</style>\n",
              "<table border=\"1\" class=\"dataframe\">\n",
              "  <thead>\n",
              "    <tr style=\"text-align: right;\">\n",
              "      <th></th>\n",
              "      <th>sexo</th>\n",
              "      <th>sexo_cat</th>\n",
              "    </tr>\n",
              "  </thead>\n",
              "  <tbody>\n",
              "    <tr>\n",
              "      <th>alice</th>\n",
              "      <td>F</td>\n",
              "      <td>F</td>\n",
              "    </tr>\n",
              "    <tr>\n",
              "      <th>bob</th>\n",
              "      <td>H</td>\n",
              "      <td>H</td>\n",
              "    </tr>\n",
              "    <tr>\n",
              "      <th>charles</th>\n",
              "      <td>H</td>\n",
              "      <td>H</td>\n",
              "    </tr>\n",
              "  </tbody>\n",
              "</table>\n",
              "</div>\n",
              "      <button class=\"colab-df-convert\" onclick=\"convertToInteractive('df-4c38b775-8f71-4a78-bd95-d0d0a7378128')\"\n",
              "              title=\"Convert this dataframe to an interactive table.\"\n",
              "              style=\"display:none;\">\n",
              "        \n",
              "  <svg xmlns=\"http://www.w3.org/2000/svg\" height=\"24px\"viewBox=\"0 0 24 24\"\n",
              "       width=\"24px\">\n",
              "    <path d=\"M0 0h24v24H0V0z\" fill=\"none\"/>\n",
              "    <path d=\"M18.56 5.44l.94 2.06.94-2.06 2.06-.94-2.06-.94-.94-2.06-.94 2.06-2.06.94zm-11 1L8.5 8.5l.94-2.06 2.06-.94-2.06-.94L8.5 2.5l-.94 2.06-2.06.94zm10 10l.94 2.06.94-2.06 2.06-.94-2.06-.94-.94-2.06-.94 2.06-2.06.94z\"/><path d=\"M17.41 7.96l-1.37-1.37c-.4-.4-.92-.59-1.43-.59-.52 0-1.04.2-1.43.59L10.3 9.45l-7.72 7.72c-.78.78-.78 2.05 0 2.83L4 21.41c.39.39.9.59 1.41.59.51 0 1.02-.2 1.41-.59l7.78-7.78 2.81-2.81c.8-.78.8-2.07 0-2.86zM5.41 20L4 18.59l7.72-7.72 1.47 1.35L5.41 20z\"/>\n",
              "  </svg>\n",
              "      </button>\n",
              "      \n",
              "  <style>\n",
              "    .colab-df-container {\n",
              "      display:flex;\n",
              "      flex-wrap:wrap;\n",
              "      gap: 12px;\n",
              "    }\n",
              "\n",
              "    .colab-df-convert {\n",
              "      background-color: #E8F0FE;\n",
              "      border: none;\n",
              "      border-radius: 50%;\n",
              "      cursor: pointer;\n",
              "      display: none;\n",
              "      fill: #1967D2;\n",
              "      height: 32px;\n",
              "      padding: 0 0 0 0;\n",
              "      width: 32px;\n",
              "    }\n",
              "\n",
              "    .colab-df-convert:hover {\n",
              "      background-color: #E2EBFA;\n",
              "      box-shadow: 0px 1px 2px rgba(60, 64, 67, 0.3), 0px 1px 3px 1px rgba(60, 64, 67, 0.15);\n",
              "      fill: #174EA6;\n",
              "    }\n",
              "\n",
              "    [theme=dark] .colab-df-convert {\n",
              "      background-color: #3B4455;\n",
              "      fill: #D2E3FC;\n",
              "    }\n",
              "\n",
              "    [theme=dark] .colab-df-convert:hover {\n",
              "      background-color: #434B5C;\n",
              "      box-shadow: 0px 1px 3px 1px rgba(0, 0, 0, 0.15);\n",
              "      filter: drop-shadow(0px 1px 2px rgba(0, 0, 0, 0.3));\n",
              "      fill: #FFFFFF;\n",
              "    }\n",
              "  </style>\n",
              "\n",
              "      <script>\n",
              "        const buttonEl =\n",
              "          document.querySelector('#df-4c38b775-8f71-4a78-bd95-d0d0a7378128 button.colab-df-convert');\n",
              "        buttonEl.style.display =\n",
              "          google.colab.kernel.accessAllowed ? 'block' : 'none';\n",
              "\n",
              "        async function convertToInteractive(key) {\n",
              "          const element = document.querySelector('#df-4c38b775-8f71-4a78-bd95-d0d0a7378128');\n",
              "          const dataTable =\n",
              "            await google.colab.kernel.invokeFunction('convertToInteractive',\n",
              "                                                     [key], {});\n",
              "          if (!dataTable) return;\n",
              "\n",
              "          const docLinkHtml = 'Like what you see? Visit the ' +\n",
              "            '<a target=\"_blank\" href=https://colab.research.google.com/notebooks/data_table.ipynb>data table notebook</a>'\n",
              "            + ' to learn more about interactive tables.';\n",
              "          element.innerHTML = '';\n",
              "          dataTable['output_type'] = 'display_data';\n",
              "          await google.colab.output.renderOutput(dataTable, element);\n",
              "          const docLink = document.createElement('div');\n",
              "          docLink.innerHTML = docLinkHtml;\n",
              "          element.appendChild(docLink);\n",
              "        }\n",
              "      </script>\n",
              "    </div>\n",
              "  </div>\n",
              "  "
            ]
          },
          "metadata": {},
          "execution_count": 27
        }
      ],
      "source": [
        "df[\"sexo_cat\"] = df[\"sexo\"].astype('category')\n",
        "df"
      ]
    },
    {
      "cell_type": "markdown",
      "metadata": {
        "id": "S3dp4nPi2pek"
      },
      "source": [
        "Como puedes ver el nombre de las categorías asignadas coinciden con las originales, podemos cambiar las categorías de la siguiente manera"
      ]
    },
    {
      "cell_type": "code",
      "execution_count": 28,
      "metadata": {
        "ExecuteTime": {
          "end_time": "2020-07-27T10:05:04.069178Z",
          "start_time": "2020-07-27T10:05:04.060358Z"
        },
        "id": "WHmKUIlX2pek",
        "outputId": "b67f9705-c483-4052-e633-7301a94006c8",
        "colab": {
          "base_uri": "https://localhost:8080/"
        }
      },
      "outputs": [
        {
          "output_type": "execute_result",
          "data": {
            "text/plain": [
              "Index(['F', 'H'], dtype='object')"
            ]
          },
          "metadata": {},
          "execution_count": 28
        }
      ],
      "source": [
        "df[\"sexo_cat\"].cat.categories"
      ]
    },
    {
      "cell_type": "code",
      "execution_count": 29,
      "metadata": {
        "ExecuteTime": {
          "end_time": "2020-07-27T10:05:07.272359Z",
          "start_time": "2020-07-27T10:05:07.260660Z"
        },
        "id": "fGcLrzg92pek",
        "outputId": "d00b9dd3-01a1-4cef-8b86-591f806a7ce5",
        "colab": {
          "base_uri": "https://localhost:8080/",
          "height": 143
        }
      },
      "outputs": [
        {
          "output_type": "execute_result",
          "data": {
            "text/plain": [
              "        sexo sexo_cat\n",
              "alice      F    Mujer\n",
              "bob        H   Hombre\n",
              "charles    H   Hombre"
            ],
            "text/html": [
              "\n",
              "  <div id=\"df-0d344a30-98d9-4ae3-80b9-3f20a7547f2d\">\n",
              "    <div class=\"colab-df-container\">\n",
              "      <div>\n",
              "<style scoped>\n",
              "    .dataframe tbody tr th:only-of-type {\n",
              "        vertical-align: middle;\n",
              "    }\n",
              "\n",
              "    .dataframe tbody tr th {\n",
              "        vertical-align: top;\n",
              "    }\n",
              "\n",
              "    .dataframe thead th {\n",
              "        text-align: right;\n",
              "    }\n",
              "</style>\n",
              "<table border=\"1\" class=\"dataframe\">\n",
              "  <thead>\n",
              "    <tr style=\"text-align: right;\">\n",
              "      <th></th>\n",
              "      <th>sexo</th>\n",
              "      <th>sexo_cat</th>\n",
              "    </tr>\n",
              "  </thead>\n",
              "  <tbody>\n",
              "    <tr>\n",
              "      <th>alice</th>\n",
              "      <td>F</td>\n",
              "      <td>Mujer</td>\n",
              "    </tr>\n",
              "    <tr>\n",
              "      <th>bob</th>\n",
              "      <td>H</td>\n",
              "      <td>Hombre</td>\n",
              "    </tr>\n",
              "    <tr>\n",
              "      <th>charles</th>\n",
              "      <td>H</td>\n",
              "      <td>Hombre</td>\n",
              "    </tr>\n",
              "  </tbody>\n",
              "</table>\n",
              "</div>\n",
              "      <button class=\"colab-df-convert\" onclick=\"convertToInteractive('df-0d344a30-98d9-4ae3-80b9-3f20a7547f2d')\"\n",
              "              title=\"Convert this dataframe to an interactive table.\"\n",
              "              style=\"display:none;\">\n",
              "        \n",
              "  <svg xmlns=\"http://www.w3.org/2000/svg\" height=\"24px\"viewBox=\"0 0 24 24\"\n",
              "       width=\"24px\">\n",
              "    <path d=\"M0 0h24v24H0V0z\" fill=\"none\"/>\n",
              "    <path d=\"M18.56 5.44l.94 2.06.94-2.06 2.06-.94-2.06-.94-.94-2.06-.94 2.06-2.06.94zm-11 1L8.5 8.5l.94-2.06 2.06-.94-2.06-.94L8.5 2.5l-.94 2.06-2.06.94zm10 10l.94 2.06.94-2.06 2.06-.94-2.06-.94-.94-2.06-.94 2.06-2.06.94z\"/><path d=\"M17.41 7.96l-1.37-1.37c-.4-.4-.92-.59-1.43-.59-.52 0-1.04.2-1.43.59L10.3 9.45l-7.72 7.72c-.78.78-.78 2.05 0 2.83L4 21.41c.39.39.9.59 1.41.59.51 0 1.02-.2 1.41-.59l7.78-7.78 2.81-2.81c.8-.78.8-2.07 0-2.86zM5.41 20L4 18.59l7.72-7.72 1.47 1.35L5.41 20z\"/>\n",
              "  </svg>\n",
              "      </button>\n",
              "      \n",
              "  <style>\n",
              "    .colab-df-container {\n",
              "      display:flex;\n",
              "      flex-wrap:wrap;\n",
              "      gap: 12px;\n",
              "    }\n",
              "\n",
              "    .colab-df-convert {\n",
              "      background-color: #E8F0FE;\n",
              "      border: none;\n",
              "      border-radius: 50%;\n",
              "      cursor: pointer;\n",
              "      display: none;\n",
              "      fill: #1967D2;\n",
              "      height: 32px;\n",
              "      padding: 0 0 0 0;\n",
              "      width: 32px;\n",
              "    }\n",
              "\n",
              "    .colab-df-convert:hover {\n",
              "      background-color: #E2EBFA;\n",
              "      box-shadow: 0px 1px 2px rgba(60, 64, 67, 0.3), 0px 1px 3px 1px rgba(60, 64, 67, 0.15);\n",
              "      fill: #174EA6;\n",
              "    }\n",
              "\n",
              "    [theme=dark] .colab-df-convert {\n",
              "      background-color: #3B4455;\n",
              "      fill: #D2E3FC;\n",
              "    }\n",
              "\n",
              "    [theme=dark] .colab-df-convert:hover {\n",
              "      background-color: #434B5C;\n",
              "      box-shadow: 0px 1px 3px 1px rgba(0, 0, 0, 0.15);\n",
              "      filter: drop-shadow(0px 1px 2px rgba(0, 0, 0, 0.3));\n",
              "      fill: #FFFFFF;\n",
              "    }\n",
              "  </style>\n",
              "\n",
              "      <script>\n",
              "        const buttonEl =\n",
              "          document.querySelector('#df-0d344a30-98d9-4ae3-80b9-3f20a7547f2d button.colab-df-convert');\n",
              "        buttonEl.style.display =\n",
              "          google.colab.kernel.accessAllowed ? 'block' : 'none';\n",
              "\n",
              "        async function convertToInteractive(key) {\n",
              "          const element = document.querySelector('#df-0d344a30-98d9-4ae3-80b9-3f20a7547f2d');\n",
              "          const dataTable =\n",
              "            await google.colab.kernel.invokeFunction('convertToInteractive',\n",
              "                                                     [key], {});\n",
              "          if (!dataTable) return;\n",
              "\n",
              "          const docLinkHtml = 'Like what you see? Visit the ' +\n",
              "            '<a target=\"_blank\" href=https://colab.research.google.com/notebooks/data_table.ipynb>data table notebook</a>'\n",
              "            + ' to learn more about interactive tables.';\n",
              "          element.innerHTML = '';\n",
              "          dataTable['output_type'] = 'display_data';\n",
              "          await google.colab.output.renderOutput(dataTable, element);\n",
              "          const docLink = document.createElement('div');\n",
              "          docLink.innerHTML = docLinkHtml;\n",
              "          element.appendChild(docLink);\n",
              "        }\n",
              "      </script>\n",
              "    </div>\n",
              "  </div>\n",
              "  "
            ]
          },
          "metadata": {},
          "execution_count": 29
        }
      ],
      "source": [
        "df[\"sexo_cat\"].cat.categories = [\"Mujer\", \"Hombre\"]\n",
        "\n",
        "df"
      ]
    },
    {
      "cell_type": "markdown",
      "metadata": {
        "id": "M1l8c0K82pek"
      },
      "source": [
        "Si bien hemos sido capaces de modificar el nombre de las categorías, para poder utilizar estos datos para entrenar un modelo de `Machine Learning` necesitamos transformar las categorías en números. De entre las varias formas de hacerlo, la más común es la conocida como `one hot encoding`, en el que transformamos cada categoría por un vector de ceros de longitud igual al número de clases, poniendo un uno en la posición correspondiente a la categoría en cuestión en la lista de clases."
      ]
    },
    {
      "cell_type": "markdown",
      "metadata": {
        "ExecuteTime": {
          "end_time": "2020-07-27T10:16:49.169860Z",
          "start_time": "2020-07-27T10:16:49.035168Z"
        },
        "id": "MQjfp0m_2pek"
      },
      "source": [
        "![](https://naadispeaks.files.wordpress.com/2018/04/mtimfxh.png?w=371&h=146)"
      ]
    },
    {
      "cell_type": "markdown",
      "metadata": {
        "id": "kjFVmHaf2pek"
      },
      "source": [
        "`Pandas` nos permite llevar a cabo esta codificación con la función `get_dummies`."
      ]
    },
    {
      "cell_type": "code",
      "execution_count": 32,
      "metadata": {
        "ExecuteTime": {
          "end_time": "2020-07-27T10:17:20.768969Z",
          "start_time": "2020-07-27T10:17:20.753546Z"
        },
        "id": "gH1RGBv82pek",
        "outputId": "defa9a3c-f743-4ff6-b356-b74a732150fd",
        "colab": {
          "base_uri": "https://localhost:8080/",
          "height": 143
        }
      },
      "outputs": [
        {
          "output_type": "execute_result",
          "data": {
            "text/plain": [
              "         Mujer  Hombre\n",
              "alice        1       0\n",
              "bob          0       1\n",
              "charles      0       1"
            ],
            "text/html": [
              "\n",
              "  <div id=\"df-8bb8db04-e6fc-45b7-b2fb-09d63f4c8806\">\n",
              "    <div class=\"colab-df-container\">\n",
              "      <div>\n",
              "<style scoped>\n",
              "    .dataframe tbody tr th:only-of-type {\n",
              "        vertical-align: middle;\n",
              "    }\n",
              "\n",
              "    .dataframe tbody tr th {\n",
              "        vertical-align: top;\n",
              "    }\n",
              "\n",
              "    .dataframe thead th {\n",
              "        text-align: right;\n",
              "    }\n",
              "</style>\n",
              "<table border=\"1\" class=\"dataframe\">\n",
              "  <thead>\n",
              "    <tr style=\"text-align: right;\">\n",
              "      <th></th>\n",
              "      <th>Mujer</th>\n",
              "      <th>Hombre</th>\n",
              "    </tr>\n",
              "  </thead>\n",
              "  <tbody>\n",
              "    <tr>\n",
              "      <th>alice</th>\n",
              "      <td>1</td>\n",
              "      <td>0</td>\n",
              "    </tr>\n",
              "    <tr>\n",
              "      <th>bob</th>\n",
              "      <td>0</td>\n",
              "      <td>1</td>\n",
              "    </tr>\n",
              "    <tr>\n",
              "      <th>charles</th>\n",
              "      <td>0</td>\n",
              "      <td>1</td>\n",
              "    </tr>\n",
              "  </tbody>\n",
              "</table>\n",
              "</div>\n",
              "      <button class=\"colab-df-convert\" onclick=\"convertToInteractive('df-8bb8db04-e6fc-45b7-b2fb-09d63f4c8806')\"\n",
              "              title=\"Convert this dataframe to an interactive table.\"\n",
              "              style=\"display:none;\">\n",
              "        \n",
              "  <svg xmlns=\"http://www.w3.org/2000/svg\" height=\"24px\"viewBox=\"0 0 24 24\"\n",
              "       width=\"24px\">\n",
              "    <path d=\"M0 0h24v24H0V0z\" fill=\"none\"/>\n",
              "    <path d=\"M18.56 5.44l.94 2.06.94-2.06 2.06-.94-2.06-.94-.94-2.06-.94 2.06-2.06.94zm-11 1L8.5 8.5l.94-2.06 2.06-.94-2.06-.94L8.5 2.5l-.94 2.06-2.06.94zm10 10l.94 2.06.94-2.06 2.06-.94-2.06-.94-.94-2.06-.94 2.06-2.06.94z\"/><path d=\"M17.41 7.96l-1.37-1.37c-.4-.4-.92-.59-1.43-.59-.52 0-1.04.2-1.43.59L10.3 9.45l-7.72 7.72c-.78.78-.78 2.05 0 2.83L4 21.41c.39.39.9.59 1.41.59.51 0 1.02-.2 1.41-.59l7.78-7.78 2.81-2.81c.8-.78.8-2.07 0-2.86zM5.41 20L4 18.59l7.72-7.72 1.47 1.35L5.41 20z\"/>\n",
              "  </svg>\n",
              "      </button>\n",
              "      \n",
              "  <style>\n",
              "    .colab-df-container {\n",
              "      display:flex;\n",
              "      flex-wrap:wrap;\n",
              "      gap: 12px;\n",
              "    }\n",
              "\n",
              "    .colab-df-convert {\n",
              "      background-color: #E8F0FE;\n",
              "      border: none;\n",
              "      border-radius: 50%;\n",
              "      cursor: pointer;\n",
              "      display: none;\n",
              "      fill: #1967D2;\n",
              "      height: 32px;\n",
              "      padding: 0 0 0 0;\n",
              "      width: 32px;\n",
              "    }\n",
              "\n",
              "    .colab-df-convert:hover {\n",
              "      background-color: #E2EBFA;\n",
              "      box-shadow: 0px 1px 2px rgba(60, 64, 67, 0.3), 0px 1px 3px 1px rgba(60, 64, 67, 0.15);\n",
              "      fill: #174EA6;\n",
              "    }\n",
              "\n",
              "    [theme=dark] .colab-df-convert {\n",
              "      background-color: #3B4455;\n",
              "      fill: #D2E3FC;\n",
              "    }\n",
              "\n",
              "    [theme=dark] .colab-df-convert:hover {\n",
              "      background-color: #434B5C;\n",
              "      box-shadow: 0px 1px 3px 1px rgba(0, 0, 0, 0.15);\n",
              "      filter: drop-shadow(0px 1px 2px rgba(0, 0, 0, 0.3));\n",
              "      fill: #FFFFFF;\n",
              "    }\n",
              "  </style>\n",
              "\n",
              "      <script>\n",
              "        const buttonEl =\n",
              "          document.querySelector('#df-8bb8db04-e6fc-45b7-b2fb-09d63f4c8806 button.colab-df-convert');\n",
              "        buttonEl.style.display =\n",
              "          google.colab.kernel.accessAllowed ? 'block' : 'none';\n",
              "\n",
              "        async function convertToInteractive(key) {\n",
              "          const element = document.querySelector('#df-8bb8db04-e6fc-45b7-b2fb-09d63f4c8806');\n",
              "          const dataTable =\n",
              "            await google.colab.kernel.invokeFunction('convertToInteractive',\n",
              "                                                     [key], {});\n",
              "          if (!dataTable) return;\n",
              "\n",
              "          const docLinkHtml = 'Like what you see? Visit the ' +\n",
              "            '<a target=\"_blank\" href=https://colab.research.google.com/notebooks/data_table.ipynb>data table notebook</a>'\n",
              "            + ' to learn more about interactive tables.';\n",
              "          element.innerHTML = '';\n",
              "          dataTable['output_type'] = 'display_data';\n",
              "          await google.colab.output.renderOutput(dataTable, element);\n",
              "          const docLink = document.createElement('div');\n",
              "          docLink.innerHTML = docLinkHtml;\n",
              "          element.appendChild(docLink);\n",
              "        }\n",
              "      </script>\n",
              "    </div>\n",
              "  </div>\n",
              "  "
            ]
          },
          "metadata": {},
          "execution_count": 32
        }
      ],
      "source": [
        "pd.get_dummies(df[\"sexo_cat\"])"
      ]
    },
    {
      "cell_type": "markdown",
      "metadata": {
        "id": "6kINzwGt2pek"
      },
      "source": [
        "Ahora ya podríamos utilizar estos datos para entrenar nuestro algoritmo. Pese a que `Pandas` nos ofrece esta funcionalidad, en ocasiones necesitamos un extra de funcionalidad que no encontramos en la librería. Es por este motivo que para este tipo de operaciones es más recomendable utilizar, por ejemplo, [Scikit-Learn](https://scikit-learn.org/stable/) que además de ser más potente en el tratamiento de datos categóricos nos ofrece mayor flexibilidad en la etapa de transformación de datos. En futuros posts entraremos en más detalle en esta librería. "
      ]
    },
    {
      "cell_type": "markdown",
      "metadata": {
        "id": "dvwY_VRI2pek"
      },
      "source": [
        "## Resumen"
      ]
    },
    {
      "cell_type": "markdown",
      "metadata": {
        "id": "JovNn2ij2pek"
      },
      "source": [
        "En este post hemos visto diferentes herramientas que podemos encontrar en la librería de análisis de datos `Pandas` para el tratamiento de datos temporales y categóricos. Muchas fuentes de datos consisten en `series temporales`, una secuencia de datos correspondientes a diferentes instantes temporales. Hemos visto como generar series temporales con `Pandas` (en posts anteriores hemos visto como podemos cargar y guardar datos en archivos) y como trabajar con ellas. En cuanto a los datos categóricos, hemos visto como crearlos y modificarlos así como calcular los vectores `one hot encoding` para alimentar nuestros modelos."
      ]
    }
  ],
  "metadata": {
    "kernelspec": {
      "display_name": "Python 3",
      "language": "python",
      "name": "python3"
    },
    "language_info": {
      "codemirror_mode": {
        "name": "ipython",
        "version": 3
      },
      "file_extension": ".py",
      "mimetype": "text/x-python",
      "name": "python",
      "nbconvert_exporter": "python",
      "pygments_lexer": "ipython3",
      "version": "3.7.6"
    },
    "toc": {
      "base_numbering": 1,
      "nav_menu": {},
      "number_sections": true,
      "sideBar": true,
      "skip_h1_title": false,
      "title_cell": "Table of Contents",
      "title_sidebar": "Contents",
      "toc_cell": false,
      "toc_position": {
        "height": "calc(100% - 180px)",
        "left": "10px",
        "top": "150px",
        "width": "233.594px"
      },
      "toc_section_display": true,
      "toc_window_display": true
    },
    "colab": {
      "provenance": [],
      "include_colab_link": true
    }
  },
  "nbformat": 4,
  "nbformat_minor": 0
}