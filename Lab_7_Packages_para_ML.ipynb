{
  "nbformat": 4,
  "nbformat_minor": 0,
  "metadata": {
    "colab": {
      "name": "Lab_7 Packages para ML.ipynb",
      "provenance": [],
      "authorship_tag": "ABX9TyP17xJjdZAoQpLtPROG8rX7",
      "include_colab_link": true
    },
    "kernelspec": {
      "name": "python3",
      "display_name": "Python 3"
    }
  },
  "cells": [
    {
      "cell_type": "markdown",
      "metadata": {
        "id": "view-in-github",
        "colab_type": "text"
      },
      "source": [
        "<a href=\"https://colab.research.google.com/github/RubenQuispe/Machine-Learning-con-Python-001/blob/master/Lab_7_Packages_para_ML.ipynb\" target=\"_parent\"><img src=\"https://colab.research.google.com/assets/colab-badge.svg\" alt=\"Open In Colab\"/></a>"
      ]
    },
    {
      "cell_type": "markdown",
      "metadata": {
        "id": "Mtszfz-aU1yM"
      },
      "source": [
        "# Packages para Machine Learning part1\n",
        "\n",
        "## Mg. Rubén Quispe\n",
        "Este tutorial está diseñado para proporcionar una vista panorámica del panorama de los paquetes de ML. El objetivo no es dar una explicación detallada de todas las características de cada paquete, sino demostrar el propósito de algunos paquetes ML ampliamente utilizados. Para obtener más detalles, remitimos al lector a la documentación de los paquetes y otros tutoriales en línea.\n",
        "\n",
        "Veremos secciones de Jupyter, Numpy y Matplotlib.\n",
        "# Jupyter\n",
        "[Jupyter](https://jupyter.org/) no es estrictamente hablando un paquete ML. Proporciona un front-end de navegador conectado a una instancia de IPython que permite REPL para pruebas rápidas, permite crear documentos que entrelazan código, salida, imágenes y texto. Esto es excelente para la creación de prototipos, demostraciones y tutoriales, pero terrible para la codificación real."
      ]
    },
    {
      "cell_type": "code",
      "metadata": {
        "id": "aDF2hDAoU5nK",
        "outputId": "10f48a51-be25-444a-9c19-f79960cc636c",
        "colab": {
          "base_uri": "https://localhost:8080/",
          "height": 34
        }
      },
      "source": [
        "12*4"
      ],
      "execution_count": 1,
      "outputs": [
        {
          "output_type": "execute_result",
          "data": {
            "text/plain": [
              "48"
            ]
          },
          "metadata": {
            "tags": []
          },
          "execution_count": 1
        }
      ]
    },
    {
      "cell_type": "code",
      "metadata": {
        "id": "xo731PoIXBxv"
      },
      "source": [
        "def tokenize(text):\n",
        "  return text.split(\" \")"
      ],
      "execution_count": 2,
      "outputs": []
    },
    {
      "cell_type": "code",
      "metadata": {
        "id": "TJgEO6k9XKni",
        "outputId": "6dc3d25d-45b7-4be7-8fc9-413751928c47",
        "colab": {
          "base_uri": "https://localhost:8080/",
          "height": 54
        }
      },
      "source": [
        "text =  \"In a shocking finding, scientist discovered a herd of unicorns living in a remote, previously unexplored valley\"\n",
        "print(tokenize(text))"
      ],
      "execution_count": 3,
      "outputs": [
        {
          "output_type": "stream",
          "text": [
            "['In', 'a', 'shocking', 'finding,', 'scientist', 'discovered', 'a', 'herd', 'of', 'unicorns', 'living', 'in', 'a', 'remote,', 'previously', 'unexplored', 'valley']\n"
          ],
          "name": "stdout"
        }
      ]
    },
    {
      "cell_type": "markdown",
      "metadata": {
        "id": "uPzXhPdVXePR"
      },
      "source": [
        "# Numpy"
      ]
    },
    {
      "cell_type": "code",
      "metadata": {
        "id": "NhnbF-ViXftJ"
      },
      "source": [
        "import numpy as np"
      ],
      "execution_count": 4,
      "outputs": []
    },
    {
      "cell_type": "markdown",
      "metadata": {
        "id": "QO1cIi3vXuGD"
      },
      "source": [
        "[Numpy](https://numpy.org/) está diseñado para manejar grandes matrices multidimensionales y permitir cálculos eficientes con ellas. En la parte posterior, ejecuta código C precompilado que es mucho más rápido que, digamos, un bucle for de Python\n",
        "\n",
        "En el tutorial de Numpy, hemos cubierto los conceptos básicos de Numpy, matrices numpy, operaciones basadas en elementos, operaciones con matrices y generación de matrices aleatorias. En esta sección, cubriremos la indexación, la división y la transmisión, que son conceptos útiles que se reutilizarán en Pandas y PyTorch.\n",
        "\n",
        "# Indexing y slicing\n",
        "Las matrices Numpy se pueden indexar y dividir como matrices de Python normales"
      ]
    },
    {
      "cell_type": "code",
      "metadata": {
        "id": "o2pVd_VuXigZ"
      },
      "source": [
        "a_py = [1,2,3,4,5,6,7,8,9]\n",
        "a_np = np.array(a_np)"
      ],
      "execution_count": 9,
      "outputs": []
    },
    {
      "cell_type": "code",
      "metadata": {
        "id": "80-LDceoaB3G",
        "outputId": "6251bca0-4e82-48a4-998f-7057b01e9470",
        "colab": {
          "base_uri": "https://localhost:8080/",
          "height": 68
        }
      },
      "source": [
        "print (a_py[3:7:2], a_np[3:7:2])\n",
        "print(a_py[2:-1:2], a_np[2:-1:2])\n",
        "print(a_py[::-1], a_np[::-1])"
      ],
      "execution_count": 10,
      "outputs": [
        {
          "output_type": "stream",
          "text": [
            "[4, 6] [4 6]\n",
            "[3, 5, 7] [3 5 7]\n",
            "[9, 8, 7, 6, 5, 4, 3, 2, 1] [9 8 7 6 5 4 3 2 1]\n"
          ],
          "name": "stdout"
        }
      ]
    },
    {
      "cell_type": "markdown",
      "metadata": {
        "id": "hN2S1aLhbGSk"
      },
      "source": [
        "Pero también puede usar matrices para indexar otras matrices"
      ]
    },
    {
      "cell_type": "code",
      "metadata": {
        "id": "vGj4QJYEabYp",
        "outputId": "0cf8cb8a-6e03-4335-88a7-682bdd2f2fcc",
        "colab": {
          "base_uri": "https://localhost:8080/",
          "height": 34
        }
      },
      "source": [
        "idx= np.array([7,2])\n",
        "a_np[idx]"
      ],
      "execution_count": 11,
      "outputs": [
        {
          "output_type": "execute_result",
          "data": {
            "text/plain": [
              "array([8, 3])"
            ]
          },
          "metadata": {
            "tags": []
          },
          "execution_count": 11
        }
      ]
    },
    {
      "cell_type": "code",
      "metadata": {
        "id": "qyj0WmP_bT5Z"
      },
      "source": [
        "# a_py[idx]"
      ],
      "execution_count": 13,
      "outputs": []
    },
    {
      "cell_type": "markdown",
      "metadata": {
        "id": "KXowPyBrcALf"
      },
      "source": [
        "Lo que permite consultar, volver a indexar e incluso ordenar de manera conveniente"
      ]
    },
    {
      "cell_type": "code",
      "metadata": {
        "id": "TjgbUuiabee5",
        "outputId": "98d0c1a5-7dee-45e0-83e4-001c32b4f8f8",
        "colab": {
          "base_uri": "https://localhost:8080/",
          "height": 51
        }
      },
      "source": [
        "ages = np.random.randint(low=30, high=60, size=10)\n",
        "heights = np.random.randint(low=150, high=210, size=10)\n",
        "\n",
        "print(ages)\n",
        "print(heights)"
      ],
      "execution_count": 14,
      "outputs": [
        {
          "output_type": "stream",
          "text": [
            "[41 56 36 47 31 48 41 39 44 30]\n",
            "[153 204 161 193 170 198 179 167 186 169]\n"
          ],
          "name": "stdout"
        }
      ]
    },
    {
      "cell_type": "code",
      "metadata": {
        "id": "BFzbSJb0cTlw",
        "outputId": "fd7b9a6a-9d6d-4bc2-9094-e3408df0e41e",
        "colab": {
          "base_uri": "https://localhost:8080/",
          "height": 34
        }
      },
      "source": [
        "print(ages < 50)"
      ],
      "execution_count": 15,
      "outputs": [
        {
          "output_type": "stream",
          "text": [
            "[ True False  True  True  True  True  True  True  True  True]\n"
          ],
          "name": "stdout"
        }
      ]
    },
    {
      "cell_type": "code",
      "metadata": {
        "id": "hHS4Vh2TcbtQ",
        "outputId": "3f05473b-4706-444f-d707-c3ec56074e61",
        "colab": {
          "base_uri": "https://localhost:8080/",
          "height": 51
        }
      },
      "source": [
        "print(heights[ages < 50])\n",
        "print(ages[ages < 50])"
      ],
      "execution_count": 16,
      "outputs": [
        {
          "output_type": "stream",
          "text": [
            "[153 161 193 170 198 179 167 186 169]\n",
            "[41 36 47 31 48 41 39 44 30]\n"
          ],
          "name": "stdout"
        }
      ]
    },
    {
      "cell_type": "code",
      "metadata": {
        "id": "Uy8EMQmQc84k",
        "outputId": "92cd2c7f-e397-47c9-f92d-4e7e28da9fb1",
        "colab": {
          "base_uri": "https://localhost:8080/",
          "height": 68
        }
      },
      "source": [
        "shuffled_idx = np.random.permutation(10)\n",
        "print(shuffled_idx)\n",
        "print(ages[shuffled_idx])\n",
        "print(heights[shuffled_idx])"
      ],
      "execution_count": 17,
      "outputs": [
        {
          "output_type": "stream",
          "text": [
            "[9 8 0 5 7 6 3 4 2 1]\n",
            "[30 44 41 48 39 41 47 31 36 56]\n",
            "[169 186 153 198 167 179 193 170 161 204]\n"
          ],
          "name": "stdout"
        }
      ]
    },
    {
      "cell_type": "code",
      "metadata": {
        "id": "yyDWq09Zc83Z",
        "outputId": "9f4f52dd-765e-4b43-cdbd-e27be8cf2030",
        "colab": {
          "base_uri": "https://localhost:8080/",
          "height": 68
        }
      },
      "source": [
        "sorted_idx = np.argsort(ages)\n",
        "print(sorted_idx)\n",
        "print(ages[sorted_idx])\n",
        "print(heights[sorted_idx])"
      ],
      "execution_count": 18,
      "outputs": [
        {
          "output_type": "stream",
          "text": [
            "[9 4 2 7 0 6 8 3 5 1]\n",
            "[30 31 36 39 41 41 44 47 48 56]\n",
            "[169 170 161 167 153 179 186 193 198 204]\n"
          ],
          "name": "stdout"
        }
      ]
    },
    {
      "cell_type": "markdown",
      "metadata": {
        "id": "GqqnLVVtdO75"
      },
      "source": [
        "\n",
        "# Broadcasting \n",
        "Cuando se le pide a Numpy que realice una operación entre arreglos de diferentes tamaños, \"broadcasts\" el más pequeño al más grande."
      ]
    },
    {
      "cell_type": "code",
      "metadata": {
        "id": "SNFswg2KdGCq",
        "outputId": "5e0df3b7-3e76-46be-db8f-c287a6bf8b26",
        "colab": {
          "base_uri": "https://localhost:8080/",
          "height": 34
        }
      },
      "source": [
        "a = np.array([4, 5, 6])\n",
        "b = np.array([2, 2, 2])\n",
        "a * b"
      ],
      "execution_count": 19,
      "outputs": [
        {
          "output_type": "execute_result",
          "data": {
            "text/plain": [
              "array([ 8, 10, 12])"
            ]
          },
          "metadata": {
            "tags": []
          },
          "execution_count": 19
        }
      ]
    },
    {
      "cell_type": "code",
      "metadata": {
        "id": "tSOZiILGdtOS",
        "outputId": "0b433946-2832-472b-9e9b-ee273bc1ccf2",
        "colab": {
          "base_uri": "https://localhost:8080/",
          "height": 34
        }
      },
      "source": [
        "a = np.array([4, 5, 6])\n",
        "b = 2\n",
        "a * b"
      ],
      "execution_count": 20,
      "outputs": [
        {
          "output_type": "execute_result",
          "data": {
            "text/plain": [
              "array([ 8, 10, 12])"
            ]
          },
          "metadata": {
            "tags": []
          },
          "execution_count": 20
        }
      ]
    },
    {
      "cell_type": "markdown",
      "metadata": {
        "id": "WF927alieEWZ"
      },
      "source": [
        "Los dos fragmentos de código anteriores son equivalentes, pero el segundo es más fácil de leer y también más eficiente."
      ]
    },
    {
      "cell_type": "code",
      "metadata": {
        "id": "ywn2V9gXg8go"
      },
      "source": [
        "a = np.arange(10).reshape(1,10)\n",
        "b = np.arange(12).reshape(12,1)"
      ],
      "execution_count": 21,
      "outputs": []
    },
    {
      "cell_type": "code",
      "metadata": {
        "id": "6ghn1e3Og_QN",
        "outputId": "4b068913-27d0-4c0c-c981-56a3c4bc1cff",
        "colab": {
          "base_uri": "https://localhost:8080/",
          "height": 238
        }
      },
      "source": [
        "print(a)\n",
        "print(b)"
      ],
      "execution_count": 22,
      "outputs": [
        {
          "output_type": "stream",
          "text": [
            "[[0 1 2 3 4 5 6 7 8 9]]\n",
            "[[ 0]\n",
            " [ 1]\n",
            " [ 2]\n",
            " [ 3]\n",
            " [ 4]\n",
            " [ 5]\n",
            " [ 6]\n",
            " [ 7]\n",
            " [ 8]\n",
            " [ 9]\n",
            " [10]\n",
            " [11]]\n"
          ],
          "name": "stdout"
        }
      ]
    },
    {
      "cell_type": "code",
      "metadata": {
        "id": "pdRHBpLWhCR5",
        "outputId": "62ed65a5-1859-43b1-ffc3-59b8f6c578e5",
        "colab": {
          "base_uri": "https://localhost:8080/",
          "height": 221
        }
      },
      "source": [
        "print(a*b)"
      ],
      "execution_count": 23,
      "outputs": [
        {
          "output_type": "stream",
          "text": [
            "[[ 0  0  0  0  0  0  0  0  0  0]\n",
            " [ 0  1  2  3  4  5  6  7  8  9]\n",
            " [ 0  2  4  6  8 10 12 14 16 18]\n",
            " [ 0  3  6  9 12 15 18 21 24 27]\n",
            " [ 0  4  8 12 16 20 24 28 32 36]\n",
            " [ 0  5 10 15 20 25 30 35 40 45]\n",
            " [ 0  6 12 18 24 30 36 42 48 54]\n",
            " [ 0  7 14 21 28 35 42 49 56 63]\n",
            " [ 0  8 16 24 32 40 48 56 64 72]\n",
            " [ 0  9 18 27 36 45 54 63 72 81]\n",
            " [ 0 10 20 30 40 50 60 70 80 90]\n",
            " [ 0 11 22 33 44 55 66 77 88 99]]\n"
          ],
          "name": "stdout"
        }
      ]
    },
    {
      "cell_type": "markdown",
      "metadata": {
        "id": "fXSWBV_hiFL5"
      },
      "source": [
        "# Matplotlib\n",
        "[Matplotlib](https://matplotlib.org/) es la librería de referencia para producir gráficos con Python. Viene con dos API: una similar a MATLAB que mucha gente ha aprendido a usar y amar, y una API orientada a objetos que recomendamos usar.\n"
      ]
    },
    {
      "cell_type": "code",
      "metadata": {
        "id": "JjWGbvoxhIcC"
      },
      "source": [
        "%matplotlib inline\n",
        "import matplotlib.pyplot as plt"
      ],
      "execution_count": 24,
      "outputs": []
    },
    {
      "cell_type": "code",
      "metadata": {
        "id": "H1FXcLs6iPWG"
      },
      "source": [
        "plt.rcParams['figure.figsize'] = [10, 7]"
      ],
      "execution_count": 25,
      "outputs": []
    },
    {
      "cell_type": "code",
      "metadata": {
        "id": "5JINzvr8iUJy",
        "outputId": "e6fecba6-d1c2-4d43-90b1-ed553cf04d24",
        "colab": {
          "base_uri": "https://localhost:8080/",
          "height": 445
        }
      },
      "source": [
        "x = np.linspace(-2*np.pi, 2*np.pi, 400)\n",
        "y = np.tanh(x)\n",
        "fig, ax = plt.subplots()\n",
        "ax.plot(x,y)"
      ],
      "execution_count": 26,
      "outputs": [
        {
          "output_type": "execute_result",
          "data": {
            "text/plain": [
              "[<matplotlib.lines.Line2D at 0x7fa4685ab9b0>]"
            ]
          },
          "metadata": {
            "tags": []
          },
          "execution_count": 26
        },
        {
          "output_type": "display_data",
          "data": {
            "image/png": "[encoded data removed]",
            "text/plain": [
              "<Figure size 720x504 with 1 Axes>"
            ]
          },
          "metadata": {
            "tags": [],
            "needs_background": "light"
          }
        }
      ]
    },
    {
      "cell_type": "markdown",
      "metadata": {
        "id": "UyflezHajUAA"
      },
      "source": [
        "Puede trazar varias subparcelas en la misma figura o varias funciones en la misma subtrama"
      ]
    },
    {
      "cell_type": "code",
      "metadata": {
        "id": "dH_ODhX2jMYT",
        "outputId": "2959bffb-7ec2-4bdd-c6ad-aa255c9b35c6",
        "colab": {
          "base_uri": "https://localhost:8080/",
          "height": 445
        }
      },
      "source": [
        "x = np.linspace(0, 2*np.pi, 400)\n",
        "y1 = np.tanh(x)\n",
        "y2 = np.cos(x**2)\n",
        "fig, axes = plt.subplots(1, 2, sharey=True)\n",
        "axes[1].plot(x, y1)\n",
        "axes[1].plot(x, -y1)\n",
        "axes[0].plot(x, y2)"
      ],
      "execution_count": 27,
      "outputs": [
        {
          "output_type": "execute_result",
          "data": {
            "text/plain": [
              "[<matplotlib.lines.Line2D at 0x7fa467d139e8>]"
            ]
          },
          "metadata": {
            "tags": []
          },
          "execution_count": 27
        },
        {
          "output_type": "display_data",
          "data": {
            "image/png": "[encoded data removed]",
            "text/plain": [
              "<Figure size 720x504 with 2 Axes>"
            ]
          },
          "metadata": {
            "tags": [],
            "needs_background": "light"
          }
        }
      ]
    },
    {
      "cell_type": "markdown",
      "metadata": {
        "id": "FRU5m12kkH1B"
      },
      "source": [
        "Matplotlib también viene con muchas opciones diferentes para personalizar, los colores, las etiquetas, los ejes, etc. Por ejemplo, vea esto [Introducción a matplotlib](https://nbviewer.jupyter.org/github/jrjohansson/scientific-python-lectures/blob/master/Lecture-4-Matplotlib.ipynb)\n",
        "# Scikit- Learn \n",
        "[Scikit learn](https://scikit-learn.org/stable/) incluye una serie de funciones y utilidades para iniciar su viaje en el aprendizaje automático.\n",
        "\n",
        "## Un ejemplo de juguete"
      ]
    },
    {
      "cell_type": "code",
      "metadata": {
        "id": "-pa2py0ykbHg"
      },
      "source": [
        "from sklearn.datasets import make_blobs"
      ],
      "execution_count": 28,
      "outputs": []
    },
    {
      "cell_type": "code",
      "metadata": {
        "id": "t-3OZ3XBlZzv",
        "outputId": "40d9ba26-8d11-4729-babe-d25f279b2e21",
        "colab": {
          "base_uri": "https://localhost:8080/",
          "height": 102
        }
      },
      "source": [
        "X, y = make_blobs(n_samples=1000, centers=2, random_state=0)\n",
        "X[:5], y[:5]"
      ],
      "execution_count": 29,
      "outputs": [
        {
          "output_type": "execute_result",
          "data": {
            "text/plain": [
              "(array([[0.4666179 , 3.86571303],\n",
              "        [2.84382807, 3.32650945],\n",
              "        [0.61121486, 2.51245978],\n",
              "        [3.81653365, 1.65175932],\n",
              "        [1.28097244, 0.62827388]]), array([0, 0, 0, 1, 1]))"
            ]
          },
          "metadata": {
            "tags": []
          },
          "execution_count": 29
        }
      ]
    },
    {
      "cell_type": "code",
      "metadata": {
        "id": "exOFPPBUliEQ",
        "outputId": "79b700de-d149-456c-f1fb-9b2c11803dbc",
        "colab": {
          "base_uri": "https://localhost:8080/",
          "height": 428
        }
      },
      "source": [
        "fig, ax = plt.subplots()\n",
        "for label in [0, 1]:\n",
        "    mask = (y == label)\n",
        "    ax.scatter(X[mask, 0], X[mask, 1])"
      ],
      "execution_count": 30,
      "outputs": [
        {
          "output_type": "display_data",
          "data": {
            "image/png": "[encoded data removed]",
            "text/plain": [
              "<Figure size 720x504 with 1 Axes>"
            ]
          },
          "metadata": {
            "tags": [],
            "needs_background": "light"
          }
        }
      ]
    },
    {
      "cell_type": "code",
      "metadata": {
        "id": "Vfaf38calpYx"
      },
      "source": [
        "\n",
        "from sklearn.model_selection import train_test_split"
      ],
      "execution_count": 31,
      "outputs": []
    },
    {
      "cell_type": "code",
      "metadata": {
        "id": "t2_WDWYfl2zp"
      },
      "source": [
        "X_train, X_test, y_train, y_test = train_test_split(X, y, test_size=0.2)"
      ],
      "execution_count": 32,
      "outputs": []
    },
    {
      "cell_type": "code",
      "metadata": {
        "id": "d-zJL0pIl4rJ",
        "outputId": "a118aea9-6112-40b1-afa6-04a877803feb",
        "colab": {
          "base_uri": "https://localhost:8080/",
          "height": 428
        }
      },
      "source": [
        "\n",
        "fig, ax = plt.subplots()\n",
        "for label in [0, 1]:\n",
        "    mask = (y_train == label)\n",
        "    ax.scatter(X_train[mask, 0], X_train[mask, 1])\n",
        "for label in [0, 1]:\n",
        "    mask = (y_test == label)\n",
        "    ax.scatter(X_test[mask, 0], X_test[mask, 1])"
      ],
      "execution_count": 33,
      "outputs": [
        {
          "output_type": "display_data",
          "data": {
            "image/png": "[encoded data removed]",
            "text/plain": [
              "<Figure size 720x504 with 1 Axes>"
            ]
          },
          "metadata": {
            "tags": [],
            "needs_background": "light"
          }
        }
      ]
    },
    {
      "cell_type": "markdown",
      "metadata": {
        "id": "hTXwhWtCmKB-"
      },
      "source": [
        "Sklearn usa una API uniforme y muy consistente, lo que facilita el cambio de algoritmos Por ejemplo, entrenar y predecir con un perceptrón."
      ]
    },
    {
      "cell_type": "code",
      "metadata": {
        "id": "GduiIPlGl7bw"
      },
      "source": [
        "from sklearn.linear_model import Perceptron\n",
        "from sklearn.svm import LinearSVC\n",
        "from sklearn.metrics import accuracy_score"
      ],
      "execution_count": 34,
      "outputs": []
    },
    {
      "cell_type": "code",
      "metadata": {
        "id": "cXKAT9_ymP0C"
      },
      "source": [
        "clf = Perceptron(max_iter=40, random_state=0)\n",
        "# clf = LinearSVC(max_iter=40, random_state=0)"
      ],
      "execution_count": 35,
      "outputs": []
    },
    {
      "cell_type": "code",
      "metadata": {
        "id": "ESs2eJcomUyR",
        "outputId": "bc181868-bb55-440d-dd56-d8ba74c2ed44",
        "colab": {
          "base_uri": "https://localhost:8080/",
          "height": 34
        }
      },
      "source": [
        "clf.fit(X_train, y_train)\n",
        "y_pred = clf.predict(X_test)\n",
        "\n",
        "print('Test accuracy: %.4f' % accuracy_score(y_test, y_pred))"
      ],
      "execution_count": 36,
      "outputs": [
        {
          "output_type": "stream",
          "text": [
            "Test accuracy: 0.9400\n"
          ],
          "name": "stdout"
        }
      ]
    },
    {
      "cell_type": "code",
      "metadata": {
        "id": "ATLLG0uhmn76"
      },
      "source": [
        "theta = clf.coef_[0]\n",
        "theta_0 = clf.intercept_"
      ],
      "execution_count": 38,
      "outputs": []
    },
    {
      "cell_type": "code",
      "metadata": {
        "id": "4sgbprvxmqea",
        "outputId": "93b86dd7-d279-4401-eb26-ed955bbecfe4",
        "colab": {
          "base_uri": "https://localhost:8080/",
          "height": 445
        }
      },
      "source": [
        "fig, ax = plt.subplots()\n",
        "for label in [0, 1]:\n",
        "    mask = (y_train == label)\n",
        "    ax.scatter(X_train[mask, 0], X_train[mask, 1])\n",
        "for label in [0, 1]:\n",
        "    mask = (y_test == label)\n",
        "    ax.scatter(X_test[mask, 0], X_test[mask, 1])\n",
        "x_bnd = np.linspace(X[:, 0].min() - 1, X[:, 0].max() + 1,  400)\n",
        "y_bnd = - x_bnd * (theta[0] /theta[1]) - (theta_0 / theta[1])\n",
        "ax.plot(x_bnd, y_bnd)"
      ],
      "execution_count": 39,
      "outputs": [
        {
          "output_type": "execute_result",
          "data": {
            "text/plain": [
              "[<matplotlib.lines.Line2D at 0x7fa45a4f5908>]"
            ]
          },
          "metadata": {
            "tags": []
          },
          "execution_count": 39
        },
        {
          "output_type": "display_data",
          "data": {
            "image/png": "[encoded data removed]",
            "text/plain": [
              "<Figure size 720x504 with 1 Axes>"
            ]
          },
          "metadata": {
            "tags": [],
            "needs_background": "light"
          }
        }
      ]
    },
    {
      "cell_type": "markdown",
      "metadata": {
        "id": "mV8GVpN1m866"
      },
      "source": [
        "# Otro ejemplo de juguete"
      ]
    },
    {
      "cell_type": "code",
      "metadata": {
        "id": "6UrIPqVkm-8x",
        "outputId": "3a00dc0d-52a1-4d2e-89c0-b2bc1f5d87cc",
        "colab": {
          "base_uri": "https://localhost:8080/",
          "height": 428
        }
      },
      "source": [
        "X, y = make_blobs(n_samples=500, centers=3, random_state=7)\n",
        "y[y==2] = 0\n",
        "fig, ax = plt.subplots()\n",
        "for label in [0, 1]:\n",
        "    mask = (y == label)\n",
        "    ax.scatter(X[mask, 0], X[mask, 1])"
      ],
      "execution_count": 40,
      "outputs": [
        {
          "output_type": "display_data",
          "data": {
            "image/png": "[encoded data removed]",
            "text/plain": [
              "<Figure size 720x504 with 1 Axes>"
            ]
          },
          "metadata": {
            "tags": [],
            "needs_background": "light"
          }
        }
      ]
    },
    {
      "cell_type": "code",
      "metadata": {
        "id": "ayegYVxWnMbu"
      },
      "source": [
        "X_train, X_test, y_train, y_test = train_test_split(X, y, test_size=0.2)"
      ],
      "execution_count": 41,
      "outputs": []
    },
    {
      "cell_type": "code",
      "metadata": {
        "id": "tjN-cXfjnM5i",
        "outputId": "1cd1381c-2d8f-4705-d59d-b3b531003d4a",
        "colab": {
          "base_uri": "https://localhost:8080/",
          "height": 85
        }
      },
      "source": [
        "from sklearn.svm import SVC\n",
        "# clf = SVC(kernel=\"linear\", random_state=0)\n",
        "clf = SVC(kernel=\"rbf\", random_state=0)\n",
        "clf.fit(X_train, y_train)"
      ],
      "execution_count": 42,
      "outputs": [
        {
          "output_type": "execute_result",
          "data": {
            "text/plain": [
              "SVC(C=1.0, break_ties=False, cache_size=200, class_weight=None, coef0=0.0,\n",
              "    decision_function_shape='ovr', degree=3, gamma='scale', kernel='rbf',\n",
              "    max_iter=-1, probability=False, random_state=0, shrinking=True, tol=0.001,\n",
              "    verbose=False)"
            ]
          },
          "metadata": {
            "tags": []
          },
          "execution_count": 42
        }
      ]
    },
    {
      "cell_type": "code",
      "metadata": {
        "id": "tjV85hXynPK5",
        "outputId": "f463cf6b-8d1d-4087-fc66-689c56e2d5ce",
        "colab": {
          "base_uri": "https://localhost:8080/",
          "height": 34
        }
      },
      "source": [
        "y_pred = clf.predict(X_test)\n",
        "\n",
        "print('Test accuracy: %.4f' % accuracy_score(y_test, y_pred))"
      ],
      "execution_count": 43,
      "outputs": [
        {
          "output_type": "stream",
          "text": [
            "Test accuracy: 1.0000\n"
          ],
          "name": "stdout"
        }
      ]
    },
    {
      "cell_type": "code",
      "metadata": {
        "id": "FvyrD-kknWlZ",
        "outputId": "f5691206-ab94-4682-e464-8582afe7ff0b",
        "colab": {
          "base_uri": "https://localhost:8080/",
          "height": 445
        }
      },
      "source": [
        "\n",
        "x_min = X[:, 0].min()\n",
        "x_max = X[:, 0].max()\n",
        "y_min = X[:, 1].min()\n",
        "y_max = X[:, 1].max()\n",
        "\n",
        "XX, YY = np.mgrid[x_min:x_max:200j, y_min:y_max:200j]\n",
        "Z = clf.decision_function(np.c_[XX.ravel(), YY.ravel()])\n",
        "\n",
        "fig, ax = plt.subplots()\n",
        "for label in [0, 1]:\n",
        "    mask = (y == label)\n",
        "    ax.scatter(X[mask, 0], X[mask, 1])\n",
        "    \n",
        "Z = Z.reshape(XX.shape)\n",
        "ax.contour(XX, YY, Z, colors=\"black\",\n",
        "    linestyles=['--', '-', '--'], levels=[-.5, 0, .5])"
      ],
      "execution_count": 44,
      "outputs": [
        {
          "output_type": "execute_result",
          "data": {
            "text/plain": [
              "<matplotlib.contour.QuadContourSet at 0x7fa45bc87208>"
            ]
          },
          "metadata": {
            "tags": []
          },
          "execution_count": 44
        },
        {
          "output_type": "display_data",
          "data": {
            "image/png": "[encoded data removed]",
            "text/plain": [
              "<Figure size 720x504 with 1 Axes>"
            ]
          },
          "metadata": {
            "tags": [],
            "needs_background": "light"
          }
        }
      ]
    },
    {
      "cell_type": "markdown",
      "metadata": {
        "id": "tJPHT4sknpEn"
      },
      "source": [
        "# Clasificar Digitos"
      ]
    },
    {
      "cell_type": "code",
      "metadata": {
        "id": "_7VlVrmvndZo"
      },
      "source": [
        "\n",
        "# from sklearn.datasets import load_breast_cancer\n",
        "# breast_cancer = load_breast_cancer()\n",
        "# X, y = breast_cancer.data, breast_cancer.target\n",
        "# X_train, X_test, y_train, y_test = train_test_split(X, y, test_size=0.2, random_state=0)"
      ],
      "execution_count": 45,
      "outputs": []
    },
    {
      "cell_type": "code",
      "metadata": {
        "id": "YPsPxd-4nwst"
      },
      "source": [
        "from sklearn.datasets import load_digits"
      ],
      "execution_count": 46,
      "outputs": []
    },
    {
      "cell_type": "code",
      "metadata": {
        "id": "ADObAm47nymi"
      },
      "source": [
        "digits = load_digits()\n",
        "X, y = digits.data, digits.target\n",
        "X_train, X_test, y_train, y_test = train_test_split(X, y, test_size=0.2, random_state=0)"
      ],
      "execution_count": 47,
      "outputs": []
    },
    {
      "cell_type": "code",
      "metadata": {
        "id": "IMgeCUI8n05J",
        "outputId": "098dfc35-c712-4f54-efd0-4797a957fa93",
        "colab": {
          "base_uri": "https://localhost:8080/",
          "height": 449
        }
      },
      "source": [
        "fig, ax = plt.subplots()\n",
        "ax.matshow(digits.images[0])"
      ],
      "execution_count": 50,
      "outputs": [
        {
          "output_type": "execute_result",
          "data": {
            "text/plain": [
              "<matplotlib.image.AxesImage at 0x7fa45a4db390>"
            ]
          },
          "metadata": {
            "tags": []
          },
          "execution_count": 50
        },
        {
          "output_type": "display_data",
          "data": {
            "image/png": "[encoded data removed]",
            "text/plain": [
              "<Figure size 720x504 with 1 Axes>"
            ]
          },
          "metadata": {
            "tags": [],
            "needs_background": "light"
          }
        }
      ]
    },
    {
      "cell_type": "code",
      "metadata": {
        "id": "EAQ29i6qn3jV",
        "outputId": "b0e5598f-e44a-43e0-bfe3-e5198f478c54",
        "colab": {
          "base_uri": "https://localhost:8080/",
          "height": 34
        }
      },
      "source": [
        "X_train.shape"
      ],
      "execution_count": 51,
      "outputs": [
        {
          "output_type": "execute_result",
          "data": {
            "text/plain": [
              "(1437, 64)"
            ]
          },
          "metadata": {
            "tags": []
          },
          "execution_count": 51
        }
      ]
    },
    {
      "cell_type": "code",
      "metadata": {
        "id": "qaFfuVUPn_Cy"
      },
      "source": [
        "clf = Perceptron(max_iter=40, random_state=0)"
      ],
      "execution_count": 52,
      "outputs": []
    },
    {
      "cell_type": "code",
      "metadata": {
        "id": "WuDAtisXoDdR",
        "outputId": "2b094804-91c9-4d7e-ffbf-4d36b6962ff3",
        "colab": {
          "base_uri": "https://localhost:8080/",
          "height": 34
        }
      },
      "source": [
        "clf.fit(X_train, y_train)\n",
        "y_pred = clf.predict(X_test)\n",
        "print('Accuracy: %.4f' % accuracy_score(y_test, y_pred))"
      ],
      "execution_count": 53,
      "outputs": [
        {
          "output_type": "stream",
          "text": [
            "Accuracy: 0.9389\n"
          ],
          "name": "stdout"
        }
      ]
    },
    {
      "cell_type": "code",
      "metadata": {
        "id": "no--UmxloNlz"
      },
      "source": [
        "clf = LinearSVC(C=1, random_state=0)"
      ],
      "execution_count": 54,
      "outputs": []
    },
    {
      "cell_type": "code",
      "metadata": {
        "id": "9b4jlq3koXd1",
        "outputId": "564c3cd2-afd5-41a7-dbdd-3334262030bf",
        "colab": {
          "base_uri": "https://localhost:8080/",
          "height": 68
        }
      },
      "source": [
        "clf.fit(X_train, y_train)\n",
        "y_pred = clf.predict(X_test)\n",
        "print('Accuracy: %.4f' % accuracy_score(y_test, y_pred))"
      ],
      "execution_count": 55,
      "outputs": [
        {
          "output_type": "stream",
          "text": [
            "Accuracy: 0.9333\n"
          ],
          "name": "stdout"
        },
        {
          "output_type": "stream",
          "text": [
            "/usr/local/lib/python3.6/dist-packages/sklearn/svm/_base.py:947: ConvergenceWarning: Liblinear failed to converge, increase the number of iterations.\n",
            "  \"the number of iterations.\", ConvergenceWarning)\n"
          ],
          "name": "stderr"
        }
      ]
    },
    {
      "cell_type": "code",
      "metadata": {
        "id": "oVU5zCe_oZ-r"
      },
      "source": [
        "\n",
        "from sklearn.metrics import confusion_matrix"
      ],
      "execution_count": 56,
      "outputs": []
    },
    {
      "cell_type": "code",
      "metadata": {
        "id": "tZOI0i7loemB",
        "outputId": "40d1fda9-8b79-4c6b-9a45-731affff90f7",
        "colab": {
          "base_uri": "https://localhost:8080/",
          "height": 187
        }
      },
      "source": [
        "confusion_matrix(y_test, clf.predict(X_test))"
      ],
      "execution_count": 57,
      "outputs": [
        {
          "output_type": "execute_result",
          "data": {
            "text/plain": [
              "array([[27,  0,  0,  0,  0,  0,  0,  0,  0,  0],\n",
              "       [ 0, 29,  0,  0,  0,  0,  1,  0,  5,  0],\n",
              "       [ 0,  1, 33,  2,  0,  0,  0,  0,  0,  0],\n",
              "       [ 0,  0,  0, 29,  0,  0,  0,  0,  0,  0],\n",
              "       [ 0,  0,  0,  0, 30,  0,  0,  0,  0,  0],\n",
              "       [ 0,  0,  0,  1,  0, 38,  1,  0,  0,  0],\n",
              "       [ 0,  1,  0,  0,  0,  0, 43,  0,  0,  0],\n",
              "       [ 0,  1,  0,  0,  1,  0,  0, 37,  0,  0],\n",
              "       [ 0,  2,  1,  0,  0,  0,  0,  0, 35,  1],\n",
              "       [ 0,  0,  0,  3,  0,  1,  0,  0,  2, 35]])"
            ]
          },
          "metadata": {
            "tags": []
          },
          "execution_count": 57
        }
      ]
    },
    {
      "cell_type": "markdown",
      "metadata": {
        "id": "ZBbH6aNFot5b"
      },
      "source": [
        "Scikit-learn también incluye utilidades para calcular rápidamente una puntuación de validación cruzada .."
      ]
    },
    {
      "cell_type": "code",
      "metadata": {
        "id": "qwfrotdWog9y",
        "outputId": "8681895e-4db2-4d6c-863f-18ac3caec059",
        "colab": {
          "base_uri": "https://localhost:8080/",
          "height": 224
        }
      },
      "source": [
        "clf = LinearSVC(C=1, random_state=0)\n",
        "from sklearn.model_selection import cross_val_score\n",
        "scores =  cross_val_score(clf, X_train, y_train, cv=5)\n",
        "print(\"Mean: %.4f, Std: %.4f\" % (np.mean(scores), np.std(scores)))"
      ],
      "execution_count": 58,
      "outputs": [
        {
          "output_type": "stream",
          "text": [
            "/usr/local/lib/python3.6/dist-packages/sklearn/svm/_base.py:947: ConvergenceWarning: Liblinear failed to converge, increase the number of iterations.\n",
            "  \"the number of iterations.\", ConvergenceWarning)\n",
            "/usr/local/lib/python3.6/dist-packages/sklearn/svm/_base.py:947: ConvergenceWarning: Liblinear failed to converge, increase the number of iterations.\n",
            "  \"the number of iterations.\", ConvergenceWarning)\n",
            "/usr/local/lib/python3.6/dist-packages/sklearn/svm/_base.py:947: ConvergenceWarning: Liblinear failed to converge, increase the number of iterations.\n",
            "  \"the number of iterations.\", ConvergenceWarning)\n",
            "/usr/local/lib/python3.6/dist-packages/sklearn/svm/_base.py:947: ConvergenceWarning: Liblinear failed to converge, increase the number of iterations.\n",
            "  \"the number of iterations.\", ConvergenceWarning)\n"
          ],
          "name": "stderr"
        },
        {
          "output_type": "stream",
          "text": [
            "Mean: 0.9436, Std: 0.0097\n"
          ],
          "name": "stdout"
        },
        {
          "output_type": "stream",
          "text": [
            "/usr/local/lib/python3.6/dist-packages/sklearn/svm/_base.py:947: ConvergenceWarning: Liblinear failed to converge, increase the number of iterations.\n",
            "  \"the number of iterations.\", ConvergenceWarning)\n"
          ],
          "name": "stderr"
        }
      ]
    },
    {
      "cell_type": "code",
      "metadata": {
        "id": "AByqgiRAownh",
        "outputId": "14694564-4e6b-47ad-8bf0-27fba6d48db6",
        "colab": {
          "base_uri": "https://localhost:8080/",
          "height": 224
        }
      },
      "source": [
        "\n",
        "clf = LinearSVC(C=0.1, random_state=0)\n",
        "scores =  cross_val_score(clf, X_train, y_train, cv=5)\n",
        "print(\"Mean: %.4f, Std: %.4f\" % (np.mean(scores), np.std(scores)))"
      ],
      "execution_count": 59,
      "outputs": [
        {
          "output_type": "stream",
          "text": [
            "/usr/local/lib/python3.6/dist-packages/sklearn/svm/_base.py:947: ConvergenceWarning: Liblinear failed to converge, increase the number of iterations.\n",
            "  \"the number of iterations.\", ConvergenceWarning)\n",
            "/usr/local/lib/python3.6/dist-packages/sklearn/svm/_base.py:947: ConvergenceWarning: Liblinear failed to converge, increase the number of iterations.\n",
            "  \"the number of iterations.\", ConvergenceWarning)\n",
            "/usr/local/lib/python3.6/dist-packages/sklearn/svm/_base.py:947: ConvergenceWarning: Liblinear failed to converge, increase the number of iterations.\n",
            "  \"the number of iterations.\", ConvergenceWarning)\n",
            "/usr/local/lib/python3.6/dist-packages/sklearn/svm/_base.py:947: ConvergenceWarning: Liblinear failed to converge, increase the number of iterations.\n",
            "  \"the number of iterations.\", ConvergenceWarning)\n"
          ],
          "name": "stderr"
        },
        {
          "output_type": "stream",
          "text": [
            "Mean: 0.9555, Std: 0.0068\n"
          ],
          "name": "stdout"
        },
        {
          "output_type": "stream",
          "text": [
            "/usr/local/lib/python3.6/dist-packages/sklearn/svm/_base.py:947: ConvergenceWarning: Liblinear failed to converge, increase the number of iterations.\n",
            "  \"the number of iterations.\", ConvergenceWarning)\n"
          ],
          "name": "stderr"
        }
      ]
    },
    {
      "cell_type": "markdown",
      "metadata": {
        "id": "B0CBPqP2pOSa"
      },
      "source": [
        "... o para realizar una búsqueda en la cuadrícula"
      ]
    },
    {
      "cell_type": "code",
      "metadata": {
        "id": "0X3hNTNFo9QS"
      },
      "source": [
        "from sklearn.model_selection import GridSearchCV"
      ],
      "execution_count": 60,
      "outputs": []
    },
    {
      "cell_type": "code",
      "metadata": {
        "id": "MiMITEG8pNsJ"
      },
      "source": [
        "clf = LinearSVC(random_state=0)\n",
        "param_grid = {'C': 10. ** np.arange(-6, 4)}\n",
        "grid_search = GridSearchCV(clf, param_grid=param_grid, cv=5, verbose=3, return_train_score=True)"
      ],
      "execution_count": 61,
      "outputs": []
    },
    {
      "cell_type": "code",
      "metadata": {
        "id": "057M-2A9pjdZ",
        "outputId": "1ca12735-1c9f-4a20-92e9-24620fcd0734",
        "colab": {
          "base_uri": "https://localhost:8080/",
          "height": 1000
        }
      },
      "source": [
        "\n",
        "grid_search.fit(X_train, y_train);"
      ],
      "execution_count": 62,
      "outputs": [
        {
          "output_type": "stream",
          "text": [
            "Fitting 5 folds for each of 10 candidates, totalling 50 fits\n",
            "[CV] C=1e-06 .........................................................\n",
            "[CV] ......... C=1e-06, score=(train=0.883, test=0.844), total=   0.0s\n",
            "[CV] C=1e-06 .........................................................\n",
            "[CV] ......... C=1e-06, score=(train=0.880, test=0.865), total=   0.0s\n",
            "[CV] C=1e-06 .........................................................\n",
            "[CV] ......... C=1e-06, score=(train=0.869, test=0.909), total=   0.0s\n",
            "[CV] C=1e-06 .........................................................\n",
            "[CV] ......... C=1e-06, score=(train=0.880, test=0.840), total=   0.0s\n",
            "[CV] C=1e-06 .........................................................\n",
            "[CV] ......... C=1e-06, score=(train=0.873, test=0.899), total=   0.0s\n",
            "[CV] C=1e-05 .........................................................\n",
            "[CV] ......... C=1e-05, score=(train=0.929, test=0.906), total=   0.0s\n",
            "[CV] C=1e-05 .........................................................\n",
            "[CV] ......... C=1e-05, score=(train=0.930, test=0.917), total=   0.0s\n",
            "[CV] C=1e-05 .........................................................\n"
          ],
          "name": "stdout"
        },
        {
          "output_type": "stream",
          "text": [
            "[Parallel(n_jobs=1)]: Using backend SequentialBackend with 1 concurrent workers.\n",
            "[Parallel(n_jobs=1)]: Done   1 out of   1 | elapsed:    0.0s remaining:    0.0s\n",
            "[Parallel(n_jobs=1)]: Done   2 out of   2 | elapsed:    0.1s remaining:    0.0s\n"
          ],
          "name": "stderr"
        },
        {
          "output_type": "stream",
          "text": [
            "[CV] ......... C=1e-05, score=(train=0.923, test=0.944), total=   0.0s\n",
            "[CV] C=1e-05 .........................................................\n",
            "[CV] ......... C=1e-05, score=(train=0.933, test=0.906), total=   0.0s\n",
            "[CV] C=1e-05 .........................................................\n",
            "[CV] ......... C=1e-05, score=(train=0.925, test=0.937), total=   0.0s\n",
            "[CV] C=0.0001 ........................................................\n",
            "[CV] ........ C=0.0001, score=(train=0.963, test=0.938), total=   0.0s\n",
            "[CV] C=0.0001 ........................................................\n",
            "[CV] ........ C=0.0001, score=(train=0.964, test=0.941), total=   0.0s\n",
            "[CV] C=0.0001 ........................................................\n",
            "[CV] ........ C=0.0001, score=(train=0.960, test=0.969), total=   0.0s\n",
            "[CV] C=0.0001 ........................................................\n",
            "[CV] ........ C=0.0001, score=(train=0.962, test=0.937), total=   0.0s\n",
            "[CV] C=0.0001 ........................................................\n",
            "[CV] ........ C=0.0001, score=(train=0.957, test=0.969), total=   0.0s\n",
            "[CV] C=0.001 .........................................................\n",
            "[CV] ......... C=0.001, score=(train=0.983, test=0.962), total=   0.0s\n",
            "[CV] C=0.001 .........................................................\n",
            "[CV] ......... C=0.001, score=(train=0.983, test=0.965), total=   0.0s\n",
            "[CV] C=0.001 .........................................................\n",
            "[CV] ......... C=0.001, score=(train=0.983, test=0.969), total=   0.0s\n",
            "[CV] C=0.001 .........................................................\n",
            "[CV] ......... C=0.001, score=(train=0.981, test=0.962), total=   0.0s\n",
            "[CV] C=0.001 .........................................................\n",
            "[CV] ......... C=0.001, score=(train=0.982, test=0.979), total=   0.0s\n",
            "[CV] C=0.01 ..........................................................\n"
          ],
          "name": "stdout"
        },
        {
          "output_type": "stream",
          "text": [
            "/usr/local/lib/python3.6/dist-packages/sklearn/svm/_base.py:947: ConvergenceWarning: Liblinear failed to converge, increase the number of iterations.\n",
            "  \"the number of iterations.\", ConvergenceWarning)\n",
            "/usr/local/lib/python3.6/dist-packages/sklearn/svm/_base.py:947: ConvergenceWarning: Liblinear failed to converge, increase the number of iterations.\n",
            "  \"the number of iterations.\", ConvergenceWarning)\n"
          ],
          "name": "stderr"
        },
        {
          "output_type": "stream",
          "text": [
            "[CV] .......... C=0.01, score=(train=0.992, test=0.958), total=   0.1s\n",
            "[CV] C=0.01 ..........................................................\n",
            "[CV] .......... C=0.01, score=(train=0.994, test=0.962), total=   0.1s\n",
            "[CV] C=0.01 ..........................................................\n"
          ],
          "name": "stdout"
        },
        {
          "output_type": "stream",
          "text": [
            "/usr/local/lib/python3.6/dist-packages/sklearn/svm/_base.py:947: ConvergenceWarning: Liblinear failed to converge, increase the number of iterations.\n",
            "  \"the number of iterations.\", ConvergenceWarning)\n",
            "/usr/local/lib/python3.6/dist-packages/sklearn/svm/_base.py:947: ConvergenceWarning: Liblinear failed to converge, increase the number of iterations.\n",
            "  \"the number of iterations.\", ConvergenceWarning)\n"
          ],
          "name": "stderr"
        },
        {
          "output_type": "stream",
          "text": [
            "[CV] .......... C=0.01, score=(train=0.996, test=0.972), total=   0.1s\n",
            "[CV] C=0.01 ..........................................................\n",
            "[CV] .......... C=0.01, score=(train=0.993, test=0.962), total=   0.1s\n",
            "[CV] C=0.01 ..........................................................\n"
          ],
          "name": "stdout"
        },
        {
          "output_type": "stream",
          "text": [
            "/usr/local/lib/python3.6/dist-packages/sklearn/svm/_base.py:947: ConvergenceWarning: Liblinear failed to converge, increase the number of iterations.\n",
            "  \"the number of iterations.\", ConvergenceWarning)\n",
            "/usr/local/lib/python3.6/dist-packages/sklearn/svm/_base.py:947: ConvergenceWarning: Liblinear failed to converge, increase the number of iterations.\n",
            "  \"the number of iterations.\", ConvergenceWarning)\n"
          ],
          "name": "stderr"
        },
        {
          "output_type": "stream",
          "text": [
            "[CV] .......... C=0.01, score=(train=0.994, test=0.972), total=   0.1s\n",
            "[CV] C=0.1 ...........................................................\n",
            "[CV] ........... C=0.1, score=(train=0.998, test=0.951), total=   0.1s\n",
            "[CV] C=0.1 ...........................................................\n"
          ],
          "name": "stdout"
        },
        {
          "output_type": "stream",
          "text": [
            "/usr/local/lib/python3.6/dist-packages/sklearn/svm/_base.py:947: ConvergenceWarning: Liblinear failed to converge, increase the number of iterations.\n",
            "  \"the number of iterations.\", ConvergenceWarning)\n",
            "/usr/local/lib/python3.6/dist-packages/sklearn/svm/_base.py:947: ConvergenceWarning: Liblinear failed to converge, increase the number of iterations.\n",
            "  \"the number of iterations.\", ConvergenceWarning)\n"
          ],
          "name": "stderr"
        },
        {
          "output_type": "stream",
          "text": [
            "[CV] ........... C=0.1, score=(train=0.997, test=0.969), total=   0.1s\n",
            "[CV] C=0.1 ...........................................................\n",
            "[CV] ........... C=0.1, score=(train=0.997, test=0.951), total=   0.1s\n",
            "[CV] C=0.1 ...........................................................\n"
          ],
          "name": "stdout"
        },
        {
          "output_type": "stream",
          "text": [
            "/usr/local/lib/python3.6/dist-packages/sklearn/svm/_base.py:947: ConvergenceWarning: Liblinear failed to converge, increase the number of iterations.\n",
            "  \"the number of iterations.\", ConvergenceWarning)\n",
            "/usr/local/lib/python3.6/dist-packages/sklearn/svm/_base.py:947: ConvergenceWarning: Liblinear failed to converge, increase the number of iterations.\n",
            "  \"the number of iterations.\", ConvergenceWarning)\n"
          ],
          "name": "stderr"
        },
        {
          "output_type": "stream",
          "text": [
            "[CV] ........... C=0.1, score=(train=0.990, test=0.955), total=   0.2s\n",
            "[CV] C=0.1 ...........................................................\n",
            "[CV] ........... C=0.1, score=(train=0.996, test=0.951), total=   0.1s\n",
            "[CV] C=1.0 ...........................................................\n"
          ],
          "name": "stdout"
        },
        {
          "output_type": "stream",
          "text": [
            "/usr/local/lib/python3.6/dist-packages/sklearn/svm/_base.py:947: ConvergenceWarning: Liblinear failed to converge, increase the number of iterations.\n",
            "  \"the number of iterations.\", ConvergenceWarning)\n",
            "/usr/local/lib/python3.6/dist-packages/sklearn/svm/_base.py:947: ConvergenceWarning: Liblinear failed to converge, increase the number of iterations.\n",
            "  \"the number of iterations.\", ConvergenceWarning)\n"
          ],
          "name": "stderr"
        },
        {
          "output_type": "stream",
          "text": [
            "[CV] ........... C=1.0, score=(train=0.996, test=0.941), total=   0.1s\n",
            "[CV] C=1.0 ...........................................................\n",
            "[CV] ........... C=1.0, score=(train=0.974, test=0.955), total=   0.1s\n",
            "[CV] C=1.0 ...........................................................\n"
          ],
          "name": "stdout"
        },
        {
          "output_type": "stream",
          "text": [
            "/usr/local/lib/python3.6/dist-packages/sklearn/svm/_base.py:947: ConvergenceWarning: Liblinear failed to converge, increase the number of iterations.\n",
            "  \"the number of iterations.\", ConvergenceWarning)\n",
            "/usr/local/lib/python3.6/dist-packages/sklearn/svm/_base.py:947: ConvergenceWarning: Liblinear failed to converge, increase the number of iterations.\n",
            "  \"the number of iterations.\", ConvergenceWarning)\n"
          ],
          "name": "stderr"
        },
        {
          "output_type": "stream",
          "text": [
            "[CV] ........... C=1.0, score=(train=0.992, test=0.927), total=   0.1s\n",
            "[CV] C=1.0 ...........................................................\n",
            "[CV] ........... C=1.0, score=(train=0.983, test=0.944), total=   0.1s\n",
            "[CV] C=1.0 ...........................................................\n"
          ],
          "name": "stdout"
        },
        {
          "output_type": "stream",
          "text": [
            "/usr/local/lib/python3.6/dist-packages/sklearn/svm/_base.py:947: ConvergenceWarning: Liblinear failed to converge, increase the number of iterations.\n",
            "  \"the number of iterations.\", ConvergenceWarning)\n",
            "/usr/local/lib/python3.6/dist-packages/sklearn/svm/_base.py:947: ConvergenceWarning: Liblinear failed to converge, increase the number of iterations.\n",
            "  \"the number of iterations.\", ConvergenceWarning)\n"
          ],
          "name": "stderr"
        },
        {
          "output_type": "stream",
          "text": [
            "[CV] ........... C=1.0, score=(train=0.990, test=0.951), total=   0.1s\n",
            "[CV] C=10.0 ..........................................................\n",
            "[CV] .......... C=10.0, score=(train=0.996, test=0.934), total=   0.1s\n",
            "[CV] C=10.0 ..........................................................\n"
          ],
          "name": "stdout"
        },
        {
          "output_type": "stream",
          "text": [
            "/usr/local/lib/python3.6/dist-packages/sklearn/svm/_base.py:947: ConvergenceWarning: Liblinear failed to converge, increase the number of iterations.\n",
            "  \"the number of iterations.\", ConvergenceWarning)\n",
            "/usr/local/lib/python3.6/dist-packages/sklearn/svm/_base.py:947: ConvergenceWarning: Liblinear failed to converge, increase the number of iterations.\n",
            "  \"the number of iterations.\", ConvergenceWarning)\n"
          ],
          "name": "stderr"
        },
        {
          "output_type": "stream",
          "text": [
            "[CV] .......... C=10.0, score=(train=0.988, test=0.955), total=   0.1s\n",
            "[CV] C=10.0 ..........................................................\n",
            "[CV] .......... C=10.0, score=(train=0.995, test=0.934), total=   0.1s\n",
            "[CV] C=10.0 ..........................................................\n"
          ],
          "name": "stdout"
        },
        {
          "output_type": "stream",
          "text": [
            "/usr/local/lib/python3.6/dist-packages/sklearn/svm/_base.py:947: ConvergenceWarning: Liblinear failed to converge, increase the number of iterations.\n",
            "  \"the number of iterations.\", ConvergenceWarning)\n",
            "/usr/local/lib/python3.6/dist-packages/sklearn/svm/_base.py:947: ConvergenceWarning: Liblinear failed to converge, increase the number of iterations.\n",
            "  \"the number of iterations.\", ConvergenceWarning)\n"
          ],
          "name": "stderr"
        },
        {
          "output_type": "stream",
          "text": [
            "[CV] .......... C=10.0, score=(train=0.983, test=0.927), total=   0.1s\n",
            "[CV] C=10.0 ..........................................................\n",
            "[CV] .......... C=10.0, score=(train=0.994, test=0.941), total=   0.1s\n",
            "[CV] C=100.0 .........................................................\n"
          ],
          "name": "stdout"
        },
        {
          "output_type": "stream",
          "text": [
            "/usr/local/lib/python3.6/dist-packages/sklearn/svm/_base.py:947: ConvergenceWarning: Liblinear failed to converge, increase the number of iterations.\n",
            "  \"the number of iterations.\", ConvergenceWarning)\n",
            "/usr/local/lib/python3.6/dist-packages/sklearn/svm/_base.py:947: ConvergenceWarning: Liblinear failed to converge, increase the number of iterations.\n",
            "  \"the number of iterations.\", ConvergenceWarning)\n"
          ],
          "name": "stderr"
        },
        {
          "output_type": "stream",
          "text": [
            "[CV] ......... C=100.0, score=(train=0.996, test=0.934), total=   0.1s\n",
            "[CV] C=100.0 .........................................................\n",
            "[CV] ......... C=100.0, score=(train=0.995, test=0.969), total=   0.1s\n",
            "[CV] C=100.0 .........................................................\n"
          ],
          "name": "stdout"
        },
        {
          "output_type": "stream",
          "text": [
            "/usr/local/lib/python3.6/dist-packages/sklearn/svm/_base.py:947: ConvergenceWarning: Liblinear failed to converge, increase the number of iterations.\n",
            "  \"the number of iterations.\", ConvergenceWarning)\n",
            "/usr/local/lib/python3.6/dist-packages/sklearn/svm/_base.py:947: ConvergenceWarning: Liblinear failed to converge, increase the number of iterations.\n",
            "  \"the number of iterations.\", ConvergenceWarning)\n"
          ],
          "name": "stderr"
        },
        {
          "output_type": "stream",
          "text": [
            "[CV] ......... C=100.0, score=(train=0.997, test=0.934), total=   0.1s\n",
            "[CV] C=100.0 .........................................................\n",
            "[CV] ......... C=100.0, score=(train=0.957, test=0.913), total=   0.1s\n",
            "[CV] C=100.0 .........................................................\n"
          ],
          "name": "stdout"
        },
        {
          "output_type": "stream",
          "text": [
            "/usr/local/lib/python3.6/dist-packages/sklearn/svm/_base.py:947: ConvergenceWarning: Liblinear failed to converge, increase the number of iterations.\n",
            "  \"the number of iterations.\", ConvergenceWarning)\n",
            "/usr/local/lib/python3.6/dist-packages/sklearn/svm/_base.py:947: ConvergenceWarning: Liblinear failed to converge, increase the number of iterations.\n",
            "  \"the number of iterations.\", ConvergenceWarning)\n"
          ],
          "name": "stderr"
        },
        {
          "output_type": "stream",
          "text": [
            "[CV] ......... C=100.0, score=(train=0.989, test=0.941), total=   0.1s\n",
            "[CV] C=1000.0 ........................................................\n",
            "[CV] ........ C=1000.0, score=(train=0.997, test=0.941), total=   0.1s\n",
            "[CV] C=1000.0 ........................................................\n"
          ],
          "name": "stdout"
        },
        {
          "output_type": "stream",
          "text": [
            "/usr/local/lib/python3.6/dist-packages/sklearn/svm/_base.py:947: ConvergenceWarning: Liblinear failed to converge, increase the number of iterations.\n",
            "  \"the number of iterations.\", ConvergenceWarning)\n",
            "/usr/local/lib/python3.6/dist-packages/sklearn/svm/_base.py:947: ConvergenceWarning: Liblinear failed to converge, increase the number of iterations.\n",
            "  \"the number of iterations.\", ConvergenceWarning)\n"
          ],
          "name": "stderr"
        },
        {
          "output_type": "stream",
          "text": [
            "[CV] ........ C=1000.0, score=(train=0.984, test=0.958), total=   0.1s\n",
            "[CV] C=1000.0 ........................................................\n",
            "[CV] ........ C=1000.0, score=(train=0.997, test=0.934), total=   0.1s\n",
            "[CV] C=1000.0 ........................................................\n",
            "[CV] ........ C=1000.0, score=(train=0.989, test=0.944), total=   0.1s\n",
            "[CV] C=1000.0 ........................................................\n",
            "[CV] ........ C=1000.0, score=(train=0.989, test=0.951), total=   0.1s\n"
          ],
          "name": "stdout"
        },
        {
          "output_type": "stream",
          "text": [
            "/usr/local/lib/python3.6/dist-packages/sklearn/svm/_base.py:947: ConvergenceWarning: Liblinear failed to converge, increase the number of iterations.\n",
            "  \"the number of iterations.\", ConvergenceWarning)\n",
            "/usr/local/lib/python3.6/dist-packages/sklearn/svm/_base.py:947: ConvergenceWarning: Liblinear failed to converge, increase the number of iterations.\n",
            "  \"the number of iterations.\", ConvergenceWarning)\n",
            "[Parallel(n_jobs=1)]: Done  50 out of  50 | elapsed:    4.8s finished\n"
          ],
          "name": "stderr"
        }
      ]
    },
    {
      "cell_type": "code",
      "metadata": {
        "id": "6nqwRORvplVg",
        "outputId": "ce32fff9-c9c5-43e5-c355-5075260bef86",
        "colab": {
          "base_uri": "https://localhost:8080/",
          "height": 34
        }
      },
      "source": [
        "\n",
        "print(grid_search.best_params_)"
      ],
      "execution_count": 63,
      "outputs": [
        {
          "output_type": "stream",
          "text": [
            "{'C': 0.001}\n"
          ],
          "name": "stdout"
        }
      ]
    },
    {
      "cell_type": "code",
      "metadata": {
        "id": "txWkqVCwpv9Q",
        "outputId": "e955d3d8-bb63-4e4d-80fb-dbbcea372266",
        "colab": {
          "base_uri": "https://localhost:8080/",
          "height": 34
        }
      },
      "source": [
        "print(grid_search.best_score_)"
      ],
      "execution_count": 64,
      "outputs": [
        {
          "output_type": "stream",
          "text": [
            "0.9672981997677119\n"
          ],
          "name": "stdout"
        }
      ]
    },
    {
      "cell_type": "code",
      "metadata": {
        "id": "x0hB89u6pyHx",
        "outputId": "9a898f0f-faff-4d66-f67c-dfa4e9bd40d9",
        "colab": {
          "base_uri": "https://localhost:8080/",
          "height": 34
        }
      },
      "source": [
        "\n",
        "y_pred = grid_search.predict(X_test)\n",
        "print('Accuracy: %.4f' % accuracy_score(y_test, y_pred))"
      ],
      "execution_count": 65,
      "outputs": [
        {
          "output_type": "stream",
          "text": [
            "Accuracy: 0.9639\n"
          ],
          "name": "stdout"
        }
      ]
    },
    {
      "cell_type": "markdown",
      "metadata": {
        "id": "G09o9rE-qCPQ"
      },
      "source": [
        "¡Y muchas más funciones! Solo hemos analizado algunos modelos de clasificación y algunas características de selección de modelos, pero sklearn también se puede usar para regresiones.\n",
        "# Pandas\n",
        "[Pandas](https://pandas.pydata.org/) es una librería que proporciona un conjunto de herramientas para el análisis de datos (Biblioteca de análisis de datos de Python). \n",
        "Los dataframe de Pandas se pueden crear importando un archivo CSV (o TSV, JSON, SQL, etc.)"
      ]
    },
    {
      "cell_type": "code",
      "metadata": {
        "id": "b8VDSY5Yp0aB"
      },
      "source": [
        "import pandas as pd\n",
        "\n",
        "df = pd.read_csv(\"train_2.csv\")"
      ],
      "execution_count": 73,
      "outputs": []
    },
    {
      "cell_type": "markdown",
      "metadata": {
        "id": "6KE5vOHOqvDj"
      },
      "source": [
        "Los detaframe de Pandas también se pueden crear directamente desde un diccionario de matrices."
      ]
    },
    {
      "cell_type": "code",
      "metadata": {
        "id": "9oIex4bpqpw7",
        "outputId": "1921df89-d295-4651-e944-949a03cb4f55",
        "colab": {
          "base_uri": "https://localhost:8080/",
          "height": 462
        }
      },
      "source": [
        "print(grid_search.cv_results_)"
      ],
      "execution_count": 74,
      "outputs": [
        {
          "output_type": "stream",
          "text": [
            "{'mean_fit_time': array([0.02222934, 0.02340851, 0.02317324, 0.04224839, 0.13977137,\n",
            "       0.13774352, 0.13476987, 0.13284068, 0.13460026, 0.13372598]), 'std_fit_time': array([0.00125214, 0.00218207, 0.00219904, 0.00149231, 0.00433516,\n",
            "       0.00596258, 0.00516357, 0.00128343, 0.00452831, 0.00179095]), 'mean_score_time': array([0.00099659, 0.00097833, 0.00087051, 0.00124054, 0.00097542,\n",
            "       0.00093064, 0.00104675, 0.00092797, 0.00109682, 0.00100908]), 'std_score_time': array([5.63229265e-05, 3.93997360e-05, 7.23827812e-05, 8.82045242e-04,\n",
            "       2.33482885e-04, 1.37754665e-04, 2.02189110e-04, 1.07784122e-04,\n",
            "       1.37023088e-04, 2.19040047e-04]), 'param_C': masked_array(data=[1e-06, 1e-05, 0.0001, 0.001, 0.01, 0.1, 1.0, 10.0,\n",
            "                   100.0, 1000.0],\n",
            "             mask=[False, False, False, False, False, False, False, False,\n",
            "                   False, False],\n",
            "       fill_value='?',\n",
            "            dtype=object), 'params': [{'C': 1e-06}, {'C': 1e-05}, {'C': 0.0001}, {'C': 0.001}, {'C': 0.01}, {'C': 0.1}, {'C': 1.0}, {'C': 10.0}, {'C': 100.0}, {'C': 1000.0}], 'split0_test_score': array([0.84375   , 0.90625   , 0.9375    , 0.96180556, 0.95833333,\n",
            "       0.95138889, 0.94097222, 0.93402778, 0.93402778, 0.94097222]), 'split1_test_score': array([0.86458333, 0.91666667, 0.94097222, 0.96527778, 0.96180556,\n",
            "       0.96875   , 0.95486111, 0.95486111, 0.96875   , 0.95833333]), 'split2_test_score': array([0.90940767, 0.94425087, 0.96864111, 0.96864111, 0.97212544,\n",
            "       0.95121951, 0.92682927, 0.93379791, 0.93379791, 0.93379791]), 'split3_test_score': array([0.83972125, 0.90592334, 0.93728223, 0.96167247, 0.96167247,\n",
            "       0.95470383, 0.94425087, 0.92682927, 0.91289199, 0.94425087]), 'split4_test_score': array([0.8989547 , 0.93728223, 0.96864111, 0.97909408, 0.97212544,\n",
            "       0.95121951, 0.95121951, 0.94076655, 0.94076655, 0.95121951]), 'mean_test_score': array([0.87128339, 0.92207462, 0.95060734, 0.9672982 , 0.96521245,\n",
            "       0.95545635, 0.9436266 , 0.93805652, 0.93804684, 0.94571477]), 'std_test_score': array([0.02834893, 0.01589708, 0.01478263, 0.00643189, 0.00577995,\n",
            "       0.0067784 , 0.0097309 , 0.00948848, 0.01798362, 0.0084401 ]), 'rank_test_score': array([10,  9,  4,  1,  2,  3,  6,  7,  8,  5], dtype=int32), 'split0_train_score': array([0.88250653, 0.92863359, 0.96344648, 0.98259356, 0.9921671 ,\n",
            "       0.99825936, 0.99564839, 0.99564839, 0.99564839, 0.99651871]), 'split1_train_score': array([0.87989556, 0.93037424, 0.9643168 , 0.98259356, 0.99390775,\n",
            "       0.99651871, 0.97389034, 0.98781549, 0.99477807, 0.9843342 ]), 'split2_train_score': array([0.86869565, 0.9226087 , 0.96      , 0.9826087 , 0.99565217,\n",
            "       0.9973913 , 0.99217391, 0.99478261, 0.99652174, 0.99652174]), 'split3_train_score': array([0.88      , 0.93304348, 0.96173913, 0.98086957, 0.99304348,\n",
            "       0.99043478, 0.98347826, 0.98347826, 0.95652174, 0.98869565]), 'split4_train_score': array([0.87304348, 0.92521739, 0.9573913 , 0.98173913, 0.99391304,\n",
            "       0.99565217, 0.98956522, 0.99391304, 0.98869565, 0.98869565]), 'mean_train_score': array([0.87682824, 0.92797548, 0.96137874, 0.9820809 , 0.99373671,\n",
            "       0.99565127, 0.98695122, 0.99112756, 0.98643312, 0.99095319]), 'std_train_score': array([0.0051415 , 0.00369543, 0.00248347, 0.00069114, 0.0011553 ,\n",
            "       0.00274933, 0.0076472 , 0.00471249, 0.01520624, 0.00481638])}\n"
          ],
          "name": "stdout"
        }
      ]
    },
    {
      "cell_type": "code",
      "metadata": {
        "id": "bGdETOL1q5Eh",
        "outputId": "233d7f46-71cf-4fd8-e375-15284232dd5b",
        "colab": {
          "base_uri": "https://localhost:8080/",
          "height": 549
        }
      },
      "source": [
        "df = pd.DataFrame(grid_search.cv_results_)\n",
        "df"
      ],
      "execution_count": 75,
      "outputs": [
        {
          "output_type": "execute_result",
          "data": {
            "text/html": [
              "<div>\n",
              "<style scoped>\n",
              "    .dataframe tbody tr th:only-of-type {\n",
              "        vertical-align: middle;\n",
              "    }\n",
              "\n",
              "    .dataframe tbody tr th {\n",
              "        vertical-align: top;\n",
              "    }\n",
              "\n",
              "    .dataframe thead th {\n",
              "        text-align: right;\n",
              "    }\n",
              "</style>\n",
              "<table border=\"1\" class=\"dataframe\">\n",
              "  <thead>\n",
              "    <tr style=\"text-align: right;\">\n",
              "      <th></th>\n",
              "      <th>mean_fit_time</th>\n",
              "      <th>std_fit_time</th>\n",
              "      <th>mean_score_time</th>\n",
              "      <th>std_score_time</th>\n",
              "      <th>param_C</th>\n",
              "      <th>params</th>\n",
              "      <th>split0_test_score</th>\n",
              "      <th>split1_test_score</th>\n",
              "      <th>split2_test_score</th>\n",
              "      <th>split3_test_score</th>\n",
              "      <th>split4_test_score</th>\n",
              "      <th>mean_test_score</th>\n",
              "      <th>std_test_score</th>\n",
              "      <th>rank_test_score</th>\n",
              "      <th>split0_train_score</th>\n",
              "      <th>split1_train_score</th>\n",
              "      <th>split2_train_score</th>\n",
              "      <th>split3_train_score</th>\n",
              "      <th>split4_train_score</th>\n",
              "      <th>mean_train_score</th>\n",
              "      <th>std_train_score</th>\n",
              "    </tr>\n",
              "  </thead>\n",
              "  <tbody>\n",
              "    <tr>\n",
              "      <th>0</th>\n",
              "      <td>0.022229</td>\n",
              "      <td>0.001252</td>\n",
              "      <td>0.000997</td>\n",
              "      <td>0.000056</td>\n",
              "      <td>1e-06</td>\n",
              "      <td>{'C': 1e-06}</td>\n",
              "      <td>0.843750</td>\n",
              "      <td>0.864583</td>\n",
              "      <td>0.909408</td>\n",
              "      <td>0.839721</td>\n",
              "      <td>0.898955</td>\n",
              "      <td>0.871283</td>\n",
              "      <td>0.028349</td>\n",
              "      <td>10</td>\n",
              "      <td>0.882507</td>\n",
              "      <td>0.879896</td>\n",
              "      <td>0.868696</td>\n",
              "      <td>0.880000</td>\n",
              "      <td>0.873043</td>\n",
              "      <td>0.876828</td>\n",
              "      <td>0.005141</td>\n",
              "    </tr>\n",
              "    <tr>\n",
              "      <th>1</th>\n",
              "      <td>0.023409</td>\n",
              "      <td>0.002182</td>\n",
              "      <td>0.000978</td>\n",
              "      <td>0.000039</td>\n",
              "      <td>1e-05</td>\n",
              "      <td>{'C': 1e-05}</td>\n",
              "      <td>0.906250</td>\n",
              "      <td>0.916667</td>\n",
              "      <td>0.944251</td>\n",
              "      <td>0.905923</td>\n",
              "      <td>0.937282</td>\n",
              "      <td>0.922075</td>\n",
              "      <td>0.015897</td>\n",
              "      <td>9</td>\n",
              "      <td>0.928634</td>\n",
              "      <td>0.930374</td>\n",
              "      <td>0.922609</td>\n",
              "      <td>0.933043</td>\n",
              "      <td>0.925217</td>\n",
              "      <td>0.927975</td>\n",
              "      <td>0.003695</td>\n",
              "    </tr>\n",
              "    <tr>\n",
              "      <th>2</th>\n",
              "      <td>0.023173</td>\n",
              "      <td>0.002199</td>\n",
              "      <td>0.000871</td>\n",
              "      <td>0.000072</td>\n",
              "      <td>0.0001</td>\n",
              "      <td>{'C': 0.0001}</td>\n",
              "      <td>0.937500</td>\n",
              "      <td>0.940972</td>\n",
              "      <td>0.968641</td>\n",
              "      <td>0.937282</td>\n",
              "      <td>0.968641</td>\n",
              "      <td>0.950607</td>\n",
              "      <td>0.014783</td>\n",
              "      <td>4</td>\n",
              "      <td>0.963446</td>\n",
              "      <td>0.964317</td>\n",
              "      <td>0.960000</td>\n",
              "      <td>0.961739</td>\n",
              "      <td>0.957391</td>\n",
              "      <td>0.961379</td>\n",
              "      <td>0.002483</td>\n",
              "    </tr>\n",
              "    <tr>\n",
              "      <th>3</th>\n",
              "      <td>0.042248</td>\n",
              "      <td>0.001492</td>\n",
              "      <td>0.001241</td>\n",
              "      <td>0.000882</td>\n",
              "      <td>0.001</td>\n",
              "      <td>{'C': 0.001}</td>\n",
              "      <td>0.961806</td>\n",
              "      <td>0.965278</td>\n",
              "      <td>0.968641</td>\n",
              "      <td>0.961672</td>\n",
              "      <td>0.979094</td>\n",
              "      <td>0.967298</td>\n",
              "      <td>0.006432</td>\n",
              "      <td>1</td>\n",
              "      <td>0.982594</td>\n",
              "      <td>0.982594</td>\n",
              "      <td>0.982609</td>\n",
              "      <td>0.980870</td>\n",
              "      <td>0.981739</td>\n",
              "      <td>0.982081</td>\n",
              "      <td>0.000691</td>\n",
              "    </tr>\n",
              "    <tr>\n",
              "      <th>4</th>\n",
              "      <td>0.139771</td>\n",
              "      <td>0.004335</td>\n",
              "      <td>0.000975</td>\n",
              "      <td>0.000233</td>\n",
              "      <td>0.01</td>\n",
              "      <td>{'C': 0.01}</td>\n",
              "      <td>0.958333</td>\n",
              "      <td>0.961806</td>\n",
              "      <td>0.972125</td>\n",
              "      <td>0.961672</td>\n",
              "      <td>0.972125</td>\n",
              "      <td>0.965212</td>\n",
              "      <td>0.005780</td>\n",
              "      <td>2</td>\n",
              "      <td>0.992167</td>\n",
              "      <td>0.993908</td>\n",
              "      <td>0.995652</td>\n",
              "      <td>0.993043</td>\n",
              "      <td>0.993913</td>\n",
              "      <td>0.993737</td>\n",
              "      <td>0.001155</td>\n",
              "    </tr>\n",
              "    <tr>\n",
              "      <th>5</th>\n",
              "      <td>0.137744</td>\n",
              "      <td>0.005963</td>\n",
              "      <td>0.000931</td>\n",
              "      <td>0.000138</td>\n",
              "      <td>0.1</td>\n",
              "      <td>{'C': 0.1}</td>\n",
              "      <td>0.951389</td>\n",
              "      <td>0.968750</td>\n",
              "      <td>0.951220</td>\n",
              "      <td>0.954704</td>\n",
              "      <td>0.951220</td>\n",
              "      <td>0.955456</td>\n",
              "      <td>0.006778</td>\n",
              "      <td>3</td>\n",
              "      <td>0.998259</td>\n",
              "      <td>0.996519</td>\n",
              "      <td>0.997391</td>\n",
              "      <td>0.990435</td>\n",
              "      <td>0.995652</td>\n",
              "      <td>0.995651</td>\n",
              "      <td>0.002749</td>\n",
              "    </tr>\n",
              "    <tr>\n",
              "      <th>6</th>\n",
              "      <td>0.134770</td>\n",
              "      <td>0.005164</td>\n",
              "      <td>0.001047</td>\n",
              "      <td>0.000202</td>\n",
              "      <td>1</td>\n",
              "      <td>{'C': 1.0}</td>\n",
              "      <td>0.940972</td>\n",
              "      <td>0.954861</td>\n",
              "      <td>0.926829</td>\n",
              "      <td>0.944251</td>\n",
              "      <td>0.951220</td>\n",
              "      <td>0.943627</td>\n",
              "      <td>0.009731</td>\n",
              "      <td>6</td>\n",
              "      <td>0.995648</td>\n",
              "      <td>0.973890</td>\n",
              "      <td>0.992174</td>\n",
              "      <td>0.983478</td>\n",
              "      <td>0.989565</td>\n",
              "      <td>0.986951</td>\n",
              "      <td>0.007647</td>\n",
              "    </tr>\n",
              "    <tr>\n",
              "      <th>7</th>\n",
              "      <td>0.132841</td>\n",
              "      <td>0.001283</td>\n",
              "      <td>0.000928</td>\n",
              "      <td>0.000108</td>\n",
              "      <td>10</td>\n",
              "      <td>{'C': 10.0}</td>\n",
              "      <td>0.934028</td>\n",
              "      <td>0.954861</td>\n",
              "      <td>0.933798</td>\n",
              "      <td>0.926829</td>\n",
              "      <td>0.940767</td>\n",
              "      <td>0.938057</td>\n",
              "      <td>0.009488</td>\n",
              "      <td>7</td>\n",
              "      <td>0.995648</td>\n",
              "      <td>0.987815</td>\n",
              "      <td>0.994783</td>\n",
              "      <td>0.983478</td>\n",
              "      <td>0.993913</td>\n",
              "      <td>0.991128</td>\n",
              "      <td>0.004712</td>\n",
              "    </tr>\n",
              "    <tr>\n",
              "      <th>8</th>\n",
              "      <td>0.134600</td>\n",
              "      <td>0.004528</td>\n",
              "      <td>0.001097</td>\n",
              "      <td>0.000137</td>\n",
              "      <td>100</td>\n",
              "      <td>{'C': 100.0}</td>\n",
              "      <td>0.934028</td>\n",
              "      <td>0.968750</td>\n",
              "      <td>0.933798</td>\n",
              "      <td>0.912892</td>\n",
              "      <td>0.940767</td>\n",
              "      <td>0.938047</td>\n",
              "      <td>0.017984</td>\n",
              "      <td>8</td>\n",
              "      <td>0.995648</td>\n",
              "      <td>0.994778</td>\n",
              "      <td>0.996522</td>\n",
              "      <td>0.956522</td>\n",
              "      <td>0.988696</td>\n",
              "      <td>0.986433</td>\n",
              "      <td>0.015206</td>\n",
              "    </tr>\n",
              "    <tr>\n",
              "      <th>9</th>\n",
              "      <td>0.133726</td>\n",
              "      <td>0.001791</td>\n",
              "      <td>0.001009</td>\n",
              "      <td>0.000219</td>\n",
              "      <td>1000</td>\n",
              "      <td>{'C': 1000.0}</td>\n",
              "      <td>0.940972</td>\n",
              "      <td>0.958333</td>\n",
              "      <td>0.933798</td>\n",
              "      <td>0.944251</td>\n",
              "      <td>0.951220</td>\n",
              "      <td>0.945715</td>\n",
              "      <td>0.008440</td>\n",
              "      <td>5</td>\n",
              "      <td>0.996519</td>\n",
              "      <td>0.984334</td>\n",
              "      <td>0.996522</td>\n",
              "      <td>0.988696</td>\n",
              "      <td>0.988696</td>\n",
              "      <td>0.990953</td>\n",
              "      <td>0.004816</td>\n",
              "    </tr>\n",
              "  </tbody>\n",
              "</table>\n",
              "</div>"
            ],
            "text/plain": [
              "   mean_fit_time  std_fit_time  ...  mean_train_score  std_train_score\n",
              "0       0.022229      0.001252  ...          0.876828         0.005141\n",
              "1       0.023409      0.002182  ...          0.927975         0.003695\n",
              "2       0.023173      0.002199  ...          0.961379         0.002483\n",
              "3       0.042248      0.001492  ...          0.982081         0.000691\n",
              "4       0.139771      0.004335  ...          0.993737         0.001155\n",
              "5       0.137744      0.005963  ...          0.995651         0.002749\n",
              "6       0.134770      0.005164  ...          0.986951         0.007647\n",
              "7       0.132841      0.001283  ...          0.991128         0.004712\n",
              "8       0.134600      0.004528  ...          0.986433         0.015206\n",
              "9       0.133726      0.001791  ...          0.990953         0.004816\n",
              "\n",
              "[10 rows x 21 columns]"
            ]
          },
          "metadata": {
            "tags": []
          },
          "execution_count": 75
        }
      ]
    },
    {
      "cell_type": "code",
      "metadata": {
        "id": "k59w-OZeq9GQ",
        "outputId": "5b52ffca-52e3-42ee-f9bc-3c2f79aed1e0",
        "colab": {
          "base_uri": "https://localhost:8080/",
          "height": 549
        }
      },
      "source": [
        "df = pd.DataFrame(grid_search.cv_results_)\n",
        "df"
      ],
      "execution_count": 76,
      "outputs": [
        {
          "output_type": "execute_result",
          "data": {
            "text/html": [
              "<div>\n",
              "<style scoped>\n",
              "    .dataframe tbody tr th:only-of-type {\n",
              "        vertical-align: middle;\n",
              "    }\n",
              "\n",
              "    .dataframe tbody tr th {\n",
              "        vertical-align: top;\n",
              "    }\n",
              "\n",
              "    .dataframe thead th {\n",
              "        text-align: right;\n",
              "    }\n",
              "</style>\n",
              "<table border=\"1\" class=\"dataframe\">\n",
              "  <thead>\n",
              "    <tr style=\"text-align: right;\">\n",
              "      <th></th>\n",
              "      <th>mean_fit_time</th>\n",
              "      <th>std_fit_time</th>\n",
              "      <th>mean_score_time</th>\n",
              "      <th>std_score_time</th>\n",
              "      <th>param_C</th>\n",
              "      <th>params</th>\n",
              "      <th>split0_test_score</th>\n",
              "      <th>split1_test_score</th>\n",
              "      <th>split2_test_score</th>\n",
              "      <th>split3_test_score</th>\n",
              "      <th>split4_test_score</th>\n",
              "      <th>mean_test_score</th>\n",
              "      <th>std_test_score</th>\n",
              "      <th>rank_test_score</th>\n",
              "      <th>split0_train_score</th>\n",
              "      <th>split1_train_score</th>\n",
              "      <th>split2_train_score</th>\n",
              "      <th>split3_train_score</th>\n",
              "      <th>split4_train_score</th>\n",
              "      <th>mean_train_score</th>\n",
              "      <th>std_train_score</th>\n",
              "    </tr>\n",
              "  </thead>\n",
              "  <tbody>\n",
              "    <tr>\n",
              "      <th>0</th>\n",
              "      <td>0.022229</td>\n",
              "      <td>0.001252</td>\n",
              "      <td>0.000997</td>\n",
              "      <td>0.000056</td>\n",
              "      <td>1e-06</td>\n",
              "      <td>{'C': 1e-06}</td>\n",
              "      <td>0.843750</td>\n",
              "      <td>0.864583</td>\n",
              "      <td>0.909408</td>\n",
              "      <td>0.839721</td>\n",
              "      <td>0.898955</td>\n",
              "      <td>0.871283</td>\n",
              "      <td>0.028349</td>\n",
              "      <td>10</td>\n",
              "      <td>0.882507</td>\n",
              "      <td>0.879896</td>\n",
              "      <td>0.868696</td>\n",
              "      <td>0.880000</td>\n",
              "      <td>0.873043</td>\n",
              "      <td>0.876828</td>\n",
              "      <td>0.005141</td>\n",
              "    </tr>\n",
              "    <tr>\n",
              "      <th>1</th>\n",
              "      <td>0.023409</td>\n",
              "      <td>0.002182</td>\n",
              "      <td>0.000978</td>\n",
              "      <td>0.000039</td>\n",
              "      <td>1e-05</td>\n",
              "      <td>{'C': 1e-05}</td>\n",
              "      <td>0.906250</td>\n",
              "      <td>0.916667</td>\n",
              "      <td>0.944251</td>\n",
              "      <td>0.905923</td>\n",
              "      <td>0.937282</td>\n",
              "      <td>0.922075</td>\n",
              "      <td>0.015897</td>\n",
              "      <td>9</td>\n",
              "      <td>0.928634</td>\n",
              "      <td>0.930374</td>\n",
              "      <td>0.922609</td>\n",
              "      <td>0.933043</td>\n",
              "      <td>0.925217</td>\n",
              "      <td>0.927975</td>\n",
              "      <td>0.003695</td>\n",
              "    </tr>\n",
              "    <tr>\n",
              "      <th>2</th>\n",
              "      <td>0.023173</td>\n",
              "      <td>0.002199</td>\n",
              "      <td>0.000871</td>\n",
              "      <td>0.000072</td>\n",
              "      <td>0.0001</td>\n",
              "      <td>{'C': 0.0001}</td>\n",
              "      <td>0.937500</td>\n",
              "      <td>0.940972</td>\n",
              "      <td>0.968641</td>\n",
              "      <td>0.937282</td>\n",
              "      <td>0.968641</td>\n",
              "      <td>0.950607</td>\n",
              "      <td>0.014783</td>\n",
              "      <td>4</td>\n",
              "      <td>0.963446</td>\n",
              "      <td>0.964317</td>\n",
              "      <td>0.960000</td>\n",
              "      <td>0.961739</td>\n",
              "      <td>0.957391</td>\n",
              "      <td>0.961379</td>\n",
              "      <td>0.002483</td>\n",
              "    </tr>\n",
              "    <tr>\n",
              "      <th>3</th>\n",
              "      <td>0.042248</td>\n",
              "      <td>0.001492</td>\n",
              "      <td>0.001241</td>\n",
              "      <td>0.000882</td>\n",
              "      <td>0.001</td>\n",
              "      <td>{'C': 0.001}</td>\n",
              "      <td>0.961806</td>\n",
              "      <td>0.965278</td>\n",
              "      <td>0.968641</td>\n",
              "      <td>0.961672</td>\n",
              "      <td>0.979094</td>\n",
              "      <td>0.967298</td>\n",
              "      <td>0.006432</td>\n",
              "      <td>1</td>\n",
              "      <td>0.982594</td>\n",
              "      <td>0.982594</td>\n",
              "      <td>0.982609</td>\n",
              "      <td>0.980870</td>\n",
              "      <td>0.981739</td>\n",
              "      <td>0.982081</td>\n",
              "      <td>0.000691</td>\n",
              "    </tr>\n",
              "    <tr>\n",
              "      <th>4</th>\n",
              "      <td>0.139771</td>\n",
              "      <td>0.004335</td>\n",
              "      <td>0.000975</td>\n",
              "      <td>0.000233</td>\n",
              "      <td>0.01</td>\n",
              "      <td>{'C': 0.01}</td>\n",
              "      <td>0.958333</td>\n",
              "      <td>0.961806</td>\n",
              "      <td>0.972125</td>\n",
              "      <td>0.961672</td>\n",
              "      <td>0.972125</td>\n",
              "      <td>0.965212</td>\n",
              "      <td>0.005780</td>\n",
              "      <td>2</td>\n",
              "      <td>0.992167</td>\n",
              "      <td>0.993908</td>\n",
              "      <td>0.995652</td>\n",
              "      <td>0.993043</td>\n",
              "      <td>0.993913</td>\n",
              "      <td>0.993737</td>\n",
              "      <td>0.001155</td>\n",
              "    </tr>\n",
              "    <tr>\n",
              "      <th>5</th>\n",
              "      <td>0.137744</td>\n",
              "      <td>0.005963</td>\n",
              "      <td>0.000931</td>\n",
              "      <td>0.000138</td>\n",
              "      <td>0.1</td>\n",
              "      <td>{'C': 0.1}</td>\n",
              "      <td>0.951389</td>\n",
              "      <td>0.968750</td>\n",
              "      <td>0.951220</td>\n",
              "      <td>0.954704</td>\n",
              "      <td>0.951220</td>\n",
              "      <td>0.955456</td>\n",
              "      <td>0.006778</td>\n",
              "      <td>3</td>\n",
              "      <td>0.998259</td>\n",
              "      <td>0.996519</td>\n",
              "      <td>0.997391</td>\n",
              "      <td>0.990435</td>\n",
              "      <td>0.995652</td>\n",
              "      <td>0.995651</td>\n",
              "      <td>0.002749</td>\n",
              "    </tr>\n",
              "    <tr>\n",
              "      <th>6</th>\n",
              "      <td>0.134770</td>\n",
              "      <td>0.005164</td>\n",
              "      <td>0.001047</td>\n",
              "      <td>0.000202</td>\n",
              "      <td>1</td>\n",
              "      <td>{'C': 1.0}</td>\n",
              "      <td>0.940972</td>\n",
              "      <td>0.954861</td>\n",
              "      <td>0.926829</td>\n",
              "      <td>0.944251</td>\n",
              "      <td>0.951220</td>\n",
              "      <td>0.943627</td>\n",
              "      <td>0.009731</td>\n",
              "      <td>6</td>\n",
              "      <td>0.995648</td>\n",
              "      <td>0.973890</td>\n",
              "      <td>0.992174</td>\n",
              "      <td>0.983478</td>\n",
              "      <td>0.989565</td>\n",
              "      <td>0.986951</td>\n",
              "      <td>0.007647</td>\n",
              "    </tr>\n",
              "    <tr>\n",
              "      <th>7</th>\n",
              "      <td>0.132841</td>\n",
              "      <td>0.001283</td>\n",
              "      <td>0.000928</td>\n",
              "      <td>0.000108</td>\n",
              "      <td>10</td>\n",
              "      <td>{'C': 10.0}</td>\n",
              "      <td>0.934028</td>\n",
              "      <td>0.954861</td>\n",
              "      <td>0.933798</td>\n",
              "      <td>0.926829</td>\n",
              "      <td>0.940767</td>\n",
              "      <td>0.938057</td>\n",
              "      <td>0.009488</td>\n",
              "      <td>7</td>\n",
              "      <td>0.995648</td>\n",
              "      <td>0.987815</td>\n",
              "      <td>0.994783</td>\n",
              "      <td>0.983478</td>\n",
              "      <td>0.993913</td>\n",
              "      <td>0.991128</td>\n",
              "      <td>0.004712</td>\n",
              "    </tr>\n",
              "    <tr>\n",
              "      <th>8</th>\n",
              "      <td>0.134600</td>\n",
              "      <td>0.004528</td>\n",
              "      <td>0.001097</td>\n",
              "      <td>0.000137</td>\n",
              "      <td>100</td>\n",
              "      <td>{'C': 100.0}</td>\n",
              "      <td>0.934028</td>\n",
              "      <td>0.968750</td>\n",
              "      <td>0.933798</td>\n",
              "      <td>0.912892</td>\n",
              "      <td>0.940767</td>\n",
              "      <td>0.938047</td>\n",
              "      <td>0.017984</td>\n",
              "      <td>8</td>\n",
              "      <td>0.995648</td>\n",
              "      <td>0.994778</td>\n",
              "      <td>0.996522</td>\n",
              "      <td>0.956522</td>\n",
              "      <td>0.988696</td>\n",
              "      <td>0.986433</td>\n",
              "      <td>0.015206</td>\n",
              "    </tr>\n",
              "    <tr>\n",
              "      <th>9</th>\n",
              "      <td>0.133726</td>\n",
              "      <td>0.001791</td>\n",
              "      <td>0.001009</td>\n",
              "      <td>0.000219</td>\n",
              "      <td>1000</td>\n",
              "      <td>{'C': 1000.0}</td>\n",
              "      <td>0.940972</td>\n",
              "      <td>0.958333</td>\n",
              "      <td>0.933798</td>\n",
              "      <td>0.944251</td>\n",
              "      <td>0.951220</td>\n",
              "      <td>0.945715</td>\n",
              "      <td>0.008440</td>\n",
              "      <td>5</td>\n",
              "      <td>0.996519</td>\n",
              "      <td>0.984334</td>\n",
              "      <td>0.996522</td>\n",
              "      <td>0.988696</td>\n",
              "      <td>0.988696</td>\n",
              "      <td>0.990953</td>\n",
              "      <td>0.004816</td>\n",
              "    </tr>\n",
              "  </tbody>\n",
              "</table>\n",
              "</div>"
            ],
            "text/plain": [
              "   mean_fit_time  std_fit_time  ...  mean_train_score  std_train_score\n",
              "0       0.022229      0.001252  ...          0.876828         0.005141\n",
              "1       0.023409      0.002182  ...          0.927975         0.003695\n",
              "2       0.023173      0.002199  ...          0.961379         0.002483\n",
              "3       0.042248      0.001492  ...          0.982081         0.000691\n",
              "4       0.139771      0.004335  ...          0.993737         0.001155\n",
              "5       0.137744      0.005963  ...          0.995651         0.002749\n",
              "6       0.134770      0.005164  ...          0.986951         0.007647\n",
              "7       0.132841      0.001283  ...          0.991128         0.004712\n",
              "8       0.134600      0.004528  ...          0.986433         0.015206\n",
              "9       0.133726      0.001791  ...          0.990953         0.004816\n",
              "\n",
              "[10 rows x 21 columns]"
            ]
          },
          "metadata": {
            "tags": []
          },
          "execution_count": 76
        }
      ]
    },
    {
      "cell_type": "code",
      "metadata": {
        "id": "D9JVqn1XrbCZ",
        "outputId": "c17b477a-0d9b-46ed-9891-616bd142d905",
        "colab": {
          "base_uri": "https://localhost:8080/",
          "height": 261
        }
      },
      "source": [
        "df[df['param_C'] < 0.01]"
      ],
      "execution_count": 77,
      "outputs": [
        {
          "output_type": "execute_result",
          "data": {
            "text/html": [
              "<div>\n",
              "<style scoped>\n",
              "    .dataframe tbody tr th:only-of-type {\n",
              "        vertical-align: middle;\n",
              "    }\n",
              "\n",
              "    .dataframe tbody tr th {\n",
              "        vertical-align: top;\n",
              "    }\n",
              "\n",
              "    .dataframe thead th {\n",
              "        text-align: right;\n",
              "    }\n",
              "</style>\n",
              "<table border=\"1\" class=\"dataframe\">\n",
              "  <thead>\n",
              "    <tr style=\"text-align: right;\">\n",
              "      <th></th>\n",
              "      <th>mean_fit_time</th>\n",
              "      <th>std_fit_time</th>\n",
              "      <th>mean_score_time</th>\n",
              "      <th>std_score_time</th>\n",
              "      <th>param_C</th>\n",
              "      <th>params</th>\n",
              "      <th>split0_test_score</th>\n",
              "      <th>split1_test_score</th>\n",
              "      <th>split2_test_score</th>\n",
              "      <th>split3_test_score</th>\n",
              "      <th>split4_test_score</th>\n",
              "      <th>mean_test_score</th>\n",
              "      <th>std_test_score</th>\n",
              "      <th>rank_test_score</th>\n",
              "      <th>split0_train_score</th>\n",
              "      <th>split1_train_score</th>\n",
              "      <th>split2_train_score</th>\n",
              "      <th>split3_train_score</th>\n",
              "      <th>split4_train_score</th>\n",
              "      <th>mean_train_score</th>\n",
              "      <th>std_train_score</th>\n",
              "    </tr>\n",
              "  </thead>\n",
              "  <tbody>\n",
              "    <tr>\n",
              "      <th>0</th>\n",
              "      <td>0.022229</td>\n",
              "      <td>0.001252</td>\n",
              "      <td>0.000997</td>\n",
              "      <td>0.000056</td>\n",
              "      <td>1e-06</td>\n",
              "      <td>{'C': 1e-06}</td>\n",
              "      <td>0.843750</td>\n",
              "      <td>0.864583</td>\n",
              "      <td>0.909408</td>\n",
              "      <td>0.839721</td>\n",
              "      <td>0.898955</td>\n",
              "      <td>0.871283</td>\n",
              "      <td>0.028349</td>\n",
              "      <td>10</td>\n",
              "      <td>0.882507</td>\n",
              "      <td>0.879896</td>\n",
              "      <td>0.868696</td>\n",
              "      <td>0.880000</td>\n",
              "      <td>0.873043</td>\n",
              "      <td>0.876828</td>\n",
              "      <td>0.005141</td>\n",
              "    </tr>\n",
              "    <tr>\n",
              "      <th>1</th>\n",
              "      <td>0.023409</td>\n",
              "      <td>0.002182</td>\n",
              "      <td>0.000978</td>\n",
              "      <td>0.000039</td>\n",
              "      <td>1e-05</td>\n",
              "      <td>{'C': 1e-05}</td>\n",
              "      <td>0.906250</td>\n",
              "      <td>0.916667</td>\n",
              "      <td>0.944251</td>\n",
              "      <td>0.905923</td>\n",
              "      <td>0.937282</td>\n",
              "      <td>0.922075</td>\n",
              "      <td>0.015897</td>\n",
              "      <td>9</td>\n",
              "      <td>0.928634</td>\n",
              "      <td>0.930374</td>\n",
              "      <td>0.922609</td>\n",
              "      <td>0.933043</td>\n",
              "      <td>0.925217</td>\n",
              "      <td>0.927975</td>\n",
              "      <td>0.003695</td>\n",
              "    </tr>\n",
              "    <tr>\n",
              "      <th>2</th>\n",
              "      <td>0.023173</td>\n",
              "      <td>0.002199</td>\n",
              "      <td>0.000871</td>\n",
              "      <td>0.000072</td>\n",
              "      <td>0.0001</td>\n",
              "      <td>{'C': 0.0001}</td>\n",
              "      <td>0.937500</td>\n",
              "      <td>0.940972</td>\n",
              "      <td>0.968641</td>\n",
              "      <td>0.937282</td>\n",
              "      <td>0.968641</td>\n",
              "      <td>0.950607</td>\n",
              "      <td>0.014783</td>\n",
              "      <td>4</td>\n",
              "      <td>0.963446</td>\n",
              "      <td>0.964317</td>\n",
              "      <td>0.960000</td>\n",
              "      <td>0.961739</td>\n",
              "      <td>0.957391</td>\n",
              "      <td>0.961379</td>\n",
              "      <td>0.002483</td>\n",
              "    </tr>\n",
              "    <tr>\n",
              "      <th>3</th>\n",
              "      <td>0.042248</td>\n",
              "      <td>0.001492</td>\n",
              "      <td>0.001241</td>\n",
              "      <td>0.000882</td>\n",
              "      <td>0.001</td>\n",
              "      <td>{'C': 0.001}</td>\n",
              "      <td>0.961806</td>\n",
              "      <td>0.965278</td>\n",
              "      <td>0.968641</td>\n",
              "      <td>0.961672</td>\n",
              "      <td>0.979094</td>\n",
              "      <td>0.967298</td>\n",
              "      <td>0.006432</td>\n",
              "      <td>1</td>\n",
              "      <td>0.982594</td>\n",
              "      <td>0.982594</td>\n",
              "      <td>0.982609</td>\n",
              "      <td>0.980870</td>\n",
              "      <td>0.981739</td>\n",
              "      <td>0.982081</td>\n",
              "      <td>0.000691</td>\n",
              "    </tr>\n",
              "  </tbody>\n",
              "</table>\n",
              "</div>"
            ],
            "text/plain": [
              "   mean_fit_time  std_fit_time  ...  mean_train_score  std_train_score\n",
              "0       0.022229      0.001252  ...          0.876828         0.005141\n",
              "1       0.023409      0.002182  ...          0.927975         0.003695\n",
              "2       0.023173      0.002199  ...          0.961379         0.002483\n",
              "3       0.042248      0.001492  ...          0.982081         0.000691\n",
              "\n",
              "[4 rows x 21 columns]"
            ]
          },
          "metadata": {
            "tags": []
          },
          "execution_count": 77
        }
      ]
    },
    {
      "cell_type": "code",
      "metadata": {
        "id": "B2l8a8v8reS6",
        "outputId": "bb3fd5ad-afbd-4817-da54-a7478d8588b2",
        "colab": {
          "base_uri": "https://localhost:8080/",
          "height": 442
        }
      },
      "source": [
        "fig, ax = plt.subplots()\n",
        "ax.plot(df['mean_test_score'], label=\"validation error\")\n",
        "ax.plot(df['mean_train_score'], label=\"training error\")\n",
        "ax.set_xticklabels(df['param_C'])\n",
        "ax.set_xlabel(\"C\")\n",
        "ax.set_ylabel(\"Accuracy\")\n",
        "ax.legend(loc='best');"
      ],
      "execution_count": 78,
      "outputs": [
        {
          "output_type": "display_data",
          "data": {
            "image/png": "[encoded data removed]",
            "text/plain": [
              "<Figure size 720x504 with 1 Axes>"
            ]
          },
          "metadata": {
            "tags": [],
            "needs_background": "light"
          }
        }
      ]
    },
    {
      "cell_type": "markdown",
      "metadata": {
        "id": "s2VS7KwTsa9R"
      },
      "source": [
        "# otros Packages\n",
        "1. [Plotly](https://plotly.com/) y [Seaborn](https://plotly.com/): otras dos bibliotecas de trazado \n",
        "2. [Scipy](https://www.scipy.org/): una biblioteca científica construida sobre Numpy\n",
        "3. [Scrapy](https://www.scipy.org/): una biblioteca de rastreo web \n",
        "4. [pdb](https://docs.python.org/3/library/pdb.html): un depurador para Python (no específico de ML pero muy útil)\n",
        "5. [tqdm](https://github.com/tqdm/tqdm): una barra de progreso (no específica de ML)\n"
      ]
    },
    {
      "cell_type": "code",
      "metadata": {
        "id": "TSOIUI76rg_R"
      },
      "source": [
        ""
      ],
      "execution_count": null,
      "outputs": []
    }
  ]
}