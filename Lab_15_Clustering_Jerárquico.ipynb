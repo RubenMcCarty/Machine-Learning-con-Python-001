{
  "nbformat": 4,
  "nbformat_minor": 0,
  "metadata": {
    "colab": {
      "name": "Lab_15_Clustering_Jerárquico.ipynb",
      "provenance": [],
      "authorship_tag": "ABX9TyMw7vrGpWbY0btykkmRIpwx",
      "include_colab_link": true
    },
    "kernelspec": {
      "name": "python3",
      "display_name": "Python 3"
    }
  },
  "cells": [
    {
      "cell_type": "markdown",
      "metadata": {
        "id": "view-in-github",
        "colab_type": "text"
      },
      "source": [
        "<a href=\"https://colab.research.google.com/github/RubenQuispe/Machine-Learning-con-Python-001/blob/master/Lab_15_Clustering_Jer%C3%A1rquico.ipynb\" target=\"_parent\"><img src=\"https://colab.research.google.com/assets/colab-badge.svg\" alt=\"Open In Colab\"/></a>"
      ]
    },
    {
      "cell_type": "markdown",
      "metadata": {
        "id": "FWI2P6Y5lQm5"
      },
      "source": [
        "# Clustering Jerárquico\n",
        "## MSc. Rubén Quispe\n",
        "Bienvenido al laboratorio de clustering jerárquico con python usando package scipy y scikit learn\n",
        "\n",
        "# Tabla de contenido\n",
        "1. Clustering Jerárquico-Aglomerativo\n",
        "<ul>A. Generando datos Random </ul>\n",
        "<ul>B. Agglomerative Clustering</ul>\n",
        "2. Clustering on the vehicle Dataset\n",
        "<ul>A. Data cleaning</ul>\n",
        "<ul>B. Clustering using scipy</ul>\n",
        "<ul>C. Clustering using scikit-learn</ul>\n",
        "\n",
        "# Clustering Jerárquico- Aglomerative\n",
        "Veremos una técnica de clustering o agrupamient, que es Agglomerative Hierarchical Clustering. Recuerde que la aglomeración es un enfoque de abajo hacia arriba (bottom up)\n",
        "\n",
        "En este laboratorio analizaremos el agrupamiento aglomerativo que es más popular en el clustering divisivo.\n",
        "\n",
        "También usaremos complete Linkage como criterio de Linkage.\n",
        "* Note: También puede intentar usar Average Linkage donda usaría complete linkage para ver la diferencia.\n"
      ]
    },
    {
      "cell_type": "code",
      "metadata": {
        "id": "CNvDB-bHp3HS",
        "outputId": "5a41607e-7561-4497-e3a9-414bef1c4b9a",
        "colab": {
          "base_uri": "https://localhost:8080/"
        }
      },
      "source": [
        "import numpy as np\n",
        "import pandas as pd\n",
        "from scipy import ndimage\n",
        "from scipy.cluster import hierarchy\n",
        "from scipy.spatial import distance_matrix\n",
        "from matplotlib import pyplot as plt\n",
        "from sklearn import manifold, datasets\n",
        "from sklearn.cluster import AgglomerativeClustering\n",
        "from sklearn.datasets.samples_generator import make_blobs\n",
        "%matplotlib inline"
      ],
      "execution_count": 1,
      "outputs": [
        {
          "output_type": "stream",
          "text": [
            "/usr/local/lib/python3.6/dist-packages/sklearn/utils/deprecation.py:144: FutureWarning: The sklearn.datasets.samples_generator module is  deprecated in version 0.22 and will be removed in version 0.24. The corresponding classes / functions should instead be imported from sklearn.datasets. Anything that cannot be imported from sklearn.datasets is now part of the private API.\n",
            "  warnings.warn(message, FutureWarning)\n"
          ],
          "name": "stderr"
        }
      ]
    },
    {
      "cell_type": "markdown",
      "metadata": {
        "id": "hoJbCX_MtiC0"
      },
      "source": [
        "# Generando datos Random\n",
        "Generaamos un dataset usando la clase make_blobs.\n",
        "\n",
        "**Ingreamos los parámetros en make_blobs**\n",
        "\n",
        "* n_samples: El número total de puntos dividido equitativamente entre los Cluster\n",
        "<ul>* Eligir el número entre 10-1500</ul>\n",
        "* Center: El número de centros para generar o las ubicaciones de los centros fijos\n",
        "<ul>* Elige matrices de cordenadas x,y para generar los centros. Tener entre 1 y 10 centros (ex. centers=[[1,1],[2,5]])</ul>\n",
        "* cluster_std: La desviación estandar del cluster. Cuanto mayor sea el número, más seprados estaran los clusters.\n",
        "<ul>* Elija un número entre 0.5-1.5\n",
        "\n",
        "Guarde el resultado X1 e y1\n"
      ]
    },
    {
      "cell_type": "code",
      "metadata": {
        "id": "pjcZGtKytgN2"
      },
      "source": [
        "X1, y1 =make_blobs(n_samples=50, centers=[[4,4],[-2,-1], [1,1],[10,4]], cluster_std=0.9)"
      ],
      "execution_count": 2,
      "outputs": []
    },
    {
      "cell_type": "code",
      "metadata": {
        "id": "hAjMCqFvyjIr",
        "outputId": "332b0cfe-a0e6-48d3-e005-f08a31fa26c4",
        "colab": {
          "base_uri": "https://localhost:8080/"
        }
      },
      "source": [
        "X1"
      ],
      "execution_count": 3,
      "outputs": [
        {
          "output_type": "execute_result",
          "data": {
            "text/plain": [
              "array([[ 0.85785747,  1.45252146],\n",
              "       [-2.20350824, -0.78962394],\n",
              "       [ 0.76486734,  0.44503586],\n",
              "       [ 2.71227869,  0.61887988],\n",
              "       [-1.60086597, -1.34382461],\n",
              "       [10.35712737,  4.52475497],\n",
              "       [ 4.65123252,  3.51866153],\n",
              "       [ 4.64713743,  5.4904847 ],\n",
              "       [-1.43846132, -1.46834232],\n",
              "       [ 3.62809457,  3.94847575],\n",
              "       [ 0.16945215,  1.40640445],\n",
              "       [ 3.12030969,  3.78158448],\n",
              "       [11.81213488,  2.69403228],\n",
              "       [-2.22585263, -1.32005413],\n",
              "       [ 9.66781713,  4.65351153],\n",
              "       [-0.47503232, -1.00571936],\n",
              "       [-1.76054407, -0.63565868],\n",
              "       [ 9.08006842,  4.11848095],\n",
              "       [ 9.61332975,  3.72734693],\n",
              "       [ 0.70170986,  0.25183198],\n",
              "       [ 9.68418852,  4.27337242],\n",
              "       [ 4.49363786,  3.92748438],\n",
              "       [ 1.00859531,  2.51565065],\n",
              "       [ 1.64294534, -0.12184488],\n",
              "       [ 3.27298743,  5.4584723 ],\n",
              "       [ 0.45311417, -1.41681763],\n",
              "       [ 9.68724457,  4.13012749],\n",
              "       [ 0.10372255,  0.87151358],\n",
              "       [ 9.24690301,  2.55669042],\n",
              "       [-2.25473256, -0.48652941],\n",
              "       [ 3.74616893,  4.35254674],\n",
              "       [ 2.4118489 ,  4.1670848 ],\n",
              "       [ 9.66628447,  4.51569921],\n",
              "       [-2.22051607, -0.70005828],\n",
              "       [ 8.1651662 ,  3.47236973],\n",
              "       [ 2.03047046,  1.5021166 ],\n",
              "       [-1.80299094, -0.60189014],\n",
              "       [-3.06390695, -1.02370346],\n",
              "       [ 5.17369939,  5.18106869],\n",
              "       [-2.0265298 , -1.38596466],\n",
              "       [11.13105376,  5.434681  ],\n",
              "       [ 3.8002151 ,  3.99573263],\n",
              "       [ 9.29495133,  5.23143485],\n",
              "       [ 4.88086208,  4.71983679],\n",
              "       [ 3.71155068,  4.46840609],\n",
              "       [ 1.15982976, -0.29961557],\n",
              "       [-2.79042779,  0.20893774],\n",
              "       [ 3.97321194,  4.21933948],\n",
              "       [ 2.38559802,  1.63211583],\n",
              "       [ 1.23699084,  1.14435139]])"
            ]
          },
          "metadata": {
            "tags": []
          },
          "execution_count": 3
        }
      ]
    },
    {
      "cell_type": "code",
      "metadata": {
        "id": "wXtb8Nsmyk0_",
        "outputId": "5c3485ec-bfb4-4b76-ce0f-823c4d816b42",
        "colab": {
          "base_uri": "https://localhost:8080/"
        }
      },
      "source": [
        "y1"
      ],
      "execution_count": 4,
      "outputs": [
        {
          "output_type": "execute_result",
          "data": {
            "text/plain": [
              "array([2, 1, 2, 2, 1, 3, 0, 0, 1, 0, 2, 0, 3, 1, 3, 1, 1, 3, 3, 2, 3, 0,\n",
              "       2, 2, 0, 1, 3, 2, 3, 1, 0, 0, 3, 1, 3, 2, 1, 1, 0, 1, 3, 0, 3, 0,\n",
              "       0, 2, 1, 0, 2, 2])"
            ]
          },
          "metadata": {
            "tags": []
          },
          "execution_count": 4
        }
      ]
    },
    {
      "cell_type": "code",
      "metadata": {
        "id": "EGyJ6dnrym2Q",
        "outputId": "115109b3-77b5-414c-bace-414ce64b1641",
        "colab": {
          "base_uri": "https://localhost:8080/",
          "height": 282
        }
      },
      "source": [
        "# Trazar el diagrama de dispersión de los datos generados \n",
        "plt.scatter(X1[:,0], X1[:,1], marker='o')"
      ],
      "execution_count": 5,
      "outputs": [
        {
          "output_type": "execute_result",
          "data": {
            "text/plain": [
              "<matplotlib.collections.PathCollection at 0x7fc0c95f22b0>"
            ]
          },
          "metadata": {
            "tags": []
          },
          "execution_count": 5
        },
        {
          "output_type": "display_data",
          "data": {
            "image/png": "[encoded data removed]",
            "text/plain": [
              "<Figure size 432x288 with 1 Axes>"
            ]
          },
          "metadata": {
            "tags": [],
            "needs_background": "light"
          }
        }
      ]
    },
    {
      "cell_type": "markdown",
      "metadata": {
        "id": "aiCuCLVNzINZ"
      },
      "source": [
        "# Clustering Aglomerative\n",
        "Comenzaremos agrupando los puntos de datos aleatorios que acabamos de crear. \n",
        "la clase Agglomerative clustering requerirá dos puntos:\n",
        "* n_clusters: El número de clusters que se formará asi como el número de centros que se generarán.\n",
        "<ul>* El valor será</ul> \n",
        "* linkage: Que criteio de linkage utilizar. El linkage criterion determina que distancia utilizar entre conjunto de observación. El algoritmo fusionará los pares de cluster que minimizan este criterio.\n",
        "<ul>* El valor será: completo</ul>\n",
        "<ul>* Nota: se recomienda que pruebe todo con Promedio también \n",
        "\n",
        "\n",
        "Guarda el resultado en la variable llamada agglom.\n",
        "\n"
      ]
    },
    {
      "cell_type": "code",
      "metadata": {
        "id": "QOgcgbVvzFCH"
      },
      "source": [
        "agglom=AgglomerativeClustering(n_clusters=4,linkage='average')"
      ],
      "execution_count": 6,
      "outputs": []
    },
    {
      "cell_type": "code",
      "metadata": {
        "id": "LFkezO-J7Phe",
        "outputId": "11a9257d-863d-488c-8f5b-bed1cfeb8e41",
        "colab": {
          "base_uri": "https://localhost:8080/"
        }
      },
      "source": [
        "agglom"
      ],
      "execution_count": 7,
      "outputs": [
        {
          "output_type": "execute_result",
          "data": {
            "text/plain": [
              "AgglomerativeClustering(affinity='euclidean', compute_full_tree='auto',\n",
              "                        connectivity=None, distance_threshold=None,\n",
              "                        linkage='average', memory=None, n_clusters=4)"
            ]
          },
          "metadata": {
            "tags": []
          },
          "execution_count": 7
        }
      ]
    },
    {
      "cell_type": "markdown",
      "metadata": {
        "id": "MbSL5x_I7qJS"
      },
      "source": [
        "# ajusta el modelo con X2 y y2 a partir de datos generados anteriormente"
      ]
    },
    {
      "cell_type": "code",
      "metadata": {
        "id": "iikyFnR87RN1",
        "outputId": "91bd12c4-8901-4953-da13-735353252908",
        "colab": {
          "base_uri": "https://localhost:8080/"
        }
      },
      "source": [
        "agglom.fit(X1, y1)"
      ],
      "execution_count": 8,
      "outputs": [
        {
          "output_type": "execute_result",
          "data": {
            "text/plain": [
              "AgglomerativeClustering(affinity='euclidean', compute_full_tree='auto',\n",
              "                        connectivity=None, distance_threshold=None,\n",
              "                        linkage='average', memory=None, n_clusters=4)"
            ]
          },
          "metadata": {
            "tags": []
          },
          "execution_count": 8
        }
      ]
    },
    {
      "cell_type": "markdown",
      "metadata": {
        "id": "aJi_byWR8EHa"
      },
      "source": [
        "ejecute el siguiente codigo para mostrar el cluster.\n",
        "Recuerde leer el código y los comentarios para comprender mejor cómo funciona el diagrama o trazo"
      ]
    },
    {
      "cell_type": "code",
      "metadata": {
        "id": "G_Qzw4AB7Vee",
        "outputId": "fcb53450-98ae-43bd-d203-69a30e77e730",
        "colab": {
          "base_uri": "https://localhost:8080/",
          "height": 252
        }
      },
      "source": [
        "# Crear una figura de tamaño 6 x 4 pulgadas\n",
        "plt.figure(figsize=(6,4))\n",
        "# Estos 2 lineas de código se usa para reducir los puutos de datos\n",
        "# O de lo contrario los puntos de datos estarian muy separados\n",
        "\n",
        "# crear un rango de min y max de X1\n",
        "x_min, x_max = np.min(X1, axis=0), np.max(X1,axis=0)\n",
        "\n",
        "# Obtener la distancia promedio para X1\n",
        "X1 = (X1-x_min)/(x_max -x_min)\n",
        "\n",
        "# Este loop muestra todo los puntos de datos\n",
        "for i in range(X1.shape[0]):\n",
        "  # reemplaza los puntos de datos con su respectivo valor de cluster\n",
        "  #(ex.0 ) y esta codificando por colores, con un mapa de colores (plt.cm.spectral)\n",
        "  plt.text(X1[i,0], X1[i,1], str(y1[i]),\n",
        "           color =plt.cm.nipy_spectral(agglom.labels_[i]/10.),\n",
        "           fontdict={'weight': 'bold', 'size': 9})\n",
        "  \n",
        "# elimina los ticks y los ejes x e y \n",
        "plt.xticks([])\n",
        "plt.yticks([])\n",
        "# plt.axis('off')\n",
        "\n",
        "# Mostrar el trazo del dato original antes del clustering\n",
        "plt.scatter(X1[:,0], X1[:,1], marker='.')\n",
        "# mostrar el trazo\n",
        "plt.show()"
      ],
      "execution_count": 9,
      "outputs": [
        {
          "output_type": "display_data",
          "data": {
            "image/png": "[encoded data removed]",
            "text/plain": [
              "<Figure size 432x288 with 1 Axes>"
            ]
          },
          "metadata": {
            "tags": []
          }
        }
      ]
    },
    {
      "cell_type": "markdown",
      "metadata": {
        "id": "C5tP4O01SWg2"
      },
      "source": [
        "# Dendrograma asociado para la agrupación jerárquico aglomerativa\n",
        "Recuerde que una matriz de distancia contiene la distancia de cada punto a todos los demas puntos de un dataset.\n",
        "Utilice la función distance_matrix que requiere 2 entradas.\n",
        "Utilice la feature matrix X2 como ambas entradas y guarde la matriz distancia en la variable dist_matrix\n",
        "\n",
        "Recuerde que los valores de distancia son simetricos, con una diagonal de ceros. este es una forma de asegurar que la matriz sea correcta.\n",
        "Imprima dist_matrix para asegurar que sea correcto"
      ]
    },
    {
      "cell_type": "code",
      "metadata": {
        "id": "C0wL7RSX_zZH",
        "outputId": "f364db8a-ca00-4c3d-f478-dc4e516755c7",
        "colab": {
          "base_uri": "https://localhost:8080/"
        }
      },
      "source": [
        "dist_matrix =distance_matrix(X1,X1)\n",
        "print(dist_matrix)"
      ],
      "execution_count": 10,
      "outputs": [
        {
          "output_type": "stream",
          "text": [
            "[[0.         0.38231415 0.14491296 ... 0.44937908 0.10589122 0.05109487]\n",
            " [0.38231415 0.         0.26701236 ... 0.83097142 0.46505561 0.3615622 ]\n",
            " [0.14491296 0.26701236 0.         ... 0.5836836  0.20240937 0.10538573]\n",
            " ...\n",
            " [0.44937908 0.83097142 0.5836836  ... 0.         0.3868045  0.47863626]\n",
            " [0.10589122 0.46505561 0.20240937 ... 0.3868045  0.         0.10428179]\n",
            " [0.05109487 0.3615622  0.10538573 ... 0.47863626 0.10428179 0.        ]]\n"
          ],
          "name": "stdout"
        }
      ]
    },
    {
      "cell_type": "markdown",
      "metadata": {
        "id": "6ZbzrltOUflt"
      },
      "source": [
        "Usando la clase linkage de la jerárquica, pase los parametros:\n",
        "\n",
        "* La distancia de matriz\n",
        "* complete para un linkage completo\n",
        "\n",
        "Guarde el resultado en una variable llamada Z"
      ]
    },
    {
      "cell_type": "code",
      "metadata": {
        "id": "1MmtPscyUUjO",
        "outputId": "b35d687c-4f4a-4a78-a540-fc998d87cf51",
        "colab": {
          "base_uri": "https://localhost:8080/"
        }
      },
      "source": [
        "Z= hierarchy.linkage(dist_matrix, 'complete')"
      ],
      "execution_count": 11,
      "outputs": [
        {
          "output_type": "stream",
          "text": [
            "/usr/local/lib/python3.6/dist-packages/ipykernel_launcher.py:1: ClusterWarning: scipy.cluster: The symmetric non-negative hollow observation matrix looks suspiciously like an uncondensed distance matrix\n",
            "  \"\"\"Entry point for launching an IPython kernel.\n"
          ],
          "name": "stderr"
        }
      ]
    },
    {
      "cell_type": "markdown",
      "metadata": {
        "id": "ndI6MQX_WHft"
      },
      "source": [
        "Una agrupación jerárquica se visualiza normalmente con dendograma, como se muestra en la siguiente celda. Cada convinación esta representada por una linea horizontal. La coordenada y de la linea horizontal es la similitud de los 2 grupos que se fusionaron, donde las ciudades se ven como grupos únicos. Al moverse hacia arriba desde la capa inferior al nodo superior, un dendograma nos permite reconstruir el historial de fucniones que resultaron en la agrupación representada.\n",
        "A continuación guardaremos el dendograma en una variable llamada dendro. Al hacer esto, también se mostrará el dendograma de jerraquía del parámetro.\n",
        "\n",
        "Z\n"
      ]
    },
    {
      "cell_type": "code",
      "metadata": {
        "id": "SrLnxzyvV1bs",
        "outputId": "ce6937d9-c854-400d-ab04-51cc0cbb66f2",
        "colab": {
          "base_uri": "https://localhost:8080/",
          "height": 266
        }
      },
      "source": [
        "dendro = hierarchy.dendrogram(Z)"
      ],
      "execution_count": 12,
      "outputs": [
        {
          "output_type": "display_data",
          "data": {
            "image/png": "[encoded data removed]",
            "text/plain": [
              "<Figure size 432x288 with 1 Axes>"
            ]
          },
          "metadata": {
            "tags": [],
            "needs_background": "light"
          }
        }
      ]
    },
    {
      "cell_type": "markdown",
      "metadata": {
        "id": "nEHoaNeIYOJ-"
      },
      "source": [
        "# Práctica para ti\n",
        "Unsamos un likage completo, lo cmbiamos a un linkage promedio para ver como cambia el dendrograma"
      ]
    },
    {
      "cell_type": "code",
      "metadata": {
        "id": "EGuN9U3NYJ-Y",
        "outputId": "9ccfb845-b288-4652-b039-90edb56ba60a",
        "colab": {
          "base_uri": "https://localhost:8080/",
          "height": 320
        }
      },
      "source": [
        "# Aqui tu código\n",
        "Z= hierarchy.linkage(dist_matrix, 'average')\n",
        "dendro= hierarchy.dendrogram(Z)"
      ],
      "execution_count": 13,
      "outputs": [
        {
          "output_type": "stream",
          "text": [
            "/usr/local/lib/python3.6/dist-packages/ipykernel_launcher.py:2: ClusterWarning: scipy.cluster: The symmetric non-negative hollow observation matrix looks suspiciously like an uncondensed distance matrix\n",
            "  \n"
          ],
          "name": "stderr"
        },
        {
          "output_type": "display_data",
          "data": {
            "image/png": "[encoded data removed]",
            "text/plain": [
              "<Figure size 432x288 with 1 Axes>"
            ]
          },
          "metadata": {
            "tags": [],
            "needs_background": "light"
          }
        }
      ]
    },
    {
      "cell_type": "markdown",
      "metadata": {
        "id": "axN-HXz0Y-RX"
      },
      "source": [
        "# Clustering sobre un dataset de vehiculos\n",
        "Imagine que un fabricante de vehiculos ha desarrollado prototipos para un vehículo nuevo. Antes de intruducir el nuevo modelo en su gama , el fabricante quiere determinar que vehículos existentes en el mercado se parecen mas a los prototipos, es decir como se puede agrupar los vehículos, qué grupos es el más similar al modelo y por tanto que modelos estarian competiendo contra ellos.\n",
        "\n",
        "Nuestro objetivo aqui es utilizar métodos de agrupación para encontrar grupos de vehículos más distintivos. Resumirá los vehículos existentes y ayudará a los fabricantes a tomar decisiones sobre el suministro de nuevos modelos. \n"
      ]
    },
    {
      "cell_type": "code",
      "metadata": {
        "id": "8AkpICsMY6pK",
        "outputId": "03f1690c-8f1e-42cd-c63d-7e3c6045f3e4",
        "colab": {
          "base_uri": "https://localhost:8080/",
          "height": 221
        }
      },
      "source": [
        "filename= 'cars_clus.csv'\n",
        "pdf=pd.read_csv(filename)\n",
        "print('Shape of dataset: ', pdf.shape)\n",
        "\n",
        "pdf.head()"
      ],
      "execution_count": 14,
      "outputs": [
        {
          "output_type": "stream",
          "text": [
            "Shape of dataset:  (159, 16)\n"
          ],
          "name": "stdout"
        },
        {
          "output_type": "execute_result",
          "data": {
            "text/html": [
              "<div>\n",
              "<style scoped>\n",
              "    .dataframe tbody tr th:only-of-type {\n",
              "        vertical-align: middle;\n",
              "    }\n",
              "\n",
              "    .dataframe tbody tr th {\n",
              "        vertical-align: top;\n",
              "    }\n",
              "\n",
              "    .dataframe thead th {\n",
              "        text-align: right;\n",
              "    }\n",
              "</style>\n",
              "<table border=\"1\" class=\"dataframe\">\n",
              "  <thead>\n",
              "    <tr style=\"text-align: right;\">\n",
              "      <th></th>\n",
              "      <th>manufact</th>\n",
              "      <th>model</th>\n",
              "      <th>sales</th>\n",
              "      <th>resale</th>\n",
              "      <th>type</th>\n",
              "      <th>price</th>\n",
              "      <th>engine_s</th>\n",
              "      <th>horsepow</th>\n",
              "      <th>wheelbas</th>\n",
              "      <th>width</th>\n",
              "      <th>length</th>\n",
              "      <th>curb_wgt</th>\n",
              "      <th>fuel_cap</th>\n",
              "      <th>mpg</th>\n",
              "      <th>lnsales</th>\n",
              "      <th>partition</th>\n",
              "    </tr>\n",
              "  </thead>\n",
              "  <tbody>\n",
              "    <tr>\n",
              "      <th>0</th>\n",
              "      <td>Acura</td>\n",
              "      <td>Integra</td>\n",
              "      <td>16.919</td>\n",
              "      <td>16.360</td>\n",
              "      <td>0.000</td>\n",
              "      <td>21.500</td>\n",
              "      <td>1.800</td>\n",
              "      <td>140.000</td>\n",
              "      <td>101.200</td>\n",
              "      <td>67.300</td>\n",
              "      <td>172.400</td>\n",
              "      <td>2.639</td>\n",
              "      <td>13.200</td>\n",
              "      <td>28.000</td>\n",
              "      <td>2.828</td>\n",
              "      <td>0.0</td>\n",
              "    </tr>\n",
              "    <tr>\n",
              "      <th>1</th>\n",
              "      <td>Acura</td>\n",
              "      <td>TL</td>\n",
              "      <td>39.384</td>\n",
              "      <td>19.875</td>\n",
              "      <td>0.000</td>\n",
              "      <td>28.400</td>\n",
              "      <td>3.200</td>\n",
              "      <td>225.000</td>\n",
              "      <td>108.100</td>\n",
              "      <td>70.300</td>\n",
              "      <td>192.900</td>\n",
              "      <td>3.517</td>\n",
              "      <td>17.200</td>\n",
              "      <td>25.000</td>\n",
              "      <td>3.673</td>\n",
              "      <td>0.0</td>\n",
              "    </tr>\n",
              "    <tr>\n",
              "      <th>2</th>\n",
              "      <td>Acura</td>\n",
              "      <td>CL</td>\n",
              "      <td>14.114</td>\n",
              "      <td>18.225</td>\n",
              "      <td>0.000</td>\n",
              "      <td>$null$</td>\n",
              "      <td>3.200</td>\n",
              "      <td>225.000</td>\n",
              "      <td>106.900</td>\n",
              "      <td>70.600</td>\n",
              "      <td>192.000</td>\n",
              "      <td>3.470</td>\n",
              "      <td>17.200</td>\n",
              "      <td>26.000</td>\n",
              "      <td>2.647</td>\n",
              "      <td>0.0</td>\n",
              "    </tr>\n",
              "    <tr>\n",
              "      <th>3</th>\n",
              "      <td>Acura</td>\n",
              "      <td>RL</td>\n",
              "      <td>8.588</td>\n",
              "      <td>29.725</td>\n",
              "      <td>0.000</td>\n",
              "      <td>42.000</td>\n",
              "      <td>3.500</td>\n",
              "      <td>210.000</td>\n",
              "      <td>114.600</td>\n",
              "      <td>71.400</td>\n",
              "      <td>196.600</td>\n",
              "      <td>3.850</td>\n",
              "      <td>18.000</td>\n",
              "      <td>22.000</td>\n",
              "      <td>2.150</td>\n",
              "      <td>0.0</td>\n",
              "    </tr>\n",
              "    <tr>\n",
              "      <th>4</th>\n",
              "      <td>Audi</td>\n",
              "      <td>A4</td>\n",
              "      <td>20.397</td>\n",
              "      <td>22.255</td>\n",
              "      <td>0.000</td>\n",
              "      <td>23.990</td>\n",
              "      <td>1.800</td>\n",
              "      <td>150.000</td>\n",
              "      <td>102.600</td>\n",
              "      <td>68.200</td>\n",
              "      <td>178.000</td>\n",
              "      <td>2.998</td>\n",
              "      <td>16.400</td>\n",
              "      <td>27.000</td>\n",
              "      <td>3.015</td>\n",
              "      <td>0.0</td>\n",
              "    </tr>\n",
              "  </tbody>\n",
              "</table>\n",
              "</div>"
            ],
            "text/plain": [
              "  manufact    model   sales  resale  ... fuel_cap     mpg lnsales partition\n",
              "0    Acura  Integra  16.919  16.360  ...   13.200  28.000   2.828       0.0\n",
              "1    Acura       TL  39.384  19.875  ...   17.200  25.000   3.673       0.0\n",
              "2    Acura       CL  14.114  18.225  ...   17.200  26.000   2.647       0.0\n",
              "3    Acura       RL   8.588  29.725  ...   18.000  22.000   2.150       0.0\n",
              "4     Audi       A4  20.397  22.255  ...   16.400  27.000   3.015       0.0\n",
              "\n",
              "[5 rows x 16 columns]"
            ]
          },
          "metadata": {
            "tags": []
          },
          "execution_count": 14
        }
      ]
    },
    {
      "cell_type": "markdown",
      "metadata": {
        "id": "LczGNFaYdwuF"
      },
      "source": [
        "Los conjuntos de caracteristicas incluyen precio en miles (precio), tamaño del motor (ingine_s), caballos de fuerza (horsepow), distancia entre ejes (wheelbas), ancho (ancho), largo (largo), peso en vacio (curb_wgt), capacidad de combustible (fuel_cal) y combustible eficiencia (mpg)\n",
        "\n",
        "# Data Cleaning\n",
        "Simplemente borremos el conjunto de datos elimenando las filas que tienen un valor nulo:"
      ]
    },
    {
      "cell_type": "code",
      "metadata": {
        "id": "WEq8yHpWdqeK",
        "outputId": "a32aeee2-9385-45e9-e92a-dcf546ea40e4",
        "colab": {
          "base_uri": "https://localhost:8080/",
          "height": 238
        }
      },
      "source": [
        "print (\"Shape of dataset before cleaning: \", pdf.size)\n",
        "pdf[['sabe', 'resale', 'type', 'price', 'engine_s',\n",
        "     'horsepow', 'wheelbas', 'width', 'length', 'curb_wgt', 'fuel_cap',\n",
        "       'mpg', 'lnsales']] = pdf [['sales', 'resale', 'type', 'price', 'engine_s',\n",
        "       'horsepow', 'wheelbas', 'width', 'length', 'curb_wgt', 'fuel_cap',\n",
        "       'mpg', 'lnsales']].apply(pd.to_numeric, errors='coerce')\n",
        "pdf = pdf.dropna()\n",
        "pdf= pdf.reset_index(drop=True)\n",
        "print (\"Shape of dataset after cleaning: \", pdf.size)\n",
        "pdf.head(5)"
      ],
      "execution_count": 15,
      "outputs": [
        {
          "output_type": "stream",
          "text": [
            "Shape of dataset before cleaning:  2544\n",
            "Shape of dataset after cleaning:  1989\n"
          ],
          "name": "stdout"
        },
        {
          "output_type": "execute_result",
          "data": {
            "text/html": [
              "<div>\n",
              "<style scoped>\n",
              "    .dataframe tbody tr th:only-of-type {\n",
              "        vertical-align: middle;\n",
              "    }\n",
              "\n",
              "    .dataframe tbody tr th {\n",
              "        vertical-align: top;\n",
              "    }\n",
              "\n",
              "    .dataframe thead th {\n",
              "        text-align: right;\n",
              "    }\n",
              "</style>\n",
              "<table border=\"1\" class=\"dataframe\">\n",
              "  <thead>\n",
              "    <tr style=\"text-align: right;\">\n",
              "      <th></th>\n",
              "      <th>manufact</th>\n",
              "      <th>model</th>\n",
              "      <th>sales</th>\n",
              "      <th>resale</th>\n",
              "      <th>type</th>\n",
              "      <th>price</th>\n",
              "      <th>engine_s</th>\n",
              "      <th>horsepow</th>\n",
              "      <th>wheelbas</th>\n",
              "      <th>width</th>\n",
              "      <th>length</th>\n",
              "      <th>curb_wgt</th>\n",
              "      <th>fuel_cap</th>\n",
              "      <th>mpg</th>\n",
              "      <th>lnsales</th>\n",
              "      <th>partition</th>\n",
              "      <th>sabe</th>\n",
              "    </tr>\n",
              "  </thead>\n",
              "  <tbody>\n",
              "    <tr>\n",
              "      <th>0</th>\n",
              "      <td>Acura</td>\n",
              "      <td>Integra</td>\n",
              "      <td>16.919</td>\n",
              "      <td>16.360</td>\n",
              "      <td>0.0</td>\n",
              "      <td>21.50</td>\n",
              "      <td>1.8</td>\n",
              "      <td>140.0</td>\n",
              "      <td>101.2</td>\n",
              "      <td>67.3</td>\n",
              "      <td>172.4</td>\n",
              "      <td>2.639</td>\n",
              "      <td>13.2</td>\n",
              "      <td>28.0</td>\n",
              "      <td>2.828</td>\n",
              "      <td>0.0</td>\n",
              "      <td>16.919</td>\n",
              "    </tr>\n",
              "    <tr>\n",
              "      <th>1</th>\n",
              "      <td>Acura</td>\n",
              "      <td>TL</td>\n",
              "      <td>39.384</td>\n",
              "      <td>19.875</td>\n",
              "      <td>0.0</td>\n",
              "      <td>28.40</td>\n",
              "      <td>3.2</td>\n",
              "      <td>225.0</td>\n",
              "      <td>108.1</td>\n",
              "      <td>70.3</td>\n",
              "      <td>192.9</td>\n",
              "      <td>3.517</td>\n",
              "      <td>17.2</td>\n",
              "      <td>25.0</td>\n",
              "      <td>3.673</td>\n",
              "      <td>0.0</td>\n",
              "      <td>39.384</td>\n",
              "    </tr>\n",
              "    <tr>\n",
              "      <th>2</th>\n",
              "      <td>Acura</td>\n",
              "      <td>RL</td>\n",
              "      <td>8.588</td>\n",
              "      <td>29.725</td>\n",
              "      <td>0.0</td>\n",
              "      <td>42.00</td>\n",
              "      <td>3.5</td>\n",
              "      <td>210.0</td>\n",
              "      <td>114.6</td>\n",
              "      <td>71.4</td>\n",
              "      <td>196.6</td>\n",
              "      <td>3.850</td>\n",
              "      <td>18.0</td>\n",
              "      <td>22.0</td>\n",
              "      <td>2.150</td>\n",
              "      <td>0.0</td>\n",
              "      <td>8.588</td>\n",
              "    </tr>\n",
              "    <tr>\n",
              "      <th>3</th>\n",
              "      <td>Audi</td>\n",
              "      <td>A4</td>\n",
              "      <td>20.397</td>\n",
              "      <td>22.255</td>\n",
              "      <td>0.0</td>\n",
              "      <td>23.99</td>\n",
              "      <td>1.8</td>\n",
              "      <td>150.0</td>\n",
              "      <td>102.6</td>\n",
              "      <td>68.2</td>\n",
              "      <td>178.0</td>\n",
              "      <td>2.998</td>\n",
              "      <td>16.4</td>\n",
              "      <td>27.0</td>\n",
              "      <td>3.015</td>\n",
              "      <td>0.0</td>\n",
              "      <td>20.397</td>\n",
              "    </tr>\n",
              "    <tr>\n",
              "      <th>4</th>\n",
              "      <td>Audi</td>\n",
              "      <td>A6</td>\n",
              "      <td>18.780</td>\n",
              "      <td>23.555</td>\n",
              "      <td>0.0</td>\n",
              "      <td>33.95</td>\n",
              "      <td>2.8</td>\n",
              "      <td>200.0</td>\n",
              "      <td>108.7</td>\n",
              "      <td>76.1</td>\n",
              "      <td>192.0</td>\n",
              "      <td>3.561</td>\n",
              "      <td>18.5</td>\n",
              "      <td>22.0</td>\n",
              "      <td>2.933</td>\n",
              "      <td>0.0</td>\n",
              "      <td>18.780</td>\n",
              "    </tr>\n",
              "  </tbody>\n",
              "</table>\n",
              "</div>"
            ],
            "text/plain": [
              "  manufact    model   sales  resale  ...   mpg  lnsales  partition    sabe\n",
              "0    Acura  Integra  16.919  16.360  ...  28.0    2.828        0.0  16.919\n",
              "1    Acura       TL  39.384  19.875  ...  25.0    3.673        0.0  39.384\n",
              "2    Acura       RL   8.588  29.725  ...  22.0    2.150        0.0   8.588\n",
              "3     Audi       A4  20.397  22.255  ...  27.0    3.015        0.0  20.397\n",
              "4     Audi       A6  18.780  23.555  ...  22.0    2.933        0.0  18.780\n",
              "\n",
              "[5 rows x 17 columns]"
            ]
          },
          "metadata": {
            "tags": []
          },
          "execution_count": 15
        }
      ]
    },
    {
      "cell_type": "markdown",
      "metadata": {
        "id": "SbXMGqj7iuy5"
      },
      "source": [
        "# Feature Selection\n",
        "seleccionamos nuestro cojunto de características"
      ]
    },
    {
      "cell_type": "code",
      "metadata": {
        "id": "SEcy7mciiVdU"
      },
      "source": [
        "featureset=pdf[['engine_s',  'horsepow', 'wheelbas', 'width', 'length', 'curb_wgt', 'fuel_cap', 'mpg']]"
      ],
      "execution_count": 16,
      "outputs": []
    },
    {
      "cell_type": "code",
      "metadata": {
        "id": "qsNP28jtjD7k",
        "outputId": "6f3971f1-b566-421f-d500-8ec8f9145910",
        "colab": {
          "base_uri": "https://localhost:8080/",
          "height": 419
        }
      },
      "source": [
        "featureset"
      ],
      "execution_count": 17,
      "outputs": [
        {
          "output_type": "execute_result",
          "data": {
            "text/html": [
              "<div>\n",
              "<style scoped>\n",
              "    .dataframe tbody tr th:only-of-type {\n",
              "        vertical-align: middle;\n",
              "    }\n",
              "\n",
              "    .dataframe tbody tr th {\n",
              "        vertical-align: top;\n",
              "    }\n",
              "\n",
              "    .dataframe thead th {\n",
              "        text-align: right;\n",
              "    }\n",
              "</style>\n",
              "<table border=\"1\" class=\"dataframe\">\n",
              "  <thead>\n",
              "    <tr style=\"text-align: right;\">\n",
              "      <th></th>\n",
              "      <th>engine_s</th>\n",
              "      <th>horsepow</th>\n",
              "      <th>wheelbas</th>\n",
              "      <th>width</th>\n",
              "      <th>length</th>\n",
              "      <th>curb_wgt</th>\n",
              "      <th>fuel_cap</th>\n",
              "      <th>mpg</th>\n",
              "    </tr>\n",
              "  </thead>\n",
              "  <tbody>\n",
              "    <tr>\n",
              "      <th>0</th>\n",
              "      <td>1.8</td>\n",
              "      <td>140.0</td>\n",
              "      <td>101.2</td>\n",
              "      <td>67.3</td>\n",
              "      <td>172.4</td>\n",
              "      <td>2.639</td>\n",
              "      <td>13.2</td>\n",
              "      <td>28.0</td>\n",
              "    </tr>\n",
              "    <tr>\n",
              "      <th>1</th>\n",
              "      <td>3.2</td>\n",
              "      <td>225.0</td>\n",
              "      <td>108.1</td>\n",
              "      <td>70.3</td>\n",
              "      <td>192.9</td>\n",
              "      <td>3.517</td>\n",
              "      <td>17.2</td>\n",
              "      <td>25.0</td>\n",
              "    </tr>\n",
              "    <tr>\n",
              "      <th>2</th>\n",
              "      <td>3.5</td>\n",
              "      <td>210.0</td>\n",
              "      <td>114.6</td>\n",
              "      <td>71.4</td>\n",
              "      <td>196.6</td>\n",
              "      <td>3.850</td>\n",
              "      <td>18.0</td>\n",
              "      <td>22.0</td>\n",
              "    </tr>\n",
              "    <tr>\n",
              "      <th>3</th>\n",
              "      <td>1.8</td>\n",
              "      <td>150.0</td>\n",
              "      <td>102.6</td>\n",
              "      <td>68.2</td>\n",
              "      <td>178.0</td>\n",
              "      <td>2.998</td>\n",
              "      <td>16.4</td>\n",
              "      <td>27.0</td>\n",
              "    </tr>\n",
              "    <tr>\n",
              "      <th>4</th>\n",
              "      <td>2.8</td>\n",
              "      <td>200.0</td>\n",
              "      <td>108.7</td>\n",
              "      <td>76.1</td>\n",
              "      <td>192.0</td>\n",
              "      <td>3.561</td>\n",
              "      <td>18.5</td>\n",
              "      <td>22.0</td>\n",
              "    </tr>\n",
              "    <tr>\n",
              "      <th>...</th>\n",
              "      <td>...</td>\n",
              "      <td>...</td>\n",
              "      <td>...</td>\n",
              "      <td>...</td>\n",
              "      <td>...</td>\n",
              "      <td>...</td>\n",
              "      <td>...</td>\n",
              "      <td>...</td>\n",
              "    </tr>\n",
              "    <tr>\n",
              "      <th>112</th>\n",
              "      <td>2.0</td>\n",
              "      <td>115.0</td>\n",
              "      <td>98.9</td>\n",
              "      <td>68.3</td>\n",
              "      <td>163.3</td>\n",
              "      <td>2.767</td>\n",
              "      <td>14.5</td>\n",
              "      <td>26.0</td>\n",
              "    </tr>\n",
              "    <tr>\n",
              "      <th>113</th>\n",
              "      <td>2.0</td>\n",
              "      <td>115.0</td>\n",
              "      <td>98.9</td>\n",
              "      <td>68.3</td>\n",
              "      <td>172.3</td>\n",
              "      <td>2.853</td>\n",
              "      <td>14.5</td>\n",
              "      <td>26.0</td>\n",
              "    </tr>\n",
              "    <tr>\n",
              "      <th>114</th>\n",
              "      <td>1.8</td>\n",
              "      <td>150.0</td>\n",
              "      <td>106.4</td>\n",
              "      <td>68.5</td>\n",
              "      <td>184.1</td>\n",
              "      <td>3.043</td>\n",
              "      <td>16.4</td>\n",
              "      <td>27.0</td>\n",
              "    </tr>\n",
              "    <tr>\n",
              "      <th>115</th>\n",
              "      <td>2.0</td>\n",
              "      <td>115.0</td>\n",
              "      <td>97.4</td>\n",
              "      <td>66.7</td>\n",
              "      <td>160.4</td>\n",
              "      <td>3.079</td>\n",
              "      <td>13.7</td>\n",
              "      <td>26.0</td>\n",
              "    </tr>\n",
              "    <tr>\n",
              "      <th>116</th>\n",
              "      <td>2.0</td>\n",
              "      <td>115.0</td>\n",
              "      <td>98.9</td>\n",
              "      <td>68.3</td>\n",
              "      <td>163.3</td>\n",
              "      <td>2.762</td>\n",
              "      <td>14.6</td>\n",
              "      <td>26.0</td>\n",
              "    </tr>\n",
              "  </tbody>\n",
              "</table>\n",
              "<p>117 rows × 8 columns</p>\n",
              "</div>"
            ],
            "text/plain": [
              "     engine_s  horsepow  wheelbas  width  length  curb_wgt  fuel_cap   mpg\n",
              "0         1.8     140.0     101.2   67.3   172.4     2.639      13.2  28.0\n",
              "1         3.2     225.0     108.1   70.3   192.9     3.517      17.2  25.0\n",
              "2         3.5     210.0     114.6   71.4   196.6     3.850      18.0  22.0\n",
              "3         1.8     150.0     102.6   68.2   178.0     2.998      16.4  27.0\n",
              "4         2.8     200.0     108.7   76.1   192.0     3.561      18.5  22.0\n",
              "..        ...       ...       ...    ...     ...       ...       ...   ...\n",
              "112       2.0     115.0      98.9   68.3   163.3     2.767      14.5  26.0\n",
              "113       2.0     115.0      98.9   68.3   172.3     2.853      14.5  26.0\n",
              "114       1.8     150.0     106.4   68.5   184.1     3.043      16.4  27.0\n",
              "115       2.0     115.0      97.4   66.7   160.4     3.079      13.7  26.0\n",
              "116       2.0     115.0      98.9   68.3   163.3     2.762      14.6  26.0\n",
              "\n",
              "[117 rows x 8 columns]"
            ]
          },
          "metadata": {
            "tags": []
          },
          "execution_count": 17
        }
      ]
    },
    {
      "cell_type": "markdown",
      "metadata": {
        "id": "LHVYp4CvjJif"
      },
      "source": [
        "# Normalizando\n",
        "Ahora podemos normalizar el conjunto de características.MinMaxScalar transforma características al escalar cada cada característica a un rango determinado. Es por defecto (0,1).Es decir este estimador escala y traduce cada característica individualmente de manera que este entre 0 y 1.\n"
      ]
    },
    {
      "cell_type": "code",
      "metadata": {
        "id": "qHt6Q6ZFjHkl",
        "outputId": "02cde3a3-0228-4a6d-ac75-c446449c5cca",
        "colab": {
          "base_uri": "https://localhost:8080/"
        }
      },
      "source": [
        "from sklearn.preprocessing import MinMaxScaler\n",
        "x= featureset.values # retorna una matriz nunpy\n",
        "min_max_scalar=MinMaxScaler()\n",
        "feature_mtx = min_max_scalar.fit_transform(x)\n",
        "feature_mtx [0:5]"
      ],
      "execution_count": 18,
      "outputs": [
        {
          "output_type": "execute_result",
          "data": {
            "text/plain": [
              "array([[0.11428571, 0.21518987, 0.18655098, 0.28143713, 0.30625832,\n",
              "        0.2310559 , 0.13364055, 0.43333333],\n",
              "       [0.31428571, 0.43037975, 0.3362256 , 0.46107784, 0.5792277 ,\n",
              "        0.50372671, 0.31797235, 0.33333333],\n",
              "       [0.35714286, 0.39240506, 0.47722343, 0.52694611, 0.62849534,\n",
              "        0.60714286, 0.35483871, 0.23333333],\n",
              "       [0.11428571, 0.24050633, 0.21691974, 0.33532934, 0.38082557,\n",
              "        0.34254658, 0.28110599, 0.4       ],\n",
              "       [0.25714286, 0.36708861, 0.34924078, 0.80838323, 0.56724368,\n",
              "        0.5173913 , 0.37788018, 0.23333333]])"
            ]
          },
          "metadata": {
            "tags": []
          },
          "execution_count": 18
        }
      ]
    },
    {
      "cell_type": "markdown",
      "metadata": {
        "id": "u7dmP_m4lTfa"
      },
      "source": [
        "# Clustering usando Scipy\n",
        "En esta parteusamos el paquete de scipy para agrupar el dataset, primero calculamos la matriz de distancia\n"
      ]
    },
    {
      "cell_type": "code",
      "metadata": {
        "id": "0FfF53gnkwnj",
        "outputId": "9c99bf21-ff88-445c-b820-6728b6bfb023",
        "colab": {
          "base_uri": "https://localhost:8080/"
        }
      },
      "source": [
        "import scipy\n",
        "leng = feature_mtx.shape[0]\n",
        "D=scipy.zeros([leng, leng])\n",
        "for i in range(leng):\n",
        "  for j in range(leng):\n",
        "    D[i,j]=scipy.spatial.distance.euclidean(feature_mtx[i], feature_mtx[j])"
      ],
      "execution_count": 19,
      "outputs": [
        {
          "output_type": "stream",
          "text": [
            "/usr/local/lib/python3.6/dist-packages/ipykernel_launcher.py:3: DeprecationWarning: scipy.zeros is deprecated and will be removed in SciPy 2.0.0, use numpy.zeros instead\n",
            "  This is separate from the ipykernel package so we can avoid doing imports until\n"
          ],
          "name": "stderr"
        }
      ]
    },
    {
      "cell_type": "markdown",
      "metadata": {
        "id": "BwG7_pxCmSuW"
      },
      "source": [
        "En el clustering aglomerativa en cada iteraación el algoritmo debe actualizar la matriz de distancia para reflejar la distancia del grupo recien formado con los grupos restantes en el forest. Los siguientes métodos  son compatibles con scipy para calcular la distancia entre el grupo recien formado y cada uno: simple, completo, promedio, ponderado, centroide.\n",
        "\n",
        "Usamos completo para nuestro caso, pero sientate libre para cambiarlo para ver como cambian los resultados. "
      ]
    },
    {
      "cell_type": "code",
      "metadata": {
        "id": "P-LdzUKNmN5w",
        "outputId": "29b98d6c-4ac0-41fb-b707-3ae10a1f6cf4",
        "colab": {
          "base_uri": "https://localhost:8080/"
        }
      },
      "source": [
        "import pylab\n",
        "import scipy.cluster.hierarchy\n",
        "Z = hierarchy.linkage(D, 'complete')"
      ],
      "execution_count": 20,
      "outputs": [
        {
          "output_type": "stream",
          "text": [
            "/usr/local/lib/python3.6/dist-packages/ipykernel_launcher.py:3: ClusterWarning: scipy.cluster: The symmetric non-negative hollow observation matrix looks suspiciously like an uncondensed distance matrix\n",
            "  This is separate from the ipykernel package so we can avoid doing imports until\n"
          ],
          "name": "stderr"
        }
      ]
    },
    {
      "cell_type": "markdown",
      "metadata": {
        "id": "sYX2B4apoEqg"
      },
      "source": [
        "Esencialmente la agrupación jerárquica no requiere un número predeterminado de agrupaciones. Sin embargo en algunas aplicaciones queremos una particion de clusteres disjuntos como en clústeres planos.\n",
        "entonces puede usar una linea de corte"
      ]
    },
    {
      "cell_type": "code",
      "metadata": {
        "id": "i1m43b4Xn3Uo",
        "outputId": "764da5f8-d5ce-4341-bec5-445d08c035a7",
        "colab": {
          "base_uri": "https://localhost:8080/"
        }
      },
      "source": [
        "from scipy.cluster.hierarchy import fcluster\n",
        "max_d = 3\n",
        "clusters =fcluster(Z, max_d,criterion='distance')\n",
        "clusters"
      ],
      "execution_count": 21,
      "outputs": [
        {
          "output_type": "execute_result",
          "data": {
            "text/plain": [
              "array([ 1,  5,  5,  6,  5,  4,  6,  5,  5,  5,  5,  5,  4,  4,  5,  1,  6,\n",
              "        5,  5,  5,  4,  2, 11,  6,  6,  5,  6,  5,  1,  6,  6, 10,  9,  8,\n",
              "        9,  3,  5,  1,  7,  6,  5,  3,  5,  3,  8,  7,  9,  2,  6,  6,  5,\n",
              "        4,  2,  1,  6,  5,  2,  7,  5,  5,  5,  4,  4,  3,  2,  6,  6,  5,\n",
              "        7,  4,  7,  6,  6,  5,  3,  5,  5,  6,  5,  4,  4,  1,  6,  5,  5,\n",
              "        5,  6,  4,  5,  4,  1,  6,  5,  6,  6,  5,  5,  5,  7,  7,  7,  2,\n",
              "        2,  1,  2,  6,  5,  1,  1,  1,  7,  8,  1,  1,  6,  1,  1],\n",
              "      dtype=int32)"
            ]
          },
          "metadata": {
            "tags": []
          },
          "execution_count": 21
        }
      ]
    },
    {
      "cell_type": "markdown",
      "metadata": {
        "id": "Vd6cvbrfpYZC"
      },
      "source": [
        "Además, puede determinar la cantidad de clústeres directamente"
      ]
    },
    {
      "cell_type": "code",
      "metadata": {
        "id": "TJOsMHBNpSvC",
        "outputId": "8187921c-afec-45b3-d0d0-b837be142236",
        "colab": {
          "base_uri": "https://localhost:8080/"
        }
      },
      "source": [
        "from scipy.cluster.hierarchy import fcluster\n",
        "k=5\n",
        "clusters=fcluster(Z, k , criterion='maxclust')\n",
        "clusters"
      ],
      "execution_count": 22,
      "outputs": [
        {
          "output_type": "execute_result",
          "data": {
            "text/plain": [
              "array([1, 3, 3, 3, 3, 2, 3, 3, 3, 3, 3, 3, 2, 2, 3, 1, 3, 3, 3, 3, 2, 1,\n",
              "       5, 3, 3, 3, 3, 3, 1, 3, 3, 4, 4, 4, 4, 2, 3, 1, 3, 3, 3, 2, 3, 2,\n",
              "       4, 3, 4, 1, 3, 3, 3, 2, 1, 1, 3, 3, 1, 3, 3, 3, 3, 2, 2, 2, 1, 3,\n",
              "       3, 3, 3, 2, 3, 3, 3, 3, 2, 3, 3, 3, 3, 2, 2, 1, 3, 3, 3, 3, 3, 2,\n",
              "       3, 2, 1, 3, 3, 3, 3, 3, 3, 3, 3, 3, 3, 1, 1, 1, 1, 3, 3, 1, 1, 1,\n",
              "       3, 4, 1, 1, 3, 1, 1], dtype=int32)"
            ]
          },
          "metadata": {
            "tags": []
          },
          "execution_count": 22
        }
      ]
    },
    {
      "cell_type": "markdown",
      "metadata": {
        "id": "bb0o6sALp3XE"
      },
      "source": [
        "Ahora tracemos el dendrograma"
      ]
    },
    {
      "cell_type": "code",
      "metadata": {
        "id": "d2baMgQ0pye6",
        "outputId": "cc07abd5-8393-4be1-ad59-f0f2cb11a98a",
        "colab": {
          "base_uri": "https://localhost:8080/",
          "height": 1000
        }
      },
      "source": [
        "fig=pylab.figure(figsize=(18,50))\n",
        "def llf(id):\n",
        "  return'[%s %s %s]' % (pdf['manufact'][id], pdf['model'][id], int(float(pdf['type'][id])))\n",
        "\n",
        "dendro= hierarchy.dendrogram(Z, leaf_label_func=llf, leaf_rotation=0, leaf_font_size=12, orientation = 'right')"
      ],
      "execution_count": 23,
      "outputs": [
        {
          "output_type": "display_data",
          "data": {
            "image/png": "[encoded data removed]",
            "text/plain": [
              "<Figure size 1296x3600 with 1 Axes>"
            ]
          },
          "metadata": {
            "tags": [],
            "needs_background": "light"
          }
        }
      ]
    },
    {
      "cell_type": "markdown",
      "metadata": {
        "id": "mln2QtxFq6kU"
      },
      "source": [
        "# Clustering usando scikit learn\n",
        "Vamos a reacerlos de nuevo pero esta vez usando package de scikit learn"
      ]
    },
    {
      "cell_type": "code",
      "metadata": {
        "id": "JCcFsi5uq2m_",
        "outputId": "62562712-5e60-44ef-9dcb-a335c1240b46",
        "colab": {
          "base_uri": "https://localhost:8080/"
        }
      },
      "source": [
        "dist_matrix=distance_matrix(feature_mtx, feature_mtx)\n",
        "print(dist_matrix)"
      ],
      "execution_count": 24,
      "outputs": [
        {
          "output_type": "stream",
          "text": [
            "[[0.         0.57777143 0.75455727 ... 0.28530295 0.24917241 0.18879995]\n",
            " [0.57777143 0.         0.22798938 ... 0.36087756 0.66346677 0.62201282]\n",
            " [0.75455727 0.22798938 0.         ... 0.51727787 0.81786095 0.77930119]\n",
            " ...\n",
            " [0.28530295 0.36087756 0.51727787 ... 0.         0.41797928 0.35720492]\n",
            " [0.24917241 0.66346677 0.81786095 ... 0.41797928 0.         0.15212198]\n",
            " [0.18879995 0.62201282 0.77930119 ... 0.35720492 0.15212198 0.        ]]\n"
          ],
          "name": "stdout"
        }
      ]
    },
    {
      "cell_type": "markdown",
      "metadata": {
        "id": "RqMiaylDrZ3c"
      },
      "source": [
        "Ahora, podemos usar la función agglomeratveClustering de la librería de scikit learn para agrupar dataset.\n",
        "AgglomerativeClustering realiza una agrupación jerárquica utilizando un enfoque de abajo hacia arriba. Los criterios de vinculación determinan la metrica utilizada para la estrategia de función.\n",
        "Ward minimiza la suma de diferencias cuadradas dentro de todo los grupos. Es un enfoque que minimiza la varianza y en este sentido es similar a la función objetivo de K-means pero se aborda con un enfoque jerárquico aglomerativo.\n",
        "El linkage máximo o completo minimiza la distancia máxima entre observaciones de pares de grupos.\n",
        "El linkage promedio minimiza el  promedio de las distancias entre todas las observaciones de pares grupos"
      ]
    },
    {
      "cell_type": "code",
      "metadata": {
        "id": "Cz4FdnKprVUK",
        "outputId": "cf3e5fdc-da57-447b-cfd3-5b8032cf748d",
        "colab": {
          "base_uri": "https://localhost:8080/"
        }
      },
      "source": [
        "agglom=AgglomerativeClustering(n_clusters=6, linkage='complete')\n",
        "agglom.fit(feature_mtx)\n",
        "agglom.labels_"
      ],
      "execution_count": 25,
      "outputs": [
        {
          "output_type": "execute_result",
          "data": {
            "text/plain": [
              "array([1, 2, 2, 1, 2, 3, 1, 2, 2, 2, 2, 2, 3, 3, 2, 1, 1, 2, 2, 2, 5, 1,\n",
              "       4, 1, 1, 2, 1, 2, 1, 1, 1, 5, 0, 0, 0, 3, 2, 1, 2, 1, 2, 3, 2, 3,\n",
              "       0, 3, 0, 1, 1, 1, 2, 3, 1, 1, 1, 2, 1, 1, 2, 2, 2, 3, 3, 3, 1, 1,\n",
              "       1, 2, 1, 2, 2, 1, 1, 2, 3, 2, 3, 1, 2, 3, 5, 1, 1, 2, 3, 2, 1, 3,\n",
              "       2, 3, 1, 1, 2, 1, 1, 2, 2, 2, 1, 1, 1, 1, 1, 1, 1, 1, 2, 1, 1, 1,\n",
              "       2, 0, 1, 1, 1, 1, 1])"
            ]
          },
          "metadata": {
            "tags": []
          },
          "execution_count": 25
        }
      ]
    },
    {
      "cell_type": "markdown",
      "metadata": {
        "id": "NjRxXoCluLZH"
      },
      "source": [
        "Y podemos agregar un nuevo campo a nuestro dataframede de datos para mostrar el grupo de cada fila."
      ]
    },
    {
      "cell_type": "code",
      "metadata": {
        "id": "xevG_WoquJBa",
        "outputId": "dfd382c2-16ab-4e51-b8a1-14441184828f",
        "colab": {
          "base_uri": "https://localhost:8080/",
          "height": 204
        }
      },
      "source": [
        "pdf['clusters_']=agglom.labels_\n",
        "pdf.head()"
      ],
      "execution_count": 38,
      "outputs": [
        {
          "output_type": "execute_result",
          "data": {
            "text/html": [
              "<div>\n",
              "<style scoped>\n",
              "    .dataframe tbody tr th:only-of-type {\n",
              "        vertical-align: middle;\n",
              "    }\n",
              "\n",
              "    .dataframe tbody tr th {\n",
              "        vertical-align: top;\n",
              "    }\n",
              "\n",
              "    .dataframe thead th {\n",
              "        text-align: right;\n",
              "    }\n",
              "</style>\n",
              "<table border=\"1\" class=\"dataframe\">\n",
              "  <thead>\n",
              "    <tr style=\"text-align: right;\">\n",
              "      <th></th>\n",
              "      <th>manufact</th>\n",
              "      <th>model</th>\n",
              "      <th>sales</th>\n",
              "      <th>resale</th>\n",
              "      <th>type</th>\n",
              "      <th>price</th>\n",
              "      <th>engine_s</th>\n",
              "      <th>horsepow</th>\n",
              "      <th>wheelbas</th>\n",
              "      <th>width</th>\n",
              "      <th>length</th>\n",
              "      <th>curb_wgt</th>\n",
              "      <th>fuel_cap</th>\n",
              "      <th>mpg</th>\n",
              "      <th>lnsales</th>\n",
              "      <th>partition</th>\n",
              "      <th>sabe</th>\n",
              "      <th>clusters_</th>\n",
              "    </tr>\n",
              "  </thead>\n",
              "  <tbody>\n",
              "    <tr>\n",
              "      <th>0</th>\n",
              "      <td>Acura</td>\n",
              "      <td>Integra</td>\n",
              "      <td>16.919</td>\n",
              "      <td>16.360</td>\n",
              "      <td>0.0</td>\n",
              "      <td>21.50</td>\n",
              "      <td>1.8</td>\n",
              "      <td>140.0</td>\n",
              "      <td>101.2</td>\n",
              "      <td>67.3</td>\n",
              "      <td>172.4</td>\n",
              "      <td>2.639</td>\n",
              "      <td>13.2</td>\n",
              "      <td>28.0</td>\n",
              "      <td>2.828</td>\n",
              "      <td>0.0</td>\n",
              "      <td>16.919</td>\n",
              "      <td>1</td>\n",
              "    </tr>\n",
              "    <tr>\n",
              "      <th>1</th>\n",
              "      <td>Acura</td>\n",
              "      <td>TL</td>\n",
              "      <td>39.384</td>\n",
              "      <td>19.875</td>\n",
              "      <td>0.0</td>\n",
              "      <td>28.40</td>\n",
              "      <td>3.2</td>\n",
              "      <td>225.0</td>\n",
              "      <td>108.1</td>\n",
              "      <td>70.3</td>\n",
              "      <td>192.9</td>\n",
              "      <td>3.517</td>\n",
              "      <td>17.2</td>\n",
              "      <td>25.0</td>\n",
              "      <td>3.673</td>\n",
              "      <td>0.0</td>\n",
              "      <td>39.384</td>\n",
              "      <td>2</td>\n",
              "    </tr>\n",
              "    <tr>\n",
              "      <th>2</th>\n",
              "      <td>Acura</td>\n",
              "      <td>RL</td>\n",
              "      <td>8.588</td>\n",
              "      <td>29.725</td>\n",
              "      <td>0.0</td>\n",
              "      <td>42.00</td>\n",
              "      <td>3.5</td>\n",
              "      <td>210.0</td>\n",
              "      <td>114.6</td>\n",
              "      <td>71.4</td>\n",
              "      <td>196.6</td>\n",
              "      <td>3.850</td>\n",
              "      <td>18.0</td>\n",
              "      <td>22.0</td>\n",
              "      <td>2.150</td>\n",
              "      <td>0.0</td>\n",
              "      <td>8.588</td>\n",
              "      <td>2</td>\n",
              "    </tr>\n",
              "    <tr>\n",
              "      <th>3</th>\n",
              "      <td>Audi</td>\n",
              "      <td>A4</td>\n",
              "      <td>20.397</td>\n",
              "      <td>22.255</td>\n",
              "      <td>0.0</td>\n",
              "      <td>23.99</td>\n",
              "      <td>1.8</td>\n",
              "      <td>150.0</td>\n",
              "      <td>102.6</td>\n",
              "      <td>68.2</td>\n",
              "      <td>178.0</td>\n",
              "      <td>2.998</td>\n",
              "      <td>16.4</td>\n",
              "      <td>27.0</td>\n",
              "      <td>3.015</td>\n",
              "      <td>0.0</td>\n",
              "      <td>20.397</td>\n",
              "      <td>1</td>\n",
              "    </tr>\n",
              "    <tr>\n",
              "      <th>4</th>\n",
              "      <td>Audi</td>\n",
              "      <td>A6</td>\n",
              "      <td>18.780</td>\n",
              "      <td>23.555</td>\n",
              "      <td>0.0</td>\n",
              "      <td>33.95</td>\n",
              "      <td>2.8</td>\n",
              "      <td>200.0</td>\n",
              "      <td>108.7</td>\n",
              "      <td>76.1</td>\n",
              "      <td>192.0</td>\n",
              "      <td>3.561</td>\n",
              "      <td>18.5</td>\n",
              "      <td>22.0</td>\n",
              "      <td>2.933</td>\n",
              "      <td>0.0</td>\n",
              "      <td>18.780</td>\n",
              "      <td>2</td>\n",
              "    </tr>\n",
              "  </tbody>\n",
              "</table>\n",
              "</div>"
            ],
            "text/plain": [
              "  manufact    model   sales  resale  ...  lnsales  partition    sabe  clusters_\n",
              "0    Acura  Integra  16.919  16.360  ...    2.828        0.0  16.919          1\n",
              "1    Acura       TL  39.384  19.875  ...    3.673        0.0  39.384          2\n",
              "2    Acura       RL   8.588  29.725  ...    2.150        0.0   8.588          2\n",
              "3     Audi       A4  20.397  22.255  ...    3.015        0.0  20.397          1\n",
              "4     Audi       A6  18.780  23.555  ...    2.933        0.0  18.780          2\n",
              "\n",
              "[5 rows x 18 columns]"
            ]
          },
          "metadata": {
            "tags": []
          },
          "execution_count": 38
        }
      ]
    },
    {
      "cell_type": "code",
      "metadata": {
        "id": "mR3xvAevupIA",
        "outputId": "1d85db73-40d5-4baf-c061-c9bb364a10cb",
        "colab": {
          "base_uri": "https://localhost:8080/",
          "height": 367
        }
      },
      "source": [
        "from pandas import Series, DataFrame\n",
        "from pandas import Series, DataFrame\n",
        "\n",
        "import pandas as pd\n",
        "\n",
        "import json\n",
        "\n",
        "nan=float('NaN')\n",
        "data = []\n",
        "import matplotlib.cm as cm\n",
        "n_clusters = max(agglom.labels_)+1\n",
        "colors = cm.rainbow(np.linspace(0, 1, n_clusters))\n",
        "cluster_labels = list(range(0, n_clusters))\n",
        "\n",
        "# Crear una figura de 6 pulgadas (aprox 15cm) por 4 pulgadas (aprox 10cm).\n",
        "plt.figure(figsize=(16,14))\n",
        "\n",
        "for color, label in zip(colors, cluster_labels):\n",
        "    subset = pdf[pdf.cluster_ == label]\n",
        "    for i in subset.index:\n",
        "            plt.text(subset.horsepow[i], subset.mpg[i],str(subset['model'][i]), rotation=25) \n",
        "    plt.scatter(subset.horsepow, subset.mpg, s= subset.price*10, c=color, label='cluster'+str(label),alpha=0.5)\n",
        "#    plt.scatter(subset.horsepow, subset.mpg)\n",
        "plt.legend()\n",
        "plt.title('Clusters')\n",
        "plt.xlabel('horsepow')\n",
        "plt.ylabel('mpg')"
      ],
      "execution_count": 46,
      "outputs": [
        {
          "output_type": "error",
          "ename": "AttributeError",
          "evalue": "ignored",
          "traceback": [
            "\u001b[0;31m---------------------------------------------------------------------------\u001b[0m",
            "\u001b[0;31mAttributeError\u001b[0m                            Traceback (most recent call last)",
            "\u001b[0;32m<ipython-input-46-0c6686defb93>\u001b[0m in \u001b[0;36m<module>\u001b[0;34m()\u001b[0m\n\u001b[1;32m     17\u001b[0m \u001b[0;34m\u001b[0m\u001b[0m\n\u001b[1;32m     18\u001b[0m \u001b[0;32mfor\u001b[0m \u001b[0mcolor\u001b[0m\u001b[0;34m,\u001b[0m \u001b[0mlabel\u001b[0m \u001b[0;32min\u001b[0m \u001b[0mzip\u001b[0m\u001b[0;34m(\u001b[0m\u001b[0mcolors\u001b[0m\u001b[0;34m,\u001b[0m \u001b[0mcluster_labels\u001b[0m\u001b[0;34m)\u001b[0m\u001b[0;34m:\u001b[0m\u001b[0;34m\u001b[0m\u001b[0;34m\u001b[0m\u001b[0m\n\u001b[0;32m---> 19\u001b[0;31m     \u001b[0msubset\u001b[0m \u001b[0;34m=\u001b[0m \u001b[0mpdf\u001b[0m\u001b[0;34m[\u001b[0m\u001b[0mpdf\u001b[0m\u001b[0;34m.\u001b[0m\u001b[0mcluster_\u001b[0m \u001b[0;34m==\u001b[0m \u001b[0mlabel\u001b[0m\u001b[0;34m]\u001b[0m\u001b[0;34m\u001b[0m\u001b[0;34m\u001b[0m\u001b[0m\n\u001b[0m\u001b[1;32m     20\u001b[0m     \u001b[0;32mfor\u001b[0m \u001b[0mi\u001b[0m \u001b[0;32min\u001b[0m \u001b[0msubset\u001b[0m\u001b[0;34m.\u001b[0m\u001b[0mindex\u001b[0m\u001b[0;34m:\u001b[0m\u001b[0;34m\u001b[0m\u001b[0;34m\u001b[0m\u001b[0m\n\u001b[1;32m     21\u001b[0m             \u001b[0mplt\u001b[0m\u001b[0;34m.\u001b[0m\u001b[0mtext\u001b[0m\u001b[0;34m(\u001b[0m\u001b[0msubset\u001b[0m\u001b[0;34m.\u001b[0m\u001b[0mhorsepow\u001b[0m\u001b[0;34m[\u001b[0m\u001b[0mi\u001b[0m\u001b[0;34m]\u001b[0m\u001b[0;34m,\u001b[0m \u001b[0msubset\u001b[0m\u001b[0;34m.\u001b[0m\u001b[0mmpg\u001b[0m\u001b[0;34m[\u001b[0m\u001b[0mi\u001b[0m\u001b[0;34m]\u001b[0m\u001b[0;34m,\u001b[0m\u001b[0mstr\u001b[0m\u001b[0;34m(\u001b[0m\u001b[0msubset\u001b[0m\u001b[0;34m[\u001b[0m\u001b[0;34m'model'\u001b[0m\u001b[0;34m]\u001b[0m\u001b[0;34m[\u001b[0m\u001b[0mi\u001b[0m\u001b[0;34m]\u001b[0m\u001b[0;34m)\u001b[0m\u001b[0;34m,\u001b[0m \u001b[0mrotation\u001b[0m\u001b[0;34m=\u001b[0m\u001b[0;36m25\u001b[0m\u001b[0;34m)\u001b[0m\u001b[0;34m\u001b[0m\u001b[0;34m\u001b[0m\u001b[0m\n",
            "\u001b[0;32m/usr/local/lib/python3.6/dist-packages/pandas/core/generic.py\u001b[0m in \u001b[0;36m__getattr__\u001b[0;34m(self, name)\u001b[0m\n\u001b[1;32m   5137\u001b[0m             \u001b[0;32mif\u001b[0m \u001b[0mself\u001b[0m\u001b[0;34m.\u001b[0m\u001b[0m_info_axis\u001b[0m\u001b[0;34m.\u001b[0m\u001b[0m_can_hold_identifiers_and_holds_name\u001b[0m\u001b[0;34m(\u001b[0m\u001b[0mname\u001b[0m\u001b[0;34m)\u001b[0m\u001b[0;34m:\u001b[0m\u001b[0;34m\u001b[0m\u001b[0;34m\u001b[0m\u001b[0m\n\u001b[1;32m   5138\u001b[0m                 \u001b[0;32mreturn\u001b[0m \u001b[0mself\u001b[0m\u001b[0;34m[\u001b[0m\u001b[0mname\u001b[0m\u001b[0;34m]\u001b[0m\u001b[0;34m\u001b[0m\u001b[0;34m\u001b[0m\u001b[0m\n\u001b[0;32m-> 5139\u001b[0;31m             \u001b[0;32mreturn\u001b[0m \u001b[0mobject\u001b[0m\u001b[0;34m.\u001b[0m\u001b[0m__getattribute__\u001b[0m\u001b[0;34m(\u001b[0m\u001b[0mself\u001b[0m\u001b[0;34m,\u001b[0m \u001b[0mname\u001b[0m\u001b[0;34m)\u001b[0m\u001b[0;34m\u001b[0m\u001b[0;34m\u001b[0m\u001b[0m\n\u001b[0m\u001b[1;32m   5140\u001b[0m \u001b[0;34m\u001b[0m\u001b[0m\n\u001b[1;32m   5141\u001b[0m     \u001b[0;32mdef\u001b[0m \u001b[0m__setattr__\u001b[0m\u001b[0;34m(\u001b[0m\u001b[0mself\u001b[0m\u001b[0;34m,\u001b[0m \u001b[0mname\u001b[0m\u001b[0;34m:\u001b[0m \u001b[0mstr\u001b[0m\u001b[0;34m,\u001b[0m \u001b[0mvalue\u001b[0m\u001b[0;34m)\u001b[0m \u001b[0;34m->\u001b[0m \u001b[0;32mNone\u001b[0m\u001b[0;34m:\u001b[0m\u001b[0;34m\u001b[0m\u001b[0;34m\u001b[0m\u001b[0m\n",
            "\u001b[0;31mAttributeError\u001b[0m: 'DataFrame' object has no attribute 'cluster_'"
          ]
        },
        {
          "output_type": "display_data",
          "data": {
            "text/plain": [
              "<Figure size 1152x1008 with 0 Axes>"
            ]
          },
          "metadata": {
            "tags": []
          }
        }
      ]
    },
    {
      "cell_type": "markdown",
      "metadata": {
        "id": "Yzt_fLIfFMmZ"
      },
      "source": [
        "Como se puede ver, es una distribución de cada cluster utilizando una trama esparcida, pero no está muy claro dónde es el centroide de cada cluster. Es más, hay 2 tipos de vehículos en nuestro set de datos, \"truck\" (valor de 1 en la columna tipo) y \"car\" (valor 1 en la columna tipo). Asi que los usaremos para distinguir las clases y sumarizar el cluster. Primero contamos la cantidad de casos de cada grupo:"
      ]
    },
    {
      "cell_type": "code",
      "metadata": {
        "id": "GAuhYamTu0l2",
        "outputId": "550d15cc-45b6-4cbc-e009-4dfc9fe31218",
        "colab": {
          "base_uri": "https://localhost:8080/",
          "height": 306
        }
      },
      "source": [
        "pdf.groupby(['cluster_','type'])['cluster_'].count()"
      ],
      "execution_count": 30,
      "outputs": [
        {
          "output_type": "error",
          "ename": "KeyError",
          "evalue": "ignored",
          "traceback": [
            "\u001b[0;31m---------------------------------------------------------------------------\u001b[0m",
            "\u001b[0;31mKeyError\u001b[0m                                  Traceback (most recent call last)",
            "\u001b[0;32m<ipython-input-30-73ce1107cdba>\u001b[0m in \u001b[0;36m<module>\u001b[0;34m()\u001b[0m\n\u001b[0;32m----> 1\u001b[0;31m \u001b[0mpdf\u001b[0m\u001b[0;34m.\u001b[0m\u001b[0mgroupby\u001b[0m\u001b[0;34m(\u001b[0m\u001b[0;34m[\u001b[0m\u001b[0;34m'cluster_'\u001b[0m\u001b[0;34m,\u001b[0m\u001b[0;34m'type'\u001b[0m\u001b[0;34m]\u001b[0m\u001b[0;34m)\u001b[0m\u001b[0;34m[\u001b[0m\u001b[0;34m'cluster_'\u001b[0m\u001b[0;34m]\u001b[0m\u001b[0;34m.\u001b[0m\u001b[0mcount\u001b[0m\u001b[0;34m(\u001b[0m\u001b[0;34m)\u001b[0m\u001b[0;34m\u001b[0m\u001b[0;34m\u001b[0m\u001b[0m\n\u001b[0m",
            "\u001b[0;32m/usr/local/lib/python3.6/dist-packages/pandas/core/frame.py\u001b[0m in \u001b[0;36mgroupby\u001b[0;34m(self, by, axis, level, as_index, sort, group_keys, squeeze, observed, dropna)\u001b[0m\n\u001b[1;32m   6523\u001b[0m             \u001b[0msqueeze\u001b[0m\u001b[0;34m=\u001b[0m\u001b[0msqueeze\u001b[0m\u001b[0;34m,\u001b[0m\u001b[0;34m\u001b[0m\u001b[0;34m\u001b[0m\u001b[0m\n\u001b[1;32m   6524\u001b[0m             \u001b[0mobserved\u001b[0m\u001b[0;34m=\u001b[0m\u001b[0mobserved\u001b[0m\u001b[0;34m,\u001b[0m\u001b[0;34m\u001b[0m\u001b[0;34m\u001b[0m\u001b[0m\n\u001b[0;32m-> 6525\u001b[0;31m             \u001b[0mdropna\u001b[0m\u001b[0;34m=\u001b[0m\u001b[0mdropna\u001b[0m\u001b[0;34m,\u001b[0m\u001b[0;34m\u001b[0m\u001b[0;34m\u001b[0m\u001b[0m\n\u001b[0m\u001b[1;32m   6526\u001b[0m         )\n\u001b[1;32m   6527\u001b[0m \u001b[0;34m\u001b[0m\u001b[0m\n",
            "\u001b[0;32m/usr/local/lib/python3.6/dist-packages/pandas/core/groupby/groupby.py\u001b[0m in \u001b[0;36m__init__\u001b[0;34m(self, obj, keys, axis, level, grouper, exclusions, selection, as_index, sort, group_keys, squeeze, observed, mutated, dropna)\u001b[0m\n\u001b[1;32m    531\u001b[0m                 \u001b[0mobserved\u001b[0m\u001b[0;34m=\u001b[0m\u001b[0mobserved\u001b[0m\u001b[0;34m,\u001b[0m\u001b[0;34m\u001b[0m\u001b[0;34m\u001b[0m\u001b[0m\n\u001b[1;32m    532\u001b[0m                 \u001b[0mmutated\u001b[0m\u001b[0;34m=\u001b[0m\u001b[0mself\u001b[0m\u001b[0;34m.\u001b[0m\u001b[0mmutated\u001b[0m\u001b[0;34m,\u001b[0m\u001b[0;34m\u001b[0m\u001b[0;34m\u001b[0m\u001b[0m\n\u001b[0;32m--> 533\u001b[0;31m                 \u001b[0mdropna\u001b[0m\u001b[0;34m=\u001b[0m\u001b[0mself\u001b[0m\u001b[0;34m.\u001b[0m\u001b[0mdropna\u001b[0m\u001b[0;34m,\u001b[0m\u001b[0;34m\u001b[0m\u001b[0;34m\u001b[0m\u001b[0m\n\u001b[0m\u001b[1;32m    534\u001b[0m             )\n\u001b[1;32m    535\u001b[0m \u001b[0;34m\u001b[0m\u001b[0m\n",
            "\u001b[0;32m/usr/local/lib/python3.6/dist-packages/pandas/core/groupby/grouper.py\u001b[0m in \u001b[0;36mget_grouper\u001b[0;34m(obj, key, axis, level, sort, observed, mutated, validate, dropna)\u001b[0m\n\u001b[1;32m    784\u001b[0m                 \u001b[0min_axis\u001b[0m\u001b[0;34m,\u001b[0m \u001b[0mname\u001b[0m\u001b[0;34m,\u001b[0m \u001b[0mlevel\u001b[0m\u001b[0;34m,\u001b[0m \u001b[0mgpr\u001b[0m \u001b[0;34m=\u001b[0m \u001b[0;32mFalse\u001b[0m\u001b[0;34m,\u001b[0m \u001b[0;32mNone\u001b[0m\u001b[0;34m,\u001b[0m \u001b[0mgpr\u001b[0m\u001b[0;34m,\u001b[0m \u001b[0;32mNone\u001b[0m\u001b[0;34m\u001b[0m\u001b[0;34m\u001b[0m\u001b[0m\n\u001b[1;32m    785\u001b[0m             \u001b[0;32melse\u001b[0m\u001b[0;34m:\u001b[0m\u001b[0;34m\u001b[0m\u001b[0;34m\u001b[0m\u001b[0m\n\u001b[0;32m--> 786\u001b[0;31m                 \u001b[0;32mraise\u001b[0m \u001b[0mKeyError\u001b[0m\u001b[0;34m(\u001b[0m\u001b[0mgpr\u001b[0m\u001b[0;34m)\u001b[0m\u001b[0;34m\u001b[0m\u001b[0;34m\u001b[0m\u001b[0m\n\u001b[0m\u001b[1;32m    787\u001b[0m         \u001b[0;32melif\u001b[0m \u001b[0misinstance\u001b[0m\u001b[0;34m(\u001b[0m\u001b[0mgpr\u001b[0m\u001b[0;34m,\u001b[0m \u001b[0mGrouper\u001b[0m\u001b[0;34m)\u001b[0m \u001b[0;32mand\u001b[0m \u001b[0mgpr\u001b[0m\u001b[0;34m.\u001b[0m\u001b[0mkey\u001b[0m \u001b[0;32mis\u001b[0m \u001b[0;32mnot\u001b[0m \u001b[0;32mNone\u001b[0m\u001b[0;34m:\u001b[0m\u001b[0;34m\u001b[0m\u001b[0;34m\u001b[0m\u001b[0m\n\u001b[1;32m    788\u001b[0m             \u001b[0;31m# Add key to exclusions\u001b[0m\u001b[0;34m\u001b[0m\u001b[0;34m\u001b[0m\u001b[0;34m\u001b[0m\u001b[0m\n",
            "\u001b[0;31mKeyError\u001b[0m: 'cluster_'"
          ]
        }
      ]
    },
    {
      "cell_type": "markdown",
      "metadata": {
        "id": "JaB9JenHGZFe"
      },
      "source": [
        "\n",
        "Ahora, podemos examinar a las características de cada cluster:"
      ]
    },
    {
      "cell_type": "code",
      "metadata": {
        "id": "5t36z1HAGEvb",
        "outputId": "5ad67246-058c-4305-f694-b907f795668a",
        "colab": {
          "base_uri": "https://localhost:8080/",
          "height": 323
        }
      },
      "source": [
        "agg_cars = pdf.groupby(['cluster_','type'])['horsepow','engine_s','mpg','price'].mean()\n",
        "agg_cars"
      ],
      "execution_count": 36,
      "outputs": [
        {
          "output_type": "error",
          "ename": "KeyError",
          "evalue": "ignored",
          "traceback": [
            "\u001b[0;31m---------------------------------------------------------------------------\u001b[0m",
            "\u001b[0;31mKeyError\u001b[0m                                  Traceback (most recent call last)",
            "\u001b[0;32m<ipython-input-36-fb63ecec89ff>\u001b[0m in \u001b[0;36m<module>\u001b[0;34m()\u001b[0m\n\u001b[0;32m----> 1\u001b[0;31m \u001b[0magg_cars\u001b[0m \u001b[0;34m=\u001b[0m \u001b[0mpdf\u001b[0m\u001b[0;34m.\u001b[0m\u001b[0mgroupby\u001b[0m\u001b[0;34m(\u001b[0m\u001b[0;34m[\u001b[0m\u001b[0;34m'cluster_'\u001b[0m\u001b[0;34m,\u001b[0m\u001b[0;34m'type'\u001b[0m\u001b[0;34m]\u001b[0m\u001b[0;34m)\u001b[0m\u001b[0;34m[\u001b[0m\u001b[0;34m'horsepow'\u001b[0m\u001b[0;34m,\u001b[0m\u001b[0;34m'engine_s'\u001b[0m\u001b[0;34m,\u001b[0m\u001b[0;34m'mpg'\u001b[0m\u001b[0;34m,\u001b[0m\u001b[0;34m'price'\u001b[0m\u001b[0;34m]\u001b[0m\u001b[0;34m.\u001b[0m\u001b[0mmean\u001b[0m\u001b[0;34m(\u001b[0m\u001b[0;34m)\u001b[0m\u001b[0;34m\u001b[0m\u001b[0;34m\u001b[0m\u001b[0m\n\u001b[0m\u001b[1;32m      2\u001b[0m \u001b[0magg_cars\u001b[0m\u001b[0;34m\u001b[0m\u001b[0;34m\u001b[0m\u001b[0m\n",
            "\u001b[0;32m/usr/local/lib/python3.6/dist-packages/pandas/core/frame.py\u001b[0m in \u001b[0;36mgroupby\u001b[0;34m(self, by, axis, level, as_index, sort, group_keys, squeeze, observed, dropna)\u001b[0m\n\u001b[1;32m   6523\u001b[0m             \u001b[0msqueeze\u001b[0m\u001b[0;34m=\u001b[0m\u001b[0msqueeze\u001b[0m\u001b[0;34m,\u001b[0m\u001b[0;34m\u001b[0m\u001b[0;34m\u001b[0m\u001b[0m\n\u001b[1;32m   6524\u001b[0m             \u001b[0mobserved\u001b[0m\u001b[0;34m=\u001b[0m\u001b[0mobserved\u001b[0m\u001b[0;34m,\u001b[0m\u001b[0;34m\u001b[0m\u001b[0;34m\u001b[0m\u001b[0m\n\u001b[0;32m-> 6525\u001b[0;31m             \u001b[0mdropna\u001b[0m\u001b[0;34m=\u001b[0m\u001b[0mdropna\u001b[0m\u001b[0;34m,\u001b[0m\u001b[0;34m\u001b[0m\u001b[0;34m\u001b[0m\u001b[0m\n\u001b[0m\u001b[1;32m   6526\u001b[0m         )\n\u001b[1;32m   6527\u001b[0m \u001b[0;34m\u001b[0m\u001b[0m\n",
            "\u001b[0;32m/usr/local/lib/python3.6/dist-packages/pandas/core/groupby/groupby.py\u001b[0m in \u001b[0;36m__init__\u001b[0;34m(self, obj, keys, axis, level, grouper, exclusions, selection, as_index, sort, group_keys, squeeze, observed, mutated, dropna)\u001b[0m\n\u001b[1;32m    531\u001b[0m                 \u001b[0mobserved\u001b[0m\u001b[0;34m=\u001b[0m\u001b[0mobserved\u001b[0m\u001b[0;34m,\u001b[0m\u001b[0;34m\u001b[0m\u001b[0;34m\u001b[0m\u001b[0m\n\u001b[1;32m    532\u001b[0m                 \u001b[0mmutated\u001b[0m\u001b[0;34m=\u001b[0m\u001b[0mself\u001b[0m\u001b[0;34m.\u001b[0m\u001b[0mmutated\u001b[0m\u001b[0;34m,\u001b[0m\u001b[0;34m\u001b[0m\u001b[0;34m\u001b[0m\u001b[0m\n\u001b[0;32m--> 533\u001b[0;31m                 \u001b[0mdropna\u001b[0m\u001b[0;34m=\u001b[0m\u001b[0mself\u001b[0m\u001b[0;34m.\u001b[0m\u001b[0mdropna\u001b[0m\u001b[0;34m,\u001b[0m\u001b[0;34m\u001b[0m\u001b[0;34m\u001b[0m\u001b[0m\n\u001b[0m\u001b[1;32m    534\u001b[0m             )\n\u001b[1;32m    535\u001b[0m \u001b[0;34m\u001b[0m\u001b[0m\n",
            "\u001b[0;32m/usr/local/lib/python3.6/dist-packages/pandas/core/groupby/grouper.py\u001b[0m in \u001b[0;36mget_grouper\u001b[0;34m(obj, key, axis, level, sort, observed, mutated, validate, dropna)\u001b[0m\n\u001b[1;32m    784\u001b[0m                 \u001b[0min_axis\u001b[0m\u001b[0;34m,\u001b[0m \u001b[0mname\u001b[0m\u001b[0;34m,\u001b[0m \u001b[0mlevel\u001b[0m\u001b[0;34m,\u001b[0m \u001b[0mgpr\u001b[0m \u001b[0;34m=\u001b[0m \u001b[0;32mFalse\u001b[0m\u001b[0;34m,\u001b[0m \u001b[0;32mNone\u001b[0m\u001b[0;34m,\u001b[0m \u001b[0mgpr\u001b[0m\u001b[0;34m,\u001b[0m \u001b[0;32mNone\u001b[0m\u001b[0;34m\u001b[0m\u001b[0;34m\u001b[0m\u001b[0m\n\u001b[1;32m    785\u001b[0m             \u001b[0;32melse\u001b[0m\u001b[0;34m:\u001b[0m\u001b[0;34m\u001b[0m\u001b[0;34m\u001b[0m\u001b[0m\n\u001b[0;32m--> 786\u001b[0;31m                 \u001b[0;32mraise\u001b[0m \u001b[0mKeyError\u001b[0m\u001b[0;34m(\u001b[0m\u001b[0mgpr\u001b[0m\u001b[0;34m)\u001b[0m\u001b[0;34m\u001b[0m\u001b[0;34m\u001b[0m\u001b[0m\n\u001b[0m\u001b[1;32m    787\u001b[0m         \u001b[0;32melif\u001b[0m \u001b[0misinstance\u001b[0m\u001b[0;34m(\u001b[0m\u001b[0mgpr\u001b[0m\u001b[0;34m,\u001b[0m \u001b[0mGrouper\u001b[0m\u001b[0;34m)\u001b[0m \u001b[0;32mand\u001b[0m \u001b[0mgpr\u001b[0m\u001b[0;34m.\u001b[0m\u001b[0mkey\u001b[0m \u001b[0;32mis\u001b[0m \u001b[0;32mnot\u001b[0m \u001b[0;32mNone\u001b[0m\u001b[0;34m:\u001b[0m\u001b[0;34m\u001b[0m\u001b[0;34m\u001b[0m\u001b[0m\n\u001b[1;32m    788\u001b[0m             \u001b[0;31m# Add key to exclusions\u001b[0m\u001b[0;34m\u001b[0m\u001b[0;34m\u001b[0m\u001b[0;34m\u001b[0m\u001b[0m\n",
            "\u001b[0;31mKeyError\u001b[0m: 'cluster_'"
          ]
        }
      ]
    },
    {
      "cell_type": "markdown",
      "metadata": {
        "id": "P0dpW1WoGewT"
      },
      "source": [
        "Es obvio que tenemos 3 clusters principales donde están la mayoría de los vehículos en ellos.\n",
        "\n",
        "__Coches:__\n",
        "\n",
        "* Cluster 1: con algo mpg, y poco caballos de fuerza.\n",
        "* Cluster 2: con buenos mpg y caballos de fuerza, pero un precio más alto que el promedio.\n",
        "* Cluster 3: con bajo mpg, muchos caballos de fuerza y el precio más alto de todos.\n",
        "\n",
        "__Camiones:__\n",
        "\n",
        "* Cluster 1: con el más alto mpg entre los camiones, y lo más bajo en caballos de fuerza y precio.\n",
        "* Cluster 2: con bajo mpg y media de caballos de fuerza, pero el precio más alto que el promedio.\n",
        "* Cluster 3: con bueno mpg y caballos de fuerza, bajo precio.\n",
        "\n",
        "Notar que no utilizamos type , y price de autos en el proceso de clustering, sino que utilizamos clustering Jerárquico para discriminar los clusters con una precisión bastante alta."
      ]
    },
    {
      "cell_type": "code",
      "metadata": {
        "id": "Ang8w7KRDjlv",
        "outputId": "eb816b9d-083a-4535-ab26-2cea2944ef0d",
        "colab": {
          "base_uri": "https://localhost:8080/",
          "height": 248
        }
      },
      "source": [
        "plt.figure(figsize=(16,10))\n",
        "for color, label in zip(colors, cluster_labels):\n",
        "    subset = agg_cars.loc[(label,),]\n",
        "    for i in subset.index:\n",
        "        plt.text(subset.loc[i][0]+5, subset.loc[i][2], 'type='+str(int(i)) + ', price='+str(int(subset.loc[i][3]))+'k')\n",
        "    plt.scatter(subset.horsepow, subset.mpg, s=subset.price*20, c=color, label='cluster'+str(label))\n",
        "plt.legend()\n",
        "plt.title('Clusters')\n",
        "plt.xlabel('horsepow')\n",
        "plt.ylabel('mpg')"
      ],
      "execution_count": 37,
      "outputs": [
        {
          "output_type": "error",
          "ename": "NameError",
          "evalue": "ignored",
          "traceback": [
            "\u001b[0;31m---------------------------------------------------------------------------\u001b[0m",
            "\u001b[0;31mNameError\u001b[0m                                 Traceback (most recent call last)",
            "\u001b[0;32m<ipython-input-37-7f34f10a4fc5>\u001b[0m in \u001b[0;36m<module>\u001b[0;34m()\u001b[0m\n\u001b[1;32m      1\u001b[0m \u001b[0mplt\u001b[0m\u001b[0;34m.\u001b[0m\u001b[0mfigure\u001b[0m\u001b[0;34m(\u001b[0m\u001b[0mfigsize\u001b[0m\u001b[0;34m=\u001b[0m\u001b[0;34m(\u001b[0m\u001b[0;36m16\u001b[0m\u001b[0;34m,\u001b[0m\u001b[0;36m10\u001b[0m\u001b[0;34m)\u001b[0m\u001b[0;34m)\u001b[0m\u001b[0;34m\u001b[0m\u001b[0;34m\u001b[0m\u001b[0m\n\u001b[1;32m      2\u001b[0m \u001b[0;32mfor\u001b[0m \u001b[0mcolor\u001b[0m\u001b[0;34m,\u001b[0m \u001b[0mlabel\u001b[0m \u001b[0;32min\u001b[0m \u001b[0mzip\u001b[0m\u001b[0;34m(\u001b[0m\u001b[0mcolors\u001b[0m\u001b[0;34m,\u001b[0m \u001b[0mcluster_labels\u001b[0m\u001b[0;34m)\u001b[0m\u001b[0;34m:\u001b[0m\u001b[0;34m\u001b[0m\u001b[0;34m\u001b[0m\u001b[0m\n\u001b[0;32m----> 3\u001b[0;31m     \u001b[0msubset\u001b[0m \u001b[0;34m=\u001b[0m \u001b[0magg_cars\u001b[0m\u001b[0;34m.\u001b[0m\u001b[0mloc\u001b[0m\u001b[0;34m[\u001b[0m\u001b[0;34m(\u001b[0m\u001b[0mlabel\u001b[0m\u001b[0;34m,\u001b[0m\u001b[0;34m)\u001b[0m\u001b[0;34m,\u001b[0m\u001b[0;34m]\u001b[0m\u001b[0;34m\u001b[0m\u001b[0;34m\u001b[0m\u001b[0m\n\u001b[0m\u001b[1;32m      4\u001b[0m     \u001b[0;32mfor\u001b[0m \u001b[0mi\u001b[0m \u001b[0;32min\u001b[0m \u001b[0msubset\u001b[0m\u001b[0;34m.\u001b[0m\u001b[0mindex\u001b[0m\u001b[0;34m:\u001b[0m\u001b[0;34m\u001b[0m\u001b[0;34m\u001b[0m\u001b[0m\n\u001b[1;32m      5\u001b[0m         \u001b[0mplt\u001b[0m\u001b[0;34m.\u001b[0m\u001b[0mtext\u001b[0m\u001b[0;34m(\u001b[0m\u001b[0msubset\u001b[0m\u001b[0;34m.\u001b[0m\u001b[0mloc\u001b[0m\u001b[0;34m[\u001b[0m\u001b[0mi\u001b[0m\u001b[0;34m]\u001b[0m\u001b[0;34m[\u001b[0m\u001b[0;36m0\u001b[0m\u001b[0;34m]\u001b[0m\u001b[0;34m+\u001b[0m\u001b[0;36m5\u001b[0m\u001b[0;34m,\u001b[0m \u001b[0msubset\u001b[0m\u001b[0;34m.\u001b[0m\u001b[0mloc\u001b[0m\u001b[0;34m[\u001b[0m\u001b[0mi\u001b[0m\u001b[0;34m]\u001b[0m\u001b[0;34m[\u001b[0m\u001b[0;36m2\u001b[0m\u001b[0;34m]\u001b[0m\u001b[0;34m,\u001b[0m \u001b[0;34m'type='\u001b[0m\u001b[0;34m+\u001b[0m\u001b[0mstr\u001b[0m\u001b[0;34m(\u001b[0m\u001b[0mint\u001b[0m\u001b[0;34m(\u001b[0m\u001b[0mi\u001b[0m\u001b[0;34m)\u001b[0m\u001b[0;34m)\u001b[0m \u001b[0;34m+\u001b[0m \u001b[0;34m', price='\u001b[0m\u001b[0;34m+\u001b[0m\u001b[0mstr\u001b[0m\u001b[0;34m(\u001b[0m\u001b[0mint\u001b[0m\u001b[0;34m(\u001b[0m\u001b[0msubset\u001b[0m\u001b[0;34m.\u001b[0m\u001b[0mloc\u001b[0m\u001b[0;34m[\u001b[0m\u001b[0mi\u001b[0m\u001b[0;34m]\u001b[0m\u001b[0;34m[\u001b[0m\u001b[0;36m3\u001b[0m\u001b[0;34m]\u001b[0m\u001b[0;34m)\u001b[0m\u001b[0;34m)\u001b[0m\u001b[0;34m+\u001b[0m\u001b[0;34m'k'\u001b[0m\u001b[0;34m)\u001b[0m\u001b[0;34m\u001b[0m\u001b[0;34m\u001b[0m\u001b[0m\n",
            "\u001b[0;31mNameError\u001b[0m: name 'agg_cars' is not defined"
          ]
        },
        {
          "output_type": "display_data",
          "data": {
            "text/plain": [
              "<Figure size 1152x720 with 0 Axes>"
            ]
          },
          "metadata": {
            "tags": []
          }
        }
      ]
    },
    {
      "cell_type": "code",
      "metadata": {
        "id": "P8Dsf3v1GJi5"
      },
      "source": [
        ""
      ],
      "execution_count": null,
      "outputs": []
    }
  ]
}