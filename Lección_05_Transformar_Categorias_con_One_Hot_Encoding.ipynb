{
  "nbformat": 4,
  "nbformat_minor": 0,
  "metadata": {
    "colab": {
      "name": "Lección_05_Transformar_Categorias_con_One_Hot_Encoding.ipynb",
      "provenance": [],
      "authorship_tag": "ABX9TyMva/y0gLySO2eW8H+wS7fL",
      "include_colab_link": true
    },
    "kernelspec": {
      "name": "python3",
      "display_name": "Python 3"
    }
  },
  "cells": [
    {
      "cell_type": "markdown",
      "metadata": {
        "id": "view-in-github",
        "colab_type": "text"
      },
      "source": [
        "<a href=\"https://colab.research.google.com/github/RubenMcCarty/Machine-Learning-con-Python-001/blob/master/Lecci%C3%B3n_05_Transformar_Categorias_con_One_Hot_Encoding.ipynb\" target=\"_parent\"><img src=\"https://colab.research.google.com/assets/colab-badge.svg\" alt=\"Open In Colab\"/></a>"
      ]
    },
    {
      "cell_type": "markdown",
      "metadata": {
        "id": "9l4u7qUagWnD"
      },
      "source": [
        "# **Lección 05: Transformar Categorías con One Hot Encoding**\r\n",
        "## MSc. Rubén Quispe\r\n",
        "\r\n",
        "\r\n"
      ]
    },
    {
      "cell_type": "markdown",
      "metadata": {
        "id": "Ga8ypfaPjtxh"
      },
      "source": [
        "En esta lección, descubrirá cómo codificar variables de entrada categóricas como números.\r\n",
        "\r\n",
        "Los modelos de Machine Learning requieren que todas las variables de entrada y salida sean numéricas. Esto significa que si sus datos contienen datos categóricos, debe codificarlos en números antes de poder ajustar y evaluar un modelo.\r\n",
        "\r\n",
        "Una de las técnicas más populares para transformar variables categóricas en números es One Hot Encoding.\r\n",
        "\r\n",
        "Los [datos categóricos](https://en.wikipedia.org/wiki/Categorical_variable) son variables que contienen valores de etiqueta en lugar de valores numéricos.\r\n",
        "\r\n",
        "Cada etiqueta de una variable categórica se puede asignar a un número entero único, llamado codificación ordinal. Luego, se puede aplicar una one-hot Encoding a la representación ordinal. Aquí es donde se agrega una nueva variable binaria al conjunto de datos para cada valor entero único en la variable, y la variable categórica original se elimina del conjunto de datos.\r\n",
        "\r\n",
        "Por ejemplo, imagine que tenemos una variable de “ color ” con tres categorías (' rojo ', ' verde ' y ' azul '). En este caso, se necesitan tres variables binarias. Se coloca un valor \"1\" en la variable binaria para el color y valores \"0\" para los otros colores.\r\n",
        "\r\n",
        "Por ejemplo:\r\n",
        "\r\n"
      ]
    },
    {
      "cell_type": "code",
      "metadata": {
        "id": "eFYG3dALlMIu"
      },
      "source": [
        "\r\n",
        "red,\tgreen,\tblue\r\n",
        "1,\t\t0,\t\t0\r\n",
        "0,\t\t1,\t\t0\r\n",
        "0,\t\t0,\t\t1\r\n"
      ],
      "execution_count": null,
      "outputs": []
    },
    {
      "cell_type": "markdown",
      "metadata": {
        "id": "rBm5Uf9VlSe6"
      },
      "source": [
        "Esta transformación de codificación one-hot está disponible en la librería de Machine Learning de Python scikit-learn a través de la clase OneHotEncoder .\r\n",
        "\r\n",
        "El conjunto de datos de cáncer de mama contiene solo variables de entrada categóricas.\r\n",
        "\r\n",
        "El siguiente ejemplo carga el conjunto de datos y uno codifica en caliente cada una de las variables de entrada categóricas."
      ]
    },
    {
      "cell_type": "code",
      "metadata": {
        "id": "uVaysBGdlmt3"
      },
      "source": [
        "# one hot encoding para dataset de cancer de mama\r\n",
        "from pandas import read_csv\r\n",
        "from sklearn.preprocessing import OneHotEncoder"
      ],
      "execution_count": 3,
      "outputs": []
    },
    {
      "cell_type": "code",
      "metadata": {
        "id": "Dsvvm8Jul665"
      },
      "source": [
        "# definir la ubicación del dataset\r\n",
        "url = \"https://raw.githubusercontent.com/jbrownlee/Datasets/master/breast-cancer.csv\""
      ],
      "execution_count": 4,
      "outputs": []
    },
    {
      "cell_type": "code",
      "metadata": {
        "colab": {
          "base_uri": "https://localhost:8080/",
          "height": 419
        },
        "id": "ecys1adJmHaA",
        "outputId": "daa7a93e-ffc7-44f5-daf4-61a07a9d0e9a"
      },
      "source": [
        "# Cargar el dataset\r\n",
        "dataset = read_csv(url, header= None)\r\n",
        "dataset"
      ],
      "execution_count": 6,
      "outputs": [
        {
          "output_type": "execute_result",
          "data": {
            "text/html": [
              "<div>\n",
              "<style scoped>\n",
              "    .dataframe tbody tr th:only-of-type {\n",
              "        vertical-align: middle;\n",
              "    }\n",
              "\n",
              "    .dataframe tbody tr th {\n",
              "        vertical-align: top;\n",
              "    }\n",
              "\n",
              "    .dataframe thead th {\n",
              "        text-align: right;\n",
              "    }\n",
              "</style>\n",
              "<table border=\"1\" class=\"dataframe\">\n",
              "  <thead>\n",
              "    <tr style=\"text-align: right;\">\n",
              "      <th></th>\n",
              "      <th>0</th>\n",
              "      <th>1</th>\n",
              "      <th>2</th>\n",
              "      <th>3</th>\n",
              "      <th>4</th>\n",
              "      <th>5</th>\n",
              "      <th>6</th>\n",
              "      <th>7</th>\n",
              "      <th>8</th>\n",
              "      <th>9</th>\n",
              "    </tr>\n",
              "  </thead>\n",
              "  <tbody>\n",
              "    <tr>\n",
              "      <th>0</th>\n",
              "      <td>'40-49'</td>\n",
              "      <td>'premeno'</td>\n",
              "      <td>'15-19'</td>\n",
              "      <td>'0-2'</td>\n",
              "      <td>'yes'</td>\n",
              "      <td>'3'</td>\n",
              "      <td>'right'</td>\n",
              "      <td>'left_up'</td>\n",
              "      <td>'no'</td>\n",
              "      <td>'recurrence-events'</td>\n",
              "    </tr>\n",
              "    <tr>\n",
              "      <th>1</th>\n",
              "      <td>'50-59'</td>\n",
              "      <td>'ge40'</td>\n",
              "      <td>'15-19'</td>\n",
              "      <td>'0-2'</td>\n",
              "      <td>'no'</td>\n",
              "      <td>'1'</td>\n",
              "      <td>'right'</td>\n",
              "      <td>'central'</td>\n",
              "      <td>'no'</td>\n",
              "      <td>'no-recurrence-events'</td>\n",
              "    </tr>\n",
              "    <tr>\n",
              "      <th>2</th>\n",
              "      <td>'50-59'</td>\n",
              "      <td>'ge40'</td>\n",
              "      <td>'35-39'</td>\n",
              "      <td>'0-2'</td>\n",
              "      <td>'no'</td>\n",
              "      <td>'2'</td>\n",
              "      <td>'left'</td>\n",
              "      <td>'left_low'</td>\n",
              "      <td>'no'</td>\n",
              "      <td>'recurrence-events'</td>\n",
              "    </tr>\n",
              "    <tr>\n",
              "      <th>3</th>\n",
              "      <td>'40-49'</td>\n",
              "      <td>'premeno'</td>\n",
              "      <td>'35-39'</td>\n",
              "      <td>'0-2'</td>\n",
              "      <td>'yes'</td>\n",
              "      <td>'3'</td>\n",
              "      <td>'right'</td>\n",
              "      <td>'left_low'</td>\n",
              "      <td>'yes'</td>\n",
              "      <td>'no-recurrence-events'</td>\n",
              "    </tr>\n",
              "    <tr>\n",
              "      <th>4</th>\n",
              "      <td>'40-49'</td>\n",
              "      <td>'premeno'</td>\n",
              "      <td>'30-34'</td>\n",
              "      <td>'3-5'</td>\n",
              "      <td>'yes'</td>\n",
              "      <td>'2'</td>\n",
              "      <td>'left'</td>\n",
              "      <td>'right_up'</td>\n",
              "      <td>'no'</td>\n",
              "      <td>'recurrence-events'</td>\n",
              "    </tr>\n",
              "    <tr>\n",
              "      <th>...</th>\n",
              "      <td>...</td>\n",
              "      <td>...</td>\n",
              "      <td>...</td>\n",
              "      <td>...</td>\n",
              "      <td>...</td>\n",
              "      <td>...</td>\n",
              "      <td>...</td>\n",
              "      <td>...</td>\n",
              "      <td>...</td>\n",
              "      <td>...</td>\n",
              "    </tr>\n",
              "    <tr>\n",
              "      <th>281</th>\n",
              "      <td>'50-59'</td>\n",
              "      <td>'ge40'</td>\n",
              "      <td>'30-34'</td>\n",
              "      <td>'6-8'</td>\n",
              "      <td>'yes'</td>\n",
              "      <td>'2'</td>\n",
              "      <td>'left'</td>\n",
              "      <td>'left_low'</td>\n",
              "      <td>'no'</td>\n",
              "      <td>'no-recurrence-events'</td>\n",
              "    </tr>\n",
              "    <tr>\n",
              "      <th>282</th>\n",
              "      <td>'50-59'</td>\n",
              "      <td>'premeno'</td>\n",
              "      <td>'25-29'</td>\n",
              "      <td>'3-5'</td>\n",
              "      <td>'yes'</td>\n",
              "      <td>'2'</td>\n",
              "      <td>'left'</td>\n",
              "      <td>'left_low'</td>\n",
              "      <td>'yes'</td>\n",
              "      <td>'no-recurrence-events'</td>\n",
              "    </tr>\n",
              "    <tr>\n",
              "      <th>283</th>\n",
              "      <td>'30-39'</td>\n",
              "      <td>'premeno'</td>\n",
              "      <td>'30-34'</td>\n",
              "      <td>'6-8'</td>\n",
              "      <td>'yes'</td>\n",
              "      <td>'2'</td>\n",
              "      <td>'right'</td>\n",
              "      <td>'right_up'</td>\n",
              "      <td>'no'</td>\n",
              "      <td>'no-recurrence-events'</td>\n",
              "    </tr>\n",
              "    <tr>\n",
              "      <th>284</th>\n",
              "      <td>'50-59'</td>\n",
              "      <td>'premeno'</td>\n",
              "      <td>'15-19'</td>\n",
              "      <td>'0-2'</td>\n",
              "      <td>'no'</td>\n",
              "      <td>'2'</td>\n",
              "      <td>'right'</td>\n",
              "      <td>'left_low'</td>\n",
              "      <td>'no'</td>\n",
              "      <td>'no-recurrence-events'</td>\n",
              "    </tr>\n",
              "    <tr>\n",
              "      <th>285</th>\n",
              "      <td>'50-59'</td>\n",
              "      <td>'ge40'</td>\n",
              "      <td>'40-44'</td>\n",
              "      <td>'0-2'</td>\n",
              "      <td>'no'</td>\n",
              "      <td>'3'</td>\n",
              "      <td>'left'</td>\n",
              "      <td>'right_up'</td>\n",
              "      <td>'no'</td>\n",
              "      <td>'no-recurrence-events'</td>\n",
              "    </tr>\n",
              "  </tbody>\n",
              "</table>\n",
              "<p>286 rows × 10 columns</p>\n",
              "</div>"
            ],
            "text/plain": [
              "           0          1        2  ...           7      8                       9\n",
              "0    '40-49'  'premeno'  '15-19'  ...   'left_up'   'no'     'recurrence-events'\n",
              "1    '50-59'     'ge40'  '15-19'  ...   'central'   'no'  'no-recurrence-events'\n",
              "2    '50-59'     'ge40'  '35-39'  ...  'left_low'   'no'     'recurrence-events'\n",
              "3    '40-49'  'premeno'  '35-39'  ...  'left_low'  'yes'  'no-recurrence-events'\n",
              "4    '40-49'  'premeno'  '30-34'  ...  'right_up'   'no'     'recurrence-events'\n",
              "..       ...        ...      ...  ...         ...    ...                     ...\n",
              "281  '50-59'     'ge40'  '30-34'  ...  'left_low'   'no'  'no-recurrence-events'\n",
              "282  '50-59'  'premeno'  '25-29'  ...  'left_low'  'yes'  'no-recurrence-events'\n",
              "283  '30-39'  'premeno'  '30-34'  ...  'right_up'   'no'  'no-recurrence-events'\n",
              "284  '50-59'  'premeno'  '15-19'  ...  'left_low'   'no'  'no-recurrence-events'\n",
              "285  '50-59'     'ge40'  '40-44'  ...  'right_up'   'no'  'no-recurrence-events'\n",
              "\n",
              "[286 rows x 10 columns]"
            ]
          },
          "metadata": {
            "tags": []
          },
          "execution_count": 6
        }
      ]
    },
    {
      "cell_type": "code",
      "metadata": {
        "id": "GH9MtOsNmU8x"
      },
      "source": [
        "# Recuperar la matriz de data\r\n",
        "data =dataset.values"
      ],
      "execution_count": 7,
      "outputs": []
    },
    {
      "cell_type": "code",
      "metadata": {
        "colab": {
          "base_uri": "https://localhost:8080/"
        },
        "id": "uGInq-fFmzCg",
        "outputId": "f89757be-c62d-4f9b-bcd8-cb05eb3fcca6"
      },
      "source": [
        "data"
      ],
      "execution_count": 8,
      "outputs": [
        {
          "output_type": "execute_result",
          "data": {
            "text/plain": [
              "array([[\"'40-49'\", \"'premeno'\", \"'15-19'\", ..., \"'left_up'\", \"'no'\",\n",
              "        \"'recurrence-events'\"],\n",
              "       [\"'50-59'\", \"'ge40'\", \"'15-19'\", ..., \"'central'\", \"'no'\",\n",
              "        \"'no-recurrence-events'\"],\n",
              "       [\"'50-59'\", \"'ge40'\", \"'35-39'\", ..., \"'left_low'\", \"'no'\",\n",
              "        \"'recurrence-events'\"],\n",
              "       ...,\n",
              "       [\"'30-39'\", \"'premeno'\", \"'30-34'\", ..., \"'right_up'\", \"'no'\",\n",
              "        \"'no-recurrence-events'\"],\n",
              "       [\"'50-59'\", \"'premeno'\", \"'15-19'\", ..., \"'left_low'\", \"'no'\",\n",
              "        \"'no-recurrence-events'\"],\n",
              "       [\"'50-59'\", \"'ge40'\", \"'40-44'\", ..., \"'right_up'\", \"'no'\",\n",
              "        \"'no-recurrence-events'\"]], dtype=object)"
            ]
          },
          "metadata": {
            "tags": []
          },
          "execution_count": 8
        }
      ]
    },
    {
      "cell_type": "code",
      "metadata": {
        "colab": {
          "base_uri": "https://localhost:8080/"
        },
        "id": "gHpX6_lVm0Fg",
        "outputId": "2ca1e72f-939c-48b9-f579-2fa85727cda3"
      },
      "source": [
        "# Separara las columnas de input y output\r\n",
        "X = data[:, :-1].astype(str)\r\n",
        "y = data[:, -1]. astype(str)\r\n",
        "X"
      ],
      "execution_count": 10,
      "outputs": [
        {
          "output_type": "execute_result",
          "data": {
            "text/plain": [
              "array([[\"'40-49'\", \"'premeno'\", \"'15-19'\", ..., \"'right'\", \"'left_up'\",\n",
              "        \"'no'\"],\n",
              "       [\"'50-59'\", \"'ge40'\", \"'15-19'\", ..., \"'right'\", \"'central'\",\n",
              "        \"'no'\"],\n",
              "       [\"'50-59'\", \"'ge40'\", \"'35-39'\", ..., \"'left'\", \"'left_low'\",\n",
              "        \"'no'\"],\n",
              "       ...,\n",
              "       [\"'30-39'\", \"'premeno'\", \"'30-34'\", ..., \"'right'\", \"'right_up'\",\n",
              "        \"'no'\"],\n",
              "       [\"'50-59'\", \"'premeno'\", \"'15-19'\", ..., \"'right'\", \"'left_low'\",\n",
              "        \"'no'\"],\n",
              "       [\"'50-59'\", \"'ge40'\", \"'40-44'\", ..., \"'left'\", \"'right_up'\",\n",
              "        \"'no'\"]], dtype='<U11')"
            ]
          },
          "metadata": {
            "tags": []
          },
          "execution_count": 10
        }
      ]
    },
    {
      "cell_type": "code",
      "metadata": {
        "colab": {
          "base_uri": "https://localhost:8080/"
        },
        "id": "XjeSDV1WnTy_",
        "outputId": "84082326-dea6-4492-c90c-9c3df82a2970"
      },
      "source": [
        "y"
      ],
      "execution_count": 11,
      "outputs": [
        {
          "output_type": "execute_result",
          "data": {
            "text/plain": [
              "array([\"'recurrence-events'\", \"'no-recurrence-events'\",\n",
              "       \"'recurrence-events'\", \"'no-recurrence-events'\",\n",
              "       \"'recurrence-events'\", \"'no-recurrence-events'\",\n",
              "       \"'no-recurrence-events'\", \"'no-recurrence-events'\",\n",
              "       \"'no-recurrence-events'\", \"'no-recurrence-events'\",\n",
              "       \"'no-recurrence-events'\", \"'no-recurrence-events'\",\n",
              "       \"'no-recurrence-events'\", \"'no-recurrence-events'\",\n",
              "       \"'recurrence-events'\", \"'no-recurrence-events'\",\n",
              "       \"'no-recurrence-events'\", \"'no-recurrence-events'\",\n",
              "       \"'no-recurrence-events'\", \"'no-recurrence-events'\",\n",
              "       \"'recurrence-events'\", \"'no-recurrence-events'\",\n",
              "       \"'no-recurrence-events'\", \"'no-recurrence-events'\",\n",
              "       \"'recurrence-events'\", \"'no-recurrence-events'\",\n",
              "       \"'no-recurrence-events'\", \"'no-recurrence-events'\",\n",
              "       \"'no-recurrence-events'\", \"'recurrence-events'\",\n",
              "       \"'recurrence-events'\", \"'no-recurrence-events'\",\n",
              "       \"'no-recurrence-events'\", \"'no-recurrence-events'\",\n",
              "       \"'recurrence-events'\", \"'no-recurrence-events'\",\n",
              "       \"'no-recurrence-events'\", \"'no-recurrence-events'\",\n",
              "       \"'no-recurrence-events'\", \"'no-recurrence-events'\",\n",
              "       \"'recurrence-events'\", \"'no-recurrence-events'\",\n",
              "       \"'no-recurrence-events'\", \"'recurrence-events'\",\n",
              "       \"'no-recurrence-events'\", \"'recurrence-events'\",\n",
              "       \"'no-recurrence-events'\", \"'no-recurrence-events'\",\n",
              "       \"'no-recurrence-events'\", \"'no-recurrence-events'\",\n",
              "       \"'recurrence-events'\", \"'no-recurrence-events'\",\n",
              "       \"'no-recurrence-events'\", \"'no-recurrence-events'\",\n",
              "       \"'no-recurrence-events'\", \"'no-recurrence-events'\",\n",
              "       \"'no-recurrence-events'\", \"'no-recurrence-events'\",\n",
              "       \"'no-recurrence-events'\", \"'recurrence-events'\",\n",
              "       \"'recurrence-events'\", \"'no-recurrence-events'\",\n",
              "       \"'no-recurrence-events'\", \"'recurrence-events'\",\n",
              "       \"'recurrence-events'\", \"'no-recurrence-events'\",\n",
              "       \"'no-recurrence-events'\", \"'no-recurrence-events'\",\n",
              "       \"'recurrence-events'\", \"'no-recurrence-events'\",\n",
              "       \"'recurrence-events'\", \"'no-recurrence-events'\",\n",
              "       \"'no-recurrence-events'\", \"'recurrence-events'\",\n",
              "       \"'recurrence-events'\", \"'no-recurrence-events'\",\n",
              "       \"'no-recurrence-events'\", \"'no-recurrence-events'\",\n",
              "       \"'recurrence-events'\", \"'no-recurrence-events'\",\n",
              "       \"'no-recurrence-events'\", \"'no-recurrence-events'\",\n",
              "       \"'no-recurrence-events'\", \"'no-recurrence-events'\",\n",
              "       \"'no-recurrence-events'\", \"'no-recurrence-events'\",\n",
              "       \"'no-recurrence-events'\", \"'no-recurrence-events'\",\n",
              "       \"'no-recurrence-events'\", \"'no-recurrence-events'\",\n",
              "       \"'recurrence-events'\", \"'recurrence-events'\",\n",
              "       \"'recurrence-events'\", \"'no-recurrence-events'\",\n",
              "       \"'no-recurrence-events'\", \"'no-recurrence-events'\",\n",
              "       \"'recurrence-events'\", \"'no-recurrence-events'\",\n",
              "       \"'recurrence-events'\", \"'recurrence-events'\",\n",
              "       \"'recurrence-events'\", \"'recurrence-events'\",\n",
              "       \"'no-recurrence-events'\", \"'no-recurrence-events'\",\n",
              "       \"'no-recurrence-events'\", \"'recurrence-events'\",\n",
              "       \"'recurrence-events'\", \"'recurrence-events'\",\n",
              "       \"'no-recurrence-events'\", \"'no-recurrence-events'\",\n",
              "       \"'no-recurrence-events'\", \"'no-recurrence-events'\",\n",
              "       \"'no-recurrence-events'\", \"'no-recurrence-events'\",\n",
              "       \"'no-recurrence-events'\", \"'no-recurrence-events'\",\n",
              "       \"'recurrence-events'\", \"'no-recurrence-events'\",\n",
              "       \"'no-recurrence-events'\", \"'no-recurrence-events'\",\n",
              "       \"'recurrence-events'\", \"'no-recurrence-events'\",\n",
              "       \"'no-recurrence-events'\", \"'recurrence-events'\",\n",
              "       \"'no-recurrence-events'\", \"'no-recurrence-events'\",\n",
              "       \"'no-recurrence-events'\", \"'no-recurrence-events'\",\n",
              "       \"'recurrence-events'\", \"'no-recurrence-events'\",\n",
              "       \"'no-recurrence-events'\", \"'no-recurrence-events'\",\n",
              "       \"'recurrence-events'\", \"'recurrence-events'\",\n",
              "       \"'no-recurrence-events'\", \"'recurrence-events'\",\n",
              "       \"'no-recurrence-events'\", \"'no-recurrence-events'\",\n",
              "       \"'recurrence-events'\", \"'no-recurrence-events'\",\n",
              "       \"'recurrence-events'\", \"'no-recurrence-events'\",\n",
              "       \"'recurrence-events'\", \"'no-recurrence-events'\",\n",
              "       \"'no-recurrence-events'\", \"'no-recurrence-events'\",\n",
              "       \"'recurrence-events'\", \"'no-recurrence-events'\",\n",
              "       \"'no-recurrence-events'\", \"'no-recurrence-events'\",\n",
              "       \"'recurrence-events'\", \"'no-recurrence-events'\",\n",
              "       \"'no-recurrence-events'\", \"'recurrence-events'\",\n",
              "       \"'no-recurrence-events'\", \"'no-recurrence-events'\",\n",
              "       \"'recurrence-events'\", \"'recurrence-events'\",\n",
              "       \"'no-recurrence-events'\", \"'no-recurrence-events'\",\n",
              "       \"'no-recurrence-events'\", \"'no-recurrence-events'\",\n",
              "       \"'no-recurrence-events'\", \"'no-recurrence-events'\",\n",
              "       \"'recurrence-events'\", \"'recurrence-events'\",\n",
              "       \"'recurrence-events'\", \"'no-recurrence-events'\",\n",
              "       \"'no-recurrence-events'\", \"'no-recurrence-events'\",\n",
              "       \"'recurrence-events'\", \"'recurrence-events'\",\n",
              "       \"'no-recurrence-events'\", \"'recurrence-events'\",\n",
              "       \"'no-recurrence-events'\", \"'no-recurrence-events'\",\n",
              "       \"'no-recurrence-events'\", \"'recurrence-events'\",\n",
              "       \"'recurrence-events'\", \"'no-recurrence-events'\",\n",
              "       \"'no-recurrence-events'\", \"'recurrence-events'\",\n",
              "       \"'no-recurrence-events'\", \"'recurrence-events'\",\n",
              "       \"'no-recurrence-events'\", \"'no-recurrence-events'\",\n",
              "       \"'no-recurrence-events'\", \"'recurrence-events'\",\n",
              "       \"'no-recurrence-events'\", \"'no-recurrence-events'\",\n",
              "       \"'recurrence-events'\", \"'no-recurrence-events'\",\n",
              "       \"'recurrence-events'\", \"'no-recurrence-events'\",\n",
              "       \"'no-recurrence-events'\", \"'no-recurrence-events'\",\n",
              "       \"'recurrence-events'\", \"'no-recurrence-events'\",\n",
              "       \"'no-recurrence-events'\", \"'recurrence-events'\",\n",
              "       \"'no-recurrence-events'\", \"'no-recurrence-events'\",\n",
              "       \"'no-recurrence-events'\", \"'no-recurrence-events'\",\n",
              "       \"'no-recurrence-events'\", \"'recurrence-events'\",\n",
              "       \"'no-recurrence-events'\", \"'recurrence-events'\",\n",
              "       \"'recurrence-events'\", \"'no-recurrence-events'\",\n",
              "       \"'recurrence-events'\", \"'recurrence-events'\",\n",
              "       \"'no-recurrence-events'\", \"'no-recurrence-events'\",\n",
              "       \"'no-recurrence-events'\", \"'no-recurrence-events'\",\n",
              "       \"'recurrence-events'\", \"'no-recurrence-events'\",\n",
              "       \"'recurrence-events'\", \"'no-recurrence-events'\",\n",
              "       \"'no-recurrence-events'\", \"'no-recurrence-events'\",\n",
              "       \"'no-recurrence-events'\", \"'no-recurrence-events'\",\n",
              "       \"'recurrence-events'\", \"'no-recurrence-events'\",\n",
              "       \"'no-recurrence-events'\", \"'no-recurrence-events'\",\n",
              "       \"'no-recurrence-events'\", \"'recurrence-events'\",\n",
              "       \"'no-recurrence-events'\", \"'no-recurrence-events'\",\n",
              "       \"'no-recurrence-events'\", \"'no-recurrence-events'\",\n",
              "       \"'no-recurrence-events'\", \"'recurrence-events'\",\n",
              "       \"'no-recurrence-events'\", \"'recurrence-events'\",\n",
              "       \"'recurrence-events'\", \"'recurrence-events'\",\n",
              "       \"'recurrence-events'\", \"'no-recurrence-events'\",\n",
              "       \"'no-recurrence-events'\", \"'no-recurrence-events'\",\n",
              "       \"'no-recurrence-events'\", \"'no-recurrence-events'\",\n",
              "       \"'no-recurrence-events'\", \"'no-recurrence-events'\",\n",
              "       \"'no-recurrence-events'\", \"'no-recurrence-events'\",\n",
              "       \"'recurrence-events'\", \"'no-recurrence-events'\",\n",
              "       \"'no-recurrence-events'\", \"'no-recurrence-events'\",\n",
              "       \"'no-recurrence-events'\", \"'recurrence-events'\",\n",
              "       \"'no-recurrence-events'\", \"'recurrence-events'\",\n",
              "       \"'no-recurrence-events'\", \"'recurrence-events'\",\n",
              "       \"'no-recurrence-events'\", \"'no-recurrence-events'\",\n",
              "       \"'no-recurrence-events'\", \"'recurrence-events'\",\n",
              "       \"'no-recurrence-events'\", \"'no-recurrence-events'\",\n",
              "       \"'no-recurrence-events'\", \"'recurrence-events'\",\n",
              "       \"'no-recurrence-events'\", \"'no-recurrence-events'\",\n",
              "       \"'recurrence-events'\", \"'recurrence-events'\",\n",
              "       \"'no-recurrence-events'\", \"'no-recurrence-events'\",\n",
              "       \"'no-recurrence-events'\", \"'no-recurrence-events'\",\n",
              "       \"'no-recurrence-events'\", \"'no-recurrence-events'\",\n",
              "       \"'no-recurrence-events'\", \"'no-recurrence-events'\",\n",
              "       \"'no-recurrence-events'\", \"'no-recurrence-events'\",\n",
              "       \"'no-recurrence-events'\", \"'no-recurrence-events'\",\n",
              "       \"'no-recurrence-events'\", \"'no-recurrence-events'\"], dtype='<U22')"
            ]
          },
          "metadata": {
            "tags": []
          },
          "execution_count": 11
        }
      ]
    },
    {
      "cell_type": "code",
      "metadata": {
        "colab": {
          "base_uri": "https://localhost:8080/"
        },
        "id": "hvcVGzacnXzv",
        "outputId": "e948330d-54e1-4c37-c906-d5c4b9525008"
      },
      "source": [
        "# Resumen de data crudo\r\n",
        "print(X[:3, :])"
      ],
      "execution_count": 12,
      "outputs": [
        {
          "output_type": "stream",
          "text": [
            "[[\"'40-49'\" \"'premeno'\" \"'15-19'\" \"'0-2'\" \"'yes'\" \"'3'\" \"'right'\"\n",
            "  \"'left_up'\" \"'no'\"]\n",
            " [\"'50-59'\" \"'ge40'\" \"'15-19'\" \"'0-2'\" \"'no'\" \"'1'\" \"'right'\" \"'central'\"\n",
            "  \"'no'\"]\n",
            " [\"'50-59'\" \"'ge40'\" \"'35-39'\" \"'0-2'\" \"'no'\" \"'2'\" \"'left'\" \"'left_low'\"\n",
            "  \"'no'\"]]\n"
          ],
          "name": "stdout"
        }
      ]
    },
    {
      "cell_type": "code",
      "metadata": {
        "colab": {
          "base_uri": "https://localhost:8080/"
        },
        "id": "HLaEEOUcnihH",
        "outputId": "fe844152-c72c-43f6-fc9d-34668d427b8c"
      },
      "source": [
        "# Definer el transformer one hot encoding\r\n",
        "encoder =OneHotEncoder(sparse=False)\r\n",
        "encoder"
      ],
      "execution_count": 14,
      "outputs": [
        {
          "output_type": "execute_result",
          "data": {
            "text/plain": [
              "OneHotEncoder(categories='auto', drop=None, dtype=<class 'numpy.float64'>,\n",
              "              handle_unknown='error', sparse=False)"
            ]
          },
          "metadata": {
            "tags": []
          },
          "execution_count": 14
        }
      ]
    },
    {
      "cell_type": "code",
      "metadata": {
        "id": "d9YepB2Onur3"
      },
      "source": [
        "# Ajustar y aplicar el transformer a la data de salida\r\n",
        "X_oe = encoder.fit_transform(X)"
      ],
      "execution_count": 15,
      "outputs": []
    },
    {
      "cell_type": "code",
      "metadata": {
        "colab": {
          "base_uri": "https://localhost:8080/"
        },
        "id": "p45xddixoAMn",
        "outputId": "fa38408c-99e6-4fd9-c163-2502824a4177"
      },
      "source": [
        "X_oe"
      ],
      "execution_count": 16,
      "outputs": [
        {
          "output_type": "execute_result",
          "data": {
            "text/plain": [
              "array([[0., 0., 1., ..., 0., 1., 0.],\n",
              "       [0., 0., 0., ..., 0., 1., 0.],\n",
              "       [0., 0., 0., ..., 0., 1., 0.],\n",
              "       ...,\n",
              "       [0., 1., 0., ..., 0., 1., 0.],\n",
              "       [0., 0., 0., ..., 0., 1., 0.],\n",
              "       [0., 0., 0., ..., 0., 1., 0.]])"
            ]
          },
          "metadata": {
            "tags": []
          },
          "execution_count": 16
        }
      ]
    },
    {
      "cell_type": "code",
      "metadata": {
        "colab": {
          "base_uri": "https://localhost:8080/"
        },
        "id": "mo6ddPSDoCKf",
        "outputId": "2c68efb4-48a9-4f4b-8807-9c00e1d45f6d"
      },
      "source": [
        "# Resumen de la data trasnformada\r\n",
        "print (X_oe[:3, :])"
      ],
      "execution_count": 17,
      "outputs": [
        {
          "output_type": "stream",
          "text": [
            "[[0. 0. 1. 0. 0. 0. 0. 0. 1. 0. 0. 1. 0. 0. 0. 0. 0. 0. 0. 0. 1. 0. 0. 0.\n",
            "  0. 0. 0. 0. 1. 0. 0. 0. 1. 0. 1. 0. 0. 1. 0. 0. 0. 1. 0.]\n",
            " [0. 0. 0. 1. 0. 0. 1. 0. 0. 0. 0. 1. 0. 0. 0. 0. 0. 0. 0. 0. 1. 0. 0. 0.\n",
            "  0. 0. 0. 1. 0. 0. 1. 0. 0. 0. 1. 1. 0. 0. 0. 0. 0. 1. 0.]\n",
            " [0. 0. 0. 1. 0. 0. 1. 0. 0. 0. 0. 0. 0. 0. 0. 1. 0. 0. 0. 0. 1. 0. 0. 0.\n",
            "  0. 0. 0. 1. 0. 0. 0. 1. 0. 1. 0. 0. 1. 0. 0. 0. 0. 1. 0.]]\n"
          ],
          "name": "stdout"
        }
      ]
    },
    {
      "cell_type": "markdown",
      "metadata": {
        "id": "FTolrXDAoPaw"
      },
      "source": [
        "# Tu tarea\r\n",
        "Para esta lección, debe ejecutar el ejemplo e informar sobre los datos sin procesar antes de la transformación y el impacto en los datos después de que se aplicó la codificación one-hot.\r\n",
        "\r\n",
        "Publique su respuesta en la plataforma a continuación. Me encantaría ver qué se te ocurre.\r\n",
        "\r\n",
        "En la siguiente lección, descubrirá cómo transformar variables numéricas en categorías."
      ]
    },
    {
      "cell_type": "code",
      "metadata": {
        "id": "RHrlIopLoM9v"
      },
      "source": [
        ""
      ],
      "execution_count": null,
      "outputs": []
    }
  ]
}