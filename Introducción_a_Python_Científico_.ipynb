{
  "nbformat": 4,
  "nbformat_minor": 0,
  "metadata": {
    "kernelspec": {
      "display_name": "Python 3",
      "language": "python",
      "name": "python3"
    },
    "language_info": {
      "codemirror_mode": {
        "name": "ipython",
        "version": 3
      },
      "file_extension": ".py",
      "mimetype": "text/x-python",
      "name": "python",
      "nbconvert_exporter": "python",
      "pygments_lexer": "ipython3",
      "version": "3.8.5"
    },
    "colab": {
      "name": "Introducción a Python Científico .ipynb",
      "provenance": [],
      "include_colab_link": true
    }
  },
  "cells": [
    {
      "cell_type": "markdown",
      "metadata": {
        "id": "view-in-github",
        "colab_type": "text"
      },
      "source": [
        "<a href=\"https://colab.research.google.com/github/RubenQuispe/Machine-Learning-con-Python-001/blob/master/Introducci%C3%B3n_a_Python_Cient%C3%ADfico_.ipynb\" target=\"_parent\"><img src=\"https://colab.research.google.com/assets/colab-badge.svg\" alt=\"Open In Colab\"/></a>"
      ]
    },
    {
      "cell_type": "markdown",
      "metadata": {
        "id": "QVkB3xRWtRlu"
      },
      "source": [
        "# Introducción a Python Científico\n",
        "## Mg. Ruben Quispe\n",
        "\n",
        "# Porque Numpy\n",
        "* list no tiene buen manejo para los indices cuando se trabaja con listas de datos de más de dos dimensiones.\n",
        "* list no posee metodos de algebra lineal, ni de transformaciones de datos.\n",
        "* En otros lenguajes encontramos estructuras de datos altamente optimizadas para poder hacer operaciones algebraicas sobre arrays.\n",
        "\n",
        "Por sobre Numpy se erige todo un ecosistema de librerias muy utiles que iremos viendo en el recorrido de este curso."
      ]
    },
    {
      "cell_type": "markdown",
      "metadata": {
        "id": "RkPZZV4FtRlw"
      },
      "source": [
        "# Crear Arrays\n"
      ]
    },
    {
      "cell_type": "markdown",
      "metadata": {
        "id": "5qKg9A7wtRly"
      },
      "source": [
        "# 1 importar las librerias"
      ]
    },
    {
      "cell_type": "code",
      "metadata": {
        "id": "Pzr1BBvmtRlz"
      },
      "source": [
        "import numpy as np"
      ],
      "execution_count": null,
      "outputs": []
    },
    {
      "cell_type": "code",
      "metadata": {
        "id": "FEhWDFcltRl6",
        "outputId": "c842a3a0-60bc-4b27-8fc1-db950310030c"
      },
      "source": [
        "a1 = np.array([1,2,3]) # con una lista\n",
        "type(a1)"
      ],
      "execution_count": null,
      "outputs": [
        {
          "output_type": "execute_result",
          "data": {
            "text/plain": [
              "numpy.ndarray"
            ]
          },
          "metadata": {
            "tags": []
          },
          "execution_count": 26
        }
      ]
    },
    {
      "cell_type": "code",
      "metadata": {
        "id": "H_xQVEoctRmD",
        "outputId": "997ad474-f72c-4fcb-8c5d-aa30db07fefd"
      },
      "source": [
        "a2 = np.arange(10) #np.arange es un metodo similar al range del tipo list\n",
        "a2"
      ],
      "execution_count": null,
      "outputs": [
        {
          "output_type": "execute_result",
          "data": {
            "text/plain": [
              "array([0, 1, 2, 3, 4, 5, 6, 7, 8, 9])"
            ]
          },
          "metadata": {
            "tags": []
          },
          "execution_count": 27
        }
      ]
    },
    {
      "cell_type": "code",
      "metadata": {
        "id": "l6Lv_NOEtRmI"
      },
      "source": [
        "a3 = np.zeros((2,3)) #crear una lista de 2dimensiones pre-rellenado con Zeros\n",
        "a4 = np.ones((2,3)) #crear un lista de 2 dimensiones pre.rellenado con unos"
      ],
      "execution_count": null,
      "outputs": []
    },
    {
      "cell_type": "code",
      "metadata": {
        "id": "zV_asttstRmN",
        "outputId": "d3581ea1-0f3d-4f94-f7b4-a95a04d662ba"
      },
      "source": [
        "a3, a4"
      ],
      "execution_count": null,
      "outputs": [
        {
          "output_type": "execute_result",
          "data": {
            "text/plain": [
              "(array([[0., 0., 0.],\n",
              "        [0., 0., 0.]]),\n",
              " array([[1., 1., 1.],\n",
              "        [1., 1., 1.]]))"
            ]
          },
          "metadata": {
            "tags": []
          },
          "execution_count": 46
        }
      ]
    },
    {
      "cell_type": "code",
      "metadata": {
        "id": "IbiWuph1tRmS",
        "outputId": "d4da3022-6001-474a-c293-26cf9b0882d9"
      },
      "source": [
        "from IPython.display import display\n",
        "display(a3); display(a4)"
      ],
      "execution_count": null,
      "outputs": [
        {
          "output_type": "display_data",
          "data": {
            "text/plain": [
              "array([[0., 0., 0.],\n",
              "       [0., 0., 0.]])"
            ]
          },
          "metadata": {
            "tags": []
          }
        },
        {
          "output_type": "display_data",
          "data": {
            "text/plain": [
              "array([[1., 1., 1.],\n",
              "       [1., 1., 1.]])"
            ]
          },
          "metadata": {
            "tags": []
          }
        }
      ]
    },
    {
      "cell_type": "markdown",
      "metadata": {
        "id": "D7Xn97fZtRmY"
      },
      "source": [
        "np.linspace(a,b,n) es una función que permite crear arrays de una dimensión, de largo n, y que contienen puntos entre a y b, distanciados de forma regular. La distancia entre cada punto sera de $(b-a)/(n-1)$"
      ]
    },
    {
      "cell_type": "code",
      "metadata": {
        "id": "dinDgGhctRma",
        "outputId": "50854ab7-7c7b-471f-b276-c2e0a365b165"
      },
      "source": [
        "a5 = np.linspace(0,1,11)\n",
        "display(a5)"
      ],
      "execution_count": null,
      "outputs": [
        {
          "output_type": "display_data",
          "data": {
            "text/plain": [
              "array([0. , 0.1, 0.2, 0.3, 0.4, 0.5, 0.6, 0.7, 0.8, 0.9, 1. ])"
            ]
          },
          "metadata": {
            "tags": []
          }
        }
      ]
    },
    {
      "cell_type": "code",
      "metadata": {
        "id": "lwGmlMvntRmh",
        "outputId": "30ea4773-6ff7-428d-aefc-70b1d26deed8"
      },
      "source": [
        "#Dtypes\n",
        "a5.dtype"
      ],
      "execution_count": null,
      "outputs": [
        {
          "output_type": "execute_result",
          "data": {
            "text/plain": [
              "dtype('float64')"
            ]
          },
          "metadata": {
            "tags": []
          },
          "execution_count": 32
        }
      ]
    },
    {
      "cell_type": "markdown",
      "metadata": {
        "id": "WDiFCaJztRml"
      },
      "source": [
        "# Dimensión  de un array"
      ]
    },
    {
      "cell_type": "code",
      "metadata": {
        "id": "BXbdzznJtRmm",
        "outputId": "a6d052e8-91e6-4ff0-f6d3-575ad5e3cff8"
      },
      "source": [
        "display(a1)"
      ],
      "execution_count": null,
      "outputs": [
        {
          "output_type": "display_data",
          "data": {
            "text/plain": [
              "array([1, 2, 3])"
            ]
          },
          "metadata": {
            "tags": []
          }
        }
      ]
    },
    {
      "cell_type": "code",
      "metadata": {
        "id": "ZH_DWY2rtRms",
        "outputId": "a4f06829-4399-4079-ebdb-ee08c6ab5f2f"
      },
      "source": [
        "a1.shape"
      ],
      "execution_count": null,
      "outputs": [
        {
          "output_type": "execute_result",
          "data": {
            "text/plain": [
              "(3,)"
            ]
          },
          "metadata": {
            "tags": []
          },
          "execution_count": 34
        }
      ]
    },
    {
      "cell_type": "code",
      "metadata": {
        "id": "klcD-alCtRmy",
        "outputId": "0aa2b2b6-ddea-460a-f4a6-ee0b9210b57f"
      },
      "source": [
        "display(a3)"
      ],
      "execution_count": null,
      "outputs": [
        {
          "output_type": "display_data",
          "data": {
            "text/plain": [
              "array([[0., 0., 0.],\n",
              "       [0., 0., 0.]])"
            ]
          },
          "metadata": {
            "tags": []
          }
        }
      ]
    },
    {
      "cell_type": "code",
      "metadata": {
        "id": "Fe83RUhwtRm3",
        "outputId": "d400f2f2-ac5b-4a09-c613-f525fcc99533"
      },
      "source": [
        "a3.shape"
      ],
      "execution_count": null,
      "outputs": [
        {
          "output_type": "execute_result",
          "data": {
            "text/plain": [
              "(2, 3)"
            ]
          },
          "metadata": {
            "tags": []
          },
          "execution_count": 36
        }
      ]
    },
    {
      "cell_type": "code",
      "metadata": {
        "id": "HO7TpV3itRm8",
        "outputId": "52967ecd-6a8b-438c-d986-1bc51e8065a7"
      },
      "source": [
        "a1D = np.array([1,2,3])\n",
        "a2D = np.array([[1,2,3]])\n",
        "display(a1D.shape)\n",
        "display(a2D.shape)"
      ],
      "execution_count": null,
      "outputs": [
        {
          "output_type": "display_data",
          "data": {
            "text/plain": [
              "(3,)"
            ]
          },
          "metadata": {
            "tags": []
          }
        },
        {
          "output_type": "display_data",
          "data": {
            "text/plain": [
              "(1, 3)"
            ]
          },
          "metadata": {
            "tags": []
          }
        }
      ]
    },
    {
      "cell_type": "code",
      "metadata": {
        "id": "lf8tbq5itRnC",
        "outputId": "7e16da5f-cba5-4d60-ca16-bf642fcd64ba"
      },
      "source": [
        "# Son los dos arrays iguales?\n",
        "np.array_equal(a1D,a2D)"
      ],
      "execution_count": null,
      "outputs": [
        {
          "output_type": "execute_result",
          "data": {
            "text/plain": [
              "False"
            ]
          },
          "metadata": {
            "tags": []
          },
          "execution_count": 38
        }
      ]
    },
    {
      "cell_type": "code",
      "metadata": {
        "id": "d-J5NjEltRnH",
        "outputId": "5eb80f03-0922-41b1-dfa4-00820fbedec2"
      },
      "source": [
        "1,a1D.shape[0]"
      ],
      "execution_count": null,
      "outputs": [
        {
          "output_type": "execute_result",
          "data": {
            "text/plain": [
              "(1, 3)"
            ]
          },
          "metadata": {
            "tags": []
          },
          "execution_count": 47
        }
      ]
    },
    {
      "cell_type": "code",
      "metadata": {
        "id": "L29qfbwqtRnM"
      },
      "source": [
        "# Reshaping\n",
        "new_dims = (1,a1D.shape[0])\n",
        "a = a1D.reshape(new_dims)"
      ],
      "execution_count": null,
      "outputs": []
    },
    {
      "cell_type": "code",
      "metadata": {
        "id": "cHGAGV13tRnR",
        "outputId": "ddcdab8b-36d5-4172-9046-299a5f2b9468"
      },
      "source": [
        "np.array_equal(a,a2D)"
      ],
      "execution_count": null,
      "outputs": [
        {
          "output_type": "execute_result",
          "data": {
            "text/plain": [
              "True"
            ]
          },
          "metadata": {
            "tags": []
          },
          "execution_count": 40
        }
      ]
    },
    {
      "cell_type": "markdown",
      "metadata": {
        "id": "OCrIkeJztRnV"
      },
      "source": [
        "# Acceso a elementos y Slicing"
      ]
    },
    {
      "cell_type": "code",
      "metadata": {
        "id": "2595SD52tRnW",
        "outputId": "c6fb9232-3b1a-4cd4-8173-2c251da613c2"
      },
      "source": [
        "a = np.array([[1,0,3],[6,10,-1], [4,3,5]])\n",
        "a"
      ],
      "execution_count": null,
      "outputs": [
        {
          "output_type": "execute_result",
          "data": {
            "text/plain": [
              "array([[ 1,  0,  3],\n",
              "       [ 6, 10, -1],\n",
              "       [ 4,  3,  5]])"
            ]
          },
          "metadata": {
            "tags": []
          },
          "execution_count": 42
        }
      ]
    },
    {
      "cell_type": "code",
      "metadata": {
        "id": "ZhHz3EDTtRnb",
        "outputId": "3c58b9c1-4063-40b4-f7fe-1fe0eece296e"
      },
      "source": [
        "a[0,0]"
      ],
      "execution_count": null,
      "outputs": [
        {
          "output_type": "execute_result",
          "data": {
            "text/plain": [
              "1"
            ]
          },
          "metadata": {
            "tags": []
          },
          "execution_count": 48
        }
      ]
    },
    {
      "cell_type": "code",
      "metadata": {
        "id": "p_ZxA9_GtRnj",
        "outputId": "fa434ac0-9e75-40e5-f9d5-53994bbb7d3b"
      },
      "source": [
        "a[2,1]"
      ],
      "execution_count": null,
      "outputs": [
        {
          "output_type": "execute_result",
          "data": {
            "text/plain": [
              "3"
            ]
          },
          "metadata": {
            "tags": []
          },
          "execution_count": 49
        }
      ]
    },
    {
      "cell_type": "markdown",
      "metadata": {
        "id": "IFJgjjeNtRnn"
      },
      "source": [
        "Para acceder a un elemento de un array de dimensión n, la síntaxis es $array[i1, i2, i3,...iN]$.\n",
        "En este curso y frecuentemente en ML trabajaremos con arrays de dimensión 1 o dimensión 2, por lo que:\n",
        "* Para un array de 1D: $a[index]$\n",
        "* Para un array de 2D: $a[index1, index2]$"
      ]
    },
    {
      "cell_type": "code",
      "metadata": {
        "id": "e9lSjahstRno",
        "outputId": "2afd915e-ce98-415e-9843-129e529a4463"
      },
      "source": [
        "a = np.arange(10)\n",
        "b = np.eye(3)\n",
        "display(a);display(b)"
      ],
      "execution_count": null,
      "outputs": [
        {
          "output_type": "display_data",
          "data": {
            "text/plain": [
              "array([0, 1, 2, 3, 4, 5, 6, 7, 8, 9])"
            ]
          },
          "metadata": {
            "tags": []
          }
        },
        {
          "output_type": "display_data",
          "data": {
            "text/plain": [
              "array([[1., 0., 0.],\n",
              "       [0., 1., 0.],\n",
              "       [0., 0., 1.]])"
            ]
          },
          "metadata": {
            "tags": []
          }
        }
      ]
    },
    {
      "cell_type": "code",
      "metadata": {
        "id": "90QXhdvutRnv",
        "outputId": "13decfa1-47ed-49c1-c9c7-f87b8220568b"
      },
      "source": [
        "a[:5] # toma todo los 5 primeros elementos \n"
      ],
      "execution_count": null,
      "outputs": [
        {
          "output_type": "execute_result",
          "data": {
            "text/plain": [
              "array([0, 1, 2, 3, 4])"
            ]
          },
          "metadata": {
            "tags": []
          },
          "execution_count": 51
        }
      ]
    },
    {
      "cell_type": "code",
      "metadata": {
        "id": "bA4EeVyLtRn0",
        "outputId": "a3f19ea2-0b77-4491-f0c9-c9fc45bf02f2"
      },
      "source": [
        "b[0:3,1]"
      ],
      "execution_count": null,
      "outputs": [
        {
          "output_type": "execute_result",
          "data": {
            "text/plain": [
              "array([0., 1., 0.])"
            ]
          },
          "metadata": {
            "tags": []
          },
          "execution_count": 52
        }
      ]
    },
    {
      "cell_type": "code",
      "metadata": {
        "id": "HtUAbQ67tRn4",
        "outputId": "b225d32b-b043-4c3f-c36b-4ac7194ec828"
      },
      "source": [
        "b[2, 0:3]"
      ],
      "execution_count": null,
      "outputs": [
        {
          "output_type": "execute_result",
          "data": {
            "text/plain": [
              "array([0., 0., 1.])"
            ]
          },
          "metadata": {
            "tags": []
          },
          "execution_count": 53
        }
      ]
    },
    {
      "cell_type": "code",
      "metadata": {
        "id": "mQYNcNsltRn9",
        "outputId": "5434912c-a712-47c4-e415-7068e0b55e52"
      },
      "source": [
        "b[:,:]"
      ],
      "execution_count": null,
      "outputs": [
        {
          "output_type": "execute_result",
          "data": {
            "text/plain": [
              "array([[1., 0., 0.],\n",
              "       [0., 1., 0.],\n",
              "       [0., 0., 1.]])"
            ]
          },
          "metadata": {
            "tags": []
          },
          "execution_count": 54
        }
      ]
    },
    {
      "cell_type": "code",
      "metadata": {
        "id": "6h8tCG4atRoE"
      },
      "source": [
        "# Slicing de arrays\n",
        "\n",
        "                      # 5 primeros elementos del array a\n",
        "                      # esta notación nos permite obtener la segunda línea del array b\n",
        "                      # tercera columna del array b\n",
        "                      # todo el array b."
      ],
      "execution_count": null,
      "outputs": []
    },
    {
      "cell_type": "markdown",
      "metadata": {
        "id": "UehhnyBHtRoI"
      },
      "source": [
        "# Operaciones sobre arrays"
      ]
    },
    {
      "cell_type": "code",
      "metadata": {
        "id": "bP4awShjtRoI",
        "outputId": "71cc900e-c71a-4f30-bebf-941c01d5fcf2"
      },
      "source": [
        "\n",
        "# Aritmetica\n",
        "a = np.arange(4)\n",
        "\n",
        "print(\"a     =\", a)\n",
        "print(\"a + 5 =\", a + 5)\n",
        "print(\"a - 5 =\", a - 5)\n",
        "print(\"a * 2 =\", a * 2)\n",
        "print(\"a / 2 =\", a / 2)\n",
        "print(\"a // 2 =\", a // 2)  \n",
        "print(\"-a     = \", -a)\n",
        "print(\"a ** 2 = \", a ** 2)\n",
        "print(\"a % 2  = \", a % 2)"
      ],
      "execution_count": null,
      "outputs": [
        {
          "output_type": "stream",
          "text": [
            "a     = [0 1 2 3]\n",
            "a + 5 = [5 6 7 8]\n",
            "a - 5 = [-5 -4 -3 -2]\n",
            "a * 2 = [0 2 4 6]\n",
            "a / 2 = [0.  0.5 1.  1.5]\n",
            "a // 2 = [0 0 1 1]\n",
            "-a     =  [ 0 -1 -2 -3]\n",
            "a ** 2 =  [0 1 4 9]\n",
            "a % 2  =  [0 1 0 1]\n"
          ],
          "name": "stdout"
        }
      ]
    },
    {
      "cell_type": "code",
      "metadata": {
        "id": "Mm8VzVi8tRoM",
        "outputId": "b311fbdb-0d5c-4f7f-e392-43f22201d157"
      },
      "source": [
        "a"
      ],
      "execution_count": null,
      "outputs": [
        {
          "output_type": "execute_result",
          "data": {
            "text/plain": [
              "array([0, 1, 2, 3])"
            ]
          },
          "metadata": {
            "tags": []
          },
          "execution_count": 56
        }
      ]
    },
    {
      "cell_type": "code",
      "metadata": {
        "id": "b3a6NfvqtRoS",
        "outputId": "87bb7021-397c-46c2-cbfb-245ce634c3c5"
      },
      "source": [
        "# Otras ufuncs interesantes\n",
        "a = np.arange(4)\n",
        "b = np.arange(1,5)\n",
        "\n",
        "display(np.exp(a))         # exponencial\n",
        "display(np.log(b))         # logaritmo natural\n",
        "display(np.sqrt(a))        # raiz cuadrada\n",
        "display(np.greater(a,b))   # superior o igual punto a punto"
      ],
      "execution_count": null,
      "outputs": [
        {
          "output_type": "display_data",
          "data": {
            "text/plain": [
              "array([ 1.        ,  2.71828183,  7.3890561 , 20.08553692])"
            ]
          },
          "metadata": {
            "tags": []
          }
        },
        {
          "output_type": "display_data",
          "data": {
            "text/plain": [
              "array([0.        , 0.69314718, 1.09861229, 1.38629436])"
            ]
          },
          "metadata": {
            "tags": []
          }
        },
        {
          "output_type": "display_data",
          "data": {
            "text/plain": [
              "array([0.        , 1.        , 1.41421356, 1.73205081])"
            ]
          },
          "metadata": {
            "tags": []
          }
        },
        {
          "output_type": "display_data",
          "data": {
            "text/plain": [
              "array([False, False, False, False])"
            ]
          },
          "metadata": {
            "tags": []
          }
        }
      ]
    },
    {
      "cell_type": "code",
      "metadata": {
        "id": "LAKbIR1_tRoY",
        "outputId": "a1434601-6463-4503-de62-e81e2d8de815"
      },
      "source": [
        "a"
      ],
      "execution_count": null,
      "outputs": [
        {
          "output_type": "execute_result",
          "data": {
            "text/plain": [
              "array([0, 1, 2, 3])"
            ]
          },
          "metadata": {
            "tags": []
          },
          "execution_count": 58
        }
      ]
    },
    {
      "cell_type": "code",
      "metadata": {
        "id": "tcjxgfuFtRoc",
        "outputId": "40a3dfe4-23de-4fe7-90aa-7a4a8bb7607c"
      },
      "source": [
        "b"
      ],
      "execution_count": null,
      "outputs": [
        {
          "output_type": "execute_result",
          "data": {
            "text/plain": [
              "array([1, 2, 3, 4])"
            ]
          },
          "metadata": {
            "tags": []
          },
          "execution_count": 59
        }
      ]
    },
    {
      "cell_type": "markdown",
      "metadata": {
        "id": "BZT5VArKtRoi"
      },
      "source": [
        "# Rendimiento\n",
        "Las ufuncs corren a velocidad de código compilado C.\n",
        "De poder utilizarse se deberían preferir a el uso de for loops.\n",
        "Un código Numpy solo con funciones nativas, sin bucles, se le llama código \"vectorizado\"."
      ]
    },
    {
      "cell_type": "code",
      "metadata": {
        "id": "0J53Sri6tRoj",
        "outputId": "1f21e641-ecea-4b79-a803-e86acca132fe"
      },
      "source": [
        "%%timeit\n",
        "a = np.arange(1000000)\n",
        "b = np.zeros(1000000)\n",
        "i = 0\n",
        "for el in a:\n",
        "    b[i] = el+el\n",
        "    i+=1"
      ],
      "execution_count": null,
      "outputs": [
        {
          "output_type": "stream",
          "text": [
            "712 ms ± 25.9 ms per loop (mean ± std. dev. of 7 runs, 1 loop each)\n"
          ],
          "name": "stdout"
        }
      ]
    },
    {
      "cell_type": "code",
      "metadata": {
        "id": "XSLwr6OitRon",
        "outputId": "5da36ac6-de6d-47d3-8204-8e20fe5ac422"
      },
      "source": [
        "\n",
        "%%timeit\n",
        "a = np.arange(1000000)\n",
        "a+a"
      ],
      "execution_count": null,
      "outputs": [
        {
          "output_type": "stream",
          "text": [
            "7.97 ms ± 1.23 ms per loop (mean ± std. dev. of 7 runs, 100 loops each)\n"
          ],
          "name": "stdout"
        }
      ]
    },
    {
      "cell_type": "code",
      "metadata": {
        "id": "6THFLMhhtRos",
        "outputId": "0006f1b0-4821-4e36-d929-5d544c4cb0c2"
      },
      "source": [
        "%%timeit\n",
        "a+a"
      ],
      "execution_count": null,
      "outputs": [
        {
          "output_type": "stream",
          "text": [
            "1.04 µs ± 27.3 ns per loop (mean ± std. dev. of 7 runs, 1000000 loops each)\n"
          ],
          "name": "stdout"
        }
      ]
    },
    {
      "cell_type": "markdown",
      "metadata": {
        "id": "Gbc2ciODtRoz"
      },
      "source": [
        "# Estadística y aleatoridad"
      ]
    },
    {
      "cell_type": "code",
      "metadata": {
        "id": "IqrRuNpstRo0",
        "outputId": "20a7ad81-c1fb-423b-e6b0-3a633bfb9e95"
      },
      "source": [
        "# Estadistica\n",
        "a = np.arange(10)\n",
        "display(np.mean(a)) # promedio\n",
        "display(np.median(a))  # mediana"
      ],
      "execution_count": null,
      "outputs": [
        {
          "output_type": "display_data",
          "data": {
            "text/plain": [
              "4.5"
            ]
          },
          "metadata": {
            "tags": []
          }
        },
        {
          "output_type": "display_data",
          "data": {
            "text/plain": [
              "4.5"
            ]
          },
          "metadata": {
            "tags": []
          }
        }
      ]
    },
    {
      "cell_type": "code",
      "metadata": {
        "id": "jZTgfJ3MtRo6",
        "outputId": "bab6025a-e456-4144-e41c-57071bd5cb97"
      },
      "source": [
        "a"
      ],
      "execution_count": null,
      "outputs": [
        {
          "output_type": "execute_result",
          "data": {
            "text/plain": [
              "array([0, 1, 2, 3, 4, 5, 6, 7, 8, 9])"
            ]
          },
          "metadata": {
            "tags": []
          },
          "execution_count": 66
        }
      ]
    },
    {
      "cell_type": "code",
      "metadata": {
        "id": "S-D-cba9tRo-",
        "outputId": "5400f84f-4950-4f69-90bf-47010c70bd81"
      },
      "source": [
        "np.percentile(a,40) # percentil"
      ],
      "execution_count": null,
      "outputs": [
        {
          "output_type": "execute_result",
          "data": {
            "text/plain": [
              "3.6"
            ]
          },
          "metadata": {
            "tags": []
          },
          "execution_count": 67
        }
      ]
    },
    {
      "cell_type": "code",
      "metadata": {
        "id": "OpUqb7aatRpE",
        "outputId": "7c1ada3e-b9a0-4570-e7da-f118ffaed0af"
      },
      "source": [
        "np.random.random(10) # aleatoriedad"
      ],
      "execution_count": null,
      "outputs": [
        {
          "output_type": "execute_result",
          "data": {
            "text/plain": [
              "array([0.17219841, 0.04230417, 0.46880594, 0.68342481, 0.33864537,\n",
              "       0.24917097, 0.56833672, 0.45784508, 0.40570246, 0.67027453])"
            ]
          },
          "metadata": {
            "tags": []
          },
          "execution_count": 68
        }
      ]
    },
    {
      "cell_type": "code",
      "metadata": {
        "id": "BV-6mcTltRpI"
      },
      "source": [
        ""
      ],
      "execution_count": null,
      "outputs": []
    }
  ]
}