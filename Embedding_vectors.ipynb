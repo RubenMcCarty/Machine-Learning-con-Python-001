{
  "nbformat": 4,
  "nbformat_minor": 0,
  "metadata": {
    "colab": {
      "name": "Embedding_vectors.ipynb",
      "provenance": [],
      "collapsed_sections": [],
      "include_colab_link": true
    },
    "kernelspec": {
      "name": "python3",
      "display_name": "Python 3"
    }
  },
  "cells": [
    {
      "cell_type": "markdown",
      "metadata": {
        "id": "view-in-github",
        "colab_type": "text"
      },
      "source": [
        "<a href=\"https://colab.research.google.com/github/RubenMcCarty/Machine-Learning-con-Python-001/blob/master/Embedding_vectors.ipynb\" target=\"_parent\"><img src=\"https://colab.research.google.com/assets/colab-badge.svg\" alt=\"Open In Colab\"/></a>"
      ]
    },
    {
      "cell_type": "markdown",
      "metadata": {
        "id": "iSc2EbCOx4xt"
      },
      "source": [
        "# Embeding Vector \n",
        "##  Creado por [M.Sc. Ruben Quispe](https://machinelearningmastery.com/tutorial-to-implement-k-nearest-neighbors-in-python-from-scratch/)\n",
        "### Curso [Machine Learning](https://eie.pe/curso-machine-learning/)"
      ]
    },
    {
      "cell_type": "code",
      "metadata": {
        "id": "M_3p2pLi72OC",
        "colab": {
          "base_uri": "https://localhost:8080/"
        },
        "outputId": "6fb4ea56-6a7c-4d3c-885d-63fc20e271fc"
      },
      "source": [
        "from tensorflow.keras.datasets import imdb\n",
        "from tensorflow.keras import preprocessing\n",
        "\n",
        "# Utilizaremos las 10,000 palabras más usuales.\n",
        "max_features = 10000\n",
        "\n",
        "# Por cada crítica, consideraremos sólo las 20 primeras palabras dentro de las 10,000 más usuales.\n",
        "maxlen = 20\n",
        "\n",
        "# Cargamos los datos como listas de enteros.\n",
        "(x_train, y_train), (x_test, y_test) = imdb.load_data(num_words=max_features)\n",
        "\n",
        "# Convertimos nuestras listas de enteros en tensores 2D de dimensiones (número de críticas, maxlen)\n",
        "x_train = preprocessing.sequence.pad_sequences(x_train, maxlen=maxlen)\n",
        "x_test = preprocessing.sequence.pad_sequences(x_test, maxlen=maxlen)"
      ],
      "execution_count": 1,
      "outputs": [
        {
          "output_type": "stream",
          "text": [
            "Downloading data from https://storage.googleapis.com/tensorflow/tf-keras-datasets/imdb.npz\n",
            "17465344/17464789 [==============================] - 2s 0us/step\n"
          ],
          "name": "stdout"
        }
      ]
    },
    {
      "cell_type": "code",
      "metadata": {
        "colab": {
          "base_uri": "https://localhost:8080/"
        },
        "id": "c6wWr2gYpBAC",
        "outputId": "f3f0f461-7ead-4965-fe4e-f8bcbff20ad6"
      },
      "source": [
        "x_train.shape"
      ],
      "execution_count": 2,
      "outputs": [
        {
          "output_type": "execute_result",
          "data": {
            "text/plain": [
              "(25000, 20)"
            ]
          },
          "metadata": {
            "tags": []
          },
          "execution_count": 2
        }
      ]
    },
    {
      "cell_type": "code",
      "metadata": {
        "id": "BJv4N6hZ80cN",
        "colab": {
          "base_uri": "https://localhost:8080/"
        },
        "outputId": "1eb3412e-de45-40c5-ff74-7d662d9ac46a"
      },
      "source": [
        "from tensorflow.keras.models import Sequential\n",
        "from tensorflow.keras.layers import Flatten, Dense\n",
        "from tensorflow.keras.layers import Embedding\n",
        "\n",
        "model = Sequential()\n",
        "# Definimos las características de la capa Embedding.\n",
        "# El primer argumento se refiere al tamaño del vocabulario.\n",
        "# El segundo argumento está asociado con las dimensiones que tendrá cada word embedding\n",
        "# Y el tercer argumento, nos va a servir para aplanar los tensores que se vayan generando.\n",
        "model.add(Embedding(10000, 8, input_length=maxlen))\n",
        "# Luego de la capa Embedding, las dimensiones de las activaciones serán (número de críticas en el lote, maxlen, 8)\n",
        "\n",
        "# Procedemos a aplanar el tensor 3D de word embeddings a un tensor 2D con dimensiones (número de críticas en el lote, maxlen * 8)\n",
        "model.add(Flatten())\n",
        "\n",
        "# Agregamos el clasificador\n",
        "model.add(Dense(1, activation='sigmoid'))\n",
        "#Compilación\n",
        "model.compile(optimizer='rmsprop', loss='binary_crossentropy', metrics=['acc'])\n",
        "#Resumen de la arquitectura\n",
        "model.summary()\n",
        "\n",
        "#Entrenamiento\n",
        "history = model.fit(x_train, y_train,\n",
        "                    epochs=10,\n",
        "                    batch_size=32,\n",
        "                    validation_split=0.2)"
      ],
      "execution_count": 3,
      "outputs": [
        {
          "output_type": "stream",
          "text": [
            "Model: \"sequential\"\n",
            "_________________________________________________________________\n",
            "Layer (type)                 Output Shape              Param #   \n",
            "=================================================================\n",
            "embedding (Embedding)        (None, 20, 8)             80000     \n",
            "_________________________________________________________________\n",
            "flatten (Flatten)            (None, 160)               0         \n",
            "_________________________________________________________________\n",
            "dense (Dense)                (None, 1)                 161       \n",
            "=================================================================\n",
            "Total params: 80,161\n",
            "Trainable params: 80,161\n",
            "Non-trainable params: 0\n",
            "_________________________________________________________________\n",
            "Epoch 1/10\n",
            "625/625 [==============================] - 1s 2ms/step - loss: 0.6703 - acc: 0.6229 - val_loss: 0.6227 - val_acc: 0.6944\n",
            "Epoch 2/10\n",
            "625/625 [==============================] - 1s 1ms/step - loss: 0.5458 - acc: 0.7486 - val_loss: 0.5277 - val_acc: 0.7314\n",
            "Epoch 3/10\n",
            "625/625 [==============================] - 1s 2ms/step - loss: 0.4629 - acc: 0.7881 - val_loss: 0.5005 - val_acc: 0.7470\n",
            "Epoch 4/10\n",
            "625/625 [==============================] - 1s 1ms/step - loss: 0.4217 - acc: 0.8091 - val_loss: 0.4937 - val_acc: 0.7512\n",
            "Epoch 5/10\n",
            "625/625 [==============================] - 1s 2ms/step - loss: 0.3935 - acc: 0.8243 - val_loss: 0.4933 - val_acc: 0.7528\n",
            "Epoch 6/10\n",
            "625/625 [==============================] - 1s 2ms/step - loss: 0.3699 - acc: 0.8381 - val_loss: 0.4975 - val_acc: 0.7550\n",
            "Epoch 7/10\n",
            "625/625 [==============================] - 1s 2ms/step - loss: 0.3491 - acc: 0.8512 - val_loss: 0.5032 - val_acc: 0.7516\n",
            "Epoch 8/10\n",
            "625/625 [==============================] - 1s 2ms/step - loss: 0.3293 - acc: 0.8619 - val_loss: 0.5104 - val_acc: 0.7496\n",
            "Epoch 9/10\n",
            "625/625 [==============================] - 1s 2ms/step - loss: 0.3107 - acc: 0.8702 - val_loss: 0.5184 - val_acc: 0.7478\n",
            "Epoch 10/10\n",
            "625/625 [==============================] - 1s 2ms/step - loss: 0.2921 - acc: 0.8815 - val_loss: 0.5290 - val_acc: 0.7444\n"
          ],
          "name": "stdout"
        }
      ]
    },
    {
      "cell_type": "markdown",
      "metadata": {
        "id": "dgzwq_rNrNAS"
      },
      "source": [
        "# **Re-entrenamos el modelo**"
      ]
    },
    {
      "cell_type": "code",
      "metadata": {
        "colab": {
          "base_uri": "https://localhost:8080/"
        },
        "id": "MLeOMdEGrRrR",
        "outputId": "d304067a-c66c-407b-cc25-423bbf852cc1"
      },
      "source": [
        "from tensorflow.keras.models import Sequential\n",
        "from tensorflow.keras.layers import Flatten, Dense\n",
        "from tensorflow.keras.layers import Embedding\n",
        "\n",
        "model = Sequential()\n",
        "# Definimos las características de la capa Embedding.\n",
        "# El primer argumento se refiere al tamaño del vocabulario.\n",
        "# El segundo argumento está asociado con las dimensiones que tendrá cada word embedding\n",
        "# Y el tercer argumento, nos va a servir para aplanar los tensores que se vayan generando.\n",
        "model.add(Embedding(10000, 8, input_length=maxlen))\n",
        "# Luego de la capa Embedding, las dimensiones de las activaciones serán (número de críticas en el lote, maxlen, 8)\n",
        "\n",
        "# Procedemos a aplanar el tensor 3D de word embeddings a un tensor 2D con dimensiones (número de críticas en el lote, maxlen * 8)\n",
        "model.add(Flatten())\n",
        "\n",
        "# Agregamos el clasificador\n",
        "model.add(Dense(1, activation='sigmoid'))\n",
        "#Compilación\n",
        "model.compile(optimizer='rmsprop', loss='binary_crossentropy', metrics=['acc'])\n",
        "#Resumen de la arquitectura\n",
        "model.summary()\n",
        "\n",
        "#Entrenamiento\n",
        "history = model.fit(x_train, y_train,\n",
        "                    epochs=5,\n",
        "                    batch_size=32)"
      ],
      "execution_count": 4,
      "outputs": [
        {
          "output_type": "stream",
          "text": [
            "Model: \"sequential_1\"\n",
            "_________________________________________________________________\n",
            "Layer (type)                 Output Shape              Param #   \n",
            "=================================================================\n",
            "embedding_1 (Embedding)      (None, 20, 8)             80000     \n",
            "_________________________________________________________________\n",
            "flatten_1 (Flatten)          (None, 160)               0         \n",
            "_________________________________________________________________\n",
            "dense_1 (Dense)              (None, 1)                 161       \n",
            "=================================================================\n",
            "Total params: 80,161\n",
            "Trainable params: 80,161\n",
            "Non-trainable params: 0\n",
            "_________________________________________________________________\n",
            "Epoch 1/5\n",
            "782/782 [==============================] - 1s 2ms/step - loss: 0.6552 - acc: 0.6420\n",
            "Epoch 2/5\n",
            "782/782 [==============================] - 1s 2ms/step - loss: 0.5145 - acc: 0.7592\n",
            "Epoch 3/5\n",
            "782/782 [==============================] - 1s 2ms/step - loss: 0.4474 - acc: 0.7928\n",
            "Epoch 4/5\n",
            "782/782 [==============================] - 1s 2ms/step - loss: 0.4142 - acc: 0.8121\n",
            "Epoch 5/5\n",
            "782/782 [==============================] - 1s 2ms/step - loss: 0.3911 - acc: 0.8248\n"
          ],
          "name": "stdout"
        }
      ]
    },
    {
      "cell_type": "code",
      "metadata": {
        "colab": {
          "base_uri": "https://localhost:8080/"
        },
        "id": "h3awfYKfrYN4",
        "outputId": "5c4569dd-82da-461f-c727-bdd6fabdd471"
      },
      "source": [
        "#Evaluamos el modelo final\n",
        "loss_test, acc_test = model.evaluate(x_test, y_test)"
      ],
      "execution_count": 5,
      "outputs": [
        {
          "output_type": "stream",
          "text": [
            "782/782 [==============================] - 1s 978us/step - loss: 0.4770 - acc: 0.7686\n"
          ],
          "name": "stdout"
        }
      ]
    },
    {
      "cell_type": "code",
      "metadata": {
        "colab": {
          "base_uri": "https://localhost:8080/"
        },
        "id": "rIzkfLyCrbyQ",
        "outputId": "e72bb882-ac18-45dd-eea0-5fc2a34693f7"
      },
      "source": [
        "print(loss_test, acc_test)"
      ],
      "execution_count": 6,
      "outputs": [
        {
          "output_type": "stream",
          "text": [
            "0.4770468771457672 0.768559992313385\n"
          ],
          "name": "stdout"
        }
      ]
    }
  ]
}