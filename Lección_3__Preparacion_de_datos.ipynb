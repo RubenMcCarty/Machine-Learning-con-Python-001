{
  "nbformat": 4,
  "nbformat_minor": 0,
  "metadata": {
    "colab": {
      "name": "Lección_3_ Preparacion de datos.ipynb",
      "provenance": [],
      "authorship_tag": "ABX9TyMVlmce7Y8ECac1I9WD8rmA",
      "include_colab_link": true
    },
    "kernelspec": {
      "name": "python3",
      "display_name": "Python 3"
    }
  },
  "cells": [
    {
      "cell_type": "markdown",
      "metadata": {
        "id": "view-in-github",
        "colab_type": "text"
      },
      "source": [
        "<a href=\"https://colab.research.google.com/github/RubenQuispe/Machine-Learning-con-Python-001/blob/master/Lecci%C3%B3n_3__Preparacion_de_datos.ipynb\" target=\"_parent\"><img src=\"https://colab.research.google.com/assets/colab-badge.svg\" alt=\"Open In Colab\"/></a>"
      ]
    },
    {
      "cell_type": "markdown",
      "metadata": {
        "id": "SIS7L78ji7Uy"
      },
      "source": [
        "# Lección 3 de preparación de datos_ SELECCIÓN DE CARACTERISTICAS CON RFE (Recursive Feature Elimination)\n",
        "## MSc. Ruben Quispe"
      ]
    },
    {
      "cell_type": "markdown",
      "metadata": {
        "id": "Nd5Rgtgti7QD"
      },
      "source": [
        "En esta lección, descubrirá cómo seleccionar las características más importantes en un conjunto de datos.\n",
        "\n",
        "La selección de características es el proceso de reducir el número de variables de entrada al desarrollar un modelo predictivo.\n",
        "\n",
        "Es deseable reducir el número de variables de entrada para reducir el costo computacional del modelado y, en algunos casos, para mejorar el rendimiento del modelo.\n",
        "\n",
        "La eliminación de características recursivas, o RFE para abreviar, es un algoritmo de selección de características popular.\n",
        "\n",
        "RFE es popular porque es fácil de configurar y usar y porque es efectivo para seleccionar aquellas características (columnas) en un conjunto de datos de entrenamiento que son más o más relevantes para predecir la variable objetivo.\n",
        "\n",
        "La biblioteca de aprendizaje automático de Python de scikit-learn proporciona una implementación de RFE para el aprendizaje automático. RFE es una transformación. Para usarlo, primero, la clase se configura con el algoritmo elegido especificado a través del argumento \"estimador\" y el número de características para seleccionar a través de \" n_features_to_select\n",
        "\n",
        "El siguiente ejemplo define un conjunto de datos de clasificación sintético con cinco características de entrada redundantes. Luego, RFE se utiliza para seleccionar cinco características mediante el algoritmo del árbol de decisión."
      ]
    },
    {
      "cell_type": "code",
      "metadata": {
        "id": "RjTxzhaZkbKR"
      },
      "source": [
        "from sklearn.datasets import make_classification\n",
        "from sklearn.feature_selection import RFE\n",
        "from sklearn.tree import DecisionTreeClassifier"
      ],
      "execution_count": 1,
      "outputs": []
    },
    {
      "cell_type": "code",
      "metadata": {
        "id": "DUMsv3aPkbGm"
      },
      "source": [
        "# definir nuestro dataset\n",
        "X, y = make_classification(n_samples=1000, n_features=10, n_informative=5, n_redundant=5, random_state=1)"
      ],
      "execution_count": 2,
      "outputs": []
    },
    {
      "cell_type": "code",
      "metadata": {
        "id": "ZMVZmPT1l1T2"
      },
      "source": [
        "# definir RFE\n",
        "rfe = RFE(estimator=DecisionTreeClassifier(), n_features_to_select=5)"
      ],
      "execution_count": 3,
      "outputs": []
    },
    {
      "cell_type": "code",
      "metadata": {
        "id": "L8fGrfp2mI2u",
        "outputId": "1cd257ff-8e6a-4c45-968f-48b812070ecf",
        "colab": {
          "base_uri": "https://localhost:8080/"
        }
      },
      "source": [
        "# AJUSTAR RFE\n",
        "rfe.fit(X, y)"
      ],
      "execution_count": 4,
      "outputs": [
        {
          "output_type": "execute_result",
          "data": {
            "text/plain": [
              "RFE(estimator=DecisionTreeClassifier(ccp_alpha=0.0, class_weight=None,\n",
              "                                     criterion='gini', max_depth=None,\n",
              "                                     max_features=None, max_leaf_nodes=None,\n",
              "                                     min_impurity_decrease=0.0,\n",
              "                                     min_impurity_split=None,\n",
              "                                     min_samples_leaf=1, min_samples_split=2,\n",
              "                                     min_weight_fraction_leaf=0.0,\n",
              "                                     presort='deprecated', random_state=None,\n",
              "                                     splitter='best'),\n",
              "    n_features_to_select=5, step=1, verbose=0)"
            ]
          },
          "metadata": {
            "tags": []
          },
          "execution_count": 4
        }
      ]
    },
    {
      "cell_type": "code",
      "metadata": {
        "id": "NpU1YTmemI1F",
        "outputId": "f789bf0f-ee49-4980-d3c9-19fa3c45c3ff",
        "colab": {
          "base_uri": "https://localhost:8080/"
        }
      },
      "source": [
        "# Resumen de las features\n",
        "for i in range (X.shape[1]):\n",
        "  print(\"Columna: %d, Selecionada= %s, rango: %d\" % (i, rfe.support_[i], rfe.ranking_[i]))"
      ],
      "execution_count": 5,
      "outputs": [
        {
          "output_type": "stream",
          "text": [
            "Columna: 0, Selecionada= False, rango: 6\n",
            "Columna: 1, Selecionada= False, rango: 4\n",
            "Columna: 2, Selecionada= True, rango: 1\n",
            "Columna: 3, Selecionada= True, rango: 1\n",
            "Columna: 4, Selecionada= True, rango: 1\n",
            "Columna: 5, Selecionada= False, rango: 5\n",
            "Columna: 6, Selecionada= True, rango: 1\n",
            "Columna: 7, Selecionada= False, rango: 3\n",
            "Columna: 8, Selecionada= True, rango: 1\n",
            "Columna: 9, Selecionada= False, rango: 2\n"
          ],
          "name": "stdout"
        }
      ]
    }
  ]
}