{
  "nbformat": 4,
  "nbformat_minor": 0,
  "metadata": {
    "colab": {
      "name": "Lección_4_ Escalar_datos_con Normalización.ipynb",
      "provenance": [],
      "authorship_tag": "ABX9TyPIF/CZWeFhRkkB6nMkyGfZ",
      "include_colab_link": true
    },
    "kernelspec": {
      "name": "python3",
      "display_name": "Python 3"
    }
  },
  "cells": [
    {
      "cell_type": "markdown",
      "metadata": {
        "id": "view-in-github",
        "colab_type": "text"
      },
      "source": [
        "<a href=\"https://colab.research.google.com/github/RubenQuispe/Machine-Learning-con-Python-001/blob/master/Lecci%C3%B3n_4__Escalar_datos_con_Normalizaci%C3%B3n.ipynb\" target=\"_parent\"><img src=\"https://colab.research.google.com/assets/colab-badge.svg\" alt=\"Open In Colab\"/></a>"
      ]
    },
    {
      "cell_type": "code",
      "metadata": {
        "id": "jZgLkP4arc0j"
      },
      "source": [
        ""
      ],
      "execution_count": null,
      "outputs": []
    },
    {
      "cell_type": "markdown",
      "metadata": {
        "id": "KUnYMVM9rqgK"
      },
      "source": [
        "# Lección 4 Escalar datos con Normalización\n",
        "# MSc. Ruben Quispe"
      ]
    },
    {
      "cell_type": "markdown",
      "metadata": {
        "id": "UlVCxTwcr_VG"
      },
      "source": [
        ""
      ]
    },
    {
      "cell_type": "markdown",
      "metadata": {
        "id": "8n0DgMhDr_R_"
      },
      "source": [
        "\n",
        "En esta lección, descubrirá cómo escalar datos numéricos para el aprendizaje automático.\n",
        "\n",
        "Muchos algoritmos de aprendizaje automático funcionan mejor cuando las variables de entrada numéricas se escalan a un rango estándar.\n",
        "\n",
        "Esto incluye algoritmos que usan una suma ponderada de la entrada, como regresión lineal, y algoritmos que usan medidas de distancia, como k vecinos más cercanos.\n",
        "\n",
        "Una de las técnicas más populares para escalar datos numéricos antes del modelado es la normalización. La normalización escala cada variable de entrada por separado al rango 0-1, que es el rango para los valores de punto flotante donde tenemos la mayor precisión. Requiere que conozca o sea capaz de estimar con precisión los valores observables mínimo y máximo para cada variable. Es posible que pueda estimar estos valores a partir de sus datos disponibles.\n",
        "\n",
        "Puede normalizar su conjunto de datos utilizando el objeto scikit -learn MinMaxScaler .\n",
        "\n",
        "El siguiente ejemplo define un conjunto de datos de clasificación sintético, luego usa MinMaxScaler para normalizar las variables de entrada.\n"
      ]
    },
    {
      "cell_type": "code",
      "metadata": {
        "id": "uyQkxh1AsWSO"
      },
      "source": [
        "# ejemplo de normalización\n",
        "from sklearn.datasets import make_classification\n",
        "from sklearn.preprocessing import MinMaxScaler"
      ],
      "execution_count": 1,
      "outputs": []
    },
    {
      "cell_type": "code",
      "metadata": {
        "id": "y9toxPZpti5w"
      },
      "source": [
        "# DEFINIR NUESTRO DATASET\n",
        "X, y = make_classification(n_samples=1000, n_features=10, n_informative=5, n_redundant=5, random_state=1)"
      ],
      "execution_count": 2,
      "outputs": []
    },
    {
      "cell_type": "code",
      "metadata": {
        "id": "kc4E6_kjuGy5",
        "outputId": "f5fab24d-69cd-4c57-fe7c-8599d76c5357",
        "colab": {
          "base_uri": "https://localhost:8080/"
        }
      },
      "source": [
        "# resumen de datos antes de transformar\n",
        "print(X[:3, :])"
      ],
      "execution_count": 3,
      "outputs": [
        {
          "output_type": "stream",
          "text": [
            "[[ 2.56999479 -0.13019997  3.16075093 -4.35936352 -1.61271951 -1.39352057\n",
            "  -2.48924933 -1.93094078  3.26130366  2.05692145]\n",
            " [ 0.34129317  2.51321418 -0.80416572  1.29196568  2.05773105 -3.11098284\n",
            "   1.46582984  6.24734437 -1.92769365  2.9503149 ]\n",
            " [ 2.27539972  3.36561455  0.17164362  1.24862039  0.30249838 -1.1378142\n",
            "  -1.60819862  2.74693781  0.13492444  2.00339547]]\n"
          ],
          "name": "stdout"
        }
      ]
    },
    {
      "cell_type": "code",
      "metadata": {
        "id": "IyP4mNVyujIt"
      },
      "source": [
        "# VAMOS A DEFINIR LA ESCALA\n",
        "trans = MinMaxScaler()"
      ],
      "execution_count": 4,
      "outputs": []
    },
    {
      "cell_type": "code",
      "metadata": {
        "id": "peodqr1purIH"
      },
      "source": [
        "# transformar nuestros datos\n",
        "X_norm = trans.fit_transform(X)"
      ],
      "execution_count": 5,
      "outputs": []
    },
    {
      "cell_type": "code",
      "metadata": {
        "id": "sUFG6cKOu50w",
        "outputId": "d387e03b-e582-4cfb-a130-d50131c9de32",
        "colab": {
          "base_uri": "https://localhost:8080/"
        }
      },
      "source": [
        "# RESUMEN DESPUES DE TRANFORMAR\n",
        "print(X_norm[:3:])"
      ],
      "execution_count": 6,
      "outputs": [
        {
          "output_type": "stream",
          "text": [
            "[[0.67947109 0.58831825 0.80491637 0.28325228 0.41271351 0.39305349\n",
            "  0.24687884 0.3554241  0.88935692 0.60189212]\n",
            " [0.50839186 0.85250861 0.34224488 0.7690801  0.78427257 0.20168622\n",
            "  0.63991456 0.83102897 0.21224905 0.6922211 ]\n",
            " [0.65685743 0.93769993 0.45611339 0.76535384 0.60659068 0.42154543\n",
            "  0.33443319 0.62746424 0.48139834 0.59648023]]\n"
          ],
          "name": "stdout"
        }
      ]
    }
  ]
}