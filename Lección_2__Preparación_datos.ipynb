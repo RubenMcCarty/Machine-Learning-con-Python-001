{
  "nbformat": 4,
  "nbformat_minor": 0,
  "metadata": {
    "colab": {
      "name": "Lección_2_ Preparación_datos.ipynb",
      "provenance": [],
      "authorship_tag": "ABX9TyMCGlx5uP4l8InEHbX+9KF9",
      "include_colab_link": true
    },
    "kernelspec": {
      "name": "python3",
      "display_name": "Python 3"
    }
  },
  "cells": [
    {
      "cell_type": "markdown",
      "metadata": {
        "id": "view-in-github",
        "colab_type": "text"
      },
      "source": [
        "<a href=\"https://colab.research.google.com/github/RubenQuispe/Machine-Learning-con-Python-001/blob/master/Lecci%C3%B3n_2__Preparaci%C3%B3n_datos.ipynb\" target=\"_parent\"><img src=\"https://colab.research.google.com/assets/colab-badge.svg\" alt=\"Open In Colab\"/></a>"
      ]
    },
    {
      "cell_type": "code",
      "metadata": {
        "id": "Qq8Qx-NoatKk"
      },
      "source": [
        ""
      ],
      "execution_count": null,
      "outputs": []
    },
    {
      "cell_type": "markdown",
      "metadata": {
        "id": "uaOyxjx7bF5Q"
      },
      "source": [
        ""
      ]
    },
    {
      "cell_type": "markdown",
      "metadata": {
        "id": "n79hF5wnbFy6"
      },
      "source": [
        "# Completar datos  o valores perdidos con Imputación\n",
        "# Mg. Ruben Quispe"
      ]
    },
    {
      "cell_type": "markdown",
      "metadata": {
        "id": "OsR0U5VFbll5"
      },
      "source": [
        "En esta lección, descubrirá cómo identificar y completar los valores faltantes en los datos.\n",
        "\n",
        "Los datos del mundo real a menudo tienen valores perdidos .\n",
        "\n",
        "Los datos pueden tener valores perdidos por varias razones, como observaciones que no se registraron y corrupción de datos. El manejo de los datos faltantes es importante ya que muchos algoritmos de aprendizaje automático no admiten datos con valores perdidos. (Fill Missing)\n",
        "\n",
        "Llenar los valores faltantes con datos se llama imputación de datos y un enfoque popular para la imputación de datos es calcular un valor estadístico para cada columna (como una media) y reemplazar todos los valores faltantes para esa columna con la estadística.\n",
        "\n",
        "El conjunto de datos caballos describe las características médicas de los caballos con cólicos y si vivieron o murieron. Tiene valores faltantes marcados con un signo de interrogación '?'. Podemos cargar el conjunto de datos con la función read_csv () y asegurarnos de que los valores del signo de interrogación estén marcados como NaN.\n",
        "\n",
        "Una vez cargada, podemos usar la clase SimpleImputer para transformar todos los valores faltantes marcados con un valor NaN con la media de la columna.\n",
        "\n",
        "El ejemplo completo se enumera a continuación."
      ]
    },
    {
      "cell_type": "code",
      "metadata": {
        "id": "OssJNnaRbkoZ"
      },
      "source": [
        "from numpy import isnan\n",
        "from pandas import read_csv\n",
        "from sklearn.impute import SimpleImputer"
      ],
      "execution_count": 2,
      "outputs": []
    },
    {
      "cell_type": "code",
      "metadata": {
        "id": "0kyWZGM1de3d"
      },
      "source": [
        "# Cargar nuestro dataset\n",
        "url = \"https://raw.githubusercontent.com/jbrownlee/Datasets/master/horse-colic.csv\""
      ],
      "execution_count": 3,
      "outputs": []
    },
    {
      "cell_type": "code",
      "metadata": {
        "id": "2dDyXy8kdsyz"
      },
      "source": [
        "df = read_csv(url, header=None, na_values='?')"
      ],
      "execution_count": 4,
      "outputs": []
    },
    {
      "cell_type": "code",
      "metadata": {
        "id": "fxrJR_OGfrmP",
        "outputId": "658377e0-0376-491e-8cec-17626b88b1a8",
        "colab": {
          "base_uri": "https://localhost:8080/"
        }
      },
      "source": [
        "df.shape"
      ],
      "execution_count": 5,
      "outputs": [
        {
          "output_type": "execute_result",
          "data": {
            "text/plain": [
              "(300, 28)"
            ]
          },
          "metadata": {
            "tags": []
          },
          "execution_count": 5
        }
      ]
    },
    {
      "cell_type": "code",
      "metadata": {
        "id": "l9T3L_LmekXE"
      },
      "source": [
        "#dividir input y output\n",
        "data = df.values\n",
        "ix = [i for i in range(data.shape[1]) if i !=23]\n",
        "X,y = data[:,ix], data[:, 23]"
      ],
      "execution_count": 10,
      "outputs": []
    },
    {
      "cell_type": "code",
      "metadata": {
        "id": "RE7PAiR_ekOu",
        "outputId": "99b418f6-807a-467f-8b8c-04bba3d5ef4f",
        "colab": {
          "base_uri": "https://localhost:8080/"
        }
      },
      "source": [
        "# Imprimir los valores faltantes\n",
        "print (\"Faltantes: %d\" % sum(isnan(X).flatten()))"
      ],
      "execution_count": 11,
      "outputs": [
        {
          "output_type": "stream",
          "text": [
            "Faltantes: 1605\n"
          ],
          "name": "stdout"
        }
      ]
    },
    {
      "cell_type": "code",
      "metadata": {
        "id": "mJANlnfeg1C7"
      },
      "source": [
        "# DEFINIR IMPUTE\n",
        "imputer= SimpleImputer(strategy='mean')"
      ],
      "execution_count": 12,
      "outputs": []
    },
    {
      "cell_type": "code",
      "metadata": {
        "id": "RfyH6ZF8g0_v",
        "outputId": "48d1d289-bbbe-4d92-bc2a-7d8c781656ec",
        "colab": {
          "base_uri": "https://localhost:8080/"
        }
      },
      "source": [
        "# Dividir el dataset\n",
        "imputer.fit(X)\n"
      ],
      "execution_count": 13,
      "outputs": [
        {
          "output_type": "execute_result",
          "data": {
            "text/plain": [
              "SimpleImputer(add_indicator=False, copy=True, fill_value=None,\n",
              "              missing_values=nan, strategy='mean', verbose=0)"
            ]
          },
          "metadata": {
            "tags": []
          },
          "execution_count": 13
        }
      ]
    },
    {
      "cell_type": "code",
      "metadata": {
        "id": "gqaOF_r_g07G"
      },
      "source": [
        "# tranformar el dataset\n",
        "Xtrans= imputer.transform(X)"
      ],
      "execution_count": 14,
      "outputs": []
    },
    {
      "cell_type": "code",
      "metadata": {
        "id": "Yetr53v1hzzf",
        "outputId": "65d034e7-671e-4671-f20f-fbfdbdddd340",
        "colab": {
          "base_uri": "https://localhost:8080/"
        }
      },
      "source": [
        "# Imprimir el total de valores faltantes\n",
        "print(\"Faltantes: %d\" % sum(isnan(Xtrans).flatten()))"
      ],
      "execution_count": 15,
      "outputs": [
        {
          "output_type": "stream",
          "text": [
            "Faltantes: 0\n"
          ],
          "name": "stdout"
        }
      ]
    },
    {
      "cell_type": "code",
      "metadata": {
        "id": "PYRolY4shzwd"
      },
      "source": [
        ""
      ],
      "execution_count": null,
      "outputs": []
    }
  ]
}